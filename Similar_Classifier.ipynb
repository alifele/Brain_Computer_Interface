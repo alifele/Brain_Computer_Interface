{
  "nbformat": 4,
  "nbformat_minor": 0,
  "metadata": {
    "colab": {
      "name": "Similar_Classifier.ipynb",
      "provenance": [],
      "mount_file_id": "1CSplPYcWyoOtnxuTNWDVOvXggRt2aAyP",
      "authorship_tag": "ABX9TyPLgoTDgnYAplcgVzP/BL5m",
      "include_colab_link": true
    },
    "kernelspec": {
      "name": "python3",
      "display_name": "Python 3"
    }
  },
  "cells": [
    {
      "cell_type": "markdown",
      "metadata": {
        "id": "view-in-github",
        "colab_type": "text"
      },
      "source": [
        "<a href=\"https://colab.research.google.com/github/alifele/Brain_Computer_Interface-Competition-/blob/master/Similar_Classifier.ipynb\" target=\"_parent\"><img src=\"https://colab.research.google.com/assets/colab-badge.svg\" alt=\"Open In Colab\"/></a>"
      ]
    },
    {
      "cell_type": "code",
      "metadata": {
        "id": "XVeGabYkyqFS",
        "colab_type": "code",
        "colab": {}
      },
      "source": [
        "import sys\n",
        "import numpy as np\n",
        "import matplotlib.pyplot as plt\n",
        "sys.path.append('/content/drive/My Drive/EEG_BCI/')\n",
        "import datafetch\n",
        "import plotters\n",
        "import random"
      ],
      "execution_count": 0,
      "outputs": []
    },
    {
      "cell_type": "code",
      "metadata": {
        "id": "_Fna-rYrytqN",
        "colab_type": "code",
        "colab": {
          "base_uri": "https://localhost:8080/",
          "height": 54
        },
        "outputId": "75a726be-b1e0-471b-f250-8d34e6999759"
      },
      "source": [
        "subj_1 = datafetch.fetch_subject(12)\n",
        "subj_1.keys()"
      ],
      "execution_count": 40,
      "outputs": [
        {
          "output_type": "execute_result",
          "data": {
            "text/plain": [
              "dict_keys(['test_data', 'train_data_class1', 'train_data_class2', 'train_data_class3', 'train_data_class4'])"
            ]
          },
          "metadata": {
            "tags": []
          },
          "execution_count": 40
        }
      ]
    },
    {
      "cell_type": "code",
      "metadata": {
        "id": "7WxjNlb0y3Hw",
        "colab_type": "code",
        "colab": {
          "base_uri": "https://localhost:8080/",
          "height": 34
        },
        "outputId": "e49336c1-663d-4a76-e27a-428919996416"
      },
      "source": [
        "x_train = subj_1['train_data_class1']\n",
        "y_train = np.ones(25)\n",
        "y_train_T = subj_1['train_data_class1']\n",
        "x_train.shape\n"
      ],
      "execution_count": 134,
      "outputs": [
        {
          "output_type": "execute_result",
          "data": {
            "text/plain": [
              "(25, 7200, 63)"
            ]
          },
          "metadata": {
            "tags": []
          },
          "execution_count": 134
        }
      ]
    },
    {
      "cell_type": "code",
      "metadata": {
        "id": "q2gawghKjfRw",
        "colab_type": "code",
        "colab": {}
      },
      "source": [
        "import numpy as np\n",
        "import matplotlib.pyplot as plt"
      ],
      "execution_count": 0,
      "outputs": []
    },
    {
      "cell_type": "code",
      "metadata": {
        "id": "ce1PDJlNmV76",
        "colab_type": "code",
        "colab": {}
      },
      "source": [
        "from tensorflow import keras"
      ],
      "execution_count": 0,
      "outputs": []
    },
    {
      "cell_type": "code",
      "metadata": {
        "id": "rHBL_G_RmYSR",
        "colab_type": "code",
        "colab": {}
      },
      "source": [
        "input_ = keras.layers.Input(shape=(None, 63), name='inputtt')\n",
        "hidden1 = keras.layers.TimeDistributed(keras.layers.Dense(50, activation=\"relu\"))(input_)\n",
        "hidden2 = keras.layers.TimeDistributed(keras.layers.Dense(40, activation=\"relu\"))(hidden1)\n",
        "hidden3 = keras.layers.TimeDistributed(keras.layers.Dense(30, activation=\"relu\"))(hidden2)\n",
        "hidden3_0 = keras.layers.GRU(1)(hidden3)\n",
        "hidden3_1 = keras.layers.Dense(30, activation=\"relu\")(hidden3_0)\n",
        "hidden3_2 = keras.layers.Dense(30, activation=\"relu\")(hidden3_1)\n",
        "\n",
        "hidden4 = keras.layers.TimeDistributed(keras.layers.Dense(40, activation=\"relu\"))(hidden3)\n",
        "hidden5 = keras.layers.TimeDistributed(keras.layers.Dense(63, activation=\"relu\"))(hidden4)\n",
        "output = keras.layers.Dense(1, name=\"time_series_output\")(hidden5)\n",
        "aux_output = keras.layers.Dense(4, activation='softmax', name=\"label_output\")(hidden3_2)\n",
        "model = keras.Model(inputs=[input_], outputs=[output,\n",
        "aux_output])\n"
      ],
      "execution_count": 0,
      "outputs": []
    },
    {
      "cell_type": "code",
      "metadata": {
        "id": "oVgtW27n0kbT",
        "colab_type": "code",
        "colab": {}
      },
      "source": [
        "model = keras.models.Sequential()\n",
        "\n",
        "model.add(keras.layers.GRU(12,input_shape=[None, 63], return_sequences=True))\n",
        "model.add(keras.layers.Dense(12))\n",
        "model.add(keras.layers.GRU(1))\n",
        "model.add(keras.layers.Dense(4, activation='softmax'))"
      ],
      "execution_count": 0,
      "outputs": []
    },
    {
      "cell_type": "code",
      "metadata": {
        "id": "mcJmbB6nmhKw",
        "colab_type": "code",
        "colab": {
          "base_uri": "https://localhost:8080/",
          "height": 538
        },
        "outputId": "25109b01-006f-4182-a47c-e67c352a886f"
      },
      "source": [
        "model.summary()"
      ],
      "execution_count": 121,
      "outputs": [
        {
          "output_type": "stream",
          "text": [
            "Model: \"model_16\"\n",
            "__________________________________________________________________________________________________\n",
            "Layer (type)                    Output Shape         Param #     Connected to                     \n",
            "==================================================================================================\n",
            "inputtt (InputLayer)            [(None, None, 63)]   0                                            \n",
            "__________________________________________________________________________________________________\n",
            "time_distributed_35 (TimeDistri (None, None, 50)     3200        inputtt[0][0]                    \n",
            "__________________________________________________________________________________________________\n",
            "time_distributed_36 (TimeDistri (None, None, 40)     2040        time_distributed_35[0][0]        \n",
            "__________________________________________________________________________________________________\n",
            "time_distributed_37 (TimeDistri (None, None, 30)     1230        time_distributed_36[0][0]        \n",
            "__________________________________________________________________________________________________\n",
            "gru_22 (GRU)                    (None, 1)            99          time_distributed_37[0][0]        \n",
            "__________________________________________________________________________________________________\n",
            "time_distributed_38 (TimeDistri (None, None, 40)     1240        time_distributed_37[0][0]        \n",
            "__________________________________________________________________________________________________\n",
            "dense_112 (Dense)               (None, 30)           60          gru_22[0][0]                     \n",
            "__________________________________________________________________________________________________\n",
            "time_distributed_39 (TimeDistri (None, None, 63)     2583        time_distributed_38[0][0]        \n",
            "__________________________________________________________________________________________________\n",
            "dense_113 (Dense)               (None, 30)           930         dense_112[0][0]                  \n",
            "__________________________________________________________________________________________________\n",
            "time_series_output (Dense)      (None, None, 1)      64          time_distributed_39[0][0]        \n",
            "__________________________________________________________________________________________________\n",
            "label_output (Dense)            (None, 4)            124         dense_113[0][0]                  \n",
            "==================================================================================================\n",
            "Total params: 11,570\n",
            "Trainable params: 11,570\n",
            "Non-trainable params: 0\n",
            "__________________________________________________________________________________________________\n"
          ],
          "name": "stdout"
        }
      ]
    },
    {
      "cell_type": "code",
      "metadata": {
        "id": "feyUmV4PmruR",
        "colab_type": "code",
        "colab": {
          "base_uri": "https://localhost:8080/",
          "height": 758
        },
        "outputId": "776329c3-8880-430c-9a67-c07cbbdc9894"
      },
      "source": [
        "keras.utils.plot_model(model)\n",
        "from IPython.display import Image\n",
        "Image('model.png')"
      ],
      "execution_count": 122,
      "outputs": [
        {
          "output_type": "execute_result",
          "data": {
            "image/png": "[encoded data removed]",
            "text/plain": [
              "<IPython.core.display.Image object>"
            ]
          },
          "metadata": {
            "tags": []
          },
          "execution_count": 122
        }
      ]
    },
    {
      "cell_type": "code",
      "metadata": {
        "id": "XoKqy8dkziyR",
        "colab_type": "code",
        "colab": {}
      },
      "source": [
        "model.compile(optimizer='adam', \n",
        "              loss = ['MSE', 'sparse_categorical_crossentropy'],\n",
        "              metrics = ['accuracy'])"
      ],
      "execution_count": 0,
      "outputs": []
    },
    {
      "cell_type": "code",
      "metadata": {
        "id": "N2prU3UlzqoR",
        "colab_type": "code",
        "colab": {}
      },
      "source": [
        ""
      ],
      "execution_count": 0,
      "outputs": []
    },
    {
      "cell_type": "code",
      "metadata": {
        "id": "ku7ugV7D0Ms1",
        "colab_type": "code",
        "colab": {
          "base_uri": "https://localhost:8080/",
          "height": 34
        },
        "outputId": "42dfa0b2-8aad-4f97-aea3-ec57e370c90a"
      },
      "source": [
        "x_train.shape, y_train_T.shape, y_train.shape"
      ],
      "execution_count": 139,
      "outputs": [
        {
          "output_type": "execute_result",
          "data": {
            "text/plain": [
              "((25, 7200, 63), (25, 7200, 63), (25,))"
            ]
          },
          "metadata": {
            "tags": []
          },
          "execution_count": 139
        }
      ]
    },
    {
      "cell_type": "code",
      "metadata": {
        "id": "4dAS6pyc1ru_",
        "colab_type": "code",
        "colab": {}
      },
      "source": [
        "\n"
      ],
      "execution_count": 0,
      "outputs": []
    },
    {
      "cell_type": "code",
      "metadata": {
        "id": "tcbOPFG8nYdi",
        "colab_type": "code",
        "colab": {
          "base_uri": "https://localhost:8080/",
          "height": 72
        },
        "outputId": "65f747b8-7ca2-4cac-ed10-f3c27bdb2938"
      },
      "source": [
        "model.fit(x_train, (y_train_T, y_train) )"
      ],
      "execution_count": 140,
      "outputs": [
        {
          "output_type": "stream",
          "text": [
            "1/1 [==============================] - 0s 2ms/step - loss: 327.1410 - time_series_output_loss: 325.7080 - label_output_loss: 1.4330 - time_series_output_accuracy: 0.0000e+00 - label_output_accuracy: 0.0400\n"
          ],
          "name": "stdout"
        },
        {
          "output_type": "execute_result",
          "data": {
            "text/plain": [
              "<tensorflow.python.keras.callbacks.History at 0x7fca79047160>"
            ]
          },
          "metadata": {
            "tags": []
          },
          "execution_count": 140
        }
      ]
    },
    {
      "cell_type": "code",
      "metadata": {
        "id": "hFI-OuOKzhER",
        "colab_type": "code",
        "colab": {}
      },
      "source": [
        ""
      ],
      "execution_count": 0,
      "outputs": []
    }
  ]
}