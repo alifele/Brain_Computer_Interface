{
  "nbformat": 4,
  "nbformat_minor": 0,
  "metadata": {
    "colab": {
      "name": "Dense for FreqContent.ipynb",
      "provenance": [],
      "mount_file_id": "1nzMnILHzuoysGUSJP3KZyKLpW6sOYmYx",
      "authorship_tag": "ABX9TyNDqMUUenYOx+/rA2YCA3YW",
      "include_colab_link": true
    },
    "kernelspec": {
      "name": "python3",
      "display_name": "Python 3"
    },
    "accelerator": "GPU"
  },
  "cells": [
    {
      "cell_type": "markdown",
      "metadata": {
        "id": "view-in-github",
        "colab_type": "text"
      },
      "source": [
        "<a href=\"https://colab.research.google.com/github/alifele/Brain_Computer_Interface-Competition-/blob/master/Dense_for_FreqContent.ipynb\" target=\"_parent\"><img src=\"https://colab.research.google.com/assets/colab-badge.svg\" alt=\"Open In Colab\"/></a>"
      ]
    },
    {
      "cell_type": "code",
      "metadata": {
        "id": "bBJxpwHwDUkA",
        "colab_type": "code",
        "colab": {}
      },
      "source": [
        "import sys\n",
        "import numpy as np\n",
        "import matplotlib.pyplot as plt\n",
        "sys.path.append('/content/drive/My Drive/EEG_BCI/')\n",
        "import datafetch\n",
        "import plotters\n",
        "import random"
      ],
      "execution_count": 0,
      "outputs": []
    },
    {
      "cell_type": "code",
      "metadata": {
        "id": "kWxMRlQrD-j9",
        "colab_type": "code",
        "colab": {
          "base_uri": "https://localhost:8080/",
          "height": 34
        },
        "outputId": "ad52bd49-0807-48e7-ef3a-a7611f029c79"
      },
      "source": [
        "subj_1 = datafetch.fetch_subject(12)\n",
        "subj_1.keys()"
      ],
      "execution_count": 2,
      "outputs": [
        {
          "output_type": "execute_result",
          "data": {
            "text/plain": [
              "dict_keys(['test_data', 'train_data_class1', 'train_data_class2', 'train_data_class3', 'train_data_class4'])"
            ]
          },
          "metadata": {
            "tags": []
          },
          "execution_count": 2
        }
      ]
    },
    {
      "cell_type": "code",
      "metadata": {
        "id": "jVm2sghAEDY4",
        "colab_type": "code",
        "colab": {}
      },
      "source": [
        "def selector_desing(subject):\n",
        "  selector = []\n",
        "  for i in subject:\n",
        "    for j in range(1,5):\n",
        "      for k in range(18):\n",
        "        selector.append((i,j,k))\n",
        "\n",
        "  selector = np.array(selector)\n",
        "  np.random.shuffle(selector)\n",
        "\n",
        "  return selector"
      ],
      "execution_count": 0,
      "outputs": []
    },
    {
      "cell_type": "code",
      "metadata": {
        "id": "oe4PpKV2EGPD",
        "colab_type": "code",
        "colab": {}
      },
      "source": [
        "def selector_desing_test_data(subject):\n",
        "  selector = []\n",
        "  for i in subject:\n",
        "    for j in range(1,5):\n",
        "      for k in range(18,25):\n",
        "        selector.append((i,j,k))\n",
        "\n",
        "  selector = np.array(selector)\n",
        "  np.random.shuffle(selector)\n",
        "  return selector"
      ],
      "execution_count": 0,
      "outputs": []
    },
    {
      "cell_type": "code",
      "metadata": {
        "id": "_XkxP5EtEJe_",
        "colab_type": "code",
        "colab": {}
      },
      "source": [
        "global indexes\n",
        "global test_data_indexes\n",
        "global selector\n",
        "global selector_test_data\n",
        "global f_cut\n",
        "\n",
        "f_cut=100\n",
        "selector_test_data = selector_desing_test_data([1])\n",
        "selector = selector_desing([1])\n",
        "indexes = [i for i in range(18)]\n",
        "test_data_indexes = [i for i in range(18,25)]"
      ],
      "execution_count": 0,
      "outputs": []
    },
    {
      "cell_type": "code",
      "metadata": {
        "id": "6IlowXg8GSmr",
        "colab_type": "code",
        "colab": {}
      },
      "source": [
        "t = np.linspace(0,3,7200)\n",
        "f = np.linspace(1/3, 2400, 7200)\n",
        "F = f[f<f_cut]"
      ],
      "execution_count": 0,
      "outputs": []
    },
    {
      "cell_type": "code",
      "metadata": {
        "id": "p_eKdE0tEN6u",
        "colab_type": "code",
        "colab": {}
      },
      "source": [
        "def data_loader(select):\n",
        "  \n",
        "  global indexes\n",
        "  global f_cut \n",
        "\n",
        "\n",
        "  this_trail = select[2]\n",
        "  index = select[2]\n",
        "  \n",
        "  Indexes = indexes.copy()\n",
        "  Indexes.pop(index)  # so, now Indexes is the array [0,1,2,...,17] with out the this_trial index\n",
        "\n",
        "  samples = random.sample(Indexes, 11)\n",
        "  samples += [this_trail]\n",
        "\n",
        "\n",
        "  FFT_list = []\n",
        "\n",
        "  for i in samples:\n",
        "    result = np.fft.fft( subj_1['train_data_class{}'.format(select[1])][i].T )\n",
        "    result = result.T\n",
        "    result = result[f<f_cut, :]\n",
        "    FFT_list.append(result)\n",
        "\n",
        "  data =  np.mean(FFT_list, axis=0)\n",
        "  label = select[1]\n",
        "  return data, label"
      ],
      "execution_count": 0,
      "outputs": []
    },
    {
      "cell_type": "code",
      "metadata": {
        "id": "uKwQG_QrEQI7",
        "colab_type": "code",
        "colab": {}
      },
      "source": [
        "def data_loader_test_data(select):\n",
        "  \n",
        "  global test_data_indexes\n",
        "\n",
        "  this_trail = select[2]\n",
        "  index = select[2]-18\n",
        "  \n",
        "  Indexes = test_data_indexes.copy()\n",
        "  Indexes.pop(index)  # so, now Indexes is the array [18,19,...,24] with out the this_trial index\n",
        "\n",
        "\n",
        "  samples = random.sample(Indexes, 3)\n",
        "  samples += [this_trail]\n",
        "\n",
        "\n",
        "\n",
        "\n",
        "  FFT_list = []\n",
        "\n",
        "  for i in samples:\n",
        "    result = np.fft.fft( subj_1['train_data_class{}'.format(select[1])][i].T )\n",
        "    result = result.T\n",
        "    result = result[f<f_cut, :]\n",
        "    FFT_list.append(result)\n",
        "\n",
        "\n",
        "  data =  np.mean(FFT_list, axis=0)\n",
        "  label = select[1]\n",
        "  return data, label"
      ],
      "execution_count": 0,
      "outputs": []
    },
    {
      "cell_type": "code",
      "metadata": {
        "id": "xO2Vo3jjEU1P",
        "colab_type": "code",
        "colab": {}
      },
      "source": [
        "def batch_loader(batch=[0,100]):\n",
        "  # the batch=[a,b] can be 0...18000*4\n",
        "  \n",
        "  Label = []\n",
        "  Data = []\n",
        "  global selector\n",
        "  \n",
        "\n",
        "  for i in range(batch[0], batch[1]):\n",
        "    data, label = data_loader(selector[int(i%len(selector))])\n",
        "    Data.append(data)\n",
        "    Label.append(label)\n",
        "\n",
        "  Data = np.array(Data)\n",
        "  Label = np.array(Label)\n",
        "\n",
        "  return Data, Label"
      ],
      "execution_count": 0,
      "outputs": []
    },
    {
      "cell_type": "code",
      "metadata": {
        "id": "zop_aN9WEfSM",
        "colab_type": "code",
        "colab": {}
      },
      "source": [
        "#data, label = batch_loader([0,2])\n",
        "#data_, label_ = batch_loader_test_data([0,2])\n",
        "#data_.shape"
      ],
      "execution_count": 0,
      "outputs": []
    },
    {
      "cell_type": "code",
      "metadata": {
        "id": "_qTLOcL-EoxQ",
        "colab_type": "code",
        "colab": {}
      },
      "source": [
        "#plt.plot(F,np.abs(data[0][:,3]))\n",
        "#plt.xlim([0,F[F==40]])"
      ],
      "execution_count": 0,
      "outputs": []
    },
    {
      "cell_type": "code",
      "metadata": {
        "id": "IHeWDaopIMPI",
        "colab_type": "code",
        "colab": {}
      },
      "source": [
        "#plt.imshow(np.abs(data[0].T), aspect='auto', extent=[0,100,0,63])"
      ],
      "execution_count": 0,
      "outputs": []
    },
    {
      "cell_type": "code",
      "metadata": {
        "id": "4b_jaml_EYcp",
        "colab_type": "code",
        "colab": {}
      },
      "source": [
        "def batch_loader_test_data(batch=[0,100]):\n",
        "  # the batch=[a,b] can be 0...35*4\n",
        "  \n",
        "  Label = []\n",
        "  Data = []\n",
        "  global selector_test_data\n",
        "  global selector\n",
        "  \n",
        "\n",
        "  for i in range(batch[0], batch[1]):\n",
        "    data, label = data_loader_test_data(selector_test_data[int(i%len(selector_test_data))])\n",
        "    '''\n",
        "    L = len(selector[selector[:,1]==label])\n",
        "    data_for_mean = []\n",
        "    for j in range(6):\n",
        "      data_, label_ = data_loader(selector[selector[:,1]==label][int((i+j)%L)])\n",
        "      data_for_mean.append(data_)\n",
        "      data = np.mean(data_for_mean, axis=0)\n",
        "    '''\n",
        "    Data.append(data)\n",
        "    Label.append(label)\n",
        "\n",
        "  Data = np.array(Data)\n",
        "  Label = np.array(Label)\n",
        "\n",
        "  return Data, Label"
      ],
      "execution_count": 0,
      "outputs": []
    },
    {
      "cell_type": "code",
      "metadata": {
        "id": "DOUHX8wUH9iS",
        "colab_type": "code",
        "colab": {}
      },
      "source": [
        ""
      ],
      "execution_count": 0,
      "outputs": []
    },
    {
      "cell_type": "code",
      "metadata": {
        "id": "FLQ9lXPzH9lS",
        "colab_type": "code",
        "colab": {}
      },
      "source": [
        ""
      ],
      "execution_count": 0,
      "outputs": []
    },
    {
      "cell_type": "code",
      "metadata": {
        "id": "ybvWTLZBH9oN",
        "colab_type": "code",
        "colab": {}
      },
      "source": [
        ""
      ],
      "execution_count": 0,
      "outputs": []
    },
    {
      "cell_type": "markdown",
      "metadata": {
        "id": "lBlSZ3bGH-B_",
        "colab_type": "text"
      },
      "source": [
        "# The Model"
      ]
    },
    {
      "cell_type": "code",
      "metadata": {
        "id": "JxZvvN6RJC9x",
        "colab_type": "code",
        "colab": {}
      },
      "source": [
        "from tensorflow import keras"
      ],
      "execution_count": 0,
      "outputs": []
    },
    {
      "cell_type": "code",
      "metadata": {
        "id": "ZbCqv_zgQewZ",
        "colab_type": "code",
        "colab": {}
      },
      "source": [
        "model = keras.models.Sequential()\n",
        "\n",
        "model.add(keras.layers.Conv1D(20, 1 , activation='relu', input_shape=(300,63)))\n",
        "model.add(keras.layers.MaxPooling1D(2))\n",
        "model.add(keras.layers.Flatten())\n",
        "\n",
        "model.add(keras.layers.Dense(40, activation='relu'))\n",
        "model.add(keras.layers.Dropout(0.5))\n",
        "model.add(keras.layers.Dense(30, activation='relu'))\n",
        "model.add(keras.layers.Dropout(0.5))\n",
        "model.add(keras.layers.Dense(10))\n",
        "model.add(keras.layers.Dense(4,activation='softmax'))"
      ],
      "execution_count": 0,
      "outputs": []
    },
    {
      "cell_type": "code",
      "metadata": {
        "id": "FKmIeuXpUdUZ",
        "colab_type": "code",
        "colab": {}
      },
      "source": [
        "model.compile(loss='sparse_categorical_crossentropy',\n",
        "              metrics= ['accuracy'],\n",
        "              optimizer='adam')"
      ],
      "execution_count": 0,
      "outputs": []
    },
    {
      "cell_type": "code",
      "metadata": {
        "id": "bvJXgxbjY07a",
        "colab_type": "code",
        "colab": {
          "base_uri": "https://localhost:8080/",
          "height": 34
        },
        "outputId": "03825ca7-9b91-42c3-a14e-cc3cbbe163ab"
      },
      "source": [
        "data, label = batch_loader([0, 50])\n",
        "data.shape"
      ],
      "execution_count": 24,
      "outputs": [
        {
          "output_type": "execute_result",
          "data": {
            "text/plain": [
              "(50, 300, 63)"
            ]
          },
          "metadata": {
            "tags": []
          },
          "execution_count": 24
        }
      ]
    },
    {
      "cell_type": "code",
      "metadata": {
        "id": "DeHxwG0XdRQ5",
        "colab_type": "code",
        "colab": {
          "base_uri": "https://localhost:8080/",
          "height": 52
        },
        "outputId": "fa002b46-da0d-430f-d99d-37d6c63a08c1"
      },
      "source": [
        "model.fit(np.abs(data), label-1)"
      ],
      "execution_count": 28,
      "outputs": [
        {
          "output_type": "stream",
          "text": [
            "2/2 [==============================] - 0s 3ms/step - loss: 788.7399 - accuracy: 0.3000\n"
          ],
          "name": "stdout"
        },
        {
          "output_type": "execute_result",
          "data": {
            "text/plain": [
              "<tensorflow.python.keras.callbacks.History at 0x7f94541093c8>"
            ]
          },
          "metadata": {
            "tags": []
          },
          "execution_count": 28
        }
      ]
    },
    {
      "cell_type": "code",
      "metadata": {
        "id": "qPuS56VQVagu",
        "colab_type": "code",
        "colab": {
          "base_uri": "https://localhost:8080/",
          "height": 399
        },
        "outputId": "82a4072b-8ad9-4118-db42-0364eb874fe3"
      },
      "source": [
        "model.summary()"
      ],
      "execution_count": 29,
      "outputs": [
        {
          "output_type": "stream",
          "text": [
            "Model: \"sequential_2\"\n",
            "_________________________________________________________________\n",
            "Layer (type)                 Output Shape              Param #   \n",
            "=================================================================\n",
            "conv1d_2 (Conv1D)            (None, 300, 20)           1280      \n",
            "_________________________________________________________________\n",
            "max_pooling1d_2 (MaxPooling1 (None, 150, 20)           0         \n",
            "_________________________________________________________________\n",
            "flatten_2 (Flatten)          (None, 3000)              0         \n",
            "_________________________________________________________________\n",
            "dense_8 (Dense)              (None, 40)                120040    \n",
            "_________________________________________________________________\n",
            "dense_9 (Dense)              (None, 30)                1230      \n",
            "_________________________________________________________________\n",
            "dense_10 (Dense)             (None, 10)                310       \n",
            "_________________________________________________________________\n",
            "dense_11 (Dense)             (None, 4)                 44        \n",
            "=================================================================\n",
            "Total params: 122,904\n",
            "Trainable params: 122,904\n",
            "Non-trainable params: 0\n",
            "_________________________________________________________________\n"
          ],
          "name": "stdout"
        }
      ]
    },
    {
      "cell_type": "code",
      "metadata": {
        "id": "vTJwuTcmW9fe",
        "colab_type": "code",
        "colab": {}
      },
      "source": [
        ""
      ],
      "execution_count": 0,
      "outputs": []
    },
    {
      "cell_type": "code",
      "metadata": {
        "id": "XYR9PuABY29j",
        "colab_type": "code",
        "colab": {
          "base_uri": "https://localhost:8080/",
          "height": 34
        },
        "outputId": "05e065bf-aece-475a-ea05-1d6c0447f99e"
      },
      "source": [
        "data.shape"
      ],
      "execution_count": 23,
      "outputs": [
        {
          "output_type": "execute_result",
          "data": {
            "text/plain": [
              "(50, 300, 63)"
            ]
          },
          "metadata": {
            "tags": []
          },
          "execution_count": 23
        }
      ]
    },
    {
      "cell_type": "code",
      "metadata": {
        "id": "EU9OKb3xJCow",
        "colab_type": "code",
        "colab": {
          "base_uri": "https://localhost:8080/",
          "height": 1000
        },
        "outputId": "3a56b97e-2ba7-4d49-f491-ee83adf19192"
      },
      "source": [
        "\n",
        "over_sample = 1\n",
        "intervals = [[1000*i,1000*(i+1)] for i in range(10)]\n",
        "for epoch in range(3):\n",
        "  for interval in intervals:\n",
        "    data, label = batch_loader(interval)\n",
        "    data = np.abs(data)\n",
        "    data_test, label_test=  batch_loader_test_data()\n",
        "    data_test = np.abs(data_test)\n",
        "    model.fit(data,  label-1, epochs=3, validation_data= (data_test, label_test-1))\n",
        "    print('')\n",
        "    print('############################')\n",
        "    print('############################')\n",
        "    print('interval:{}    and    epoch:{}'.format(interval, epoch))\n",
        "    print('############################')\n",
        "    print('############################')\n",
        "    print('')\n",
        "    "
      ],
      "execution_count": 0,
      "outputs": [
        {
          "output_type": "stream",
          "text": [
            "Epoch 1/3\n",
            "32/32 [==============================] - 0s 11ms/step - loss: 69.8892 - accuracy: 0.8190 - val_loss: 543.0331 - val_accuracy: 0.2500\n",
            "Epoch 2/3\n",
            "32/32 [==============================] - 0s 5ms/step - loss: 0.3432 - accuracy: 0.9910 - val_loss: 580.4173 - val_accuracy: 0.2400\n",
            "Epoch 3/3\n",
            "32/32 [==============================] - 0s 5ms/step - loss: 0.1239 - accuracy: 0.9970 - val_loss: 622.2601 - val_accuracy: 0.2500\n",
            "\n",
            "############################\n",
            "############################\n",
            "interval:[0, 1000]    and    epoch:0\n",
            "############################\n",
            "############################\n",
            "\n",
            "Epoch 1/3\n",
            "32/32 [==============================] - 0s 5ms/step - loss: 0.1294 - accuracy: 0.9970 - val_loss: 492.6938 - val_accuracy: 0.3500\n",
            "Epoch 2/3\n",
            "32/32 [==============================] - 0s 5ms/step - loss: 1.4306e-07 - accuracy: 1.0000 - val_loss: 481.9510 - val_accuracy: 0.3400\n",
            "Epoch 3/3\n",
            "32/32 [==============================] - 0s 5ms/step - loss: 6.0738e-07 - accuracy: 1.0000 - val_loss: 481.5867 - val_accuracy: 0.3400\n",
            "\n",
            "############################\n",
            "############################\n",
            "interval:[1000, 2000]    and    epoch:0\n",
            "############################\n",
            "############################\n",
            "\n",
            "Epoch 1/3\n",
            "32/32 [==============================] - 0s 5ms/step - loss: 0.0688 - accuracy: 0.9950 - val_loss: 493.7402 - val_accuracy: 0.2800\n",
            "Epoch 2/3\n",
            "32/32 [==============================] - 0s 5ms/step - loss: 0.0480 - accuracy: 0.9990 - val_loss: 534.8322 - val_accuracy: 0.3100\n",
            "Epoch 3/3\n",
            "32/32 [==============================] - 0s 5ms/step - loss: 0.0451 - accuracy: 0.9980 - val_loss: 634.9582 - val_accuracy: 0.2500\n",
            "\n",
            "############################\n",
            "############################\n",
            "interval:[2000, 3000]    and    epoch:0\n",
            "############################\n",
            "############################\n",
            "\n",
            "Epoch 1/3\n",
            "32/32 [==============================] - 0s 5ms/step - loss: 0.0000e+00 - accuracy: 1.0000 - val_loss: 655.6591 - val_accuracy: 0.2500\n",
            "Epoch 2/3\n",
            "32/32 [==============================] - 0s 4ms/step - loss: 0.0000e+00 - accuracy: 1.0000 - val_loss: 658.1395 - val_accuracy: 0.2500\n",
            "Epoch 3/3\n",
            "32/32 [==============================] - 0s 5ms/step - loss: 0.0000e+00 - accuracy: 1.0000 - val_loss: 658.2252 - val_accuracy: 0.2500\n",
            "\n",
            "############################\n",
            "############################\n",
            "interval:[3000, 4000]    and    epoch:0\n",
            "############################\n",
            "############################\n",
            "\n",
            "Epoch 1/3\n",
            "32/32 [==============================] - 0s 5ms/step - loss: 0.0000e+00 - accuracy: 1.0000 - val_loss: 627.1458 - val_accuracy: 0.2600\n",
            "Epoch 2/3\n",
            "32/32 [==============================] - 0s 5ms/step - loss: 0.0000e+00 - accuracy: 1.0000 - val_loss: 627.1458 - val_accuracy: 0.2600\n",
            "Epoch 3/3\n",
            "32/32 [==============================] - 0s 5ms/step - loss: 0.0000e+00 - accuracy: 1.0000 - val_loss: 627.1458 - val_accuracy: 0.2600\n",
            "\n",
            "############################\n",
            "############################\n",
            "interval:[4000, 5000]    and    epoch:0\n",
            "############################\n",
            "############################\n",
            "\n",
            "Epoch 1/3\n",
            "32/32 [==============================] - 0s 5ms/step - loss: 0.0550 - accuracy: 0.9990 - val_loss: 634.7787 - val_accuracy: 0.2600\n",
            "Epoch 2/3\n",
            "32/32 [==============================] - 0s 5ms/step - loss: 0.0026 - accuracy: 0.9990 - val_loss: 668.4440 - val_accuracy: 0.2400\n",
            "Epoch 3/3\n",
            "32/32 [==============================] - 0s 5ms/step - loss: 0.0000e+00 - accuracy: 1.0000 - val_loss: 729.0903 - val_accuracy: 0.2400\n",
            "\n",
            "############################\n",
            "############################\n",
            "interval:[5000, 6000]    and    epoch:0\n",
            "############################\n",
            "############################\n",
            "\n",
            "Epoch 1/3\n",
            "32/32 [==============================] - 0s 5ms/step - loss: 0.0000e+00 - accuracy: 1.0000 - val_loss: 609.9974 - val_accuracy: 0.2800\n",
            "Epoch 2/3\n",
            "32/32 [==============================] - 0s 5ms/step - loss: 0.0000e+00 - accuracy: 1.0000 - val_loss: 610.0759 - val_accuracy: 0.2800\n",
            "Epoch 3/3\n",
            "32/32 [==============================] - 0s 4ms/step - loss: 0.0000e+00 - accuracy: 1.0000 - val_loss: 610.0768 - val_accuracy: 0.2800\n",
            "\n",
            "############################\n",
            "############################\n",
            "interval:[6000, 7000]    and    epoch:0\n",
            "############################\n",
            "############################\n",
            "\n",
            "Epoch 1/3\n",
            "32/32 [==============================] - 0s 5ms/step - loss: 0.0000e+00 - accuracy: 1.0000 - val_loss: 763.9937 - val_accuracy: 0.2600\n",
            "Epoch 2/3\n",
            "32/32 [==============================] - 0s 5ms/step - loss: 0.0000e+00 - accuracy: 1.0000 - val_loss: 763.9937 - val_accuracy: 0.2600\n",
            "Epoch 3/3\n",
            "32/32 [==============================] - 0s 5ms/step - loss: 0.0000e+00 - accuracy: 1.0000 - val_loss: 763.9937 - val_accuracy: 0.2600\n",
            "\n",
            "############################\n",
            "############################\n",
            "interval:[7000, 8000]    and    epoch:0\n",
            "############################\n",
            "############################\n",
            "\n",
            "Epoch 1/3\n",
            "32/32 [==============================] - 0s 5ms/step - loss: 0.0000e+00 - accuracy: 1.0000 - val_loss: 624.7982 - val_accuracy: 0.2800\n",
            "Epoch 2/3\n",
            "32/32 [==============================] - 0s 5ms/step - loss: 0.0000e+00 - accuracy: 1.0000 - val_loss: 624.7982 - val_accuracy: 0.2800\n",
            "Epoch 3/3\n",
            "32/32 [==============================] - 0s 5ms/step - loss: 0.0000e+00 - accuracy: 1.0000 - val_loss: 624.7982 - val_accuracy: 0.2800\n",
            "\n",
            "############################\n",
            "############################\n",
            "interval:[8000, 9000]    and    epoch:0\n",
            "############################\n",
            "############################\n",
            "\n",
            "Epoch 1/3\n",
            "32/32 [==============================] - 0s 5ms/step - loss: 0.0000e+00 - accuracy: 1.0000 - val_loss: 663.7052 - val_accuracy: 0.2700\n",
            "Epoch 2/3\n",
            "32/32 [==============================] - 0s 5ms/step - loss: 0.0000e+00 - accuracy: 1.0000 - val_loss: 663.7052 - val_accuracy: 0.2700\n",
            "Epoch 3/3\n",
            "32/32 [==============================] - 0s 4ms/step - loss: 0.0000e+00 - accuracy: 1.0000 - val_loss: 663.7052 - val_accuracy: 0.2700\n",
            "\n",
            "############################\n",
            "############################\n",
            "interval:[9000, 10000]    and    epoch:0\n",
            "############################\n",
            "############################\n",
            "\n",
            "Epoch 1/3\n",
            "32/32 [==============================] - 0s 5ms/step - loss: 0.0000e+00 - accuracy: 1.0000 - val_loss: 575.2533 - val_accuracy: 0.3000\n",
            "Epoch 2/3\n",
            "32/32 [==============================] - 0s 5ms/step - loss: 0.0000e+00 - accuracy: 1.0000 - val_loss: 575.2533 - val_accuracy: 0.3000\n",
            "Epoch 3/3\n",
            "32/32 [==============================] - 0s 5ms/step - loss: 0.0000e+00 - accuracy: 1.0000 - val_loss: 575.2533 - val_accuracy: 0.3000\n",
            "\n",
            "############################\n",
            "############################\n",
            "interval:[0, 1000]    and    epoch:1\n",
            "############################\n",
            "############################\n",
            "\n",
            "Epoch 1/3\n",
            "32/32 [==============================] - 0s 5ms/step - loss: 0.0086 - accuracy: 0.9990 - val_loss: 448.0659 - val_accuracy: 0.2400\n",
            "Epoch 2/3\n",
            "32/32 [==============================] - 0s 5ms/step - loss: 0.9128 - accuracy: 0.9860 - val_loss: 722.8652 - val_accuracy: 0.3300\n",
            "Epoch 3/3\n",
            "32/32 [==============================] - 0s 5ms/step - loss: 0.1877 - accuracy: 0.9950 - val_loss: 859.1115 - val_accuracy: 0.2300\n",
            "\n",
            "############################\n",
            "############################\n",
            "interval:[1000, 2000]    and    epoch:1\n",
            "############################\n",
            "############################\n",
            "\n",
            "Epoch 1/3\n",
            "32/32 [==============================] - 0s 5ms/step - loss: 0.2496 - accuracy: 0.9980 - val_loss: 696.2184 - val_accuracy: 0.2100\n",
            "Epoch 2/3\n",
            "32/32 [==============================] - 0s 5ms/step - loss: 0.2338 - accuracy: 0.9960 - val_loss: 796.9359 - val_accuracy: 0.3000\n",
            "Epoch 3/3\n",
            "32/32 [==============================] - 0s 5ms/step - loss: 0.0676 - accuracy: 0.9980 - val_loss: 696.1106 - val_accuracy: 0.3000\n",
            "\n",
            "############################\n",
            "############################\n",
            "interval:[2000, 3000]    and    epoch:1\n",
            "############################\n",
            "############################\n",
            "\n",
            "Epoch 1/3\n",
            "32/32 [==============================] - 0s 5ms/step - loss: 0.0000e+00 - accuracy: 1.0000 - val_loss: 656.3948 - val_accuracy: 0.3800\n",
            "Epoch 2/3\n",
            "32/32 [==============================] - 0s 5ms/step - loss: 0.0000e+00 - accuracy: 1.0000 - val_loss: 655.8969 - val_accuracy: 0.3800\n",
            "Epoch 3/3\n",
            "32/32 [==============================] - 0s 5ms/step - loss: 0.0000e+00 - accuracy: 1.0000 - val_loss: 655.8798 - val_accuracy: 0.3800\n",
            "\n",
            "############################\n",
            "############################\n",
            "interval:[3000, 4000]    and    epoch:1\n",
            "############################\n",
            "############################\n",
            "\n",
            "Epoch 1/3\n",
            "32/32 [==============================] - 0s 5ms/step - loss: 0.0000e+00 - accuracy: 1.0000 - val_loss: 563.0648 - val_accuracy: 0.3500\n",
            "Epoch 2/3\n",
            "32/32 [==============================] - 0s 5ms/step - loss: 0.0000e+00 - accuracy: 1.0000 - val_loss: 563.0648 - val_accuracy: 0.3500\n",
            "Epoch 3/3\n",
            "32/32 [==============================] - 0s 4ms/step - loss: 0.0000e+00 - accuracy: 1.0000 - val_loss: 563.0648 - val_accuracy: 0.3500\n",
            "\n",
            "############################\n",
            "############################\n",
            "interval:[4000, 5000]    and    epoch:1\n",
            "############################\n",
            "############################\n",
            "\n",
            "Epoch 1/3\n",
            "32/32 [==============================] - 0s 5ms/step - loss: 0.0000e+00 - accuracy: 1.0000 - val_loss: 521.8438 - val_accuracy: 0.4000\n",
            "Epoch 2/3\n",
            "32/32 [==============================] - 0s 5ms/step - loss: 0.0000e+00 - accuracy: 1.0000 - val_loss: 521.8438 - val_accuracy: 0.4000\n",
            "Epoch 3/3\n",
            "32/32 [==============================] - 0s 5ms/step - loss: 0.0000e+00 - accuracy: 1.0000 - val_loss: 521.8438 - val_accuracy: 0.4000\n",
            "\n",
            "############################\n",
            "############################\n",
            "interval:[5000, 6000]    and    epoch:1\n",
            "############################\n",
            "############################\n",
            "\n",
            "Epoch 1/3\n",
            "32/32 [==============================] - 0s 5ms/step - loss: 0.0000e+00 - accuracy: 1.0000 - val_loss: 546.0818 - val_accuracy: 0.3300\n",
            "Epoch 2/3\n",
            "32/32 [==============================] - 0s 5ms/step - loss: 0.0000e+00 - accuracy: 1.0000 - val_loss: 546.0818 - val_accuracy: 0.3300\n",
            "Epoch 3/3\n",
            "32/32 [==============================] - 0s 4ms/step - loss: 0.0000e+00 - accuracy: 1.0000 - val_loss: 546.0818 - val_accuracy: 0.3300\n",
            "\n",
            "############################\n",
            "############################\n",
            "interval:[6000, 7000]    and    epoch:1\n",
            "############################\n",
            "############################\n",
            "\n",
            "Epoch 1/3\n",
            "32/32 [==============================] - 0s 5ms/step - loss: 0.0000e+00 - accuracy: 1.0000 - val_loss: 582.4439 - val_accuracy: 0.3700\n",
            "Epoch 2/3\n",
            "32/32 [==============================] - 0s 5ms/step - loss: 0.0000e+00 - accuracy: 1.0000 - val_loss: 582.4439 - val_accuracy: 0.3700\n",
            "Epoch 3/3\n",
            "32/32 [==============================] - 0s 5ms/step - loss: 0.0000e+00 - accuracy: 1.0000 - val_loss: 582.4439 - val_accuracy: 0.3700\n",
            "\n",
            "############################\n",
            "############################\n",
            "interval:[7000, 8000]    and    epoch:1\n",
            "############################\n",
            "############################\n",
            "\n",
            "Epoch 1/3\n",
            "32/32 [==============================] - 0s 5ms/step - loss: 0.0000e+00 - accuracy: 1.0000 - val_loss: 612.3914 - val_accuracy: 0.3300\n",
            "Epoch 2/3\n",
            "32/32 [==============================] - 0s 5ms/step - loss: 0.0000e+00 - accuracy: 1.0000 - val_loss: 612.3914 - val_accuracy: 0.3300\n",
            "Epoch 3/3\n",
            "32/32 [==============================] - 0s 4ms/step - loss: 0.0000e+00 - accuracy: 1.0000 - val_loss: 612.3914 - val_accuracy: 0.3300\n",
            "\n",
            "############################\n",
            "############################\n",
            "interval:[8000, 9000]    and    epoch:1\n",
            "############################\n",
            "############################\n",
            "\n",
            "Epoch 1/3\n",
            "32/32 [==============================] - 0s 5ms/step - loss: 0.0000e+00 - accuracy: 1.0000 - val_loss: 430.7018 - val_accuracy: 0.4200\n",
            "Epoch 2/3\n",
            "32/32 [==============================] - 0s 5ms/step - loss: 0.0000e+00 - accuracy: 1.0000 - val_loss: 430.7018 - val_accuracy: 0.4200\n",
            "Epoch 3/3\n",
            "32/32 [==============================] - 0s 4ms/step - loss: 0.0000e+00 - accuracy: 1.0000 - val_loss: 430.7018 - val_accuracy: 0.4200\n",
            "\n",
            "############################\n",
            "############################\n",
            "interval:[9000, 10000]    and    epoch:1\n",
            "############################\n",
            "############################\n",
            "\n",
            "Epoch 1/3\n",
            "32/32 [==============================] - 0s 5ms/step - loss: 0.0000e+00 - accuracy: 1.0000 - val_loss: 595.4601 - val_accuracy: 0.3800\n",
            "Epoch 2/3\n",
            "32/32 [==============================] - 0s 5ms/step - loss: 0.0000e+00 - accuracy: 1.0000 - val_loss: 595.4601 - val_accuracy: 0.3800\n",
            "Epoch 3/3\n",
            "32/32 [==============================] - 0s 5ms/step - loss: 0.0000e+00 - accuracy: 1.0000 - val_loss: 595.4601 - val_accuracy: 0.3800\n",
            "\n",
            "############################\n",
            "############################\n",
            "interval:[0, 1000]    and    epoch:2\n",
            "############################\n",
            "############################\n",
            "\n",
            "Epoch 1/3\n",
            "32/32 [==============================] - 0s 5ms/step - loss: 0.0000e+00 - accuracy: 1.0000 - val_loss: 753.1709 - val_accuracy: 0.3500\n",
            "Epoch 2/3\n",
            "32/32 [==============================] - 0s 4ms/step - loss: 0.0000e+00 - accuracy: 1.0000 - val_loss: 753.1709 - val_accuracy: 0.3500\n",
            "Epoch 3/3\n",
            "32/32 [==============================] - 0s 4ms/step - loss: 0.0000e+00 - accuracy: 1.0000 - val_loss: 753.1709 - val_accuracy: 0.3500\n",
            "\n",
            "############################\n",
            "############################\n",
            "interval:[1000, 2000]    and    epoch:2\n",
            "############################\n",
            "############################\n",
            "\n",
            "Epoch 1/3\n",
            "32/32 [==============================] - 0s 5ms/step - loss: 0.0000e+00 - accuracy: 1.0000 - val_loss: 610.4673 - val_accuracy: 0.4300\n",
            "Epoch 2/3\n",
            "32/32 [==============================] - 0s 5ms/step - loss: 0.0000e+00 - accuracy: 1.0000 - val_loss: 610.4673 - val_accuracy: 0.4300\n",
            "Epoch 3/3\n",
            "32/32 [==============================] - 0s 4ms/step - loss: 0.0000e+00 - accuracy: 1.0000 - val_loss: 610.4673 - val_accuracy: 0.4300\n",
            "\n",
            "############################\n",
            "############################\n",
            "interval:[2000, 3000]    and    epoch:2\n",
            "############################\n",
            "############################\n",
            "\n",
            "Epoch 1/3\n",
            "32/32 [==============================] - 0s 5ms/step - loss: 0.0000e+00 - accuracy: 1.0000 - val_loss: 517.8055 - val_accuracy: 0.4400\n",
            "Epoch 2/3\n",
            "32/32 [==============================] - 0s 5ms/step - loss: 0.0000e+00 - accuracy: 1.0000 - val_loss: 517.8055 - val_accuracy: 0.4400\n",
            "Epoch 3/3\n",
            "32/32 [==============================] - 0s 5ms/step - loss: 0.0000e+00 - accuracy: 1.0000 - val_loss: 517.8055 - val_accuracy: 0.4400\n",
            "\n",
            "############################\n",
            "############################\n",
            "interval:[3000, 4000]    and    epoch:2\n",
            "############################\n",
            "############################\n",
            "\n",
            "Epoch 1/3\n",
            "32/32 [==============================] - 0s 5ms/step - loss: 0.0000e+00 - accuracy: 1.0000 - val_loss: 618.2452 - val_accuracy: 0.3700\n",
            "Epoch 2/3\n",
            "32/32 [==============================] - 0s 5ms/step - loss: 0.0000e+00 - accuracy: 1.0000 - val_loss: 618.2452 - val_accuracy: 0.3700\n",
            "Epoch 3/3\n",
            "32/32 [==============================] - 0s 5ms/step - loss: 0.0000e+00 - accuracy: 1.0000 - val_loss: 618.2452 - val_accuracy: 0.3700\n",
            "\n",
            "############################\n",
            "############################\n",
            "interval:[4000, 5000]    and    epoch:2\n",
            "############################\n",
            "############################\n",
            "\n",
            "Epoch 1/3\n",
            "32/32 [==============================] - 0s 5ms/step - loss: 0.0000e+00 - accuracy: 1.0000 - val_loss: 668.9664 - val_accuracy: 0.3300\n",
            "Epoch 2/3\n",
            "32/32 [==============================] - 0s 5ms/step - loss: 0.0000e+00 - accuracy: 1.0000 - val_loss: 668.9664 - val_accuracy: 0.3300\n",
            "Epoch 3/3\n",
            "32/32 [==============================] - 0s 5ms/step - loss: 0.0000e+00 - accuracy: 1.0000 - val_loss: 668.9664 - val_accuracy: 0.3300\n",
            "\n",
            "############################\n",
            "############################\n",
            "interval:[5000, 6000]    and    epoch:2\n",
            "############################\n",
            "############################\n",
            "\n",
            "Epoch 1/3\n",
            "32/32 [==============================] - 0s 5ms/step - loss: 0.0000e+00 - accuracy: 1.0000 - val_loss: 529.1946 - val_accuracy: 0.4200\n",
            "Epoch 2/3\n",
            "32/32 [==============================] - 0s 5ms/step - loss: 0.0000e+00 - accuracy: 1.0000 - val_loss: 529.1946 - val_accuracy: 0.4200\n",
            "Epoch 3/3\n",
            "32/32 [==============================] - 0s 5ms/step - loss: 0.0000e+00 - accuracy: 1.0000 - val_loss: 529.1946 - val_accuracy: 0.4200\n",
            "\n",
            "############################\n",
            "############################\n",
            "interval:[6000, 7000]    and    epoch:2\n",
            "############################\n",
            "############################\n",
            "\n",
            "Epoch 1/3\n",
            "32/32 [==============================] - 0s 5ms/step - loss: 0.0000e+00 - accuracy: 1.0000 - val_loss: 636.7224 - val_accuracy: 0.3400\n",
            "Epoch 2/3\n",
            "32/32 [==============================] - 0s 5ms/step - loss: 0.0000e+00 - accuracy: 1.0000 - val_loss: 636.7224 - val_accuracy: 0.3400\n",
            "Epoch 3/3\n",
            "32/32 [==============================] - 0s 4ms/step - loss: 0.0000e+00 - accuracy: 1.0000 - val_loss: 636.7224 - val_accuracy: 0.3400\n",
            "\n",
            "############################\n",
            "############################\n",
            "interval:[7000, 8000]    and    epoch:2\n",
            "############################\n",
            "############################\n",
            "\n",
            "Epoch 1/3\n",
            "32/32 [==============================] - 0s 5ms/step - loss: 0.0000e+00 - accuracy: 1.0000 - val_loss: 631.9300 - val_accuracy: 0.4200\n",
            "Epoch 2/3\n",
            "32/32 [==============================] - 0s 5ms/step - loss: 0.0000e+00 - accuracy: 1.0000 - val_loss: 631.9300 - val_accuracy: 0.4200\n",
            "Epoch 3/3\n",
            "32/32 [==============================] - 0s 4ms/step - loss: 0.0000e+00 - accuracy: 1.0000 - val_loss: 631.9300 - val_accuracy: 0.4200\n",
            "\n",
            "############################\n",
            "############################\n",
            "interval:[8000, 9000]    and    epoch:2\n",
            "############################\n",
            "############################\n",
            "\n"
          ],
          "name": "stdout"
        }
      ]
    },
    {
      "cell_type": "code",
      "metadata": {
        "id": "Xdat4a2PJCWy",
        "colab_type": "code",
        "colab": {
          "base_uri": "https://localhost:8080/",
          "height": 34
        },
        "outputId": "492d577b-dfdb-45ce-89a2-3f4e57eeee7f"
      },
      "source": [
        "data.shape"
      ],
      "execution_count": 60,
      "outputs": [
        {
          "output_type": "execute_result",
          "data": {
            "text/plain": [
              "(50, 300, 63)"
            ]
          },
          "metadata": {
            "tags": []
          },
          "execution_count": 60
        }
      ]
    },
    {
      "cell_type": "code",
      "metadata": {
        "id": "DseqBXvPJCTw",
        "colab_type": "code",
        "colab": {}
      },
      "source": [
        ""
      ],
      "execution_count": 0,
      "outputs": []
    },
    {
      "cell_type": "code",
      "metadata": {
        "id": "8VkPQqofJCRH",
        "colab_type": "code",
        "colab": {}
      },
      "source": [
        ""
      ],
      "execution_count": 0,
      "outputs": []
    },
    {
      "cell_type": "code",
      "metadata": {
        "id": "JI1lM2cdJCOg",
        "colab_type": "code",
        "colab": {}
      },
      "source": [
        ""
      ],
      "execution_count": 0,
      "outputs": []
    },
    {
      "cell_type": "code",
      "metadata": {
        "id": "hUlOCc3WJB_R",
        "colab_type": "code",
        "colab": {}
      },
      "source": [
        ""
      ],
      "execution_count": 0,
      "outputs": []
    },
    {
      "cell_type": "code",
      "metadata": {
        "id": "IhrjUcZvEceg",
        "colab_type": "code",
        "colab": {}
      },
      "source": [
        ""
      ],
      "execution_count": 0,
      "outputs": []
    },
    {
      "cell_type": "code",
      "metadata": {
        "id": "ABqFQihGbDKx",
        "colab_type": "code",
        "colab": {}
      },
      "source": [
        ""
      ],
      "execution_count": 0,
      "outputs": []
    },
    {
      "cell_type": "code",
      "metadata": {
        "id": "eyL6g8aTbDON",
        "colab_type": "code",
        "colab": {}
      },
      "source": [
        ""
      ],
      "execution_count": 0,
      "outputs": []
    },
    {
      "cell_type": "code",
      "metadata": {
        "id": "Zy2VqrMHbDV3",
        "colab_type": "code",
        "colab": {}
      },
      "source": [
        ""
      ],
      "execution_count": 0,
      "outputs": []
    },
    {
      "cell_type": "code",
      "metadata": {
        "id": "BcdcfWZXbDYu",
        "colab_type": "code",
        "colab": {}
      },
      "source": [
        ""
      ],
      "execution_count": 0,
      "outputs": []
    },
    {
      "cell_type": "markdown",
      "metadata": {
        "id": "4dz7NZLBbDoI",
        "colab_type": "text"
      },
      "source": [
        "#Trash"
      ]
    },
    {
      "cell_type": "code",
      "metadata": {
        "id": "M5cbcyk5bDT_",
        "colab_type": "code",
        "colab": {
          "base_uri": "https://localhost:8080/",
          "height": 132
        },
        "outputId": "88431b2b-c271-448b-b7a0-3087a26b0766"
      },
      "source": [
        "model = keras.models.Sequential([\n",
        "keras.layers.Conv2D(64, 7, activation=\"relu\", padding=\"same\",\n",
        "input_shape=[28, 28, 1]),\n",
        "keras.layers.MaxPooling2D(2),\n",
        "keras.layers.Conv2D(128, 3, activation=\"relu\", padding=\"same\"),\n",
        "keras.layers.Conv2D(128, 3, activation=\"relu\", padding=\"same\"),\n",
        "keras.layers.MaxPooling2D(2),\n",
        "keras.layers.Conv2D(256, 3, activation=\"relu\", padding=\"same\"),\n",
        "keras.layers.Conv2D(256, 3, activation=\"relu\", padding=\"same\"),\n",
        "keras.layers.MaxPooling2D(2),\n",
        "keras.layers.Flatten(),\n",
        "keras.layers.Dense(128, activation=\"relu\"),\n",
        "keras.layers.Dropout(0.5),\n",
        "keras.layers.Dense(64, activation=\"relu\"),\n",
        "keras.layers.Dropout(0.5),\n",
        "keras.layers.Dense(10, activation=\"softmax\")]\n"
      ],
      "execution_count": 42,
      "outputs": [
        {
          "output_type": "error",
          "ename": "SyntaxError",
          "evalue": "ignored",
          "traceback": [
            "\u001b[0;36m  File \u001b[0;32m\"<ipython-input-43-04a3014bd99e>\"\u001b[0;36m, line \u001b[0;32m16\u001b[0m\n\u001b[0;31m    keras.layers.Dense(10, activation=\"softmax\")]\u001b[0m\n\u001b[0m                                                 ^\u001b[0m\n\u001b[0;31mSyntaxError\u001b[0m\u001b[0;31m:\u001b[0m unexpected EOF while parsing\n"
          ]
        }
      ]
    },
    {
      "cell_type": "code",
      "metadata": {
        "id": "A_mMMInbbDS4",
        "colab_type": "code",
        "colab": {}
      },
      "source": [
        "model = keras.models.Sequential([\n",
        "keras.layers.Conv2D(64, 7, activation=\"relu\", padding=\"same\",\n",
        "input_shape=[28, 28, 1]),\n",
        "keras.layers.MaxPooling2D(2),\n",
        "keras.layers.Conv2D(128, 3, activation=\"relu\", padding=\"same\"),\n",
        "keras.layers.Conv2D(128, 3, activation=\"relu\", padding=\"same\"),\n",
        "keras.layers.MaxPooling2D(2),\n",
        "keras.layers.Conv2D(256, 3, activation=\"relu\", padding=\"same\"),\n",
        "keras.layers.Conv2D(256, 3, activation=\"relu\", padding=\"same\"),\n",
        "keras.layers.MaxPooling2D(2),\n",
        "keras.layers.Flatten(),\n",
        "keras.layers.Dense(128, activation=\"relu\"),\n",
        "keras.layers.Dropout(0.5),\n",
        "keras.layers.Dense(64, activation=\"relu\"),\n",
        "keras.layers.Dropout(0.5),\n",
        "keras.layers.Dense(10, activation=\"softmax\")\n",
        "                                 \n",
        "])"
      ],
      "execution_count": 0,
      "outputs": []
    },
    {
      "cell_type": "code",
      "metadata": {
        "id": "VGdl0yGmbDRl",
        "colab_type": "code",
        "colab": {
          "base_uri": "https://localhost:8080/",
          "height": 642
        },
        "outputId": "b4911103-9069-4464-bd98-5d19bd19b33b"
      },
      "source": [
        "model.summary()"
      ],
      "execution_count": 45,
      "outputs": [
        {
          "output_type": "stream",
          "text": [
            "Model: \"sequential_10\"\n",
            "_________________________________________________________________\n",
            "Layer (type)                 Output Shape              Param #   \n",
            "=================================================================\n",
            "conv2d_5 (Conv2D)            (None, 28, 28, 64)        3200      \n",
            "_________________________________________________________________\n",
            "max_pooling2d_3 (MaxPooling2 (None, 14, 14, 64)        0         \n",
            "_________________________________________________________________\n",
            "conv2d_6 (Conv2D)            (None, 14, 14, 128)       73856     \n",
            "_________________________________________________________________\n",
            "conv2d_7 (Conv2D)            (None, 14, 14, 128)       147584    \n",
            "_________________________________________________________________\n",
            "max_pooling2d_4 (MaxPooling2 (None, 7, 7, 128)         0         \n",
            "_________________________________________________________________\n",
            "conv2d_8 (Conv2D)            (None, 7, 7, 256)         295168    \n",
            "_________________________________________________________________\n",
            "conv2d_9 (Conv2D)            (None, 7, 7, 256)         590080    \n",
            "_________________________________________________________________\n",
            "max_pooling2d_5 (MaxPooling2 (None, 3, 3, 256)         0         \n",
            "_________________________________________________________________\n",
            "flatten_8 (Flatten)          (None, 2304)              0         \n",
            "_________________________________________________________________\n",
            "dense_40 (Dense)             (None, 128)               295040    \n",
            "_________________________________________________________________\n",
            "dropout_2 (Dropout)          (None, 128)               0         \n",
            "_________________________________________________________________\n",
            "dense_41 (Dense)             (None, 64)                8256      \n",
            "_________________________________________________________________\n",
            "dropout_3 (Dropout)          (None, 64)                0         \n",
            "_________________________________________________________________\n",
            "dense_42 (Dense)             (None, 10)                650       \n",
            "=================================================================\n",
            "Total params: 1,413,834\n",
            "Trainable params: 1,413,834\n",
            "Non-trainable params: 0\n",
            "_________________________________________________________________\n"
          ],
          "name": "stdout"
        }
      ]
    },
    {
      "cell_type": "code",
      "metadata": {
        "id": "SPPaHhkNbbAz",
        "colab_type": "code",
        "colab": {}
      },
      "source": [
        ""
      ],
      "execution_count": 0,
      "outputs": []
    }
  ]
}