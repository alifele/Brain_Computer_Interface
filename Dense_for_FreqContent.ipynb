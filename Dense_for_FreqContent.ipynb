{
  "nbformat": 4,
  "nbformat_minor": 0,
  "metadata": {
    "colab": {
      "name": "Dense for FreqContent.ipynb",
      "provenance": [],
      "mount_file_id": "1nzMnILHzuoysGUSJP3KZyKLpW6sOYmYx",
      "authorship_tag": "ABX9TyP8ClHNqmQ1Zyol0aKxz1Rg",
      "include_colab_link": true
    },
    "kernelspec": {
      "name": "python3",
      "display_name": "Python 3"
    },
    "accelerator": "GPU"
  },
  "cells": [
    {
      "cell_type": "markdown",
      "metadata": {
        "id": "view-in-github",
        "colab_type": "text"
      },
      "source": [
        "<a href=\"https://colab.research.google.com/github/alifele/Brain_Computer_Interface-Competition-/blob/master/Dense_for_FreqContent.ipynb\" target=\"_parent\"><img src=\"https://colab.research.google.com/assets/colab-badge.svg\" alt=\"Open In Colab\"/></a>"
      ]
    },
    {
      "cell_type": "code",
      "metadata": {
        "id": "bBJxpwHwDUkA",
        "colab_type": "code",
        "colab": {}
      },
      "source": [
        "import sys\n",
        "import numpy as np\n",
        "import matplotlib.pyplot as plt\n",
        "sys.path.append('/content/drive/My Drive/EEG_BCI/')\n",
        "import datafetch\n",
        "import plotters\n",
        "import random"
      ],
      "execution_count": 0,
      "outputs": []
    },
    {
      "cell_type": "code",
      "metadata": {
        "id": "kWxMRlQrD-j9",
        "colab_type": "code",
        "colab": {
          "base_uri": "https://localhost:8080/",
          "height": 34
        },
        "outputId": "c73cc3ee-4f7e-45eb-bd37-58672da6db8d"
      },
      "source": [
        "subj_1 = datafetch.fetch_subject(12)\n",
        "subj_1.keys()"
      ],
      "execution_count": 3,
      "outputs": [
        {
          "output_type": "execute_result",
          "data": {
            "text/plain": [
              "dict_keys(['test_data', 'train_data_class1', 'train_data_class2', 'train_data_class3', 'train_data_class4'])"
            ]
          },
          "metadata": {
            "tags": []
          },
          "execution_count": 3
        }
      ]
    },
    {
      "cell_type": "code",
      "metadata": {
        "id": "jVm2sghAEDY4",
        "colab_type": "code",
        "colab": {}
      },
      "source": [
        "def selector_desing(subject):\n",
        "  selector = []\n",
        "  for i in subject:\n",
        "    for j in range(1,5):\n",
        "      for k in range(18):\n",
        "        selector.append((i,j,k))\n",
        "\n",
        "  selector = np.array(selector)\n",
        "  np.random.shuffle(selector)\n",
        "\n",
        "  return selector"
      ],
      "execution_count": 0,
      "outputs": []
    },
    {
      "cell_type": "code",
      "metadata": {
        "id": "oe4PpKV2EGPD",
        "colab_type": "code",
        "colab": {}
      },
      "source": [
        "def selector_desing_test_data(subject):\n",
        "  selector = []\n",
        "  for i in subject:\n",
        "    for j in range(1,5):\n",
        "      for k in range(18,25):\n",
        "        selector.append((i,j,k))\n",
        "\n",
        "  selector = np.array(selector)\n",
        "  np.random.shuffle(selector)\n",
        "  return selector"
      ],
      "execution_count": 0,
      "outputs": []
    },
    {
      "cell_type": "code",
      "metadata": {
        "id": "_XkxP5EtEJe_",
        "colab_type": "code",
        "colab": {}
      },
      "source": [
        "global indexes\n",
        "global test_data_indexes\n",
        "global selector\n",
        "global selector_test_data\n",
        "global f_cut\n",
        "\n",
        "f_cut=100\n",
        "selector_test_data = selector_desing_test_data([1])\n",
        "selector = selector_desing([1])\n",
        "indexes = [i for i in range(18)]\n",
        "test_data_indexes = [i for i in range(18,25)]"
      ],
      "execution_count": 0,
      "outputs": []
    },
    {
      "cell_type": "code",
      "metadata": {
        "id": "6IlowXg8GSmr",
        "colab_type": "code",
        "colab": {}
      },
      "source": [
        "t = np.linspace(0,3,7200)\n",
        "f = np.linspace(1/3, 2400, 7200)\n",
        "F = f[f<f_cut]"
      ],
      "execution_count": 0,
      "outputs": []
    },
    {
      "cell_type": "code",
      "metadata": {
        "id": "p_eKdE0tEN6u",
        "colab_type": "code",
        "colab": {}
      },
      "source": [
        "def data_loader(select):\n",
        "  \n",
        "  global indexes\n",
        "  global f_cut \n",
        "\n",
        "\n",
        "  this_trail = select[2]\n",
        "  index = select[2]\n",
        "  \n",
        "  Indexes = indexes.copy()\n",
        "  Indexes.pop(index)  # so, now Indexes is the array [0,1,2,...,17] with out the this_trial index\n",
        "\n",
        "  samples = random.sample(Indexes, 11)\n",
        "  samples += [this_trail]\n",
        "\n",
        "\n",
        "  FFT_list = []\n",
        "\n",
        "  for i in samples:\n",
        "    result = np.fft.fft( subj_1['train_data_class{}'.format(select[1])][i].T )\n",
        "    result = result.T\n",
        "    result = result[f<f_cut, :]\n",
        "    FFT_list.append(result)\n",
        "\n",
        "  data =  np.mean(FFT_list, axis=0)\n",
        "  label = select[1]\n",
        "  return data, label"
      ],
      "execution_count": 0,
      "outputs": []
    },
    {
      "cell_type": "code",
      "metadata": {
        "id": "uKwQG_QrEQI7",
        "colab_type": "code",
        "colab": {}
      },
      "source": [
        "def data_loader_test_data(select):\n",
        "  \n",
        "  global test_data_indexes\n",
        "\n",
        "  this_trail = select[2]\n",
        "  index = select[2]-18\n",
        "  \n",
        "  Indexes = test_data_indexes.copy()\n",
        "  Indexes.pop(index)  # so, now Indexes is the array [18,19,...,24] with out the this_trial index\n",
        "\n",
        "\n",
        "  samples = random.sample(Indexes, 3)\n",
        "  samples += [this_trail]\n",
        "\n",
        "\n",
        "\n",
        "\n",
        "  FFT_list = []\n",
        "\n",
        "  for i in samples:\n",
        "    result = np.fft.fft( subj_1['train_data_class{}'.format(select[1])][i].T )\n",
        "    result = result.T\n",
        "    result = result[f<f_cut, :]\n",
        "    FFT_list.append(result)\n",
        "\n",
        "\n",
        "  data =  np.mean(FFT_list, axis=0)\n",
        "  label = select[1]\n",
        "  return data, label"
      ],
      "execution_count": 0,
      "outputs": []
    },
    {
      "cell_type": "code",
      "metadata": {
        "id": "xO2Vo3jjEU1P",
        "colab_type": "code",
        "colab": {}
      },
      "source": [
        "def batch_loader(batch=[0,100]):\n",
        "  # the batch=[a,b] can be 0...18000*4\n",
        "  \n",
        "  Label = []\n",
        "  Data = []\n",
        "  global selector\n",
        "  \n",
        "\n",
        "  for i in range(batch[0], batch[1]):\n",
        "    data, label = data_loader(selector[int(i%len(selector))])\n",
        "    Data.append(data)\n",
        "    Label.append(label)\n",
        "\n",
        "  Data = np.array(Data)\n",
        "  Label = np.array(Label)\n",
        "\n",
        "  return Data, Label"
      ],
      "execution_count": 0,
      "outputs": []
    },
    {
      "cell_type": "code",
      "metadata": {
        "id": "zop_aN9WEfSM",
        "colab_type": "code",
        "colab": {}
      },
      "source": [
        "#data, label = batch_loader([0,2])\n",
        "#data_, label_ = batch_loader_test_data([0,2])\n",
        "#data_.shape"
      ],
      "execution_count": 0,
      "outputs": []
    },
    {
      "cell_type": "code",
      "metadata": {
        "id": "_qTLOcL-EoxQ",
        "colab_type": "code",
        "colab": {}
      },
      "source": [
        "#plt.plot(F,np.abs(data[0][:,3]))\n",
        "#plt.xlim([0,F[F==40]])"
      ],
      "execution_count": 0,
      "outputs": []
    },
    {
      "cell_type": "code",
      "metadata": {
        "id": "IHeWDaopIMPI",
        "colab_type": "code",
        "colab": {}
      },
      "source": [
        "#plt.imshow(np.abs(data[0].T), aspect='auto', extent=[0,100,0,63])"
      ],
      "execution_count": 0,
      "outputs": []
    },
    {
      "cell_type": "code",
      "metadata": {
        "id": "4b_jaml_EYcp",
        "colab_type": "code",
        "colab": {}
      },
      "source": [
        "def batch_loader_test_data(batch=[0,100]):\n",
        "  # the batch=[a,b] can be 0...35*4\n",
        "  \n",
        "  Label = []\n",
        "  Data = []\n",
        "  global selector_test_data\n",
        "  global selector\n",
        "  \n",
        "\n",
        "  for i in range(batch[0], batch[1]):\n",
        "    data, label = data_loader_test_data(selector_test_data[int(i%len(selector_test_data))])\n",
        "    '''\n",
        "    L = len(selector[selector[:,1]==label])\n",
        "    data_for_mean = []\n",
        "    for j in range(6):\n",
        "      data_, label_ = data_loader(selector[selector[:,1]==label][int((i+j)%L)])\n",
        "      data_for_mean.append(data_)\n",
        "      data = np.mean(data_for_mean, axis=0)\n",
        "    '''\n",
        "    Data.append(data)\n",
        "    Label.append(label)\n",
        "\n",
        "  Data = np.array(Data)\n",
        "  Label = np.array(Label)\n",
        "\n",
        "  return Data, Label"
      ],
      "execution_count": 0,
      "outputs": []
    },
    {
      "cell_type": "code",
      "metadata": {
        "id": "DOUHX8wUH9iS",
        "colab_type": "code",
        "colab": {}
      },
      "source": [
        ""
      ],
      "execution_count": 0,
      "outputs": []
    },
    {
      "cell_type": "code",
      "metadata": {
        "id": "FLQ9lXPzH9lS",
        "colab_type": "code",
        "colab": {}
      },
      "source": [
        ""
      ],
      "execution_count": 0,
      "outputs": []
    },
    {
      "cell_type": "code",
      "metadata": {
        "id": "ybvWTLZBH9oN",
        "colab_type": "code",
        "colab": {}
      },
      "source": [
        ""
      ],
      "execution_count": 0,
      "outputs": []
    },
    {
      "cell_type": "markdown",
      "metadata": {
        "id": "lBlSZ3bGH-B_",
        "colab_type": "text"
      },
      "source": [
        "# The Model"
      ]
    },
    {
      "cell_type": "code",
      "metadata": {
        "id": "JxZvvN6RJC9x",
        "colab_type": "code",
        "colab": {}
      },
      "source": [
        "from tensorflow import keras"
      ],
      "execution_count": 0,
      "outputs": []
    },
    {
      "cell_type": "code",
      "metadata": {
        "id": "ZbCqv_zgQewZ",
        "colab_type": "code",
        "colab": {
          "base_uri": "https://localhost:8080/",
          "height": 237
        },
        "outputId": "cf365cef-dbc5-45ed-b033-2182c8d33959"
      },
      "source": [
        "'''\n",
        "model = keras.models.Sequential()\n",
        "\n",
        "#model.add(keras.layers.Conv1D(20, 1 , activation='relu', input_shape=(300,63)))\n",
        "#model.add(keras.layers.MaxPooling1D(2))\n",
        "#model.add(keras.layers.Conv1D(20, 2 , activation='relu', input_shape=(300,63)))\n",
        "#model.add(keras.layers.MaxPooling1D(2))\n",
        "model.add(keras.layers.Flatten(input_shape=(300,63)))\n",
        "\n",
        "model.add(keras.layers.Dense(10, activation='relu'))\n",
        "model.add(keras.layers.Dense(6, activation='relu'))\n",
        "model.add(keras.layers.Dense(5, activation = 'relu'))\n",
        "model.add(keras.layers.Dense(4,activation='softmax'))\n",
        "\n",
        "# About 25% accuracy\n",
        "\n",
        "'''"
      ],
      "execution_count": 1,
      "outputs": [
        {
          "output_type": "error",
          "ename": "NameError",
          "evalue": "ignored",
          "traceback": [
            "\u001b[0;31m---------------------------------------------------------------------------\u001b[0m",
            "\u001b[0;31mNameError\u001b[0m                                 Traceback (most recent call last)",
            "\u001b[0;32m<ipython-input-1-dd44c14e7c59>\u001b[0m in \u001b[0;36m<module>\u001b[0;34m()\u001b[0m\n\u001b[0;32m----> 1\u001b[0;31m \u001b[0mmodel\u001b[0m \u001b[0;34m=\u001b[0m \u001b[0mkeras\u001b[0m\u001b[0;34m.\u001b[0m\u001b[0mmodels\u001b[0m\u001b[0;34m.\u001b[0m\u001b[0mSequential\u001b[0m\u001b[0;34m(\u001b[0m\u001b[0;34m)\u001b[0m\u001b[0;34m\u001b[0m\u001b[0;34m\u001b[0m\u001b[0m\n\u001b[0m\u001b[1;32m      2\u001b[0m \u001b[0;34m\u001b[0m\u001b[0m\n\u001b[1;32m      3\u001b[0m \u001b[0;31m#model.add(keras.layers.Conv1D(20, 1 , activation='relu', input_shape=(300,63)))\u001b[0m\u001b[0;34m\u001b[0m\u001b[0;34m\u001b[0m\u001b[0;34m\u001b[0m\u001b[0m\n\u001b[1;32m      4\u001b[0m \u001b[0;31m#model.add(keras.layers.MaxPooling1D(2))\u001b[0m\u001b[0;34m\u001b[0m\u001b[0;34m\u001b[0m\u001b[0;34m\u001b[0m\u001b[0m\n\u001b[1;32m      5\u001b[0m \u001b[0;31m#model.add(keras.layers.Conv1D(20, 2 , activation='relu', input_shape=(300,63)))\u001b[0m\u001b[0;34m\u001b[0m\u001b[0;34m\u001b[0m\u001b[0;34m\u001b[0m\u001b[0m\n",
            "\u001b[0;31mNameError\u001b[0m: name 'keras' is not defined"
          ]
        }
      ]
    },
    {
      "cell_type": "code",
      "metadata": {
        "id": "Xhw5wEYfmHne",
        "colab_type": "code",
        "colab": {}
      },
      "source": [
        "model = keras.models.Sequential()\n",
        "\n",
        "#model.add(keras.layers.Conv1D(20, 1 , activation='relu', input_shape=(300,63)))\n",
        "#model.add(keras.layers.MaxPooling1D(2))\n",
        "#model.add(keras.layers.Conv1D(20, 2 , activation='relu', input_shape=(300,63)))\n",
        "#model.add(keras.layers.MaxPooling1D(2))\n",
        "model.add(keras.layers.Flatten(input_shape=(300,63)))\n",
        "\n",
        "model.add(keras.layers.Dense(10, activation='relu'))\n",
        "model.add(keras.layers.Dense(6, activation='relu'))\n",
        "model.add(keras.layers.Dense(5, activation = 'relu'))\n",
        "model.add(keras.layers.Dense(4,activation='softmax'))"
      ],
      "execution_count": 0,
      "outputs": []
    },
    {
      "cell_type": "code",
      "metadata": {
        "id": "FKmIeuXpUdUZ",
        "colab_type": "code",
        "colab": {}
      },
      "source": [
        "model.compile(loss='sparse_categorical_crossentropy',\n",
        "              metrics= ['accuracy'],\n",
        "              optimizer='adam')"
      ],
      "execution_count": 0,
      "outputs": []
    },
    {
      "cell_type": "code",
      "metadata": {
        "id": "bvJXgxbjY07a",
        "colab_type": "code",
        "colab": {
          "base_uri": "https://localhost:8080/",
          "height": 34
        },
        "outputId": "119c9081-19a0-4172-c134-909f7dfacf51"
      },
      "source": [
        "data, label = batch_loader([0, 50])\n",
        "data.shape"
      ],
      "execution_count": 14,
      "outputs": [
        {
          "output_type": "execute_result",
          "data": {
            "text/plain": [
              "(50, 300, 63)"
            ]
          },
          "metadata": {
            "tags": []
          },
          "execution_count": 14
        }
      ]
    },
    {
      "cell_type": "code",
      "metadata": {
        "id": "DeHxwG0XdRQ5",
        "colab_type": "code",
        "colab": {
          "base_uri": "https://localhost:8080/",
          "height": 52
        },
        "outputId": "fa002b46-da0d-430f-d99d-37d6c63a08c1"
      },
      "source": [
        "model.fit(np.abs(data), label-1)"
      ],
      "execution_count": 28,
      "outputs": [
        {
          "output_type": "stream",
          "text": [
            "2/2 [==============================] - 0s 3ms/step - loss: 788.7399 - accuracy: 0.3000\n"
          ],
          "name": "stdout"
        },
        {
          "output_type": "execute_result",
          "data": {
            "text/plain": [
              "<tensorflow.python.keras.callbacks.History at 0x7f94541093c8>"
            ]
          },
          "metadata": {
            "tags": []
          },
          "execution_count": 28
        }
      ]
    },
    {
      "cell_type": "code",
      "metadata": {
        "id": "qPuS56VQVagu",
        "colab_type": "code",
        "colab": {
          "base_uri": "https://localhost:8080/",
          "height": 330
        },
        "outputId": "d1780f9a-60a6-42b1-fe4c-52dbc3012cf9"
      },
      "source": [
        "model.summary()"
      ],
      "execution_count": 22,
      "outputs": [
        {
          "output_type": "stream",
          "text": [
            "Model: \"sequential_2\"\n",
            "_________________________________________________________________\n",
            "Layer (type)                 Output Shape              Param #   \n",
            "=================================================================\n",
            "flatten_2 (Flatten)          (None, 18900)             0         \n",
            "_________________________________________________________________\n",
            "dense_7 (Dense)              (None, 10)                189010    \n",
            "_________________________________________________________________\n",
            "dense_8 (Dense)              (None, 6)                 66        \n",
            "_________________________________________________________________\n",
            "dense_9 (Dense)              (None, 5)                 35        \n",
            "_________________________________________________________________\n",
            "dense_10 (Dense)             (None, 4)                 24        \n",
            "=================================================================\n",
            "Total params: 189,135\n",
            "Trainable params: 189,135\n",
            "Non-trainable params: 0\n",
            "_________________________________________________________________\n"
          ],
          "name": "stdout"
        }
      ]
    },
    {
      "cell_type": "code",
      "metadata": {
        "id": "vTJwuTcmW9fe",
        "colab_type": "code",
        "colab": {}
      },
      "source": [
        ""
      ],
      "execution_count": 0,
      "outputs": []
    },
    {
      "cell_type": "code",
      "metadata": {
        "id": "XYR9PuABY29j",
        "colab_type": "code",
        "colab": {
          "base_uri": "https://localhost:8080/",
          "height": 34
        },
        "outputId": "05e065bf-aece-475a-ea05-1d6c0447f99e"
      },
      "source": [
        "data.shape"
      ],
      "execution_count": 23,
      "outputs": [
        {
          "output_type": "execute_result",
          "data": {
            "text/plain": [
              "(50, 300, 63)"
            ]
          },
          "metadata": {
            "tags": []
          },
          "execution_count": 23
        }
      ]
    },
    {
      "cell_type": "code",
      "metadata": {
        "id": "EU9OKb3xJCow",
        "colab_type": "code",
        "colab": {
          "base_uri": "https://localhost:8080/",
          "height": 1000
        },
        "outputId": "1a1118da-6f90-49ab-beb7-b481a8fd9900"
      },
      "source": [
        "\n",
        "over_sample = 1\n",
        "intervals = [[5000*i,5000*(i+1)] for i in range(10)]\n",
        "for epoch in range(3):\n",
        "  for interval in intervals:\n",
        "    data, label = batch_loader(interval)\n",
        "    data = np.abs(data)\n",
        "    data_test, label_test=  batch_loader_test_data()\n",
        "    data_test = np.abs(data_test)\n",
        "    model.fit(data,  label-1, epochs=20, validation_data= (data_test, label_test-1))\n",
        "    print('')\n",
        "    print('############################')\n",
        "    print('############################')\n",
        "    print('interval:{}    and    epoch:{}'.format(interval, epoch))\n",
        "    print('############################')\n",
        "    print('############################')\n",
        "    print('')\n",
        "    "
      ],
      "execution_count": 0,
      "outputs": [
        {
          "output_type": "stream",
          "text": [
            "Epoch 1/20\n",
            "157/157 [==============================] - 1s 4ms/step - loss: 8.9382 - accuracy: 0.2440 - val_loss: 1.3859 - val_accuracy: 0.2400\n",
            "Epoch 2/20\n",
            "157/157 [==============================] - 1s 3ms/step - loss: 1.3864 - accuracy: 0.2438 - val_loss: 1.3861 - val_accuracy: 0.2400\n",
            "Epoch 3/20\n",
            "157/157 [==============================] - 1s 3ms/step - loss: 1.3864 - accuracy: 0.2380 - val_loss: 1.3862 - val_accuracy: 0.2400\n",
            "Epoch 4/20\n",
            "157/157 [==============================] - 1s 3ms/step - loss: 1.3864 - accuracy: 0.2410 - val_loss: 1.3862 - val_accuracy: 0.2600\n",
            "Epoch 5/20\n",
            "157/157 [==============================] - 1s 3ms/step - loss: 1.3864 - accuracy: 0.2326 - val_loss: 1.3861 - val_accuracy: 0.2600\n",
            "Epoch 6/20\n",
            "157/157 [==============================] - 1s 3ms/step - loss: 1.3864 - accuracy: 0.2474 - val_loss: 1.3863 - val_accuracy: 0.2600\n",
            "Epoch 7/20\n",
            "157/157 [==============================] - 1s 3ms/step - loss: 1.3864 - accuracy: 0.2428 - val_loss: 1.3858 - val_accuracy: 0.2600\n",
            "Epoch 8/20\n",
            "157/157 [==============================] - 1s 3ms/step - loss: 1.3864 - accuracy: 0.2408 - val_loss: 1.3862 - val_accuracy: 0.2400\n",
            "Epoch 9/20\n",
            "157/157 [==============================] - 1s 3ms/step - loss: 1.3864 - accuracy: 0.2478 - val_loss: 1.3857 - val_accuracy: 0.2600\n",
            "Epoch 10/20\n",
            "157/157 [==============================] - 0s 3ms/step - loss: 1.3864 - accuracy: 0.2490 - val_loss: 1.3861 - val_accuracy: 0.2600\n",
            "Epoch 11/20\n",
            "157/157 [==============================] - 1s 3ms/step - loss: 1.3864 - accuracy: 0.2392 - val_loss: 1.3867 - val_accuracy: 0.2400\n",
            "Epoch 12/20\n",
            "157/157 [==============================] - 1s 3ms/step - loss: 1.3864 - accuracy: 0.2444 - val_loss: 1.3869 - val_accuracy: 0.2400\n",
            "Epoch 13/20\n",
            "157/157 [==============================] - 1s 3ms/step - loss: 1.3864 - accuracy: 0.2464 - val_loss: 1.3862 - val_accuracy: 0.2600\n",
            "Epoch 14/20\n",
            "157/157 [==============================] - 1s 3ms/step - loss: 1.3864 - accuracy: 0.2410 - val_loss: 1.3862 - val_accuracy: 0.2600\n",
            "Epoch 15/20\n",
            "157/157 [==============================] - 1s 3ms/step - loss: 1.3864 - accuracy: 0.2394 - val_loss: 1.3860 - val_accuracy: 0.2600\n",
            "Epoch 16/20\n",
            "157/157 [==============================] - 1s 3ms/step - loss: 1.3864 - accuracy: 0.2490 - val_loss: 1.3860 - val_accuracy: 0.2600\n",
            "Epoch 17/20\n",
            "157/157 [==============================] - 1s 3ms/step - loss: 1.3864 - accuracy: 0.2392 - val_loss: 1.3857 - val_accuracy: 0.2600\n",
            "Epoch 18/20\n",
            "157/157 [==============================] - 0s 3ms/step - loss: 1.3864 - accuracy: 0.2502 - val_loss: 1.3858 - val_accuracy: 0.2600\n",
            "Epoch 19/20\n",
            "157/157 [==============================] - 0s 3ms/step - loss: 1.3864 - accuracy: 0.2362 - val_loss: 1.3859 - val_accuracy: 0.2600\n",
            "Epoch 20/20\n",
            "157/157 [==============================] - 1s 3ms/step - loss: 1.3864 - accuracy: 0.2366 - val_loss: 1.3863 - val_accuracy: 0.2600\n",
            "\n",
            "############################\n",
            "############################\n",
            "interval:[0, 5000]    and    epoch:0\n",
            "############################\n",
            "############################\n",
            "\n",
            "Epoch 1/20\n",
            "157/157 [==============================] - 0s 3ms/step - loss: 1.3864 - accuracy: 0.2410 - val_loss: 1.3864 - val_accuracy: 0.2400\n",
            "Epoch 2/20\n",
            "157/157 [==============================] - 1s 3ms/step - loss: 1.3864 - accuracy: 0.2462 - val_loss: 1.3865 - val_accuracy: 0.2400\n",
            "Epoch 3/20\n",
            "157/157 [==============================] - 0s 3ms/step - loss: 1.3864 - accuracy: 0.2478 - val_loss: 1.3862 - val_accuracy: 0.2600\n",
            "Epoch 4/20\n",
            "157/157 [==============================] - 1s 3ms/step - loss: 1.3864 - accuracy: 0.2404 - val_loss: 1.3861 - val_accuracy: 0.2600\n",
            "Epoch 5/20\n",
            "157/157 [==============================] - 0s 3ms/step - loss: 1.3864 - accuracy: 0.2366 - val_loss: 1.3861 - val_accuracy: 0.2600\n",
            "Epoch 6/20\n",
            "157/157 [==============================] - 1s 3ms/step - loss: 1.3864 - accuracy: 0.2446 - val_loss: 1.3860 - val_accuracy: 0.2600\n",
            "Epoch 7/20\n",
            "157/157 [==============================] - 0s 3ms/step - loss: 1.3864 - accuracy: 0.2380 - val_loss: 1.3862 - val_accuracy: 0.2600\n",
            "Epoch 8/20\n",
            "157/157 [==============================] - 0s 3ms/step - loss: 1.3865 - accuracy: 0.2430 - val_loss: 1.3858 - val_accuracy: 0.2400\n",
            "Epoch 9/20\n",
            "157/157 [==============================] - 0s 3ms/step - loss: 1.3864 - accuracy: 0.2390 - val_loss: 1.3866 - val_accuracy: 0.2600\n",
            "Epoch 10/20\n",
            "157/157 [==============================] - 1s 3ms/step - loss: 1.3864 - accuracy: 0.2424 - val_loss: 1.3864 - val_accuracy: 0.2600\n",
            "Epoch 11/20\n",
            "157/157 [==============================] - 0s 3ms/step - loss: 1.3864 - accuracy: 0.2458 - val_loss: 1.3862 - val_accuracy: 0.2400\n",
            "Epoch 12/20\n",
            "157/157 [==============================] - 1s 3ms/step - loss: 1.3864 - accuracy: 0.2312 - val_loss: 1.3865 - val_accuracy: 0.2600\n",
            "Epoch 13/20\n",
            "157/157 [==============================] - 1s 3ms/step - loss: 1.3864 - accuracy: 0.2364 - val_loss: 1.3860 - val_accuracy: 0.2600\n",
            "Epoch 14/20\n",
            "157/157 [==============================] - 1s 3ms/step - loss: 1.3864 - accuracy: 0.2460 - val_loss: 1.3862 - val_accuracy: 0.2400\n",
            "Epoch 15/20\n",
            "157/157 [==============================] - 0s 3ms/step - loss: 1.3864 - accuracy: 0.2368 - val_loss: 1.3862 - val_accuracy: 0.2600\n",
            "Epoch 16/20\n",
            "157/157 [==============================] - 1s 3ms/step - loss: 1.3864 - accuracy: 0.2468 - val_loss: 1.3865 - val_accuracy: 0.2600\n",
            "Epoch 17/20\n",
            "157/157 [==============================] - 1s 3ms/step - loss: 1.3864 - accuracy: 0.2302 - val_loss: 1.3866 - val_accuracy: 0.2600\n",
            "Epoch 18/20\n",
            "157/157 [==============================] - 1s 3ms/step - loss: 1.3864 - accuracy: 0.2400 - val_loss: 1.3868 - val_accuracy: 0.2600\n",
            "Epoch 19/20\n",
            "157/157 [==============================] - 0s 3ms/step - loss: 1.3864 - accuracy: 0.2346 - val_loss: 1.3864 - val_accuracy: 0.2600\n",
            "Epoch 20/20\n",
            "157/157 [==============================] - 0s 3ms/step - loss: 1.3865 - accuracy: 0.2416 - val_loss: 1.3865 - val_accuracy: 0.2600\n",
            "\n",
            "############################\n",
            "############################\n",
            "interval:[5000, 10000]    and    epoch:0\n",
            "############################\n",
            "############################\n",
            "\n",
            "Epoch 1/20\n",
            "157/157 [==============================] - 1s 3ms/step - loss: 1.3864 - accuracy: 0.2482 - val_loss: 1.3868 - val_accuracy: 0.2400\n",
            "Epoch 2/20\n",
            "157/157 [==============================] - 1s 3ms/step - loss: 1.3864 - accuracy: 0.2462 - val_loss: 1.3870 - val_accuracy: 0.2400\n",
            "Epoch 3/20\n",
            "157/157 [==============================] - 1s 4ms/step - loss: 1.3864 - accuracy: 0.2424 - val_loss: 1.3863 - val_accuracy: 0.2600\n",
            "Epoch 4/20\n",
            "157/157 [==============================] - 1s 3ms/step - loss: 1.3864 - accuracy: 0.2440 - val_loss: 1.3861 - val_accuracy: 0.2600\n",
            "Epoch 5/20\n",
            "157/157 [==============================] - 1s 3ms/step - loss: 1.3864 - accuracy: 0.2476 - val_loss: 1.3863 - val_accuracy: 0.2600\n",
            "Epoch 6/20\n",
            "157/157 [==============================] - 1s 3ms/step - loss: 1.3864 - accuracy: 0.2410 - val_loss: 1.3863 - val_accuracy: 0.2600\n",
            "Epoch 7/20\n",
            "157/157 [==============================] - 1s 3ms/step - loss: 1.3864 - accuracy: 0.2450 - val_loss: 1.3865 - val_accuracy: 0.2600\n",
            "Epoch 8/20\n",
            "157/157 [==============================] - 1s 3ms/step - loss: 1.3864 - accuracy: 0.2468 - val_loss: 1.3866 - val_accuracy: 0.2600\n",
            "Epoch 9/20\n",
            "157/157 [==============================] - 1s 3ms/step - loss: 1.3864 - accuracy: 0.2470 - val_loss: 1.3865 - val_accuracy: 0.2400\n",
            "Epoch 10/20\n",
            "157/157 [==============================] - 1s 3ms/step - loss: 1.3864 - accuracy: 0.2402 - val_loss: 1.3866 - val_accuracy: 0.2400\n",
            "Epoch 11/20\n",
            "157/157 [==============================] - 1s 3ms/step - loss: 1.3865 - accuracy: 0.2402 - val_loss: 1.3857 - val_accuracy: 0.2400\n",
            "Epoch 12/20\n",
            "157/157 [==============================] - 1s 4ms/step - loss: 1.3864 - accuracy: 0.2400 - val_loss: 1.3862 - val_accuracy: 0.2600\n",
            "Epoch 13/20\n",
            "157/157 [==============================] - 1s 3ms/step - loss: 1.3864 - accuracy: 0.2464 - val_loss: 1.3867 - val_accuracy: 0.2600\n",
            "Epoch 14/20\n",
            "157/157 [==============================] - 0s 3ms/step - loss: 1.3864 - accuracy: 0.2408 - val_loss: 1.3861 - val_accuracy: 0.2600\n",
            "Epoch 15/20\n",
            "157/157 [==============================] - 1s 3ms/step - loss: 1.3864 - accuracy: 0.2394 - val_loss: 1.3863 - val_accuracy: 0.2600\n",
            "Epoch 16/20\n",
            "157/157 [==============================] - 1s 3ms/step - loss: 1.3864 - accuracy: 0.2386 - val_loss: 1.3864 - val_accuracy: 0.2600\n",
            "Epoch 17/20\n",
            "157/157 [==============================] - 1s 4ms/step - loss: 1.3864 - accuracy: 0.2352 - val_loss: 1.3860 - val_accuracy: 0.2600\n",
            "Epoch 18/20\n",
            "157/157 [==============================] - 1s 3ms/step - loss: 1.3864 - accuracy: 0.2504 - val_loss: 1.3859 - val_accuracy: 0.2600\n",
            "Epoch 19/20\n",
            "157/157 [==============================] - 1s 3ms/step - loss: 1.3864 - accuracy: 0.2352 - val_loss: 1.3863 - val_accuracy: 0.2600\n",
            "Epoch 20/20\n",
            "157/157 [==============================] - 1s 3ms/step - loss: 1.3865 - accuracy: 0.2504 - val_loss: 1.3867 - val_accuracy: 0.2600\n",
            "\n",
            "############################\n",
            "############################\n",
            "interval:[10000, 15000]    and    epoch:0\n",
            "############################\n",
            "############################\n",
            "\n",
            "Epoch 1/20\n",
            "157/157 [==============================] - 1s 3ms/step - loss: 1.3864 - accuracy: 0.2376 - val_loss: 1.3863 - val_accuracy: 0.2400\n",
            "Epoch 2/20\n",
            "157/157 [==============================] - 1s 3ms/step - loss: 1.3864 - accuracy: 0.2386 - val_loss: 1.3864 - val_accuracy: 0.2400\n",
            "Epoch 3/20\n",
            "157/157 [==============================] - 0s 3ms/step - loss: 1.3864 - accuracy: 0.2494 - val_loss: 1.3860 - val_accuracy: 0.2400\n",
            "Epoch 4/20\n",
            "157/157 [==============================] - 0s 3ms/step - loss: 1.3864 - accuracy: 0.2450 - val_loss: 1.3861 - val_accuracy: 0.2400\n",
            "Epoch 5/20\n",
            "157/157 [==============================] - 1s 3ms/step - loss: 1.3864 - accuracy: 0.2402 - val_loss: 1.3866 - val_accuracy: 0.2400\n",
            "Epoch 6/20\n",
            "157/157 [==============================] - 1s 3ms/step - loss: 1.3864 - accuracy: 0.2446 - val_loss: 1.3863 - val_accuracy: 0.2400\n",
            "Epoch 7/20\n",
            "157/157 [==============================] - 1s 3ms/step - loss: 1.3864 - accuracy: 0.2478 - val_loss: 1.3864 - val_accuracy: 0.2400\n",
            "Epoch 8/20\n",
            "157/157 [==============================] - 1s 3ms/step - loss: 1.3864 - accuracy: 0.2422 - val_loss: 1.3864 - val_accuracy: 0.2400\n",
            "Epoch 9/20\n",
            "157/157 [==============================] - 1s 3ms/step - loss: 1.3864 - accuracy: 0.2450 - val_loss: 1.3866 - val_accuracy: 0.2400\n",
            "Epoch 10/20\n",
            "157/157 [==============================] - 1s 4ms/step - loss: 1.3864 - accuracy: 0.2368 - val_loss: 1.3864 - val_accuracy: 0.2400\n",
            "Epoch 11/20\n",
            "157/157 [==============================] - 1s 3ms/step - loss: 1.3865 - accuracy: 0.2404 - val_loss: 1.3861 - val_accuracy: 0.2400\n",
            "Epoch 12/20\n",
            "157/157 [==============================] - 1s 3ms/step - loss: 1.3864 - accuracy: 0.2434 - val_loss: 1.3867 - val_accuracy: 0.2400\n",
            "Epoch 13/20\n",
            "157/157 [==============================] - 1s 3ms/step - loss: 1.3864 - accuracy: 0.2460 - val_loss: 1.3865 - val_accuracy: 0.2400\n",
            "Epoch 14/20\n",
            "157/157 [==============================] - 1s 3ms/step - loss: 1.3865 - accuracy: 0.2434 - val_loss: 1.3862 - val_accuracy: 0.2400\n",
            "Epoch 15/20\n",
            "157/157 [==============================] - 1s 3ms/step - loss: 1.3864 - accuracy: 0.2440 - val_loss: 1.3868 - val_accuracy: 0.2400\n",
            "Epoch 16/20\n",
            "157/157 [==============================] - 1s 4ms/step - loss: 1.3864 - accuracy: 0.2370 - val_loss: 1.3867 - val_accuracy: 0.2400\n",
            "Epoch 17/20\n",
            "157/157 [==============================] - 1s 4ms/step - loss: 1.3864 - accuracy: 0.2480 - val_loss: 1.3862 - val_accuracy: 0.2400\n",
            "Epoch 18/20\n",
            "157/157 [==============================] - 1s 3ms/step - loss: 1.3864 - accuracy: 0.2412 - val_loss: 1.3860 - val_accuracy: 0.2400\n",
            "Epoch 19/20\n",
            "157/157 [==============================] - 1s 3ms/step - loss: 1.3864 - accuracy: 0.2410 - val_loss: 1.3860 - val_accuracy: 0.2400\n",
            "Epoch 20/20\n",
            "157/157 [==============================] - 1s 3ms/step - loss: 1.3864 - accuracy: 0.2446 - val_loss: 1.3862 - val_accuracy: 0.2400\n",
            "\n",
            "############################\n",
            "############################\n",
            "interval:[15000, 20000]    and    epoch:0\n",
            "############################\n",
            "############################\n",
            "\n"
          ],
          "name": "stdout"
        }
      ]
    },
    {
      "cell_type": "code",
      "metadata": {
        "id": "Xdat4a2PJCWy",
        "colab_type": "code",
        "colab": {
          "base_uri": "https://localhost:8080/",
          "height": 34
        },
        "outputId": "492d577b-dfdb-45ce-89a2-3f4e57eeee7f"
      },
      "source": [
        "data.shape"
      ],
      "execution_count": 60,
      "outputs": [
        {
          "output_type": "execute_result",
          "data": {
            "text/plain": [
              "(50, 300, 63)"
            ]
          },
          "metadata": {
            "tags": []
          },
          "execution_count": 60
        }
      ]
    },
    {
      "cell_type": "code",
      "metadata": {
        "id": "DseqBXvPJCTw",
        "colab_type": "code",
        "colab": {}
      },
      "source": [
        ""
      ],
      "execution_count": 0,
      "outputs": []
    },
    {
      "cell_type": "code",
      "metadata": {
        "id": "8VkPQqofJCRH",
        "colab_type": "code",
        "colab": {}
      },
      "source": [
        ""
      ],
      "execution_count": 0,
      "outputs": []
    },
    {
      "cell_type": "code",
      "metadata": {
        "id": "JI1lM2cdJCOg",
        "colab_type": "code",
        "colab": {}
      },
      "source": [
        ""
      ],
      "execution_count": 0,
      "outputs": []
    },
    {
      "cell_type": "code",
      "metadata": {
        "id": "hUlOCc3WJB_R",
        "colab_type": "code",
        "colab": {}
      },
      "source": [
        ""
      ],
      "execution_count": 0,
      "outputs": []
    },
    {
      "cell_type": "code",
      "metadata": {
        "id": "IhrjUcZvEceg",
        "colab_type": "code",
        "colab": {}
      },
      "source": [
        ""
      ],
      "execution_count": 0,
      "outputs": []
    },
    {
      "cell_type": "code",
      "metadata": {
        "id": "ABqFQihGbDKx",
        "colab_type": "code",
        "colab": {}
      },
      "source": [
        ""
      ],
      "execution_count": 0,
      "outputs": []
    },
    {
      "cell_type": "code",
      "metadata": {
        "id": "eyL6g8aTbDON",
        "colab_type": "code",
        "colab": {}
      },
      "source": [
        ""
      ],
      "execution_count": 0,
      "outputs": []
    },
    {
      "cell_type": "code",
      "metadata": {
        "id": "Zy2VqrMHbDV3",
        "colab_type": "code",
        "colab": {}
      },
      "source": [
        ""
      ],
      "execution_count": 0,
      "outputs": []
    },
    {
      "cell_type": "code",
      "metadata": {
        "id": "BcdcfWZXbDYu",
        "colab_type": "code",
        "colab": {}
      },
      "source": [
        ""
      ],
      "execution_count": 0,
      "outputs": []
    },
    {
      "cell_type": "markdown",
      "metadata": {
        "id": "4dz7NZLBbDoI",
        "colab_type": "text"
      },
      "source": [
        "#Trash"
      ]
    },
    {
      "cell_type": "code",
      "metadata": {
        "id": "M5cbcyk5bDT_",
        "colab_type": "code",
        "colab": {
          "base_uri": "https://localhost:8080/",
          "height": 132
        },
        "outputId": "88431b2b-c271-448b-b7a0-3087a26b0766"
      },
      "source": [
        "model = keras.models.Sequential([\n",
        "keras.layers.Conv2D(64, 7, activation=\"relu\", padding=\"same\",\n",
        "input_shape=[28, 28, 1]),\n",
        "keras.layers.MaxPooling2D(2),\n",
        "keras.layers.Conv2D(128, 3, activation=\"relu\", padding=\"same\"),\n",
        "keras.layers.Conv2D(128, 3, activation=\"relu\", padding=\"same\"),\n",
        "keras.layers.MaxPooling2D(2),\n",
        "keras.layers.Conv2D(256, 3, activation=\"relu\", padding=\"same\"),\n",
        "keras.layers.Conv2D(256, 3, activation=\"relu\", padding=\"same\"),\n",
        "keras.layers.MaxPooling2D(2),\n",
        "keras.layers.Flatten(),\n",
        "keras.layers.Dense(128, activation=\"relu\"),\n",
        "keras.layers.Dropout(0.5),\n",
        "keras.layers.Dense(64, activation=\"relu\"),\n",
        "keras.layers.Dropout(0.5),\n",
        "keras.layers.Dense(10, activation=\"softmax\")]\n"
      ],
      "execution_count": 42,
      "outputs": [
        {
          "output_type": "error",
          "ename": "SyntaxError",
          "evalue": "ignored",
          "traceback": [
            "\u001b[0;36m  File \u001b[0;32m\"<ipython-input-43-04a3014bd99e>\"\u001b[0;36m, line \u001b[0;32m16\u001b[0m\n\u001b[0;31m    keras.layers.Dense(10, activation=\"softmax\")]\u001b[0m\n\u001b[0m                                                 ^\u001b[0m\n\u001b[0;31mSyntaxError\u001b[0m\u001b[0;31m:\u001b[0m unexpected EOF while parsing\n"
          ]
        }
      ]
    },
    {
      "cell_type": "code",
      "metadata": {
        "id": "A_mMMInbbDS4",
        "colab_type": "code",
        "colab": {}
      },
      "source": [
        "model = keras.models.Sequential([\n",
        "keras.layers.Conv2D(64, 7, activation=\"relu\", padding=\"same\",\n",
        "input_shape=[28, 28, 1]),\n",
        "keras.layers.MaxPooling2D(2),\n",
        "keras.layers.Conv2D(128, 3, activation=\"relu\", padding=\"same\"),\n",
        "keras.layers.Conv2D(128, 3, activation=\"relu\", padding=\"same\"),\n",
        "keras.layers.MaxPooling2D(2),\n",
        "keras.layers.Conv2D(256, 3, activation=\"relu\", padding=\"same\"),\n",
        "keras.layers.Conv2D(256, 3, activation=\"relu\", padding=\"same\"),\n",
        "keras.layers.MaxPooling2D(2),\n",
        "keras.layers.Flatten(),\n",
        "keras.layers.Dense(128, activation=\"relu\"),\n",
        "keras.layers.Dropout(0.5),\n",
        "keras.layers.Dense(64, activation=\"relu\"),\n",
        "keras.layers.Dropout(0.5),\n",
        "keras.layers.Dense(10, activation=\"softmax\")\n",
        "                                 \n",
        "])"
      ],
      "execution_count": 0,
      "outputs": []
    },
    {
      "cell_type": "code",
      "metadata": {
        "id": "VGdl0yGmbDRl",
        "colab_type": "code",
        "colab": {
          "base_uri": "https://localhost:8080/",
          "height": 642
        },
        "outputId": "b4911103-9069-4464-bd98-5d19bd19b33b"
      },
      "source": [
        "model.summary()"
      ],
      "execution_count": 45,
      "outputs": [
        {
          "output_type": "stream",
          "text": [
            "Model: \"sequential_10\"\n",
            "_________________________________________________________________\n",
            "Layer (type)                 Output Shape              Param #   \n",
            "=================================================================\n",
            "conv2d_5 (Conv2D)            (None, 28, 28, 64)        3200      \n",
            "_________________________________________________________________\n",
            "max_pooling2d_3 (MaxPooling2 (None, 14, 14, 64)        0         \n",
            "_________________________________________________________________\n",
            "conv2d_6 (Conv2D)            (None, 14, 14, 128)       73856     \n",
            "_________________________________________________________________\n",
            "conv2d_7 (Conv2D)            (None, 14, 14, 128)       147584    \n",
            "_________________________________________________________________\n",
            "max_pooling2d_4 (MaxPooling2 (None, 7, 7, 128)         0         \n",
            "_________________________________________________________________\n",
            "conv2d_8 (Conv2D)            (None, 7, 7, 256)         295168    \n",
            "_________________________________________________________________\n",
            "conv2d_9 (Conv2D)            (None, 7, 7, 256)         590080    \n",
            "_________________________________________________________________\n",
            "max_pooling2d_5 (MaxPooling2 (None, 3, 3, 256)         0         \n",
            "_________________________________________________________________\n",
            "flatten_8 (Flatten)          (None, 2304)              0         \n",
            "_________________________________________________________________\n",
            "dense_40 (Dense)             (None, 128)               295040    \n",
            "_________________________________________________________________\n",
            "dropout_2 (Dropout)          (None, 128)               0         \n",
            "_________________________________________________________________\n",
            "dense_41 (Dense)             (None, 64)                8256      \n",
            "_________________________________________________________________\n",
            "dropout_3 (Dropout)          (None, 64)                0         \n",
            "_________________________________________________________________\n",
            "dense_42 (Dense)             (None, 10)                650       \n",
            "=================================================================\n",
            "Total params: 1,413,834\n",
            "Trainable params: 1,413,834\n",
            "Non-trainable params: 0\n",
            "_________________________________________________________________\n"
          ],
          "name": "stdout"
        }
      ]
    },
    {
      "cell_type": "code",
      "metadata": {
        "id": "SPPaHhkNbbAz",
        "colab_type": "code",
        "colab": {}
      },
      "source": [
        ""
      ],
      "execution_count": 0,
      "outputs": []
    }
  ]
}