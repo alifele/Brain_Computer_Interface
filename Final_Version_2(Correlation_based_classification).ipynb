{
  "nbformat": 4,
  "nbformat_minor": 0,
  "metadata": {
    "colab": {
      "name": "Final_Version_2(Correlation based classification).ipynb",
      "provenance": [],
      "collapsed_sections": [],
      "mount_file_id": "1yrQKzOHjqwAzbnxi_onU3fSNwn2tgacw",
      "authorship_tag": "ABX9TyMDx/m4pcsVeEIhOymujab7",
      "include_colab_link": true
    },
    "kernelspec": {
      "name": "python3",
      "display_name": "Python 3"
    },
    "accelerator": "GPU"
  },
  "cells": [
    {
      "cell_type": "markdown",
      "metadata": {
        "id": "view-in-github",
        "colab_type": "text"
      },
      "source": [
        "<a href=\"https://colab.research.google.com/github/alifele/Brain_Computer_Interface-Competition-/blob/master/Final_Version_2(Correlation_based_classification).ipynb\" target=\"_parent\"><img src=\"https://colab.research.google.com/assets/colab-badge.svg\" alt=\"Open In Colab\"/></a>"
      ]
    },
    {
      "cell_type": "code",
      "metadata": {
        "id": "oWsZ6VBpVUUZ",
        "colab_type": "code",
        "colab": {}
      },
      "source": [
        ""
      ],
      "execution_count": 0,
      "outputs": []
    },
    {
      "cell_type": "code",
      "metadata": {
        "id": "cUL53sU_Cjtw",
        "colab_type": "code",
        "colab": {}
      },
      "source": [
        "import numpy as np\n",
        "import matplotlib.pyplot as plt"
      ],
      "execution_count": 0,
      "outputs": []
    },
    {
      "cell_type": "code",
      "metadata": {
        "id": "vkvyi4gaIV7q",
        "colab_type": "code",
        "colab": {}
      },
      "source": [
        "import sys\n",
        "import numpy as np\n",
        "import matplotlib.pyplot as plt\n",
        "sys.path.append('/content/drive/My Drive/EEG_BCI/')\n",
        "import datafetch\n",
        "import plotters\n",
        "import random\n"
      ],
      "execution_count": 0,
      "outputs": []
    },
    {
      "cell_type": "code",
      "metadata": {
        "id": "FfA-m5VlpJWW",
        "colab_type": "code",
        "colab": {}
      },
      "source": [
        "from sklearn.metrics import confusion_matrix, classification_report"
      ],
      "execution_count": 0,
      "outputs": []
    },
    {
      "cell_type": "code",
      "metadata": {
        "id": "mk88adNAMRsD",
        "colab_type": "code",
        "colab": {}
      },
      "source": [
        "from sklearn.model_selection import train_test_split"
      ],
      "execution_count": 0,
      "outputs": []
    },
    {
      "cell_type": "code",
      "metadata": {
        "id": "7iWXaFCGao8n",
        "colab_type": "code",
        "colab": {}
      },
      "source": [
        "def corr_calculator(x1, x2):\n",
        "  '''\n",
        "  give this function tow signals. it will compute the correlation of two signals.\n",
        "  your signals can have multiple channels. in that case the correlation of the channels\n",
        "  will be computed element wise (the channel number one with channel number one and etc.)\n",
        "  '''\n",
        "\n",
        "\n",
        "  tau = 0\n",
        "  corr = []\n",
        "  x1_mean = x1.mean(axis=0)\n",
        "  x2_mean = x2.mean(axis=0)\n",
        "  x1_std = x1.std(axis=0)\n",
        "  x2_std = x2.std(axis=0)\n",
        "  for tau in range(x1.shape[0]):\n",
        "    corr.append(  (np.mean(np.roll(x1,tau, axis=0)*x2, axis=0) - x1_mean*x2_mean)/(x1_std*x2_std)  )\n",
        "\n",
        "  corr = np.array(corr)\n",
        "\n",
        "\n",
        "  return corr"
      ],
      "execution_count": 0,
      "outputs": []
    },
    {
      "cell_type": "code",
      "metadata": {
        "id": "mQiJ1tUtKo7Z",
        "colab_type": "code",
        "colab": {}
      },
      "source": [
        "def History_plotter(his):\n",
        "  global History\n",
        "  his_list = ['loss', 'accuracy', 'val_loss', 'val_accuracy']\n",
        "  for i, name in enumerate(his_list):\n",
        "    History[i]+=(his.history[name])\n",
        "  plt.figure(figsize=(8, 5))\n",
        "  plt.plot(np.array(History).T, '-')\n",
        "  plt.legend(his_list)\n"
      ],
      "execution_count": 0,
      "outputs": []
    },
    {
      "cell_type": "code",
      "metadata": {
        "id": "7shizxiMJGmA",
        "colab_type": "code",
        "colab": {}
      },
      "source": [
        "under_sample =1\n",
        "t = np.linspace(0,3,int(7200/under_sample))\n",
        "f = np.linspace(1/3, 2400, int(7200/under_sample))"
      ],
      "execution_count": 0,
      "outputs": []
    },
    {
      "cell_type": "code",
      "metadata": {
        "id": "RYHrdnhGJfTT",
        "colab_type": "code",
        "colab": {}
      },
      "source": [
        "Data = []\n",
        "class_list = ['none'] + [ 'train_data_class{}'.format(i+1) for i in range(4)]\n",
        "Label = []\n",
        "\n",
        "\n",
        "for i in range(15):\n",
        "  subj = datafetch.fetch_subject(i+1)\n",
        "  for class_ in range(1,5):\n",
        "    for trial in range(25):\n",
        "      Data.append(subj[class_list[class_]][trial][::under_sample, :])\n",
        "      Label += [class_]\n",
        "\n",
        "Data = np.array(Data)\n",
        "Label = np.array(Label)\n",
        "\n",
        "rnd = [i for i in range(1500)]\n",
        "np.random.shuffle(rnd)\n",
        "\n",
        "Data = Data[rnd]\n",
        "Label = Label[rnd]"
      ],
      "execution_count": 0,
      "outputs": []
    },
    {
      "cell_type": "code",
      "metadata": {
        "id": "Xxia0NWkWelJ",
        "colab_type": "code",
        "colab": {}
      },
      "source": [
        "classes_mean = [ np.zeros((7200, 63)) for i in range(5)]\n",
        "class_count = np.zeros((5))\n",
        "\n",
        "for i in range(len(Data)):\n",
        "  result = classes_mean[Label[i]]\n",
        "  result += np.array(Data[i])\n",
        "  classes_mean[Label[i]] = result\n",
        "  class_count[Label[i]] +=1 \n",
        "\n",
        "class_count[0] +=1\n",
        "\n",
        "for i, elem in enumerate(classes_mean):\n",
        "  elem /= class_count[i]"
      ],
      "execution_count": 0,
      "outputs": []
    },
    {
      "cell_type": "code",
      "metadata": {
        "id": "LmDFPGEwYaCQ",
        "colab_type": "code",
        "colab": {
          "base_uri": "https://localhost:8080/",
          "height": 282
        },
        "outputId": "f1717e24-a7b9-4be7-afdb-d0d6379a5ce6"
      },
      "source": [
        "plt.plot(classes_mean[2][:,13])"
      ],
      "execution_count": 29,
      "outputs": [
        {
          "output_type": "execute_result",
          "data": {
            "text/plain": [
              "[<matplotlib.lines.Line2D at 0x7ff6a0a56240>]"
            ]
          },
          "metadata": {
            "tags": []
          },
          "execution_count": 29
        },
        {
          "output_type": "display_data",
          "data": {
            "image/png": "[encoded data removed]",
            "text/plain": [
              "<Figure size 432x288 with 1 Axes>"
            ]
          },
          "metadata": {
            "tags": []
          }
        }
      ]
    },
    {
      "cell_type": "code",
      "metadata": {
        "id": "LuxwDafgYco1",
        "colab_type": "code",
        "colab": {
          "base_uri": "https://localhost:8080/",
          "height": 555
        },
        "outputId": "d533991d-c531-4c25-d3ee-80eb69198ec6"
      },
      "source": [
        "#for i in range(len(Data)):\n",
        "%cd /content/drive/My Drive/EEG_BCI\n",
        "corr_list = []\n",
        "for i in range(len(Data)):\n",
        "  corr = corr_calculator(Data[i][::6,:], classes_mean[Label[i]][::6,:])\n",
        "  corr_list.append(corr)\n",
        "\n",
        "  if i%50 ==0:\n",
        "    print(i)\n",
        "\n",
        "\n",
        "np.save('corr_list', corr_list)"
      ],
      "execution_count": 58,
      "outputs": [
        {
          "output_type": "stream",
          "text": [
            "/content/drive/My Drive/EEG_BCI\n",
            "0\n",
            "50\n",
            "100\n",
            "150\n",
            "200\n",
            "250\n",
            "300\n",
            "350\n",
            "400\n",
            "450\n",
            "500\n",
            "550\n",
            "600\n",
            "650\n",
            "700\n",
            "750\n",
            "800\n",
            "850\n",
            "900\n",
            "950\n",
            "1000\n",
            "1050\n",
            "1100\n",
            "1150\n",
            "1200\n",
            "1250\n",
            "1300\n",
            "1350\n",
            "1400\n",
            "1450\n"
          ],
          "name": "stdout"
        }
      ]
    },
    {
      "cell_type": "code",
      "metadata": {
        "id": "bYJQxrBBYfB8",
        "colab_type": "code",
        "colab": {}
      },
      "source": [
        "x_train, x_test, y_train, y_test = train_test_split(corr_list, Label, test_size = 0.1)\n",
        "x_train = np.array(x_train)\n",
        "x_test = np.array(x_test)\n",
        "y_train = np.array(y_train)\n",
        "y_test = np.array(y_test)\n",
        "History = [[] for i in range(4)]\n",
        "#del Data, Label"
      ],
      "execution_count": 0,
      "outputs": []
    },
    {
      "cell_type": "code",
      "metadata": {
        "id": "3Lng0B7AZELW",
        "colab_type": "code",
        "colab": {}
      },
      "source": [
        ""
      ],
      "execution_count": 0,
      "outputs": []
    },
    {
      "cell_type": "code",
      "metadata": {
        "id": "lmEJIvNuZFCW",
        "colab_type": "code",
        "colab": {}
      },
      "source": [
        ""
      ],
      "execution_count": 0,
      "outputs": []
    },
    {
      "cell_type": "code",
      "metadata": {
        "id": "iYeZgyYLU0jx",
        "colab_type": "code",
        "colab": {}
      },
      "source": [
        "from pandas import DataFrame"
      ],
      "execution_count": 0,
      "outputs": []
    },
    {
      "cell_type": "code",
      "metadata": {
        "id": "QmKD18VMNvJH",
        "colab_type": "code",
        "colab": {}
      },
      "source": [
        "import tensorflow as tf\n",
        "from tensorflow import keras\n"
      ],
      "execution_count": 0,
      "outputs": []
    },
    {
      "cell_type": "code",
      "metadata": {
        "id": "jHJoJTyDlNX5",
        "colab_type": "code",
        "colab": {}
      },
      "source": [
        "global History\n",
        "History = [[] for i in range(4)]"
      ],
      "execution_count": 0,
      "outputs": []
    },
    {
      "cell_type": "code",
      "metadata": {
        "id": "Rda8qSybK5UV",
        "colab_type": "code",
        "colab": {}
      },
      "source": [
        "model = keras.models.Sequential()\n",
        "\n",
        "active = 'selu'\n",
        "\n",
        "model.add(keras.layers.AvgPool1D(1, input_shape=(int(7200/6),63) ))\n",
        "model.add(keras.layers.BatchNormalization())\n",
        "\n",
        "model.add(keras.layers.Conv1D(filters=30, kernel_size=5, activation=active, kernel_initializer=\"he_normal\"))\n",
        "#model.add(keras.layers.Dropout(0.3))\n",
        "#model.add(keras.layers.Conv1D(filters=30, kernel_size=4, activation=active, kernel_initializer=\"he_normal\"))\n",
        "model.add(keras.layers.MaxPool1D(pool_size=3))\n",
        "\n",
        "#model.add(keras.layers.BatchNormalization())\n",
        "model.add(keras.layers.Conv1D(filters=20, kernel_size=3, activation=active, kernel_initializer=\"he_normal\"))\n",
        "#model.add(keras.layers.Dropout(0.3))\n",
        "#model.add(keras.layers.BatchNormalization())\n",
        "#model.add(keras.layers.Conv1D(filters=10, kernel_size=3, activation=active, kernel_initializer=\"he_normal\"))\n",
        "model.add(keras.layers.MaxPool1D(pool_size=3))\n",
        "\n",
        "#model.add(keras.layers.BatchNormalization())\n",
        "#model.add(keras.layers.Conv1D(filters=7, kernel_size=2, activation=active, kernel_initializer=\"he_normal\"))\n",
        "#model.add(keras.layers.Dropout(0.3))\n",
        "#model.add(keras.layers.BatchNormalization())\n",
        "#model.add(keras.layers.Conv1D(filters=3, kernel_size=2, activation=active, kernel_initializer=\"he_normal\"))\n",
        "#model.add(keras.layers.MaxPool1D(pool_size=2))\n",
        "\n",
        "\n",
        "\n",
        "model.add(keras.layers.BatchNormalization())\n",
        "model.add(keras.layers.Dropout(0.5))\n",
        "model.add(keras.layers.MaxPooling1D(pool_size=3))\n",
        "model.add(keras.layers.Flatten())\n",
        "model.add(keras.layers.BatchNormalization())\n",
        "model.add(keras.layers.Dropout(0.5))\n",
        "\n",
        "model.add(keras.layers.Dense(70, activation=active, kernel_initializer=\"he_normal\"))\n",
        "model.add(keras.layers.Dropout(0.5))\n",
        "model.add(keras.layers.Dense(50, activation = active, kernel_initializer=\"he_normal\"))\n",
        "model.add(keras.layers.Dense(20, activation=active,  kernel_initializer=\"he_normal\" ))\n",
        "model.add(keras.layers.Dropout(0.1))\n",
        "model.add(keras.layers.BatchNormalization())\n",
        "\n",
        "model.add(keras.layers.Dense(4, activation='softmax', kernel_initializer=\"he_normal\"))\n",
        "\n",
        "#Lower Fluctiotion in val_loss\n"
      ],
      "execution_count": 0,
      "outputs": []
    },
    {
      "cell_type": "code",
      "metadata": {
        "id": "QGplk2AfPvRv",
        "colab_type": "code",
        "outputId": "9dd28dd9-98bd-4710-8b0d-d7ae360fbd6d",
        "colab": {
          "base_uri": "https://localhost:8080/",
          "height": 816
        }
      },
      "source": [
        "model.summary()"
      ],
      "execution_count": 73,
      "outputs": [
        {
          "output_type": "stream",
          "text": [
            "Model: \"sequential_1\"\n",
            "_________________________________________________________________\n",
            "Layer (type)                 Output Shape              Param #   \n",
            "=================================================================\n",
            "average_pooling1d_1 (Average (None, 1200, 63)          0         \n",
            "_________________________________________________________________\n",
            "batch_normalization_4 (Batch (None, 1200, 63)          252       \n",
            "_________________________________________________________________\n",
            "conv1d_2 (Conv1D)            (None, 1196, 30)          9480      \n",
            "_________________________________________________________________\n",
            "max_pooling1d_3 (MaxPooling1 (None, 398, 30)           0         \n",
            "_________________________________________________________________\n",
            "conv1d_3 (Conv1D)            (None, 396, 20)           1820      \n",
            "_________________________________________________________________\n",
            "max_pooling1d_4 (MaxPooling1 (None, 132, 20)           0         \n",
            "_________________________________________________________________\n",
            "batch_normalization_5 (Batch (None, 132, 20)           80        \n",
            "_________________________________________________________________\n",
            "dropout_4 (Dropout)          (None, 132, 20)           0         \n",
            "_________________________________________________________________\n",
            "max_pooling1d_5 (MaxPooling1 (None, 44, 20)            0         \n",
            "_________________________________________________________________\n",
            "flatten_1 (Flatten)          (None, 880)               0         \n",
            "_________________________________________________________________\n",
            "batch_normalization_6 (Batch (None, 880)               3520      \n",
            "_________________________________________________________________\n",
            "dropout_5 (Dropout)          (None, 880)               0         \n",
            "_________________________________________________________________\n",
            "dense_4 (Dense)              (None, 70)                61670     \n",
            "_________________________________________________________________\n",
            "dropout_6 (Dropout)          (None, 70)                0         \n",
            "_________________________________________________________________\n",
            "dense_5 (Dense)              (None, 50)                3550      \n",
            "_________________________________________________________________\n",
            "dense_6 (Dense)              (None, 20)                1020      \n",
            "_________________________________________________________________\n",
            "dropout_7 (Dropout)          (None, 20)                0         \n",
            "_________________________________________________________________\n",
            "batch_normalization_7 (Batch (None, 20)                80        \n",
            "_________________________________________________________________\n",
            "dense_7 (Dense)              (None, 4)                 84        \n",
            "=================================================================\n",
            "Total params: 81,556\n",
            "Trainable params: 79,590\n",
            "Non-trainable params: 1,966\n",
            "_________________________________________________________________\n"
          ],
          "name": "stdout"
        }
      ]
    },
    {
      "cell_type": "code",
      "metadata": {
        "id": "oOwYriUniPVP",
        "colab_type": "code",
        "colab": {}
      },
      "source": [
        ""
      ],
      "execution_count": 0,
      "outputs": []
    },
    {
      "cell_type": "code",
      "metadata": {
        "id": "3w5aR9NzJqz1",
        "colab_type": "code",
        "colab": {}
      },
      "source": [
        "opt = keras.optimizers.Adam( lr=0.000001)\n",
        "model.compile(optimizer='adam', \n",
        "              metrics= ['accuracy'],\n",
        "              loss= 'sparse_categorical_crossentropy')"
      ],
      "execution_count": 0,
      "outputs": []
    },
    {
      "cell_type": "code",
      "metadata": {
        "id": "1oIbqcObJs1o",
        "colab_type": "code",
        "outputId": "4af42211-2e6a-480d-a4cb-7d0c34952d44",
        "colab": {
          "base_uri": "https://localhost:8080/",
          "height": 1000
        }
      },
      "source": [
        "his = model.fit(x_train, y_train-1, epochs=50, batch_size=5, validation_data=(x_test, y_test-1))"
      ],
      "execution_count": 102,
      "outputs": [
        {
          "output_type": "stream",
          "text": [
            "Epoch 1/50\n",
            "270/270 [==============================] - 8s 31ms/step - loss: 0.6104 - accuracy: 0.7770 - val_loss: 0.7106 - val_accuracy: 0.7000\n",
            "Epoch 2/50\n",
            "270/270 [==============================] - 8s 31ms/step - loss: 0.6087 - accuracy: 0.7778 - val_loss: 0.5949 - val_accuracy: 0.7533\n",
            "Epoch 3/50\n",
            "270/270 [==============================] - 8s 31ms/step - loss: 0.5844 - accuracy: 0.8022 - val_loss: 0.7357 - val_accuracy: 0.6800\n",
            "Epoch 4/50\n",
            "270/270 [==============================] - 8s 31ms/step - loss: 0.6113 - accuracy: 0.7770 - val_loss: 0.7959 - val_accuracy: 0.6600\n",
            "Epoch 5/50\n",
            "270/270 [==============================] - 8s 30ms/step - loss: 0.5449 - accuracy: 0.7904 - val_loss: 1.0592 - val_accuracy: 0.5867\n",
            "Epoch 6/50\n",
            "270/270 [==============================] - 8s 31ms/step - loss: 0.5924 - accuracy: 0.7919 - val_loss: 0.9317 - val_accuracy: 0.6000\n",
            "Epoch 7/50\n",
            "270/270 [==============================] - 8s 31ms/step - loss: 0.5717 - accuracy: 0.7911 - val_loss: 0.6814 - val_accuracy: 0.7200\n",
            "Epoch 8/50\n",
            "270/270 [==============================] - 8s 31ms/step - loss: 0.5777 - accuracy: 0.8007 - val_loss: 0.6730 - val_accuracy: 0.6933\n",
            "Epoch 9/50\n",
            "270/270 [==============================] - 8s 31ms/step - loss: 0.5763 - accuracy: 0.7933 - val_loss: 0.7245 - val_accuracy: 0.6800\n",
            "Epoch 10/50\n",
            "270/270 [==============================] - 8s 31ms/step - loss: 0.5779 - accuracy: 0.7830 - val_loss: 0.6576 - val_accuracy: 0.7400\n",
            "Epoch 11/50\n",
            "270/270 [==============================] - 8s 31ms/step - loss: 0.5635 - accuracy: 0.7874 - val_loss: 0.7272 - val_accuracy: 0.6733\n",
            "Epoch 12/50\n",
            "270/270 [==============================] - 8s 31ms/step - loss: 0.5826 - accuracy: 0.8044 - val_loss: 0.5944 - val_accuracy: 0.7733\n",
            "Epoch 13/50\n",
            "270/270 [==============================] - 9s 35ms/step - loss: 0.5876 - accuracy: 0.7837 - val_loss: 0.6283 - val_accuracy: 0.7200\n",
            "Epoch 14/50\n",
            "270/270 [==============================] - 8s 31ms/step - loss: 0.4976 - accuracy: 0.8148 - val_loss: 0.7010 - val_accuracy: 0.7000\n",
            "Epoch 15/50\n",
            "270/270 [==============================] - 8s 31ms/step - loss: 0.6119 - accuracy: 0.8015 - val_loss: 0.7110 - val_accuracy: 0.7133\n",
            "Epoch 16/50\n",
            "270/270 [==============================] - 8s 31ms/step - loss: 0.5367 - accuracy: 0.8007 - val_loss: 0.7473 - val_accuracy: 0.6600\n",
            "Epoch 17/50\n",
            "270/270 [==============================] - 8s 30ms/step - loss: 0.5431 - accuracy: 0.7978 - val_loss: 0.9011 - val_accuracy: 0.6333\n",
            "Epoch 18/50\n",
            "270/270 [==============================] - 8s 30ms/step - loss: 0.5088 - accuracy: 0.8148 - val_loss: 0.7299 - val_accuracy: 0.6933\n",
            "Epoch 19/50\n",
            "270/270 [==============================] - 8s 30ms/step - loss: 0.5182 - accuracy: 0.8119 - val_loss: 0.7817 - val_accuracy: 0.6800\n",
            "Epoch 20/50\n",
            "270/270 [==============================] - 8s 30ms/step - loss: 0.4869 - accuracy: 0.8274 - val_loss: 0.5934 - val_accuracy: 0.7533\n",
            "Epoch 21/50\n",
            "270/270 [==============================] - 8s 30ms/step - loss: 0.5233 - accuracy: 0.8207 - val_loss: 0.7298 - val_accuracy: 0.7000\n",
            "Epoch 22/50\n",
            "270/270 [==============================] - 8s 30ms/step - loss: 0.5410 - accuracy: 0.8074 - val_loss: 0.6968 - val_accuracy: 0.7333\n",
            "Epoch 23/50\n",
            "270/270 [==============================] - 8s 30ms/step - loss: 0.5383 - accuracy: 0.8141 - val_loss: 0.8862 - val_accuracy: 0.6467\n",
            "Epoch 24/50\n",
            "270/270 [==============================] - 8s 31ms/step - loss: 0.5333 - accuracy: 0.8133 - val_loss: 0.7531 - val_accuracy: 0.7067\n",
            "Epoch 25/50\n",
            "270/270 [==============================] - 8s 30ms/step - loss: 0.5102 - accuracy: 0.8281 - val_loss: 0.8527 - val_accuracy: 0.6400\n",
            "Epoch 26/50\n",
            "270/270 [==============================] - 8s 30ms/step - loss: 0.5496 - accuracy: 0.8015 - val_loss: 0.8454 - val_accuracy: 0.6600\n",
            "Epoch 27/50\n",
            "270/270 [==============================] - 8s 30ms/step - loss: 0.5000 - accuracy: 0.8244 - val_loss: 0.6776 - val_accuracy: 0.7200\n",
            "Epoch 28/50\n",
            "270/270 [==============================] - 8s 30ms/step - loss: 0.4807 - accuracy: 0.8141 - val_loss: 0.7661 - val_accuracy: 0.7000\n",
            "Epoch 29/50\n",
            "270/270 [==============================] - 8s 30ms/step - loss: 0.5437 - accuracy: 0.8044 - val_loss: 0.7170 - val_accuracy: 0.6933\n",
            "Epoch 30/50\n",
            "270/270 [==============================] - 8s 30ms/step - loss: 0.5219 - accuracy: 0.8200 - val_loss: 0.7518 - val_accuracy: 0.7000\n",
            "Epoch 31/50\n",
            "270/270 [==============================] - 8s 30ms/step - loss: 0.4987 - accuracy: 0.8215 - val_loss: 0.7853 - val_accuracy: 0.6667\n",
            "Epoch 32/50\n",
            "270/270 [==============================] - 8s 30ms/step - loss: 0.5162 - accuracy: 0.8252 - val_loss: 0.8625 - val_accuracy: 0.6267\n",
            "Epoch 33/50\n",
            "270/270 [==============================] - 8s 29ms/step - loss: 0.4660 - accuracy: 0.8474 - val_loss: 0.8858 - val_accuracy: 0.6333\n",
            "Epoch 34/50\n",
            "270/270 [==============================] - 8s 30ms/step - loss: 0.5029 - accuracy: 0.8326 - val_loss: 0.5664 - val_accuracy: 0.7733\n",
            "Epoch 35/50\n",
            "270/270 [==============================] - 8s 30ms/step - loss: 0.4929 - accuracy: 0.8230 - val_loss: 0.6427 - val_accuracy: 0.7400\n",
            "Epoch 36/50\n",
            "270/270 [==============================] - 8s 30ms/step - loss: 0.5075 - accuracy: 0.8296 - val_loss: 0.7365 - val_accuracy: 0.6933\n",
            "Epoch 37/50\n",
            "270/270 [==============================] - 8s 30ms/step - loss: 0.5342 - accuracy: 0.8007 - val_loss: 0.6832 - val_accuracy: 0.7333\n",
            "Epoch 38/50\n",
            "270/270 [==============================] - 8s 30ms/step - loss: 0.4967 - accuracy: 0.8230 - val_loss: 0.6630 - val_accuracy: 0.7467\n",
            "Epoch 39/50\n",
            "270/270 [==============================] - 8s 30ms/step - loss: 0.4791 - accuracy: 0.8400 - val_loss: 0.9127 - val_accuracy: 0.6467\n",
            "Epoch 40/50\n",
            "270/270 [==============================] - 8s 30ms/step - loss: 0.4905 - accuracy: 0.8363 - val_loss: 0.8289 - val_accuracy: 0.6800\n",
            "Epoch 41/50\n",
            "270/270 [==============================] - 8s 31ms/step - loss: 0.5244 - accuracy: 0.8148 - val_loss: 0.8078 - val_accuracy: 0.7200\n",
            "Epoch 42/50\n",
            "270/270 [==============================] - 8s 30ms/step - loss: 0.4936 - accuracy: 0.8356 - val_loss: 0.6848 - val_accuracy: 0.7533\n",
            "Epoch 43/50\n",
            "270/270 [==============================] - 8s 31ms/step - loss: 0.4772 - accuracy: 0.8459 - val_loss: 0.8508 - val_accuracy: 0.6600\n",
            "Epoch 44/50\n",
            "270/270 [==============================] - 8s 30ms/step - loss: 0.4921 - accuracy: 0.8252 - val_loss: 0.7037 - val_accuracy: 0.7267\n",
            "Epoch 45/50\n",
            "270/270 [==============================] - 8s 30ms/step - loss: 0.4861 - accuracy: 0.8259 - val_loss: 0.6229 - val_accuracy: 0.7333\n",
            "Epoch 46/50\n",
            "270/270 [==============================] - 8s 30ms/step - loss: 0.4892 - accuracy: 0.8459 - val_loss: 0.6855 - val_accuracy: 0.6800\n",
            "Epoch 47/50\n",
            "270/270 [==============================] - 8s 30ms/step - loss: 0.4942 - accuracy: 0.8230 - val_loss: 0.6199 - val_accuracy: 0.7400\n",
            "Epoch 48/50\n",
            "270/270 [==============================] - 8s 30ms/step - loss: 0.4778 - accuracy: 0.8385 - val_loss: 0.7019 - val_accuracy: 0.6667\n",
            "Epoch 49/50\n",
            "270/270 [==============================] - 8s 30ms/step - loss: 0.4864 - accuracy: 0.8341 - val_loss: 0.6936 - val_accuracy: 0.7267\n",
            "Epoch 50/50\n",
            "270/270 [==============================] - 8s 30ms/step - loss: 0.4757 - accuracy: 0.8407 - val_loss: 0.5602 - val_accuracy: 0.7933\n"
          ],
          "name": "stdout"
        }
      ]
    },
    {
      "cell_type": "code",
      "metadata": {
        "id": "s98p0wNpiZsl",
        "colab_type": "code",
        "colab": {
          "base_uri": "https://localhost:8080/",
          "height": 320
        },
        "outputId": "557fb486-acc6-4326-919d-2ea532ee746f"
      },
      "source": [
        "History_plotter(his)\n"
      ],
      "execution_count": 103,
      "outputs": [
        {
          "output_type": "display_data",
          "data": {
            "image/png": "[encoded data removed]",
            "text/plain": [
              "<Figure size 576x360 with 1 Axes>"
            ]
          },
          "metadata": {
            "tags": []
          }
        }
      ]
    },
    {
      "cell_type": "code",
      "metadata": {
        "id": "LYrQoYsQob8W",
        "colab_type": "code",
        "colab": {}
      },
      "source": [
        "model.save('acc75_best.h5')"
      ],
      "execution_count": 0,
      "outputs": []
    },
    {
      "cell_type": "markdown",
      "metadata": {
        "id": "2DxLX_qJn_UV",
        "colab_type": "text"
      },
      "source": [
        "#Results"
      ]
    },
    {
      "cell_type": "code",
      "metadata": {
        "id": "pTrbUgY2n-uf",
        "colab_type": "code",
        "colab": {}
      },
      "source": [
        "mean_over_mean = np.sum(classes_mean, axis=0)/4"
      ],
      "execution_count": 0,
      "outputs": []
    },
    {
      "cell_type": "code",
      "metadata": {
        "id": "t2Ul_IklkFY7",
        "colab_type": "code",
        "colab": {
          "base_uri": "https://localhost:8080/",
          "height": 34
        },
        "outputId": "3c1e13f0-9dba-4203-d07e-658a682277b0"
      },
      "source": [
        ""
      ],
      "execution_count": 91,
      "outputs": [
        {
          "output_type": "execute_result",
          "data": {
            "text/plain": [
              "(7200, 63)"
            ]
          },
          "metadata": {
            "tags": []
          },
          "execution_count": 91
        }
      ]
    },
    {
      "cell_type": "code",
      "metadata": {
        "id": "1IvkrW04kb2-",
        "colab_type": "code",
        "colab": {
          "base_uri": "https://localhost:8080/",
          "height": 69
        },
        "outputId": "a8f9ea03-ba47-49c6-c2d4-fd137477aa3f"
      },
      "source": [
        "corr_test = []\n",
        "for i in range(1350,1500):\n",
        "  corr = corr_calculator(Data[i][::6,:], mean_over_mean[::6,:])\n",
        "  corr_test.append(corr)\n",
        "\n",
        "  if i%50 ==0:\n",
        "    print(i)\n",
        "\n",
        "corr_test = np.array(corr_test)"
      ],
      "execution_count": 105,
      "outputs": [
        {
          "output_type": "stream",
          "text": [
            "1350\n",
            "1400\n",
            "1450\n"
          ],
          "name": "stdout"
        }
      ]
    },
    {
      "cell_type": "code",
      "metadata": {
        "id": "OExg__zVkco3",
        "colab_type": "code",
        "colab": {
          "base_uri": "https://localhost:8080/",
          "height": 34
        },
        "outputId": "a25c6b4a-42df-4f31-fa9f-316947d16b9c"
      },
      "source": [
        "corr_test.shape"
      ],
      "execution_count": 106,
      "outputs": [
        {
          "output_type": "execute_result",
          "data": {
            "text/plain": [
              "(150, 1200, 63)"
            ]
          },
          "metadata": {
            "tags": []
          },
          "execution_count": 106
        }
      ]
    },
    {
      "cell_type": "code",
      "metadata": {
        "id": "NPODDoTfkhZe",
        "colab_type": "code",
        "colab": {}
      },
      "source": [
        "y_pred_test = model.predict(corr_test)\n",
        "y_pred_test = np.argmax(y_pred_test, axis=1) + 1\n"
      ],
      "execution_count": 0,
      "outputs": []
    },
    {
      "cell_type": "code",
      "metadata": {
        "id": "4uaF5ABgkhc0",
        "colab_type": "code",
        "colab": {
          "base_uri": "https://localhost:8080/",
          "height": 86
        },
        "outputId": "026ed7e7-97ea-46e5-f9f8-df940905965a"
      },
      "source": [
        "confusion_matrix(Label[1350:], y_pred_test)"
      ],
      "execution_count": 108,
      "outputs": [
        {
          "output_type": "execute_result",
          "data": {
            "text/plain": [
              "array([[ 4,  7, 22,  5],\n",
              "       [ 3, 13, 15,  7],\n",
              "       [ 2,  8, 30,  2],\n",
              "       [ 6,  6, 15,  5]])"
            ]
          },
          "metadata": {
            "tags": []
          },
          "execution_count": 108
        }
      ]
    },
    {
      "cell_type": "code",
      "metadata": {
        "id": "F9V1UIuZkhf8",
        "colab_type": "code",
        "colab": {
          "base_uri": "https://localhost:8080/",
          "height": 208
        },
        "outputId": "c43f6c2d-a340-45b6-f1f6-a7ec2793e859"
      },
      "source": [
        "print(classification_report(Label[1350:], y_pred_test))"
      ],
      "execution_count": 109,
      "outputs": [
        {
          "output_type": "stream",
          "text": [
            "              precision    recall  f1-score   support\n",
            "\n",
            "           1       0.27      0.11      0.15        38\n",
            "           2       0.38      0.34      0.36        38\n",
            "           3       0.37      0.71      0.48        42\n",
            "           4       0.26      0.16      0.20        32\n",
            "\n",
            "    accuracy                           0.35       150\n",
            "   macro avg       0.32      0.33      0.30       150\n",
            "weighted avg       0.32      0.35      0.31       150\n",
            "\n"
          ],
          "name": "stdout"
        }
      ]
    },
    {
      "cell_type": "code",
      "metadata": {
        "id": "B4ZZ9WpKp-HP",
        "colab_type": "code",
        "colab": {}
      },
      "source": [
        ""
      ],
      "execution_count": 0,
      "outputs": []
    },
    {
      "cell_type": "markdown",
      "metadata": {
        "id": "IKKrAQf8p_Su",
        "colab_type": "text"
      },
      "source": [
        "# File Generator"
      ]
    },
    {
      "cell_type": "code",
      "metadata": {
        "id": "hMYgXWC8p-Qm",
        "colab_type": "code",
        "colab": {}
      },
      "source": [
        "Data_test = []\n",
        "class_list = ['test_data']\n",
        "\n",
        "\n",
        "for i in range(15):\n",
        "  subj = datafetch.fetch_subject(i+1)\n",
        "  corr_result = []\n",
        "  for subject in range(60):\n",
        "    corr = corr_calculator(subj[subject][::6,:], mean_over_mean[::6,:])\n",
        "    corr_result.append(corr)\n",
        "\n",
        "\n",
        "  DATA = subj['test_data']\n",
        "  label = model.predict(DATA)\n",
        "  label = np.argmax(label,axis=1)+1\n",
        "  np.savetxt( 'subject_{}.csv'.format(i+1), label)\n",
        "\n"
      ],
      "execution_count": 0,
      "outputs": []
    },
    {
      "cell_type": "code",
      "metadata": {
        "id": "Qkuw1sdvp-TG",
        "colab_type": "code",
        "colab": {}
      },
      "source": [
        ""
      ],
      "execution_count": 0,
      "outputs": []
    },
    {
      "cell_type": "markdown",
      "metadata": {
        "id": "8-MEn3d-khs7",
        "colab_type": "text"
      },
      "source": [
        "# 62%"
      ]
    },
    {
      "cell_type": "code",
      "metadata": {
        "id": "BbgLo6JikjQN",
        "colab_type": "code",
        "colab": {}
      },
      "source": [
        "model = keras.models.Sequential()\n",
        "\n",
        "active = 'selu'\n",
        "\n",
        "model.add(keras.layers.AvgPool1D(1, input_shape=(int(7200/6),63) ))\n",
        "model.add(keras.layers.BatchNormalization())\n",
        "\n",
        "model.add(keras.layers.Conv1D(filters=30, kernel_size=5, activation=active, kernel_initializer=\"he_normal\"))\n",
        "#model.add(keras.layers.Dropout(0.3))\n",
        "#model.add(keras.layers.Conv1D(filters=30, kernel_size=4, activation=active, kernel_initializer=\"he_normal\"))\n",
        "model.add(keras.layers.MaxPool1D(pool_size=3))\n",
        "\n",
        "#model.add(keras.layers.BatchNormalization())\n",
        "model.add(keras.layers.Conv1D(filters=20, kernel_size=3, activation=active, kernel_initializer=\"he_normal\"))\n",
        "#model.add(keras.layers.Dropout(0.3))\n",
        "#model.add(keras.layers.BatchNormalization())\n",
        "#model.add(keras.layers.Conv1D(filters=10, kernel_size=3, activation=active, kernel_initializer=\"he_normal\"))\n",
        "model.add(keras.layers.MaxPool1D(pool_size=3))\n",
        "\n",
        "#model.add(keras.layers.BatchNormalization())\n",
        "#model.add(keras.layers.Conv1D(filters=7, kernel_size=2, activation=active, kernel_initializer=\"he_normal\"))\n",
        "#model.add(keras.layers.Dropout(0.3))\n",
        "#model.add(keras.layers.BatchNormalization())\n",
        "#model.add(keras.layers.Conv1D(filters=3, kernel_size=2, activation=active, kernel_initializer=\"he_normal\"))\n",
        "#model.add(keras.layers.MaxPool1D(pool_size=2))\n",
        "\n",
        "\n",
        "\n",
        "model.add(keras.layers.BatchNormalization())\n",
        "model.add(keras.layers.Dropout(0.5))\n",
        "model.add(keras.layers.MaxPooling1D(pool_size=3))\n",
        "model.add(keras.layers.Flatten())\n",
        "model.add(keras.layers.BatchNormalization())\n",
        "model.add(keras.layers.Dropout(0.5))\n",
        "\n",
        "model.add(keras.layers.Dense(70, activation=active, kernel_initializer=\"he_normal\"))\n",
        "model.add(keras.layers.Dropout(0.5))\n",
        "model.add(keras.layers.Dense(50, activation = active, kernel_initializer=\"he_normal\"))\n",
        "model.add(keras.layers.Dense(20, activation=active,  kernel_initializer=\"he_normal\" ))\n",
        "model.add(keras.layers.Dropout(0.1))\n",
        "model.add(keras.layers.BatchNormalization())\n",
        "\n",
        "model.add(keras.layers.Dense(4, activation='softmax', kernel_initializer=\"he_normal\"))\n",
        "\n",
        "#Lower Fluctiotion in val_loss\n"
      ],
      "execution_count": 0,
      "outputs": []
    },
    {
      "cell_type": "code",
      "metadata": {
        "id": "hvTcp2WpknIX",
        "colab_type": "code",
        "colab": {
          "base_uri": "https://localhost:8080/",
          "height": 320
        },
        "outputId": "3d1ace52-0dc0-47b0-93d2-e49765111b4a"
      },
      "source": [
        "History_plotter(his)\n"
      ],
      "execution_count": 80,
      "outputs": [
        {
          "output_type": "display_data",
          "data": {
            "image/png": "[encoded data removed]",
            "text/plain": [
              "<Figure size 576x360 with 1 Axes>"
            ]
          },
          "metadata": {
            "tags": []
          }
        }
      ]
    },
    {
      "cell_type": "code",
      "metadata": {
        "id": "zRnKUkQZknes",
        "colab_type": "code",
        "colab": {}
      },
      "source": [
        ""
      ],
      "execution_count": 0,
      "outputs": []
    }
  ]
}