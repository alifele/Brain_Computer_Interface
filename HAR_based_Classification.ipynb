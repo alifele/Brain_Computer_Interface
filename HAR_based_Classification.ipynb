{
  "nbformat": 4,
  "nbformat_minor": 0,
  "metadata": {
    "colab": {
      "name": "HAR based Classification.ipynb",
      "provenance": [],
      "mount_file_id": "1z3wUOMwvfeE0wpTP3Gur0V8PX4BsHdKS",
      "authorship_tag": "ABX9TyPmh0paqAC2JifaVWubFcu6",
      "include_colab_link": true
    },
    "kernelspec": {
      "name": "python3",
      "display_name": "Python 3"
    },
    "accelerator": "GPU"
  },
  "cells": [
    {
      "cell_type": "markdown",
      "metadata": {
        "id": "view-in-github",
        "colab_type": "text"
      },
      "source": [
        "<a href=\"https://colab.research.google.com/github/alifele/Brain_Computer_Interface-Competition-/blob/master/HAR_based_Classification.ipynb\" target=\"_parent\"><img src=\"https://colab.research.google.com/assets/colab-badge.svg\" alt=\"Open In Colab\"/></a>"
      ]
    },
    {
      "cell_type": "code",
      "metadata": {
        "id": "cUL53sU_Cjtw",
        "colab_type": "code",
        "colab": {}
      },
      "source": [
        "import numpy as np\n",
        "import matplotlib.pyplot as plt"
      ],
      "execution_count": 0,
      "outputs": []
    },
    {
      "cell_type": "code",
      "metadata": {
        "id": "vkvyi4gaIV7q",
        "colab_type": "code",
        "colab": {}
      },
      "source": [
        "import sys\n",
        "import numpy as np\n",
        "import matplotlib.pyplot as plt\n",
        "sys.path.append('/content/drive/My Drive/EEG_BCI/')\n",
        "import datafetch\n",
        "import plotters\n",
        "import random\n"
      ],
      "execution_count": 0,
      "outputs": []
    },
    {
      "cell_type": "code",
      "metadata": {
        "id": "mk88adNAMRsD",
        "colab_type": "code",
        "colab": {}
      },
      "source": [
        "from sklearn.model_selection import train_test_split"
      ],
      "execution_count": 0,
      "outputs": []
    },
    {
      "cell_type": "code",
      "metadata": {
        "id": "mQiJ1tUtKo7Z",
        "colab_type": "code",
        "colab": {}
      },
      "source": [
        "def History_plotter(his):\n",
        "  his_list = ['loss', 'accuracy', 'val_loss', 'val_accuracy']\n",
        "  for i, name in enumerate(his_list):\n",
        "    History[i]+=(his.history[name])\n",
        "  plt.figure(figsize=(8, 5))\n",
        "  plt.plot(np.array(History).T, '-')\n",
        "  plt.legend(his_list)\n"
      ],
      "execution_count": 0,
      "outputs": []
    },
    {
      "cell_type": "code",
      "metadata": {
        "id": "7shizxiMJGmA",
        "colab_type": "code",
        "colab": {}
      },
      "source": [
        "under_sample =1\n",
        "t = np.linspace(0,3,int(7200/under_sample))\n",
        "f = np.linspace(1/3, 2400, int(7200/under_sample))"
      ],
      "execution_count": 0,
      "outputs": []
    },
    {
      "cell_type": "code",
      "metadata": {
        "id": "RYHrdnhGJfTT",
        "colab_type": "code",
        "colab": {}
      },
      "source": [
        "Data = []\n",
        "class_list = ['none'] + [ 'train_data_class{}'.format(i+1) for i in range(4)]\n",
        "Label = []\n",
        "\n",
        "\n",
        "for i in range(15):\n",
        "  subj = datafetch.fetch_subject(i+1)\n",
        "  for class_ in range(1,5):\n",
        "    for trial in range(25):\n",
        "      Data.append(subj[class_list[class_]][trial][::under_sample, :])\n",
        "      Label += [class_]\n",
        "\n",
        "Data = np.array(Data)\n",
        "Label = np.array(Label)\n",
        "\n",
        "rnd = [i for i in range(1500)]\n",
        "np.random.shuffle(rnd)\n",
        "\n",
        "Data = Data[rnd]\n",
        "Label = Label[rnd]"
      ],
      "execution_count": 0,
      "outputs": []
    },
    {
      "cell_type": "code",
      "metadata": {
        "id": "tL8GLQH4L9rV",
        "colab_type": "code",
        "colab": {}
      },
      "source": [
        "x_train, x_test, y_train, y_test = train_test_split(Data, Label, test_size = 0.1)\n",
        "History = [[] for i in range(4)]\n"
      ],
      "execution_count": 0,
      "outputs": []
    },
    {
      "cell_type": "code",
      "metadata": {
        "id": "iYeZgyYLU0jx",
        "colab_type": "code",
        "colab": {}
      },
      "source": [
        "from pandas import DataFrame"
      ],
      "execution_count": 0,
      "outputs": []
    },
    {
      "cell_type": "code",
      "metadata": {
        "id": "QmKD18VMNvJH",
        "colab_type": "code",
        "colab": {}
      },
      "source": [
        "import tensorflow as tf\n",
        "from tensorflow import keras\n"
      ],
      "execution_count": 0,
      "outputs": []
    },
    {
      "cell_type": "code",
      "metadata": {
        "id": "Rda8qSybK5UV",
        "colab_type": "code",
        "colab": {}
      },
      "source": [
        "model = keras.models.Sequential()\n",
        "\n",
        "active = 'relu'\n",
        "\n",
        "model.add(keras.layers.AvgPool1D(4, input_shape=(int(7200/under_sample),63) ))\n",
        "model.add(keras.layers.Conv1D(filters=30, kernel_size=4, activation=active, kernel_initializer=\"he_normal\"))\n",
        "model.add(keras.layers.Dropout(0.3))\n",
        "model.add(keras.layers.Conv1D(filters=30, kernel_size=4, activation=active, kernel_initializer=\"he_normal\"))\n",
        "model.add(keras.layers.AvgPool1D(pool_size=2))\n",
        "\n",
        "model.add(keras.layers.BatchNormalization())\n",
        "model.add(keras.layers.Conv1D(filters=20, kernel_size=3, activation=active, kernel_initializer=\"he_normal\"))\n",
        "model.add(keras.layers.Dropout(0.3))\n",
        "model.add(keras.layers.BatchNormalization())\n",
        "model.add(keras.layers.Conv1D(filters=10, kernel_size=3, activation=active, kernel_initializer=\"he_normal\"))\n",
        "model.add(keras.layers.MaxPool1D(pool_size=2))\n",
        "\n",
        "model.add(keras.layers.BatchNormalization())\n",
        "model.add(keras.layers.Conv1D(filters=7, kernel_size=2, activation=active, kernel_initializer=\"he_normal\"))\n",
        "model.add(keras.layers.Dropout(0.3))\n",
        "model.add(keras.layers.BatchNormalization())\n",
        "model.add(keras.layers.Conv1D(filters=3, kernel_size=2, activation=active, kernel_initializer=\"he_normal\"))\n",
        "model.add(keras.layers.MaxPool1D(pool_size=2))\n",
        "\n",
        "model.add(keras.layers.BatchNormalization())\n",
        "model.add(keras.layers.Dropout(0.5))\n",
        "model.add(keras.layers.MaxPooling1D(pool_size=4))\n",
        "model.add(keras.layers.Flatten())\n",
        "\n",
        "model.add(keras.layers.BatchNormalization())\n",
        "model.add(keras.layers.Dense(30, activation=active, kernel_initializer=\"he_normal\"))\n",
        "model.add(keras.layers.Dense(10, activation = active, kernel_initializer=\"he_normal\"))\n",
        "model.add(keras.layers.BatchNormalization())\n",
        "\n",
        "model.add(keras.layers.Dense(4, activation='softmax', kernel_initializer=\"he_normal\"))\n",
        "\n",
        "#Lower Fluctiotion in val_loss\n"
      ],
      "execution_count": 0,
      "outputs": []
    },
    {
      "cell_type": "code",
      "metadata": {
        "id": "QGplk2AfPvRv",
        "colab_type": "code",
        "colab": {
          "base_uri": "https://localhost:8080/",
          "height": 1000
        },
        "outputId": "428dce76-a79a-4b6d-ed4c-c0022d8950f9"
      },
      "source": [
        "model.summary()"
      ],
      "execution_count": 12,
      "outputs": [
        {
          "output_type": "stream",
          "text": [
            "Model: \"sequential_1\"\n",
            "_________________________________________________________________\n",
            "Layer (type)                 Output Shape              Param #   \n",
            "=================================================================\n",
            "average_pooling1d_2 (Average (None, 1800, 63)          0         \n",
            "_________________________________________________________________\n",
            "conv1d_6 (Conv1D)            (None, 1797, 30)          7590      \n",
            "_________________________________________________________________\n",
            "dropout_4 (Dropout)          (None, 1797, 30)          0         \n",
            "_________________________________________________________________\n",
            "conv1d_7 (Conv1D)            (None, 1794, 30)          3630      \n",
            "_________________________________________________________________\n",
            "average_pooling1d_3 (Average (None, 897, 30)           0         \n",
            "_________________________________________________________________\n",
            "batch_normalization_7 (Batch (None, 897, 30)           120       \n",
            "_________________________________________________________________\n",
            "conv1d_8 (Conv1D)            (None, 895, 20)           1820      \n",
            "_________________________________________________________________\n",
            "dropout_5 (Dropout)          (None, 895, 20)           0         \n",
            "_________________________________________________________________\n",
            "batch_normalization_8 (Batch (None, 895, 20)           80        \n",
            "_________________________________________________________________\n",
            "conv1d_9 (Conv1D)            (None, 893, 10)           610       \n",
            "_________________________________________________________________\n",
            "max_pooling1d_3 (MaxPooling1 (None, 446, 10)           0         \n",
            "_________________________________________________________________\n",
            "batch_normalization_9 (Batch (None, 446, 10)           40        \n",
            "_________________________________________________________________\n",
            "conv1d_10 (Conv1D)           (None, 445, 7)            147       \n",
            "_________________________________________________________________\n",
            "dropout_6 (Dropout)          (None, 445, 7)            0         \n",
            "_________________________________________________________________\n",
            "batch_normalization_10 (Batc (None, 445, 7)            28        \n",
            "_________________________________________________________________\n",
            "conv1d_11 (Conv1D)           (None, 444, 3)            45        \n",
            "_________________________________________________________________\n",
            "max_pooling1d_4 (MaxPooling1 (None, 222, 3)            0         \n",
            "_________________________________________________________________\n",
            "batch_normalization_11 (Batc (None, 222, 3)            12        \n",
            "_________________________________________________________________\n",
            "dropout_7 (Dropout)          (None, 222, 3)            0         \n",
            "_________________________________________________________________\n",
            "max_pooling1d_5 (MaxPooling1 (None, 55, 3)             0         \n",
            "_________________________________________________________________\n",
            "flatten_1 (Flatten)          (None, 165)               0         \n",
            "_________________________________________________________________\n",
            "batch_normalization_12 (Batc (None, 165)               660       \n",
            "_________________________________________________________________\n",
            "dense_3 (Dense)              (None, 30)                4980      \n",
            "_________________________________________________________________\n",
            "dense_4 (Dense)              (None, 10)                310       \n",
            "_________________________________________________________________\n",
            "batch_normalization_13 (Batc (None, 10)                40        \n",
            "_________________________________________________________________\n",
            "dense_5 (Dense)              (None, 4)                 44        \n",
            "=================================================================\n",
            "Total params: 20,156\n",
            "Trainable params: 19,666\n",
            "Non-trainable params: 490\n",
            "_________________________________________________________________\n"
          ],
          "name": "stdout"
        }
      ]
    },
    {
      "cell_type": "code",
      "metadata": {
        "id": "3w5aR9NzJqz1",
        "colab_type": "code",
        "colab": {}
      },
      "source": [
        "\n",
        "model.compile(optimizer='adam', \n",
        "              metrics= ['accuracy'],\n",
        "              loss= 'sparse_categorical_crossentropy')"
      ],
      "execution_count": 0,
      "outputs": []
    },
    {
      "cell_type": "code",
      "metadata": {
        "id": "1oIbqcObJs1o",
        "colab_type": "code",
        "colab": {
          "base_uri": "https://localhost:8080/",
          "height": 1000
        },
        "outputId": "872b78cd-ab9f-4dfa-d72f-7745a60efbe2"
      },
      "source": [
        "his = model.fit(x_train, y_train-1, epochs=500, batch_size=5, validation_data=(x_test, y_test-1))"
      ],
      "execution_count": 62,
      "outputs": [
        {
          "output_type": "stream",
          "text": [
            "Epoch 1/500\n",
            "270/270 [==============================] - 3s 11ms/step - loss: 1.0592 - accuracy: 0.5148 - val_loss: 1.2987 - val_accuracy: 0.3533\n",
            "Epoch 2/500\n",
            "270/270 [==============================] - 3s 10ms/step - loss: 1.0755 - accuracy: 0.5252 - val_loss: 1.2967 - val_accuracy: 0.3467\n",
            "Epoch 3/500\n",
            "270/270 [==============================] - 3s 11ms/step - loss: 1.0506 - accuracy: 0.5459 - val_loss: 1.3353 - val_accuracy: 0.3400\n",
            "Epoch 4/500\n",
            "270/270 [==============================] - 3s 11ms/step - loss: 1.0552 - accuracy: 0.5267 - val_loss: 1.2543 - val_accuracy: 0.4067\n",
            "Epoch 5/500\n",
            "270/270 [==============================] - 3s 11ms/step - loss: 1.0360 - accuracy: 0.5481 - val_loss: 1.3322 - val_accuracy: 0.3600\n",
            "Epoch 6/500\n",
            "270/270 [==============================] - 3s 11ms/step - loss: 1.0371 - accuracy: 0.5385 - val_loss: 1.2896 - val_accuracy: 0.3800\n",
            "Epoch 7/500\n",
            "270/270 [==============================] - 3s 11ms/step - loss: 1.0481 - accuracy: 0.5296 - val_loss: 1.2587 - val_accuracy: 0.4133\n",
            "Epoch 8/500\n",
            "270/270 [==============================] - 3s 11ms/step - loss: 1.0540 - accuracy: 0.5222 - val_loss: 1.3497 - val_accuracy: 0.3600\n",
            "Epoch 9/500\n",
            "270/270 [==============================] - 3s 10ms/step - loss: 1.0606 - accuracy: 0.5259 - val_loss: 1.3369 - val_accuracy: 0.3600\n",
            "Epoch 10/500\n",
            "270/270 [==============================] - 3s 11ms/step - loss: 1.0507 - accuracy: 0.5267 - val_loss: 1.2979 - val_accuracy: 0.3600\n",
            "Epoch 11/500\n",
            "270/270 [==============================] - 3s 10ms/step - loss: 1.0352 - accuracy: 0.5422 - val_loss: 1.2315 - val_accuracy: 0.4067\n",
            "Epoch 12/500\n",
            "270/270 [==============================] - 3s 10ms/step - loss: 1.0346 - accuracy: 0.5496 - val_loss: 1.2817 - val_accuracy: 0.3733\n",
            "Epoch 13/500\n",
            "270/270 [==============================] - 3s 11ms/step - loss: 1.0322 - accuracy: 0.5459 - val_loss: 1.2495 - val_accuracy: 0.3733\n",
            "Epoch 14/500\n",
            "270/270 [==============================] - 3s 11ms/step - loss: 1.0298 - accuracy: 0.5467 - val_loss: 1.2706 - val_accuracy: 0.3933\n",
            "Epoch 15/500\n",
            "270/270 [==============================] - 3s 11ms/step - loss: 1.0146 - accuracy: 0.5570 - val_loss: 1.3171 - val_accuracy: 0.3467\n",
            "Epoch 16/500\n",
            "270/270 [==============================] - 3s 11ms/step - loss: 1.0547 - accuracy: 0.5244 - val_loss: 1.2626 - val_accuracy: 0.4067\n",
            "Epoch 17/500\n",
            "270/270 [==============================] - 3s 11ms/step - loss: 1.0367 - accuracy: 0.5459 - val_loss: 1.3287 - val_accuracy: 0.3067\n",
            "Epoch 18/500\n",
            "270/270 [==============================] - 3s 11ms/step - loss: 1.0414 - accuracy: 0.5230 - val_loss: 1.2848 - val_accuracy: 0.3533\n",
            "Epoch 19/500\n",
            "270/270 [==============================] - 3s 11ms/step - loss: 1.0334 - accuracy: 0.5422 - val_loss: 1.3346 - val_accuracy: 0.3333\n",
            "Epoch 20/500\n",
            "270/270 [==============================] - 3s 11ms/step - loss: 1.0296 - accuracy: 0.5393 - val_loss: 1.3497 - val_accuracy: 0.3867\n",
            "Epoch 21/500\n",
            "270/270 [==============================] - 3s 11ms/step - loss: 1.0409 - accuracy: 0.5615 - val_loss: 1.3219 - val_accuracy: 0.3800\n",
            "Epoch 22/500\n",
            "270/270 [==============================] - 3s 10ms/step - loss: 1.0435 - accuracy: 0.5467 - val_loss: 1.3634 - val_accuracy: 0.3133\n",
            "Epoch 23/500\n",
            "270/270 [==============================] - 3s 11ms/step - loss: 1.0254 - accuracy: 0.5563 - val_loss: 1.4101 - val_accuracy: 0.3200\n",
            "Epoch 24/500\n",
            "270/270 [==============================] - 3s 11ms/step - loss: 1.0199 - accuracy: 0.5659 - val_loss: 1.2942 - val_accuracy: 0.3867\n",
            "Epoch 25/500\n",
            "270/270 [==============================] - 3s 11ms/step - loss: 1.0325 - accuracy: 0.5511 - val_loss: 1.2951 - val_accuracy: 0.4133\n",
            "Epoch 26/500\n",
            "270/270 [==============================] - 3s 11ms/step - loss: 1.0038 - accuracy: 0.5726 - val_loss: 1.3525 - val_accuracy: 0.3533\n",
            "Epoch 27/500\n",
            "270/270 [==============================] - 3s 11ms/step - loss: 1.0023 - accuracy: 0.5667 - val_loss: 1.5256 - val_accuracy: 0.2933\n",
            "Epoch 28/500\n",
            "270/270 [==============================] - 3s 11ms/step - loss: 1.0039 - accuracy: 0.5548 - val_loss: 1.4107 - val_accuracy: 0.3000\n",
            "Epoch 29/500\n",
            "270/270 [==============================] - 3s 10ms/step - loss: 1.0128 - accuracy: 0.5644 - val_loss: 1.3107 - val_accuracy: 0.3800\n",
            "Epoch 30/500\n",
            "270/270 [==============================] - 3s 11ms/step - loss: 0.9742 - accuracy: 0.5726 - val_loss: 1.3315 - val_accuracy: 0.3800\n",
            "Epoch 31/500\n",
            "270/270 [==============================] - 3s 11ms/step - loss: 1.0265 - accuracy: 0.5548 - val_loss: 1.3646 - val_accuracy: 0.3067\n",
            "Epoch 32/500\n",
            "270/270 [==============================] - 3s 10ms/step - loss: 0.9948 - accuracy: 0.5563 - val_loss: 1.5069 - val_accuracy: 0.2933\n",
            "Epoch 33/500\n",
            "270/270 [==============================] - 3s 11ms/step - loss: 0.9786 - accuracy: 0.5852 - val_loss: 1.3325 - val_accuracy: 0.3667\n",
            "Epoch 34/500\n",
            "270/270 [==============================] - 3s 11ms/step - loss: 1.0164 - accuracy: 0.5481 - val_loss: 1.3014 - val_accuracy: 0.3667\n",
            "Epoch 35/500\n",
            "270/270 [==============================] - 3s 11ms/step - loss: 0.9818 - accuracy: 0.5756 - val_loss: 1.4212 - val_accuracy: 0.3200\n",
            "Epoch 36/500\n",
            "270/270 [==============================] - 3s 11ms/step - loss: 1.0039 - accuracy: 0.5726 - val_loss: 1.3536 - val_accuracy: 0.3467\n",
            "Epoch 37/500\n",
            "270/270 [==============================] - 3s 11ms/step - loss: 0.9848 - accuracy: 0.5733 - val_loss: 1.3656 - val_accuracy: 0.3667\n",
            "Epoch 38/500\n",
            "270/270 [==============================] - 3s 11ms/step - loss: 0.9771 - accuracy: 0.5881 - val_loss: 1.7291 - val_accuracy: 0.3200\n",
            "Epoch 39/500\n",
            "270/270 [==============================] - 3s 11ms/step - loss: 0.9752 - accuracy: 0.5763 - val_loss: 1.3245 - val_accuracy: 0.3733\n",
            "Epoch 40/500\n",
            "270/270 [==============================] - 3s 11ms/step - loss: 1.0201 - accuracy: 0.5548 - val_loss: 1.4352 - val_accuracy: 0.3267\n",
            "Epoch 41/500\n",
            "270/270 [==============================] - 3s 11ms/step - loss: 0.9884 - accuracy: 0.5793 - val_loss: 1.3298 - val_accuracy: 0.3733\n",
            "Epoch 42/500\n",
            "270/270 [==============================] - 3s 11ms/step - loss: 1.0095 - accuracy: 0.5748 - val_loss: 1.4433 - val_accuracy: 0.3333\n",
            "Epoch 43/500\n",
            "270/270 [==============================] - 3s 11ms/step - loss: 1.0072 - accuracy: 0.5622 - val_loss: 1.4098 - val_accuracy: 0.3467\n",
            "Epoch 44/500\n",
            "270/270 [==============================] - 3s 11ms/step - loss: 0.9769 - accuracy: 0.5941 - val_loss: 1.4112 - val_accuracy: 0.3333\n",
            "Epoch 45/500\n",
            "270/270 [==============================] - 3s 11ms/step - loss: 0.9997 - accuracy: 0.5830 - val_loss: 1.3705 - val_accuracy: 0.3800\n",
            "Epoch 46/500\n",
            "270/270 [==============================] - 3s 11ms/step - loss: 1.0176 - accuracy: 0.5578 - val_loss: 1.4081 - val_accuracy: 0.3467\n",
            "Epoch 47/500\n",
            "270/270 [==============================] - 3s 11ms/step - loss: 0.9904 - accuracy: 0.5785 - val_loss: 1.5090 - val_accuracy: 0.3267\n",
            "Epoch 48/500\n",
            "270/270 [==============================] - 3s 10ms/step - loss: 0.9817 - accuracy: 0.5696 - val_loss: 1.3468 - val_accuracy: 0.3600\n",
            "Epoch 49/500\n",
            "270/270 [==============================] - 3s 11ms/step - loss: 0.9920 - accuracy: 0.5585 - val_loss: 1.4874 - val_accuracy: 0.3000\n",
            "Epoch 50/500\n",
            "270/270 [==============================] - 3s 11ms/step - loss: 0.9767 - accuracy: 0.5756 - val_loss: 1.3387 - val_accuracy: 0.3800\n",
            "Epoch 51/500\n",
            "270/270 [==============================] - 3s 11ms/step - loss: 1.0026 - accuracy: 0.5659 - val_loss: 1.3353 - val_accuracy: 0.3533\n",
            "Epoch 52/500\n",
            "270/270 [==============================] - 3s 11ms/step - loss: 0.9958 - accuracy: 0.5607 - val_loss: 1.4153 - val_accuracy: 0.3467\n",
            "Epoch 53/500\n",
            "270/270 [==============================] - 3s 11ms/step - loss: 0.9798 - accuracy: 0.5622 - val_loss: 1.4599 - val_accuracy: 0.3267\n",
            "Epoch 54/500\n",
            "270/270 [==============================] - 3s 11ms/step - loss: 0.9391 - accuracy: 0.5985 - val_loss: 1.3242 - val_accuracy: 0.3667\n",
            "Epoch 55/500\n",
            "270/270 [==============================] - 3s 11ms/step - loss: 0.9864 - accuracy: 0.5919 - val_loss: 1.3643 - val_accuracy: 0.3267\n",
            "Epoch 56/500\n",
            "270/270 [==============================] - 3s 10ms/step - loss: 0.9724 - accuracy: 0.5748 - val_loss: 1.3626 - val_accuracy: 0.3600\n",
            "Epoch 57/500\n",
            "270/270 [==============================] - 3s 11ms/step - loss: 0.9548 - accuracy: 0.5978 - val_loss: 1.3574 - val_accuracy: 0.3200\n",
            "Epoch 58/500\n",
            "270/270 [==============================] - 3s 11ms/step - loss: 0.9839 - accuracy: 0.5896 - val_loss: 1.3702 - val_accuracy: 0.3067\n",
            "Epoch 59/500\n",
            "270/270 [==============================] - 3s 12ms/step - loss: 0.9694 - accuracy: 0.5822 - val_loss: 1.4343 - val_accuracy: 0.2867\n",
            "Epoch 60/500\n",
            "270/270 [==============================] - 3s 11ms/step - loss: 0.9596 - accuracy: 0.5889 - val_loss: 1.3373 - val_accuracy: 0.3400\n",
            "Epoch 61/500\n",
            "270/270 [==============================] - 3s 11ms/step - loss: 0.9828 - accuracy: 0.5733 - val_loss: 1.3849 - val_accuracy: 0.3267\n",
            "Epoch 62/500\n",
            "270/270 [==============================] - 3s 11ms/step - loss: 0.9722 - accuracy: 0.5904 - val_loss: 1.5949 - val_accuracy: 0.2800\n",
            "Epoch 63/500\n",
            "270/270 [==============================] - 3s 11ms/step - loss: 1.0003 - accuracy: 0.5674 - val_loss: 1.4799 - val_accuracy: 0.3000\n",
            "Epoch 64/500\n",
            "270/270 [==============================] - 3s 11ms/step - loss: 0.9470 - accuracy: 0.6059 - val_loss: 1.3709 - val_accuracy: 0.3333\n",
            "Epoch 65/500\n",
            "270/270 [==============================] - 3s 10ms/step - loss: 0.9838 - accuracy: 0.5748 - val_loss: 1.4129 - val_accuracy: 0.3200\n",
            "Epoch 66/500\n",
            "270/270 [==============================] - 3s 11ms/step - loss: 0.9325 - accuracy: 0.6074 - val_loss: 1.3573 - val_accuracy: 0.3533\n",
            "Epoch 67/500\n",
            "270/270 [==============================] - 3s 11ms/step - loss: 0.9645 - accuracy: 0.6059 - val_loss: 1.6534 - val_accuracy: 0.3133\n",
            "Epoch 68/500\n",
            "270/270 [==============================] - 3s 11ms/step - loss: 0.9757 - accuracy: 0.5911 - val_loss: 1.4533 - val_accuracy: 0.3067\n",
            "Epoch 69/500\n",
            "270/270 [==============================] - 3s 11ms/step - loss: 0.9813 - accuracy: 0.5770 - val_loss: 1.7605 - val_accuracy: 0.3000\n",
            "Epoch 70/500\n",
            "270/270 [==============================] - 3s 11ms/step - loss: 0.9996 - accuracy: 0.5585 - val_loss: 1.8915 - val_accuracy: 0.2867\n",
            "Epoch 71/500\n",
            "270/270 [==============================] - 3s 11ms/step - loss: 0.9590 - accuracy: 0.6015 - val_loss: 1.7501 - val_accuracy: 0.2800\n",
            "Epoch 72/500\n",
            "270/270 [==============================] - 3s 10ms/step - loss: 0.9711 - accuracy: 0.5830 - val_loss: 1.3638 - val_accuracy: 0.3200\n",
            "Epoch 73/500\n",
            "270/270 [==============================] - 3s 11ms/step - loss: 0.9540 - accuracy: 0.5978 - val_loss: 1.3643 - val_accuracy: 0.3667\n",
            "Epoch 74/500\n",
            "270/270 [==============================] - 3s 11ms/step - loss: 0.9681 - accuracy: 0.5956 - val_loss: 1.4396 - val_accuracy: 0.3000\n",
            "Epoch 75/500\n",
            "270/270 [==============================] - 3s 11ms/step - loss: 0.9720 - accuracy: 0.5585 - val_loss: 1.7184 - val_accuracy: 0.2933\n",
            "Epoch 76/500\n",
            "270/270 [==============================] - 3s 10ms/step - loss: 0.9250 - accuracy: 0.6081 - val_loss: 2.1570 - val_accuracy: 0.2533\n",
            "Epoch 77/500\n",
            "270/270 [==============================] - 3s 11ms/step - loss: 0.9277 - accuracy: 0.6148 - val_loss: 1.6807 - val_accuracy: 0.2933\n",
            "Epoch 78/500\n",
            "270/270 [==============================] - 3s 11ms/step - loss: 0.9254 - accuracy: 0.6074 - val_loss: 1.8204 - val_accuracy: 0.2933\n",
            "Epoch 79/500\n",
            "270/270 [==============================] - 3s 11ms/step - loss: 0.9317 - accuracy: 0.6148 - val_loss: 1.4638 - val_accuracy: 0.3000\n",
            "Epoch 80/500\n",
            "270/270 [==============================] - 3s 11ms/step - loss: 0.9569 - accuracy: 0.5874 - val_loss: 1.9459 - val_accuracy: 0.2733\n",
            "Epoch 81/500\n",
            "270/270 [==============================] - 3s 11ms/step - loss: 0.9427 - accuracy: 0.5963 - val_loss: 1.3569 - val_accuracy: 0.3400\n",
            "Epoch 82/500\n",
            "270/270 [==============================] - 3s 11ms/step - loss: 0.9228 - accuracy: 0.6044 - val_loss: 1.5617 - val_accuracy: 0.2933\n",
            "Epoch 83/500\n",
            "270/270 [==============================] - 3s 10ms/step - loss: 0.9269 - accuracy: 0.6156 - val_loss: 1.3726 - val_accuracy: 0.3400\n",
            "Epoch 84/500\n",
            "270/270 [==============================] - 3s 10ms/step - loss: 0.9565 - accuracy: 0.5911 - val_loss: 1.3560 - val_accuracy: 0.3133\n",
            "Epoch 85/500\n",
            "270/270 [==============================] - 3s 11ms/step - loss: 0.9322 - accuracy: 0.6156 - val_loss: 1.6194 - val_accuracy: 0.2867\n",
            "Epoch 86/500\n",
            "270/270 [==============================] - 3s 11ms/step - loss: 0.9489 - accuracy: 0.6133 - val_loss: 1.3538 - val_accuracy: 0.3200\n",
            "Epoch 87/500\n",
            "270/270 [==============================] - 3s 11ms/step - loss: 0.9761 - accuracy: 0.5889 - val_loss: 1.5404 - val_accuracy: 0.3000\n",
            "Epoch 88/500\n",
            "270/270 [==============================] - 3s 11ms/step - loss: 0.9353 - accuracy: 0.6015 - val_loss: 1.4279 - val_accuracy: 0.3133\n",
            "Epoch 89/500\n",
            "270/270 [==============================] - 3s 11ms/step - loss: 0.9114 - accuracy: 0.6126 - val_loss: 1.3519 - val_accuracy: 0.3400\n",
            "Epoch 90/500\n",
            "270/270 [==============================] - 3s 11ms/step - loss: 0.9560 - accuracy: 0.5933 - val_loss: 1.3577 - val_accuracy: 0.3533\n",
            "Epoch 91/500\n",
            "270/270 [==============================] - 3s 11ms/step - loss: 0.9555 - accuracy: 0.6037 - val_loss: 1.4367 - val_accuracy: 0.2867\n",
            "Epoch 92/500\n",
            "270/270 [==============================] - 3s 11ms/step - loss: 0.9521 - accuracy: 0.6000 - val_loss: 2.0855 - val_accuracy: 0.2667\n",
            "Epoch 93/500\n",
            "270/270 [==============================] - 3s 11ms/step - loss: 0.9378 - accuracy: 0.5911 - val_loss: 1.4148 - val_accuracy: 0.3067\n",
            "Epoch 94/500\n",
            "270/270 [==============================] - 3s 11ms/step - loss: 0.9475 - accuracy: 0.6237 - val_loss: 1.5879 - val_accuracy: 0.3133\n",
            "Epoch 95/500\n",
            "270/270 [==============================] - 3s 11ms/step - loss: 0.9490 - accuracy: 0.6007 - val_loss: 1.5110 - val_accuracy: 0.3133\n",
            "Epoch 96/500\n",
            "270/270 [==============================] - 3s 11ms/step - loss: 0.9509 - accuracy: 0.6030 - val_loss: 1.7594 - val_accuracy: 0.2667\n",
            "Epoch 97/500\n",
            "270/270 [==============================] - 3s 11ms/step - loss: 0.9527 - accuracy: 0.5956 - val_loss: 1.4560 - val_accuracy: 0.3000\n",
            "Epoch 98/500\n",
            "270/270 [==============================] - 3s 11ms/step - loss: 0.9509 - accuracy: 0.6037 - val_loss: 1.5034 - val_accuracy: 0.2933\n",
            "Epoch 99/500\n",
            "270/270 [==============================] - 3s 11ms/step - loss: 0.9237 - accuracy: 0.6119 - val_loss: 1.6300 - val_accuracy: 0.2933\n",
            "Epoch 100/500\n",
            "270/270 [==============================] - 3s 11ms/step - loss: 0.9276 - accuracy: 0.6037 - val_loss: 1.3619 - val_accuracy: 0.3267\n",
            "Epoch 101/500\n",
            "270/270 [==============================] - 3s 11ms/step - loss: 0.9238 - accuracy: 0.6015 - val_loss: 1.3657 - val_accuracy: 0.3267\n",
            "Epoch 102/500\n",
            "270/270 [==============================] - 3s 11ms/step - loss: 0.9325 - accuracy: 0.6163 - val_loss: 2.1673 - val_accuracy: 0.2600\n",
            "Epoch 103/500\n",
            "270/270 [==============================] - 3s 10ms/step - loss: 0.9214 - accuracy: 0.6148 - val_loss: 1.7332 - val_accuracy: 0.2933\n",
            "Epoch 104/500\n",
            "270/270 [==============================] - 3s 10ms/step - loss: 0.9284 - accuracy: 0.6089 - val_loss: 1.6510 - val_accuracy: 0.3000\n",
            "Epoch 105/500\n",
            "270/270 [==============================] - 3s 10ms/step - loss: 0.9044 - accuracy: 0.6111 - val_loss: 1.5066 - val_accuracy: 0.2933\n",
            "Epoch 106/500\n",
            "270/270 [==============================] - 3s 11ms/step - loss: 0.9381 - accuracy: 0.6089 - val_loss: 1.4641 - val_accuracy: 0.3200\n",
            "Epoch 107/500\n",
            "270/270 [==============================] - 3s 10ms/step - loss: 0.8962 - accuracy: 0.6422 - val_loss: 2.0457 - val_accuracy: 0.2600\n",
            "Epoch 108/500\n",
            "270/270 [==============================] - 3s 11ms/step - loss: 0.8930 - accuracy: 0.6274 - val_loss: 1.9645 - val_accuracy: 0.2600\n",
            "Epoch 109/500\n",
            "270/270 [==============================] - 3s 12ms/step - loss: 0.8788 - accuracy: 0.6341 - val_loss: 1.9387 - val_accuracy: 0.2533\n",
            "Epoch 110/500\n",
            "270/270 [==============================] - 3s 11ms/step - loss: 0.9284 - accuracy: 0.6178 - val_loss: 1.8479 - val_accuracy: 0.2800\n",
            "Epoch 111/500\n",
            "270/270 [==============================] - 3s 11ms/step - loss: 0.9164 - accuracy: 0.6193 - val_loss: 2.0993 - val_accuracy: 0.2467\n",
            "Epoch 112/500\n",
            "270/270 [==============================] - 3s 10ms/step - loss: 0.9159 - accuracy: 0.6141 - val_loss: 1.4578 - val_accuracy: 0.3000\n",
            "Epoch 113/500\n",
            "270/270 [==============================] - 3s 11ms/step - loss: 0.9457 - accuracy: 0.5919 - val_loss: 1.7929 - val_accuracy: 0.2400\n",
            "Epoch 114/500\n",
            "270/270 [==============================] - 3s 10ms/step - loss: 0.8787 - accuracy: 0.6370 - val_loss: 1.5977 - val_accuracy: 0.2933\n",
            "Epoch 115/500\n",
            "270/270 [==============================] - 3s 11ms/step - loss: 0.9557 - accuracy: 0.6000 - val_loss: 1.5867 - val_accuracy: 0.3067\n",
            "Epoch 116/500\n",
            "270/270 [==============================] - 3s 11ms/step - loss: 0.8846 - accuracy: 0.6281 - val_loss: 1.4256 - val_accuracy: 0.3267\n",
            "Epoch 117/500\n",
            "270/270 [==============================] - 3s 10ms/step - loss: 0.8791 - accuracy: 0.6385 - val_loss: 1.4790 - val_accuracy: 0.2933\n",
            "Epoch 118/500\n",
            "270/270 [==============================] - 3s 11ms/step - loss: 0.8848 - accuracy: 0.6178 - val_loss: 1.4213 - val_accuracy: 0.3000\n",
            "Epoch 119/500\n",
            "270/270 [==============================] - 3s 11ms/step - loss: 0.8646 - accuracy: 0.6281 - val_loss: 2.1475 - val_accuracy: 0.2733\n",
            "Epoch 120/500\n",
            "270/270 [==============================] - 3s 11ms/step - loss: 0.9475 - accuracy: 0.5874 - val_loss: 1.4282 - val_accuracy: 0.3400\n",
            "Epoch 121/500\n",
            "270/270 [==============================] - 3s 11ms/step - loss: 0.9324 - accuracy: 0.6052 - val_loss: 1.4129 - val_accuracy: 0.3200\n",
            "Epoch 122/500\n",
            "270/270 [==============================] - 3s 11ms/step - loss: 0.9133 - accuracy: 0.6200 - val_loss: 2.4080 - val_accuracy: 0.2467\n",
            "Epoch 123/500\n",
            "270/270 [==============================] - 3s 11ms/step - loss: 0.8996 - accuracy: 0.6259 - val_loss: 1.4776 - val_accuracy: 0.2667\n",
            "Epoch 124/500\n",
            "270/270 [==============================] - 3s 10ms/step - loss: 0.9146 - accuracy: 0.6274 - val_loss: 1.4663 - val_accuracy: 0.3200\n",
            "Epoch 125/500\n",
            "270/270 [==============================] - 3s 11ms/step - loss: 0.9193 - accuracy: 0.6081 - val_loss: 1.6187 - val_accuracy: 0.3067\n",
            "Epoch 126/500\n",
            "270/270 [==============================] - 3s 11ms/step - loss: 0.9090 - accuracy: 0.6141 - val_loss: 1.4880 - val_accuracy: 0.3400\n",
            "Epoch 127/500\n",
            "270/270 [==============================] - 3s 10ms/step - loss: 0.9095 - accuracy: 0.6089 - val_loss: 2.7725 - val_accuracy: 0.2333\n",
            "Epoch 128/500\n",
            "270/270 [==============================] - 3s 11ms/step - loss: 0.9000 - accuracy: 0.6244 - val_loss: 1.6796 - val_accuracy: 0.2867\n",
            "Epoch 129/500\n",
            "270/270 [==============================] - 3s 11ms/step - loss: 0.9217 - accuracy: 0.6015 - val_loss: 1.4966 - val_accuracy: 0.3067\n",
            "Epoch 130/500\n",
            "270/270 [==============================] - 3s 10ms/step - loss: 0.8823 - accuracy: 0.6193 - val_loss: 1.4328 - val_accuracy: 0.3267\n",
            "Epoch 131/500\n",
            "270/270 [==============================] - 3s 10ms/step - loss: 0.8916 - accuracy: 0.6326 - val_loss: 1.6929 - val_accuracy: 0.2867\n",
            "Epoch 132/500\n",
            "270/270 [==============================] - 3s 11ms/step - loss: 0.8974 - accuracy: 0.6222 - val_loss: 1.4877 - val_accuracy: 0.3200\n",
            "Epoch 133/500\n",
            "270/270 [==============================] - 3s 11ms/step - loss: 0.8693 - accuracy: 0.6378 - val_loss: 1.9058 - val_accuracy: 0.3000\n",
            "Epoch 134/500\n",
            "270/270 [==============================] - 3s 11ms/step - loss: 0.8838 - accuracy: 0.6222 - val_loss: 1.8728 - val_accuracy: 0.2600\n",
            "Epoch 135/500\n",
            "270/270 [==============================] - 3s 11ms/step - loss: 0.9216 - accuracy: 0.6356 - val_loss: 1.9753 - val_accuracy: 0.2667\n",
            "Epoch 136/500\n",
            "270/270 [==============================] - 3s 11ms/step - loss: 0.8788 - accuracy: 0.6393 - val_loss: 1.7294 - val_accuracy: 0.3000\n",
            "Epoch 137/500\n",
            "270/270 [==============================] - 3s 10ms/step - loss: 0.8965 - accuracy: 0.6319 - val_loss: 1.8305 - val_accuracy: 0.3000\n",
            "Epoch 138/500\n",
            "270/270 [==============================] - 3s 10ms/step - loss: 0.9000 - accuracy: 0.6319 - val_loss: 1.6115 - val_accuracy: 0.3133\n",
            "Epoch 139/500\n",
            "270/270 [==============================] - 3s 11ms/step - loss: 0.9088 - accuracy: 0.6274 - val_loss: 1.4536 - val_accuracy: 0.3333\n",
            "Epoch 140/500\n",
            "270/270 [==============================] - 3s 11ms/step - loss: 0.8707 - accuracy: 0.6259 - val_loss: 1.4430 - val_accuracy: 0.3667\n",
            "Epoch 141/500\n",
            "270/270 [==============================] - 3s 11ms/step - loss: 0.8876 - accuracy: 0.6267 - val_loss: 1.5487 - val_accuracy: 0.2867\n",
            "Epoch 142/500\n",
            "270/270 [==============================] - 3s 10ms/step - loss: 0.9017 - accuracy: 0.6178 - val_loss: 1.8233 - val_accuracy: 0.2667\n",
            "Epoch 143/500\n",
            "270/270 [==============================] - 3s 10ms/step - loss: 0.8804 - accuracy: 0.6274 - val_loss: 1.5189 - val_accuracy: 0.3133\n",
            "Epoch 144/500\n",
            "270/270 [==============================] - 3s 11ms/step - loss: 0.8491 - accuracy: 0.6711 - val_loss: 1.7522 - val_accuracy: 0.3000\n",
            "Epoch 145/500\n",
            "270/270 [==============================] - 3s 11ms/step - loss: 0.9204 - accuracy: 0.6111 - val_loss: 1.5449 - val_accuracy: 0.3333\n",
            "Epoch 146/500\n",
            "270/270 [==============================] - 3s 10ms/step - loss: 0.8739 - accuracy: 0.6393 - val_loss: 1.6164 - val_accuracy: 0.3000\n",
            "Epoch 147/500\n",
            "270/270 [==============================] - 3s 10ms/step - loss: 0.9037 - accuracy: 0.6156 - val_loss: 1.4561 - val_accuracy: 0.3600\n",
            "Epoch 148/500\n",
            "270/270 [==============================] - 3s 11ms/step - loss: 0.8758 - accuracy: 0.6244 - val_loss: 1.9236 - val_accuracy: 0.2800\n",
            "Epoch 149/500\n",
            "270/270 [==============================] - 3s 11ms/step - loss: 0.8613 - accuracy: 0.6533 - val_loss: 1.4549 - val_accuracy: 0.3733\n",
            "Epoch 150/500\n",
            "270/270 [==============================] - 3s 11ms/step - loss: 0.8672 - accuracy: 0.6489 - val_loss: 1.5947 - val_accuracy: 0.2867\n",
            "Epoch 151/500\n",
            "270/270 [==============================] - 3s 11ms/step - loss: 0.8661 - accuracy: 0.6452 - val_loss: 1.5171 - val_accuracy: 0.3067\n",
            "Epoch 152/500\n",
            "270/270 [==============================] - 3s 11ms/step - loss: 0.8660 - accuracy: 0.6511 - val_loss: 1.5152 - val_accuracy: 0.3467\n",
            "Epoch 153/500\n",
            "270/270 [==============================] - 3s 11ms/step - loss: 0.8609 - accuracy: 0.6504 - val_loss: 1.5339 - val_accuracy: 0.3133\n",
            "Epoch 154/500\n",
            "270/270 [==============================] - 3s 11ms/step - loss: 0.8815 - accuracy: 0.6333 - val_loss: 1.4527 - val_accuracy: 0.3400\n",
            "Epoch 155/500\n",
            "270/270 [==============================] - 3s 11ms/step - loss: 0.8852 - accuracy: 0.6430 - val_loss: 2.1451 - val_accuracy: 0.2400\n",
            "Epoch 156/500\n",
            "270/270 [==============================] - 3s 11ms/step - loss: 0.8941 - accuracy: 0.6200 - val_loss: 1.4741 - val_accuracy: 0.3200\n",
            "Epoch 157/500\n",
            "270/270 [==============================] - 3s 11ms/step - loss: 0.8672 - accuracy: 0.6252 - val_loss: 1.7205 - val_accuracy: 0.2600\n",
            "Epoch 158/500\n",
            "270/270 [==============================] - 3s 11ms/step - loss: 0.8597 - accuracy: 0.6356 - val_loss: 2.2508 - val_accuracy: 0.2400\n",
            "Epoch 159/500\n",
            "270/270 [==============================] - 3s 11ms/step - loss: 0.8846 - accuracy: 0.6326 - val_loss: 1.6231 - val_accuracy: 0.3000\n",
            "Epoch 160/500\n",
            "270/270 [==============================] - 3s 11ms/step - loss: 0.8708 - accuracy: 0.6385 - val_loss: 1.8027 - val_accuracy: 0.2867\n",
            "Epoch 161/500\n",
            "270/270 [==============================] - 3s 11ms/step - loss: 0.8291 - accuracy: 0.6481 - val_loss: 1.5587 - val_accuracy: 0.3133\n",
            "Epoch 162/500\n",
            "270/270 [==============================] - 3s 11ms/step - loss: 0.8656 - accuracy: 0.6444 - val_loss: 1.5285 - val_accuracy: 0.2733\n",
            "Epoch 163/500\n",
            "270/270 [==============================] - 3s 11ms/step - loss: 0.8921 - accuracy: 0.6489 - val_loss: 1.9073 - val_accuracy: 0.2800\n",
            "Epoch 164/500\n",
            "270/270 [==============================] - 3s 11ms/step - loss: 0.8545 - accuracy: 0.6496 - val_loss: 1.5893 - val_accuracy: 0.3133\n",
            "Epoch 165/500\n",
            "270/270 [==============================] - 3s 12ms/step - loss: 0.8894 - accuracy: 0.6444 - val_loss: 1.7878 - val_accuracy: 0.3467\n",
            "Epoch 166/500\n",
            "270/270 [==============================] - 3s 11ms/step - loss: 0.8612 - accuracy: 0.6467 - val_loss: 1.8282 - val_accuracy: 0.3000\n",
            "Epoch 167/500\n",
            "270/270 [==============================] - 3s 11ms/step - loss: 0.8672 - accuracy: 0.6348 - val_loss: 1.4894 - val_accuracy: 0.3267\n",
            "Epoch 168/500\n",
            "270/270 [==============================] - 3s 11ms/step - loss: 0.8438 - accuracy: 0.6489 - val_loss: 1.5760 - val_accuracy: 0.2933\n",
            "Epoch 169/500\n",
            "270/270 [==============================] - 3s 10ms/step - loss: 0.8573 - accuracy: 0.6430 - val_loss: 1.6713 - val_accuracy: 0.3133\n",
            "Epoch 170/500\n",
            "270/270 [==============================] - 3s 11ms/step - loss: 0.8706 - accuracy: 0.6378 - val_loss: 2.3937 - val_accuracy: 0.2733\n",
            "Epoch 171/500\n",
            "270/270 [==============================] - 3s 11ms/step - loss: 0.8528 - accuracy: 0.6593 - val_loss: 1.6117 - val_accuracy: 0.3000\n",
            "Epoch 172/500\n",
            "270/270 [==============================] - 3s 11ms/step - loss: 0.8804 - accuracy: 0.6459 - val_loss: 1.4805 - val_accuracy: 0.3333\n",
            "Epoch 173/500\n",
            "270/270 [==============================] - 3s 11ms/step - loss: 0.8799 - accuracy: 0.6511 - val_loss: 1.5552 - val_accuracy: 0.3000\n",
            "Epoch 174/500\n",
            "270/270 [==============================] - 3s 11ms/step - loss: 0.8485 - accuracy: 0.6281 - val_loss: 1.6472 - val_accuracy: 0.3067\n",
            "Epoch 175/500\n",
            "270/270 [==============================] - 3s 11ms/step - loss: 0.8722 - accuracy: 0.6504 - val_loss: 1.6500 - val_accuracy: 0.3067\n",
            "Epoch 176/500\n",
            "270/270 [==============================] - 3s 10ms/step - loss: 0.9085 - accuracy: 0.6496 - val_loss: 1.9107 - val_accuracy: 0.2733\n",
            "Epoch 177/500\n",
            "270/270 [==============================] - 3s 11ms/step - loss: 0.8382 - accuracy: 0.6489 - val_loss: 1.5527 - val_accuracy: 0.2800\n",
            "Epoch 178/500\n",
            "270/270 [==============================] - 3s 10ms/step - loss: 0.8743 - accuracy: 0.6341 - val_loss: 1.4863 - val_accuracy: 0.3733\n",
            "Epoch 179/500\n",
            "270/270 [==============================] - 3s 11ms/step - loss: 0.8677 - accuracy: 0.6348 - val_loss: 1.7117 - val_accuracy: 0.2733\n",
            "Epoch 180/500\n",
            "270/270 [==============================] - 3s 11ms/step - loss: 0.8183 - accuracy: 0.6607 - val_loss: 1.6150 - val_accuracy: 0.2867\n",
            "Epoch 181/500\n",
            "270/270 [==============================] - 3s 10ms/step - loss: 0.8446 - accuracy: 0.6459 - val_loss: 1.6004 - val_accuracy: 0.3133\n",
            "Epoch 182/500\n",
            "270/270 [==============================] - 3s 11ms/step - loss: 0.8591 - accuracy: 0.6385 - val_loss: 1.8493 - val_accuracy: 0.2800\n",
            "Epoch 183/500\n",
            "270/270 [==============================] - 3s 10ms/step - loss: 0.8407 - accuracy: 0.6563 - val_loss: 1.4671 - val_accuracy: 0.3267\n",
            "Epoch 184/500\n",
            "270/270 [==============================] - 3s 11ms/step - loss: 0.8585 - accuracy: 0.6511 - val_loss: 1.7793 - val_accuracy: 0.2733\n",
            "Epoch 185/500\n",
            "270/270 [==============================] - 3s 10ms/step - loss: 0.8485 - accuracy: 0.6422 - val_loss: 1.8368 - val_accuracy: 0.2733\n",
            "Epoch 186/500\n",
            "270/270 [==============================] - 3s 11ms/step - loss: 0.8571 - accuracy: 0.6393 - val_loss: 1.5751 - val_accuracy: 0.3200\n",
            "Epoch 187/500\n",
            "270/270 [==============================] - 3s 10ms/step - loss: 0.8632 - accuracy: 0.6393 - val_loss: 1.7189 - val_accuracy: 0.2933\n",
            "Epoch 188/500\n",
            "270/270 [==============================] - 3s 10ms/step - loss: 0.8310 - accuracy: 0.6607 - val_loss: 1.8891 - val_accuracy: 0.2467\n",
            "Epoch 189/500\n",
            "270/270 [==============================] - 3s 11ms/step - loss: 0.8747 - accuracy: 0.6281 - val_loss: 2.3514 - val_accuracy: 0.2533\n",
            "Epoch 190/500\n",
            "270/270 [==============================] - 3s 11ms/step - loss: 0.8407 - accuracy: 0.6422 - val_loss: 1.8046 - val_accuracy: 0.2867\n",
            "Epoch 191/500\n",
            "270/270 [==============================] - 3s 11ms/step - loss: 0.8576 - accuracy: 0.6563 - val_loss: 1.5417 - val_accuracy: 0.3133\n",
            "Epoch 192/500\n",
            "270/270 [==============================] - 3s 10ms/step - loss: 0.8115 - accuracy: 0.6593 - val_loss: 1.7153 - val_accuracy: 0.3000\n",
            "Epoch 193/500\n",
            "270/270 [==============================] - 3s 11ms/step - loss: 0.8581 - accuracy: 0.6474 - val_loss: 1.5353 - val_accuracy: 0.3067\n",
            "Epoch 194/500\n",
            "270/270 [==============================] - 3s 11ms/step - loss: 0.8497 - accuracy: 0.6474 - val_loss: 1.4851 - val_accuracy: 0.3267\n",
            "Epoch 195/500\n",
            "270/270 [==============================] - 3s 11ms/step - loss: 0.8686 - accuracy: 0.6430 - val_loss: 1.5192 - val_accuracy: 0.3200\n",
            "Epoch 196/500\n",
            "270/270 [==============================] - 3s 11ms/step - loss: 0.8458 - accuracy: 0.6496 - val_loss: 1.5123 - val_accuracy: 0.3133\n",
            "Epoch 197/500\n",
            "270/270 [==============================] - 3s 11ms/step - loss: 0.8803 - accuracy: 0.6400 - val_loss: 1.7333 - val_accuracy: 0.2800\n",
            "Epoch 198/500\n",
            "270/270 [==============================] - 3s 11ms/step - loss: 0.8187 - accuracy: 0.6733 - val_loss: 2.0457 - val_accuracy: 0.2600\n",
            "Epoch 199/500\n",
            "270/270 [==============================] - 3s 11ms/step - loss: 0.8826 - accuracy: 0.6319 - val_loss: 1.8816 - val_accuracy: 0.2867\n",
            "Epoch 200/500\n",
            "270/270 [==============================] - 3s 11ms/step - loss: 0.8060 - accuracy: 0.6711 - val_loss: 1.7456 - val_accuracy: 0.3067\n",
            "Epoch 201/500\n",
            "270/270 [==============================] - 3s 11ms/step - loss: 0.8566 - accuracy: 0.6556 - val_loss: 1.6263 - val_accuracy: 0.2867\n",
            "Epoch 202/500\n",
            "270/270 [==============================] - 3s 11ms/step - loss: 0.8662 - accuracy: 0.6504 - val_loss: 1.4530 - val_accuracy: 0.3067\n",
            "Epoch 203/500\n",
            "270/270 [==============================] - 3s 11ms/step - loss: 0.8529 - accuracy: 0.6452 - val_loss: 1.5597 - val_accuracy: 0.3133\n",
            "Epoch 204/500\n",
            "270/270 [==============================] - 3s 11ms/step - loss: 0.8666 - accuracy: 0.6385 - val_loss: 1.7832 - val_accuracy: 0.2667\n",
            "Epoch 205/500\n",
            "270/270 [==============================] - 3s 11ms/step - loss: 0.8335 - accuracy: 0.6644 - val_loss: 1.9415 - val_accuracy: 0.2667\n",
            "Epoch 206/500\n",
            "270/270 [==============================] - 3s 10ms/step - loss: 0.7921 - accuracy: 0.6822 - val_loss: 1.6540 - val_accuracy: 0.3067\n",
            "Epoch 207/500\n",
            "270/270 [==============================] - 3s 10ms/step - loss: 0.8366 - accuracy: 0.6548 - val_loss: 1.9009 - val_accuracy: 0.2933\n",
            "Epoch 208/500\n",
            "270/270 [==============================] - 3s 11ms/step - loss: 0.9038 - accuracy: 0.6178 - val_loss: 1.4520 - val_accuracy: 0.3067\n",
            "Epoch 209/500\n",
            "270/270 [==============================] - 3s 10ms/step - loss: 0.8285 - accuracy: 0.6593 - val_loss: 1.4556 - val_accuracy: 0.3133\n",
            "Epoch 210/500\n",
            "270/270 [==============================] - 3s 11ms/step - loss: 0.8057 - accuracy: 0.6711 - val_loss: 1.6950 - val_accuracy: 0.2867\n",
            "Epoch 211/500\n",
            "270/270 [==============================] - 3s 10ms/step - loss: 0.8425 - accuracy: 0.6481 - val_loss: 1.5423 - val_accuracy: 0.3600\n",
            "Epoch 212/500\n",
            "270/270 [==============================] - 3s 11ms/step - loss: 0.8883 - accuracy: 0.6430 - val_loss: 1.5683 - val_accuracy: 0.2800\n",
            "Epoch 213/500\n",
            "270/270 [==============================] - 3s 10ms/step - loss: 0.8961 - accuracy: 0.6393 - val_loss: 1.4661 - val_accuracy: 0.3133\n",
            "Epoch 214/500\n",
            "270/270 [==============================] - 3s 10ms/step - loss: 0.8575 - accuracy: 0.6600 - val_loss: 1.6381 - val_accuracy: 0.3000\n",
            "Epoch 215/500\n",
            "270/270 [==============================] - 3s 11ms/step - loss: 0.7838 - accuracy: 0.6807 - val_loss: 1.7115 - val_accuracy: 0.3000\n",
            "Epoch 216/500\n",
            "270/270 [==============================] - 3s 11ms/step - loss: 0.8548 - accuracy: 0.6370 - val_loss: 1.4908 - val_accuracy: 0.3067\n",
            "Epoch 217/500\n",
            "270/270 [==============================] - 3s 10ms/step - loss: 0.8878 - accuracy: 0.6370 - val_loss: 1.4920 - val_accuracy: 0.3267\n",
            "Epoch 218/500\n",
            "270/270 [==============================] - 3s 11ms/step - loss: 0.8346 - accuracy: 0.6474 - val_loss: 1.8809 - val_accuracy: 0.3000\n",
            "Epoch 219/500\n",
            "270/270 [==============================] - 3s 11ms/step - loss: 0.8239 - accuracy: 0.6659 - val_loss: 1.6086 - val_accuracy: 0.3133\n",
            "Epoch 220/500\n",
            "270/270 [==============================] - 3s 10ms/step - loss: 0.8564 - accuracy: 0.6459 - val_loss: 1.7017 - val_accuracy: 0.3133\n",
            "Epoch 221/500\n",
            "270/270 [==============================] - 3s 10ms/step - loss: 0.8209 - accuracy: 0.6667 - val_loss: 1.5269 - val_accuracy: 0.2867\n",
            "Epoch 222/500\n",
            "270/270 [==============================] - 3s 11ms/step - loss: 0.8455 - accuracy: 0.6681 - val_loss: 1.5848 - val_accuracy: 0.3200\n",
            "Epoch 223/500\n",
            "270/270 [==============================] - 3s 11ms/step - loss: 0.8152 - accuracy: 0.6719 - val_loss: 1.6291 - val_accuracy: 0.3067\n",
            "Epoch 224/500\n",
            "270/270 [==============================] - 3s 11ms/step - loss: 0.8038 - accuracy: 0.6711 - val_loss: 1.5760 - val_accuracy: 0.3200\n",
            "Epoch 225/500\n",
            "270/270 [==============================] - 3s 10ms/step - loss: 0.8709 - accuracy: 0.6400 - val_loss: 3.0376 - val_accuracy: 0.2533\n",
            "Epoch 226/500\n",
            "270/270 [==============================] - 3s 11ms/step - loss: 0.8216 - accuracy: 0.6681 - val_loss: 1.7026 - val_accuracy: 0.3267\n",
            "Epoch 227/500\n",
            "270/270 [==============================] - 3s 11ms/step - loss: 0.8108 - accuracy: 0.6600 - val_loss: 1.6650 - val_accuracy: 0.3000\n",
            "Epoch 228/500\n",
            "270/270 [==============================] - 3s 11ms/step - loss: 0.8644 - accuracy: 0.6444 - val_loss: 1.7992 - val_accuracy: 0.2867\n",
            "Epoch 229/500\n",
            "270/270 [==============================] - 3s 11ms/step - loss: 0.8536 - accuracy: 0.6489 - val_loss: 1.6166 - val_accuracy: 0.3200\n",
            "Epoch 230/500\n",
            "270/270 [==============================] - 3s 11ms/step - loss: 0.8575 - accuracy: 0.6593 - val_loss: 1.9378 - val_accuracy: 0.2733\n",
            "Epoch 231/500\n",
            "270/270 [==============================] - 3s 11ms/step - loss: 0.8354 - accuracy: 0.6600 - val_loss: 1.9196 - val_accuracy: 0.2667\n",
            "Epoch 232/500\n",
            "270/270 [==============================] - 3s 11ms/step - loss: 0.8220 - accuracy: 0.6593 - val_loss: 2.0096 - val_accuracy: 0.2800\n",
            "Epoch 233/500\n",
            "270/270 [==============================] - 3s 11ms/step - loss: 0.8428 - accuracy: 0.6533 - val_loss: 1.8855 - val_accuracy: 0.3000\n",
            "Epoch 234/500\n",
            "270/270 [==============================] - 3s 11ms/step - loss: 0.8289 - accuracy: 0.6556 - val_loss: 2.1659 - val_accuracy: 0.2733\n",
            "Epoch 235/500\n",
            "270/270 [==============================] - 3s 11ms/step - loss: 0.8391 - accuracy: 0.6504 - val_loss: 1.6442 - val_accuracy: 0.3267\n",
            "Epoch 236/500\n",
            "270/270 [==============================] - 3s 11ms/step - loss: 0.8162 - accuracy: 0.6659 - val_loss: 1.8244 - val_accuracy: 0.2933\n",
            "Epoch 237/500\n",
            "270/270 [==============================] - 3s 10ms/step - loss: 0.8039 - accuracy: 0.6674 - val_loss: 2.2094 - val_accuracy: 0.2533\n",
            "Epoch 238/500\n",
            "270/270 [==============================] - 3s 11ms/step - loss: 0.8154 - accuracy: 0.6778 - val_loss: 1.7721 - val_accuracy: 0.2933\n",
            "Epoch 239/500\n",
            "270/270 [==============================] - 3s 11ms/step - loss: 0.8138 - accuracy: 0.6719 - val_loss: 1.7734 - val_accuracy: 0.3267\n",
            "Epoch 240/500\n",
            "270/270 [==============================] - 3s 11ms/step - loss: 0.8075 - accuracy: 0.6593 - val_loss: 1.5862 - val_accuracy: 0.3400\n",
            "Epoch 241/500\n",
            "270/270 [==============================] - 3s 10ms/step - loss: 0.7764 - accuracy: 0.6800 - val_loss: 1.6527 - val_accuracy: 0.2800\n",
            "Epoch 242/500\n",
            "270/270 [==============================] - 3s 11ms/step - loss: 0.8091 - accuracy: 0.6659 - val_loss: 2.1435 - val_accuracy: 0.2667\n",
            "Epoch 243/500\n",
            "270/270 [==============================] - 3s 11ms/step - loss: 0.7918 - accuracy: 0.6852 - val_loss: 1.6470 - val_accuracy: 0.2867\n",
            "Epoch 244/500\n",
            "270/270 [==============================] - 3s 10ms/step - loss: 0.8052 - accuracy: 0.6637 - val_loss: 1.6245 - val_accuracy: 0.3333\n",
            "Epoch 245/500\n",
            "270/270 [==============================] - 3s 11ms/step - loss: 0.7962 - accuracy: 0.6719 - val_loss: 1.9299 - val_accuracy: 0.2867\n",
            "Epoch 246/500\n",
            "270/270 [==============================] - 3s 11ms/step - loss: 0.7879 - accuracy: 0.6904 - val_loss: 1.9922 - val_accuracy: 0.2867\n",
            "Epoch 247/500\n",
            "270/270 [==============================] - 3s 11ms/step - loss: 0.8118 - accuracy: 0.6770 - val_loss: 1.6167 - val_accuracy: 0.3133\n",
            "Epoch 248/500\n",
            "270/270 [==============================] - 3s 11ms/step - loss: 0.7999 - accuracy: 0.6881 - val_loss: 2.2407 - val_accuracy: 0.2667\n",
            "Epoch 249/500\n",
            "270/270 [==============================] - 3s 11ms/step - loss: 0.7956 - accuracy: 0.6681 - val_loss: 1.7225 - val_accuracy: 0.3133\n",
            "Epoch 250/500\n",
            "270/270 [==============================] - 3s 11ms/step - loss: 0.8012 - accuracy: 0.6748 - val_loss: 2.5674 - val_accuracy: 0.2667\n",
            "Epoch 251/500\n",
            "270/270 [==============================] - 3s 11ms/step - loss: 0.8288 - accuracy: 0.6711 - val_loss: 1.7280 - val_accuracy: 0.3000\n",
            "Epoch 252/500\n",
            "270/270 [==============================] - 3s 10ms/step - loss: 0.8257 - accuracy: 0.6504 - val_loss: 1.5938 - val_accuracy: 0.3400\n",
            "Epoch 253/500\n",
            "270/270 [==============================] - 3s 11ms/step - loss: 0.7965 - accuracy: 0.6674 - val_loss: 2.5045 - val_accuracy: 0.2533\n",
            "Epoch 254/500\n",
            "270/270 [==============================] - 3s 10ms/step - loss: 0.8586 - accuracy: 0.6452 - val_loss: 2.9066 - val_accuracy: 0.2467\n",
            "Epoch 255/500\n",
            "270/270 [==============================] - 3s 11ms/step - loss: 0.7740 - accuracy: 0.6904 - val_loss: 2.1707 - val_accuracy: 0.2600\n",
            "Epoch 256/500\n",
            "270/270 [==============================] - 3s 10ms/step - loss: 0.7885 - accuracy: 0.6867 - val_loss: 1.9617 - val_accuracy: 0.2733\n",
            "Epoch 257/500\n",
            "270/270 [==============================] - 3s 11ms/step - loss: 0.8090 - accuracy: 0.6733 - val_loss: 1.9637 - val_accuracy: 0.2733\n",
            "Epoch 258/500\n",
            "270/270 [==============================] - 3s 11ms/step - loss: 0.8065 - accuracy: 0.6748 - val_loss: 1.6807 - val_accuracy: 0.2800\n",
            "Epoch 259/500\n",
            "270/270 [==============================] - 3s 11ms/step - loss: 0.8009 - accuracy: 0.6741 - val_loss: 2.0007 - val_accuracy: 0.2800\n",
            "Epoch 260/500\n",
            "270/270 [==============================] - 3s 10ms/step - loss: 0.7907 - accuracy: 0.6637 - val_loss: 1.5392 - val_accuracy: 0.2600\n",
            "Epoch 261/500\n",
            "270/270 [==============================] - 3s 10ms/step - loss: 0.7767 - accuracy: 0.6881 - val_loss: 1.9242 - val_accuracy: 0.2867\n",
            "Epoch 262/500\n",
            "270/270 [==============================] - 3s 10ms/step - loss: 0.8091 - accuracy: 0.6785 - val_loss: 1.7831 - val_accuracy: 0.2867\n",
            "Epoch 263/500\n",
            "270/270 [==============================] - 3s 11ms/step - loss: 0.8185 - accuracy: 0.6607 - val_loss: 2.3949 - val_accuracy: 0.2667\n",
            "Epoch 264/500\n",
            "270/270 [==============================] - 3s 11ms/step - loss: 0.8001 - accuracy: 0.6674 - val_loss: 1.5591 - val_accuracy: 0.3067\n",
            "Epoch 265/500\n",
            "270/270 [==============================] - 3s 11ms/step - loss: 0.8391 - accuracy: 0.6533 - val_loss: 1.8242 - val_accuracy: 0.2867\n",
            "Epoch 266/500\n",
            "270/270 [==============================] - 3s 11ms/step - loss: 0.8030 - accuracy: 0.6770 - val_loss: 1.5939 - val_accuracy: 0.2933\n",
            "Epoch 267/500\n",
            "270/270 [==============================] - 3s 11ms/step - loss: 0.7922 - accuracy: 0.6830 - val_loss: 1.6226 - val_accuracy: 0.3000\n",
            "Epoch 268/500\n",
            "270/270 [==============================] - 3s 11ms/step - loss: 0.7957 - accuracy: 0.6719 - val_loss: 1.6828 - val_accuracy: 0.2733\n",
            "Epoch 269/500\n",
            "270/270 [==============================] - 3s 10ms/step - loss: 0.7832 - accuracy: 0.6830 - val_loss: 1.5504 - val_accuracy: 0.3067\n",
            "Epoch 270/500\n",
            "270/270 [==============================] - 3s 10ms/step - loss: 0.7928 - accuracy: 0.6926 - val_loss: 2.1991 - val_accuracy: 0.2600\n",
            "Epoch 271/500\n",
            "270/270 [==============================] - 3s 11ms/step - loss: 0.7896 - accuracy: 0.6711 - val_loss: 1.7373 - val_accuracy: 0.2800\n",
            "Epoch 272/500\n",
            "270/270 [==============================] - 3s 12ms/step - loss: 0.8056 - accuracy: 0.6704 - val_loss: 1.7524 - val_accuracy: 0.2933\n",
            "Epoch 273/500\n",
            "270/270 [==============================] - 3s 11ms/step - loss: 0.7994 - accuracy: 0.6644 - val_loss: 1.6357 - val_accuracy: 0.3267\n",
            "Epoch 274/500\n",
            "270/270 [==============================] - 3s 11ms/step - loss: 0.8381 - accuracy: 0.6556 - val_loss: 1.7984 - val_accuracy: 0.2800\n",
            "Epoch 275/500\n",
            "270/270 [==============================] - 3s 11ms/step - loss: 0.7781 - accuracy: 0.6815 - val_loss: 1.5292 - val_accuracy: 0.3533\n",
            "Epoch 276/500\n",
            "270/270 [==============================] - 3s 11ms/step - loss: 0.7966 - accuracy: 0.6719 - val_loss: 2.3572 - val_accuracy: 0.2600\n",
            "Epoch 277/500\n",
            "270/270 [==============================] - 3s 10ms/step - loss: 0.8165 - accuracy: 0.6756 - val_loss: 1.8214 - val_accuracy: 0.3000\n",
            "Epoch 278/500\n",
            "270/270 [==============================] - 3s 11ms/step - loss: 0.8141 - accuracy: 0.6778 - val_loss: 1.6277 - val_accuracy: 0.2933\n",
            "Epoch 279/500\n",
            "270/270 [==============================] - 3s 11ms/step - loss: 0.8038 - accuracy: 0.6741 - val_loss: 2.2062 - val_accuracy: 0.2933\n",
            "Epoch 280/500\n",
            "270/270 [==============================] - 3s 11ms/step - loss: 0.8343 - accuracy: 0.6726 - val_loss: 1.5364 - val_accuracy: 0.3267\n",
            "Epoch 281/500\n",
            "270/270 [==============================] - 3s 11ms/step - loss: 0.7907 - accuracy: 0.6807 - val_loss: 2.3629 - val_accuracy: 0.2800\n",
            "Epoch 282/500\n",
            "270/270 [==============================] - 3s 11ms/step - loss: 0.7981 - accuracy: 0.6741 - val_loss: 2.4767 - val_accuracy: 0.2933\n",
            "Epoch 283/500\n",
            "270/270 [==============================] - 3s 11ms/step - loss: 0.7895 - accuracy: 0.6748 - val_loss: 1.9915 - val_accuracy: 0.2933\n",
            "Epoch 284/500\n",
            "270/270 [==============================] - 3s 10ms/step - loss: 0.8091 - accuracy: 0.6644 - val_loss: 1.7413 - val_accuracy: 0.2867\n",
            "Epoch 285/500\n",
            "270/270 [==============================] - 3s 10ms/step - loss: 0.7685 - accuracy: 0.6852 - val_loss: 1.7307 - val_accuracy: 0.3200\n",
            "Epoch 286/500\n",
            "270/270 [==============================] - 3s 10ms/step - loss: 0.8127 - accuracy: 0.6704 - val_loss: 2.2602 - val_accuracy: 0.2800\n",
            "Epoch 287/500\n",
            "270/270 [==============================] - 3s 11ms/step - loss: 0.7933 - accuracy: 0.6800 - val_loss: 1.5899 - val_accuracy: 0.3000\n",
            "Epoch 288/500\n",
            "270/270 [==============================] - 3s 10ms/step - loss: 0.7960 - accuracy: 0.6756 - val_loss: 1.5332 - val_accuracy: 0.3133\n",
            "Epoch 289/500\n",
            "270/270 [==============================] - 3s 10ms/step - loss: 0.8118 - accuracy: 0.6607 - val_loss: 1.6268 - val_accuracy: 0.3133\n",
            "Epoch 290/500\n",
            "270/270 [==============================] - 3s 10ms/step - loss: 0.7376 - accuracy: 0.7015 - val_loss: 1.5292 - val_accuracy: 0.3133\n",
            "Epoch 291/500\n",
            "270/270 [==============================] - 3s 11ms/step - loss: 0.8083 - accuracy: 0.6726 - val_loss: 2.0213 - val_accuracy: 0.3000\n",
            "Epoch 292/500\n",
            "270/270 [==============================] - 3s 11ms/step - loss: 0.7806 - accuracy: 0.6933 - val_loss: 1.5530 - val_accuracy: 0.3000\n",
            "Epoch 293/500\n",
            "270/270 [==============================] - 3s 11ms/step - loss: 0.7848 - accuracy: 0.6852 - val_loss: 1.8465 - val_accuracy: 0.3000\n",
            "Epoch 294/500\n",
            "270/270 [==============================] - 3s 11ms/step - loss: 0.8116 - accuracy: 0.6696 - val_loss: 1.6060 - val_accuracy: 0.3133\n",
            "Epoch 295/500\n",
            "270/270 [==============================] - 3s 10ms/step - loss: 0.8338 - accuracy: 0.6630 - val_loss: 2.1663 - val_accuracy: 0.2667\n",
            "Epoch 296/500\n",
            "270/270 [==============================] - 3s 11ms/step - loss: 0.7871 - accuracy: 0.6837 - val_loss: 2.3713 - val_accuracy: 0.2667\n",
            "Epoch 297/500\n",
            "270/270 [==============================] - 3s 11ms/step - loss: 0.7915 - accuracy: 0.6704 - val_loss: 1.8301 - val_accuracy: 0.3067\n",
            "Epoch 298/500\n",
            "270/270 [==============================] - 3s 11ms/step - loss: 0.7864 - accuracy: 0.6763 - val_loss: 1.7103 - val_accuracy: 0.2867\n",
            "Epoch 299/500\n",
            "270/270 [==============================] - 3s 10ms/step - loss: 0.7575 - accuracy: 0.7007 - val_loss: 1.7494 - val_accuracy: 0.2933\n",
            "Epoch 300/500\n",
            "270/270 [==============================] - 3s 11ms/step - loss: 0.7569 - accuracy: 0.7126 - val_loss: 1.8911 - val_accuracy: 0.2867\n",
            "Epoch 301/500\n",
            "270/270 [==============================] - 3s 11ms/step - loss: 0.7595 - accuracy: 0.6948 - val_loss: 1.6472 - val_accuracy: 0.3067\n",
            "Epoch 302/500\n",
            "270/270 [==============================] - 3s 10ms/step - loss: 0.7673 - accuracy: 0.6933 - val_loss: 2.0118 - val_accuracy: 0.2867\n",
            "Epoch 303/500\n",
            "270/270 [==============================] - 3s 10ms/step - loss: 0.7664 - accuracy: 0.6963 - val_loss: 1.8201 - val_accuracy: 0.2933\n",
            "Epoch 304/500\n",
            "270/270 [==============================] - 3s 10ms/step - loss: 0.7454 - accuracy: 0.6933 - val_loss: 2.0418 - val_accuracy: 0.2867\n",
            "Epoch 305/500\n",
            "270/270 [==============================] - 3s 11ms/step - loss: 0.7840 - accuracy: 0.6874 - val_loss: 1.6768 - val_accuracy: 0.2933\n",
            "Epoch 306/500\n",
            "270/270 [==============================] - 3s 10ms/step - loss: 0.7589 - accuracy: 0.7044 - val_loss: 2.3016 - val_accuracy: 0.2733\n",
            "Epoch 307/500\n",
            "270/270 [==============================] - 3s 10ms/step - loss: 0.7449 - accuracy: 0.6881 - val_loss: 2.6156 - val_accuracy: 0.2667\n",
            "Epoch 308/500\n",
            "270/270 [==============================] - 3s 10ms/step - loss: 0.7558 - accuracy: 0.6911 - val_loss: 2.0525 - val_accuracy: 0.2667\n",
            "Epoch 309/500\n",
            "270/270 [==============================] - 3s 10ms/step - loss: 0.7696 - accuracy: 0.6867 - val_loss: 1.9855 - val_accuracy: 0.2600\n",
            "Epoch 310/500\n",
            "270/270 [==============================] - 3s 11ms/step - loss: 0.7643 - accuracy: 0.6896 - val_loss: 1.5971 - val_accuracy: 0.3067\n",
            "Epoch 311/500\n",
            "270/270 [==============================] - 3s 11ms/step - loss: 0.7937 - accuracy: 0.6956 - val_loss: 2.9467 - val_accuracy: 0.2467\n",
            "Epoch 312/500\n",
            "270/270 [==============================] - 3s 10ms/step - loss: 0.7535 - accuracy: 0.7037 - val_loss: 2.0237 - val_accuracy: 0.2533\n",
            "Epoch 313/500\n",
            "270/270 [==============================] - 3s 11ms/step - loss: 0.7543 - accuracy: 0.7067 - val_loss: 3.2440 - val_accuracy: 0.2467\n",
            "Epoch 314/500\n",
            "270/270 [==============================] - 3s 10ms/step - loss: 0.7401 - accuracy: 0.7141 - val_loss: 1.8094 - val_accuracy: 0.2933\n",
            "Epoch 315/500\n",
            "270/270 [==============================] - 3s 11ms/step - loss: 0.7418 - accuracy: 0.7074 - val_loss: 1.6738 - val_accuracy: 0.2667\n",
            "Epoch 316/500\n",
            "270/270 [==============================] - 3s 10ms/step - loss: 0.7558 - accuracy: 0.6815 - val_loss: 1.6372 - val_accuracy: 0.2667\n",
            "Epoch 317/500\n",
            "270/270 [==============================] - 3s 11ms/step - loss: 0.7664 - accuracy: 0.6844 - val_loss: 1.8481 - val_accuracy: 0.3133\n",
            "Epoch 318/500\n",
            "270/270 [==============================] - 3s 11ms/step - loss: 0.7740 - accuracy: 0.6822 - val_loss: 1.7919 - val_accuracy: 0.2800\n",
            "Epoch 319/500\n",
            "270/270 [==============================] - 3s 10ms/step - loss: 0.7708 - accuracy: 0.7067 - val_loss: 1.8250 - val_accuracy: 0.2667\n",
            "Epoch 320/500\n",
            "270/270 [==============================] - 3s 11ms/step - loss: 0.7679 - accuracy: 0.6896 - val_loss: 1.5057 - val_accuracy: 0.3000\n",
            "Epoch 321/500\n",
            "270/270 [==============================] - 3s 10ms/step - loss: 0.7726 - accuracy: 0.6889 - val_loss: 1.6792 - val_accuracy: 0.2600\n",
            "Epoch 322/500\n",
            "270/270 [==============================] - 3s 10ms/step - loss: 0.7739 - accuracy: 0.6933 - val_loss: 1.8802 - val_accuracy: 0.2733\n",
            "Epoch 323/500\n",
            "270/270 [==============================] - 3s 11ms/step - loss: 0.7721 - accuracy: 0.6807 - val_loss: 1.8212 - val_accuracy: 0.3000\n",
            "Epoch 324/500\n",
            "270/270 [==============================] - 3s 11ms/step - loss: 0.7612 - accuracy: 0.6985 - val_loss: 2.5617 - val_accuracy: 0.2667\n",
            "Epoch 325/500\n",
            "270/270 [==============================] - 3s 11ms/step - loss: 0.7922 - accuracy: 0.6778 - val_loss: 2.1581 - val_accuracy: 0.2800\n",
            "Epoch 326/500\n",
            "270/270 [==============================] - 3s 11ms/step - loss: 0.7980 - accuracy: 0.6800 - val_loss: 1.9761 - val_accuracy: 0.2867\n",
            "Epoch 327/500\n",
            "270/270 [==============================] - 3s 10ms/step - loss: 0.7372 - accuracy: 0.7030 - val_loss: 1.8311 - val_accuracy: 0.3067\n",
            "Epoch 328/500\n",
            "270/270 [==============================] - 3s 11ms/step - loss: 0.7434 - accuracy: 0.7022 - val_loss: 1.8138 - val_accuracy: 0.3000\n",
            "Epoch 329/500\n",
            "270/270 [==============================] - 3s 10ms/step - loss: 0.7795 - accuracy: 0.6926 - val_loss: 2.1027 - val_accuracy: 0.2600\n",
            "Epoch 330/500\n",
            "270/270 [==============================] - 3s 11ms/step - loss: 0.7941 - accuracy: 0.6881 - val_loss: 1.9584 - val_accuracy: 0.2800\n",
            "Epoch 331/500\n",
            "270/270 [==============================] - 3s 11ms/step - loss: 0.7491 - accuracy: 0.7096 - val_loss: 1.8229 - val_accuracy: 0.2933\n",
            "Epoch 332/500\n",
            "270/270 [==============================] - 3s 10ms/step - loss: 0.7777 - accuracy: 0.7044 - val_loss: 1.8779 - val_accuracy: 0.2667\n",
            "Epoch 333/500\n",
            "270/270 [==============================] - 3s 11ms/step - loss: 0.7349 - accuracy: 0.7119 - val_loss: 1.8501 - val_accuracy: 0.2600\n",
            "Epoch 334/500\n",
            "270/270 [==============================] - 3s 10ms/step - loss: 0.7610 - accuracy: 0.7000 - val_loss: 1.7381 - val_accuracy: 0.3000\n",
            "Epoch 335/500\n",
            "270/270 [==============================] - 3s 10ms/step - loss: 0.7874 - accuracy: 0.6978 - val_loss: 1.7605 - val_accuracy: 0.2667\n",
            "Epoch 336/500\n",
            "270/270 [==============================] - 3s 10ms/step - loss: 0.7913 - accuracy: 0.6985 - val_loss: 2.0890 - val_accuracy: 0.2600\n",
            "Epoch 337/500\n",
            "270/270 [==============================] - 3s 11ms/step - loss: 0.7889 - accuracy: 0.6844 - val_loss: 1.8572 - val_accuracy: 0.2533\n",
            "Epoch 338/500\n",
            "270/270 [==============================] - 3s 10ms/step - loss: 0.7588 - accuracy: 0.7015 - val_loss: 1.8841 - val_accuracy: 0.2467\n",
            "Epoch 339/500\n",
            "270/270 [==============================] - 3s 11ms/step - loss: 0.8026 - accuracy: 0.6763 - val_loss: 1.7909 - val_accuracy: 0.3067\n",
            "Epoch 340/500\n",
            "270/270 [==============================] - 3s 10ms/step - loss: 0.8056 - accuracy: 0.6822 - val_loss: 1.6877 - val_accuracy: 0.2867\n",
            "Epoch 341/500\n",
            "270/270 [==============================] - 3s 10ms/step - loss: 0.8045 - accuracy: 0.6785 - val_loss: 1.8699 - val_accuracy: 0.2600\n",
            "Epoch 342/500\n",
            "270/270 [==============================] - 3s 10ms/step - loss: 0.7443 - accuracy: 0.7007 - val_loss: 1.6569 - val_accuracy: 0.3000\n",
            "Epoch 343/500\n",
            "270/270 [==============================] - 3s 11ms/step - loss: 0.7071 - accuracy: 0.7156 - val_loss: 1.7207 - val_accuracy: 0.2867\n",
            "Epoch 344/500\n",
            "270/270 [==============================] - 3s 10ms/step - loss: 0.7418 - accuracy: 0.6993 - val_loss: 1.7667 - val_accuracy: 0.2733\n",
            "Epoch 345/500\n",
            "270/270 [==============================] - 3s 11ms/step - loss: 0.7456 - accuracy: 0.6993 - val_loss: 1.5618 - val_accuracy: 0.2933\n",
            "Epoch 346/500\n",
            "270/270 [==============================] - 3s 11ms/step - loss: 0.7340 - accuracy: 0.7037 - val_loss: 1.6817 - val_accuracy: 0.2933\n",
            "Epoch 347/500\n",
            "270/270 [==============================] - 3s 11ms/step - loss: 0.7678 - accuracy: 0.7119 - val_loss: 1.5353 - val_accuracy: 0.3333\n",
            "Epoch 348/500\n",
            "270/270 [==============================] - 3s 10ms/step - loss: 0.7605 - accuracy: 0.7022 - val_loss: 1.6384 - val_accuracy: 0.3067\n",
            "Epoch 349/500\n",
            "270/270 [==============================] - 3s 10ms/step - loss: 0.7669 - accuracy: 0.6933 - val_loss: 2.0729 - val_accuracy: 0.2600\n",
            "Epoch 350/500\n",
            "270/270 [==============================] - 3s 11ms/step - loss: 0.8145 - accuracy: 0.6867 - val_loss: 2.3084 - val_accuracy: 0.2667\n",
            "Epoch 351/500\n",
            "270/270 [==============================] - 3s 11ms/step - loss: 0.7524 - accuracy: 0.7096 - val_loss: 1.7350 - val_accuracy: 0.2733\n",
            "Epoch 352/500\n",
            "270/270 [==============================] - 3s 11ms/step - loss: 0.7579 - accuracy: 0.7119 - val_loss: 1.7915 - val_accuracy: 0.2867\n",
            "Epoch 353/500\n",
            "270/270 [==============================] - 3s 11ms/step - loss: 0.7909 - accuracy: 0.6896 - val_loss: 2.0607 - val_accuracy: 0.2800\n",
            "Epoch 354/500\n",
            "270/270 [==============================] - 3s 11ms/step - loss: 0.7330 - accuracy: 0.7000 - val_loss: 1.7552 - val_accuracy: 0.2867\n",
            "Epoch 355/500\n",
            "270/270 [==============================] - 3s 10ms/step - loss: 0.7480 - accuracy: 0.6926 - val_loss: 1.6470 - val_accuracy: 0.3067\n",
            "Epoch 356/500\n",
            "270/270 [==============================] - 3s 11ms/step - loss: 0.7599 - accuracy: 0.6933 - val_loss: 1.9428 - val_accuracy: 0.3067\n",
            "Epoch 357/500\n",
            "270/270 [==============================] - 3s 10ms/step - loss: 0.7330 - accuracy: 0.6970 - val_loss: 1.9290 - val_accuracy: 0.3000\n",
            "Epoch 358/500\n",
            "270/270 [==============================] - 3s 11ms/step - loss: 0.7269 - accuracy: 0.7178 - val_loss: 2.1147 - val_accuracy: 0.2667\n",
            "Epoch 359/500\n",
            "270/270 [==============================] - 3s 11ms/step - loss: 0.7811 - accuracy: 0.6956 - val_loss: 1.7315 - val_accuracy: 0.3067\n",
            "Epoch 360/500\n",
            "270/270 [==============================] - 3s 10ms/step - loss: 0.7356 - accuracy: 0.7096 - val_loss: 1.7578 - val_accuracy: 0.3067\n",
            "Epoch 361/500\n",
            "270/270 [==============================] - 3s 10ms/step - loss: 0.7622 - accuracy: 0.6993 - val_loss: 2.0103 - val_accuracy: 0.2867\n",
            "Epoch 362/500\n",
            "270/270 [==============================] - 3s 11ms/step - loss: 0.7219 - accuracy: 0.7126 - val_loss: 1.7382 - val_accuracy: 0.2600\n",
            "Epoch 363/500\n",
            "270/270 [==============================] - 3s 10ms/step - loss: 0.7197 - accuracy: 0.7185 - val_loss: 1.5771 - val_accuracy: 0.3200\n",
            "Epoch 364/500\n",
            "270/270 [==============================] - 3s 10ms/step - loss: 0.7337 - accuracy: 0.7081 - val_loss: 1.7589 - val_accuracy: 0.3000\n",
            "Epoch 365/500\n",
            "270/270 [==============================] - 3s 10ms/step - loss: 0.7616 - accuracy: 0.6881 - val_loss: 2.2157 - val_accuracy: 0.2667\n",
            "Epoch 366/500\n",
            "270/270 [==============================] - 3s 10ms/step - loss: 0.7762 - accuracy: 0.6793 - val_loss: 1.7796 - val_accuracy: 0.2933\n",
            "Epoch 367/500\n",
            "270/270 [==============================] - 3s 11ms/step - loss: 0.7482 - accuracy: 0.6956 - val_loss: 1.9923 - val_accuracy: 0.2867\n",
            "Epoch 368/500\n",
            "270/270 [==============================] - 3s 10ms/step - loss: 0.6960 - accuracy: 0.7341 - val_loss: 1.8256 - val_accuracy: 0.2867\n",
            "Epoch 369/500\n",
            "270/270 [==============================] - 3s 10ms/step - loss: 0.7495 - accuracy: 0.7111 - val_loss: 1.9251 - val_accuracy: 0.2933\n",
            "Epoch 370/500\n",
            "270/270 [==============================] - 3s 11ms/step - loss: 0.7420 - accuracy: 0.7000 - val_loss: 2.0659 - val_accuracy: 0.2800\n",
            "Epoch 371/500\n",
            "270/270 [==============================] - 3s 11ms/step - loss: 0.7660 - accuracy: 0.6889 - val_loss: 2.1397 - val_accuracy: 0.2800\n",
            "Epoch 372/500\n",
            "270/270 [==============================] - 3s 11ms/step - loss: 0.7101 - accuracy: 0.7252 - val_loss: 1.8231 - val_accuracy: 0.2733\n",
            "Epoch 373/500\n",
            "270/270 [==============================] - 3s 10ms/step - loss: 0.7718 - accuracy: 0.7074 - val_loss: 1.9297 - val_accuracy: 0.2933\n",
            "Epoch 374/500\n",
            "270/270 [==============================] - 3s 10ms/step - loss: 0.7278 - accuracy: 0.7044 - val_loss: 1.9944 - val_accuracy: 0.2800\n",
            "Epoch 375/500\n",
            "270/270 [==============================] - 3s 10ms/step - loss: 0.7347 - accuracy: 0.7030 - val_loss: 3.4646 - val_accuracy: 0.2467\n",
            "Epoch 376/500\n",
            "270/270 [==============================] - 3s 11ms/step - loss: 0.7495 - accuracy: 0.7059 - val_loss: 1.7763 - val_accuracy: 0.2733\n",
            "Epoch 377/500\n",
            "270/270 [==============================] - 3s 11ms/step - loss: 0.7704 - accuracy: 0.7000 - val_loss: 1.8805 - val_accuracy: 0.2467\n",
            "Epoch 378/500\n",
            "270/270 [==============================] - 3s 10ms/step - loss: 0.7602 - accuracy: 0.6830 - val_loss: 1.7858 - val_accuracy: 0.2667\n",
            "Epoch 379/500\n",
            "270/270 [==============================] - 3s 11ms/step - loss: 0.7393 - accuracy: 0.7074 - val_loss: 2.6792 - val_accuracy: 0.2533\n",
            "Epoch 380/500\n",
            "270/270 [==============================] - 3s 11ms/step - loss: 0.7586 - accuracy: 0.7044 - val_loss: 1.7757 - val_accuracy: 0.3000\n",
            "Epoch 381/500\n",
            "270/270 [==============================] - 3s 11ms/step - loss: 0.7234 - accuracy: 0.7289 - val_loss: 1.9898 - val_accuracy: 0.2800\n",
            "Epoch 382/500\n",
            "270/270 [==============================] - 3s 10ms/step - loss: 0.7212 - accuracy: 0.7037 - val_loss: 2.4987 - val_accuracy: 0.2733\n",
            "Epoch 383/500\n",
            "270/270 [==============================] - 3s 10ms/step - loss: 0.7193 - accuracy: 0.7067 - val_loss: 1.9274 - val_accuracy: 0.3067\n",
            "Epoch 384/500\n",
            "270/270 [==============================] - 3s 10ms/step - loss: 0.7398 - accuracy: 0.6985 - val_loss: 2.1893 - val_accuracy: 0.2667\n",
            "Epoch 385/500\n",
            "270/270 [==============================] - 3s 11ms/step - loss: 0.7451 - accuracy: 0.7104 - val_loss: 1.9655 - val_accuracy: 0.2800\n",
            "Epoch 386/500\n",
            "270/270 [==============================] - 3s 11ms/step - loss: 0.7250 - accuracy: 0.7200 - val_loss: 2.1840 - val_accuracy: 0.2867\n",
            "Epoch 387/500\n",
            "270/270 [==============================] - 3s 11ms/step - loss: 0.7415 - accuracy: 0.7037 - val_loss: 2.4053 - val_accuracy: 0.2667\n",
            "Epoch 388/500\n",
            "270/270 [==============================] - 3s 11ms/step - loss: 0.7609 - accuracy: 0.6970 - val_loss: 2.8069 - val_accuracy: 0.2533\n",
            "Epoch 389/500\n",
            "270/270 [==============================] - 3s 11ms/step - loss: 0.7315 - accuracy: 0.7015 - val_loss: 1.9385 - val_accuracy: 0.2933\n",
            "Epoch 390/500\n",
            "270/270 [==============================] - 3s 10ms/step - loss: 0.7452 - accuracy: 0.7059 - val_loss: 2.3443 - val_accuracy: 0.2867\n",
            "Epoch 391/500\n",
            "270/270 [==============================] - 3s 11ms/step - loss: 0.7559 - accuracy: 0.6881 - val_loss: 2.5708 - val_accuracy: 0.2600\n",
            "Epoch 392/500\n",
            "270/270 [==============================] - 3s 11ms/step - loss: 0.7702 - accuracy: 0.6978 - val_loss: 1.7156 - val_accuracy: 0.3133\n",
            "Epoch 393/500\n",
            "270/270 [==============================] - 3s 10ms/step - loss: 0.7253 - accuracy: 0.7126 - val_loss: 2.0631 - val_accuracy: 0.2467\n",
            "Epoch 394/500\n",
            "270/270 [==============================] - 3s 10ms/step - loss: 0.7667 - accuracy: 0.6896 - val_loss: 3.1669 - val_accuracy: 0.2600\n",
            "Epoch 395/500\n",
            "270/270 [==============================] - 3s 11ms/step - loss: 0.7285 - accuracy: 0.7178 - val_loss: 1.7071 - val_accuracy: 0.2867\n",
            "Epoch 396/500\n",
            "270/270 [==============================] - 3s 11ms/step - loss: 0.7451 - accuracy: 0.7133 - val_loss: 2.1169 - val_accuracy: 0.2733\n",
            "Epoch 397/500\n",
            "270/270 [==============================] - 3s 11ms/step - loss: 0.7285 - accuracy: 0.7156 - val_loss: 2.0472 - val_accuracy: 0.2600\n",
            "Epoch 398/500\n",
            "270/270 [==============================] - 3s 11ms/step - loss: 0.7677 - accuracy: 0.6904 - val_loss: 1.6328 - val_accuracy: 0.3267\n",
            "Epoch 399/500\n",
            "270/270 [==============================] - 3s 11ms/step - loss: 0.6984 - accuracy: 0.7296 - val_loss: 1.7232 - val_accuracy: 0.2933\n",
            "Epoch 400/500\n",
            "270/270 [==============================] - 3s 10ms/step - loss: 0.6867 - accuracy: 0.7311 - val_loss: 2.1530 - val_accuracy: 0.2733\n",
            "Epoch 401/500\n",
            "270/270 [==============================] - 3s 11ms/step - loss: 0.7389 - accuracy: 0.7163 - val_loss: 2.2747 - val_accuracy: 0.2867\n",
            "Epoch 402/500\n",
            "270/270 [==============================] - 3s 10ms/step - loss: 0.7175 - accuracy: 0.7237 - val_loss: 2.2317 - val_accuracy: 0.2933\n",
            "Epoch 403/500\n",
            "270/270 [==============================] - 3s 10ms/step - loss: 0.7579 - accuracy: 0.6881 - val_loss: 1.8128 - val_accuracy: 0.2867\n",
            "Epoch 404/500\n",
            "270/270 [==============================] - 3s 10ms/step - loss: 0.7042 - accuracy: 0.7215 - val_loss: 1.7177 - val_accuracy: 0.2800\n",
            "Epoch 405/500\n",
            "270/270 [==============================] - 3s 11ms/step - loss: 0.7578 - accuracy: 0.6985 - val_loss: 1.7233 - val_accuracy: 0.2933\n",
            "Epoch 406/500\n",
            "270/270 [==============================] - 3s 10ms/step - loss: 0.7067 - accuracy: 0.7163 - val_loss: 1.7294 - val_accuracy: 0.3000\n",
            "Epoch 407/500\n",
            "270/270 [==============================] - 3s 10ms/step - loss: 0.7557 - accuracy: 0.7089 - val_loss: 1.6040 - val_accuracy: 0.3000\n",
            "Epoch 408/500\n",
            "270/270 [==============================] - 3s 11ms/step - loss: 0.7569 - accuracy: 0.7022 - val_loss: 2.3185 - val_accuracy: 0.2667\n",
            "Epoch 409/500\n",
            "270/270 [==============================] - 3s 11ms/step - loss: 0.6968 - accuracy: 0.7111 - val_loss: 2.1643 - val_accuracy: 0.2733\n",
            "Epoch 410/500\n",
            "270/270 [==============================] - 3s 10ms/step - loss: 0.7085 - accuracy: 0.7237 - val_loss: 1.6084 - val_accuracy: 0.3133\n",
            "Epoch 411/500\n",
            "270/270 [==============================] - 3s 11ms/step - loss: 0.7452 - accuracy: 0.6941 - val_loss: 2.4785 - val_accuracy: 0.2933\n",
            "Epoch 412/500\n",
            "270/270 [==============================] - 3s 11ms/step - loss: 0.7460 - accuracy: 0.7178 - val_loss: 1.8195 - val_accuracy: 0.3000\n",
            "Epoch 413/500\n",
            "270/270 [==============================] - 3s 11ms/step - loss: 0.7373 - accuracy: 0.7052 - val_loss: 1.8380 - val_accuracy: 0.2800\n",
            "Epoch 414/500\n",
            "270/270 [==============================] - 3s 10ms/step - loss: 0.7383 - accuracy: 0.7104 - val_loss: 1.8699 - val_accuracy: 0.2933\n",
            "Epoch 415/500\n",
            "270/270 [==============================] - 3s 11ms/step - loss: 0.7033 - accuracy: 0.7237 - val_loss: 2.1782 - val_accuracy: 0.2733\n",
            "Epoch 416/500\n",
            "270/270 [==============================] - 3s 10ms/step - loss: 0.7017 - accuracy: 0.7207 - val_loss: 2.1058 - val_accuracy: 0.3000\n",
            "Epoch 417/500\n",
            "270/270 [==============================] - 3s 11ms/step - loss: 0.7451 - accuracy: 0.6985 - val_loss: 1.9387 - val_accuracy: 0.3067\n",
            "Epoch 418/500\n",
            "270/270 [==============================] - 3s 11ms/step - loss: 0.7409 - accuracy: 0.7141 - val_loss: 1.7238 - val_accuracy: 0.2867\n",
            "Epoch 419/500\n",
            "270/270 [==============================] - 3s 10ms/step - loss: 0.7454 - accuracy: 0.7081 - val_loss: 1.6694 - val_accuracy: 0.3067\n",
            "Epoch 420/500\n",
            "270/270 [==============================] - 3s 11ms/step - loss: 0.7215 - accuracy: 0.6963 - val_loss: 2.6883 - val_accuracy: 0.2667\n",
            "Epoch 421/500\n",
            "270/270 [==============================] - 3s 11ms/step - loss: 0.7441 - accuracy: 0.7074 - val_loss: 1.7443 - val_accuracy: 0.3000\n",
            "Epoch 422/500\n",
            "270/270 [==============================] - 3s 11ms/step - loss: 0.6864 - accuracy: 0.7230 - val_loss: 1.8455 - val_accuracy: 0.3133\n",
            "Epoch 423/500\n",
            "270/270 [==============================] - 3s 11ms/step - loss: 0.6716 - accuracy: 0.7267 - val_loss: 2.0430 - val_accuracy: 0.3133\n",
            "Epoch 424/500\n",
            "270/270 [==============================] - 3s 10ms/step - loss: 0.7247 - accuracy: 0.7148 - val_loss: 2.7815 - val_accuracy: 0.2667\n",
            "Epoch 425/500\n",
            "270/270 [==============================] - 3s 10ms/step - loss: 0.7728 - accuracy: 0.6970 - val_loss: 1.6679 - val_accuracy: 0.3333\n",
            "Epoch 426/500\n",
            "270/270 [==============================] - 3s 10ms/step - loss: 0.7283 - accuracy: 0.7022 - val_loss: 1.8145 - val_accuracy: 0.2867\n",
            "Epoch 427/500\n",
            "270/270 [==============================] - 3s 10ms/step - loss: 0.7185 - accuracy: 0.7185 - val_loss: 1.7920 - val_accuracy: 0.3133\n",
            "Epoch 428/500\n",
            "270/270 [==============================] - 3s 11ms/step - loss: 0.7351 - accuracy: 0.7074 - val_loss: 1.6744 - val_accuracy: 0.3267\n",
            "Epoch 429/500\n",
            "270/270 [==============================] - 3s 11ms/step - loss: 0.7548 - accuracy: 0.7059 - val_loss: 1.9816 - val_accuracy: 0.3000\n",
            "Epoch 430/500\n",
            "270/270 [==============================] - 3s 11ms/step - loss: 0.7441 - accuracy: 0.7022 - val_loss: 1.6687 - val_accuracy: 0.2667\n",
            "Epoch 431/500\n",
            "270/270 [==============================] - 3s 11ms/step - loss: 0.7344 - accuracy: 0.7207 - val_loss: 1.7948 - val_accuracy: 0.3000\n",
            "Epoch 432/500\n",
            "270/270 [==============================] - 3s 10ms/step - loss: 0.7268 - accuracy: 0.7207 - val_loss: 1.9038 - val_accuracy: 0.2733\n",
            "Epoch 433/500\n",
            "270/270 [==============================] - 3s 10ms/step - loss: 0.7326 - accuracy: 0.7222 - val_loss: 1.7143 - val_accuracy: 0.2733\n",
            "Epoch 434/500\n",
            "270/270 [==============================] - 3s 11ms/step - loss: 0.6936 - accuracy: 0.7407 - val_loss: 1.6019 - val_accuracy: 0.3467\n",
            "Epoch 435/500\n",
            "270/270 [==============================] - 3s 10ms/step - loss: 0.7158 - accuracy: 0.7133 - val_loss: 2.0981 - val_accuracy: 0.2667\n",
            "Epoch 436/500\n",
            "270/270 [==============================] - 3s 11ms/step - loss: 0.7007 - accuracy: 0.7163 - val_loss: 1.9203 - val_accuracy: 0.2867\n",
            "Epoch 437/500\n",
            "270/270 [==============================] - 3s 11ms/step - loss: 0.7107 - accuracy: 0.7230 - val_loss: 1.7267 - val_accuracy: 0.3067\n",
            "Epoch 438/500\n",
            "270/270 [==============================] - 3s 11ms/step - loss: 0.7494 - accuracy: 0.6956 - val_loss: 2.1145 - val_accuracy: 0.2400\n",
            "Epoch 439/500\n",
            "270/270 [==============================] - 3s 10ms/step - loss: 0.7325 - accuracy: 0.6933 - val_loss: 2.3594 - val_accuracy: 0.2733\n",
            "Epoch 440/500\n",
            "270/270 [==============================] - 3s 11ms/step - loss: 0.6818 - accuracy: 0.7422 - val_loss: 1.6746 - val_accuracy: 0.2933\n",
            "Epoch 441/500\n",
            "270/270 [==============================] - 3s 10ms/step - loss: 0.7265 - accuracy: 0.7089 - val_loss: 1.7651 - val_accuracy: 0.2933\n",
            "Epoch 442/500\n",
            "270/270 [==============================] - 3s 11ms/step - loss: 0.6983 - accuracy: 0.7274 - val_loss: 1.6297 - val_accuracy: 0.3067\n",
            "Epoch 443/500\n",
            "270/270 [==============================] - 3s 11ms/step - loss: 0.6876 - accuracy: 0.7363 - val_loss: 2.3825 - val_accuracy: 0.2800\n",
            "Epoch 444/500\n",
            "270/270 [==============================] - 3s 11ms/step - loss: 0.6730 - accuracy: 0.7378 - val_loss: 1.7281 - val_accuracy: 0.3000\n",
            "Epoch 445/500\n",
            "270/270 [==============================] - 3s 10ms/step - loss: 0.7368 - accuracy: 0.6985 - val_loss: 2.0321 - val_accuracy: 0.2467\n",
            "Epoch 446/500\n",
            "270/270 [==============================] - 3s 11ms/step - loss: 0.7243 - accuracy: 0.7148 - val_loss: 1.7675 - val_accuracy: 0.3200\n",
            "Epoch 447/500\n",
            "270/270 [==============================] - 3s 11ms/step - loss: 0.7480 - accuracy: 0.7089 - val_loss: 1.6771 - val_accuracy: 0.3067\n",
            "Epoch 448/500\n",
            "270/270 [==============================] - 3s 11ms/step - loss: 0.7115 - accuracy: 0.7141 - val_loss: 1.7342 - val_accuracy: 0.2867\n",
            "Epoch 449/500\n",
            "270/270 [==============================] - 3s 10ms/step - loss: 0.7264 - accuracy: 0.7052 - val_loss: 3.6166 - val_accuracy: 0.2467\n",
            "Epoch 450/500\n",
            "270/270 [==============================] - 3s 10ms/step - loss: 0.7021 - accuracy: 0.7341 - val_loss: 1.8137 - val_accuracy: 0.2933\n",
            "Epoch 451/500\n",
            "270/270 [==============================] - 3s 11ms/step - loss: 0.7365 - accuracy: 0.7081 - val_loss: 1.8651 - val_accuracy: 0.3000\n",
            "Epoch 452/500\n",
            "270/270 [==============================] - 3s 10ms/step - loss: 0.7095 - accuracy: 0.7104 - val_loss: 2.4051 - val_accuracy: 0.2667\n",
            "Epoch 453/500\n",
            "270/270 [==============================] - 3s 10ms/step - loss: 0.7221 - accuracy: 0.7267 - val_loss: 1.6433 - val_accuracy: 0.3067\n",
            "Epoch 454/500\n",
            "270/270 [==============================] - 3s 11ms/step - loss: 0.7312 - accuracy: 0.7341 - val_loss: 1.7591 - val_accuracy: 0.2867\n",
            "Epoch 455/500\n",
            "270/270 [==============================] - 3s 11ms/step - loss: 0.7202 - accuracy: 0.7237 - val_loss: 1.7157 - val_accuracy: 0.2933\n",
            "Epoch 456/500\n",
            "270/270 [==============================] - 3s 11ms/step - loss: 0.7040 - accuracy: 0.7222 - val_loss: 1.7755 - val_accuracy: 0.3133\n",
            "Epoch 457/500\n",
            "270/270 [==============================] - 3s 11ms/step - loss: 0.7336 - accuracy: 0.7163 - val_loss: 1.7219 - val_accuracy: 0.2933\n",
            "Epoch 458/500\n",
            "270/270 [==============================] - 3s 10ms/step - loss: 0.7432 - accuracy: 0.6933 - val_loss: 2.0246 - val_accuracy: 0.2667\n",
            "Epoch 459/500\n",
            "270/270 [==============================] - 3s 10ms/step - loss: 0.7244 - accuracy: 0.7089 - val_loss: 1.8642 - val_accuracy: 0.2733\n",
            "Epoch 460/500\n",
            "270/270 [==============================] - 3s 11ms/step - loss: 0.7059 - accuracy: 0.7304 - val_loss: 2.0080 - val_accuracy: 0.2733\n",
            "Epoch 461/500\n",
            "270/270 [==============================] - 3s 11ms/step - loss: 0.7276 - accuracy: 0.7207 - val_loss: 2.0300 - val_accuracy: 0.2933\n",
            "Epoch 462/500\n",
            "270/270 [==============================] - 3s 11ms/step - loss: 0.7240 - accuracy: 0.7074 - val_loss: 1.6486 - val_accuracy: 0.3267\n",
            "Epoch 463/500\n",
            "270/270 [==============================] - 3s 11ms/step - loss: 0.6968 - accuracy: 0.7170 - val_loss: 1.7100 - val_accuracy: 0.3133\n",
            "Epoch 464/500\n",
            "270/270 [==============================] - 3s 11ms/step - loss: 0.7137 - accuracy: 0.7111 - val_loss: 2.2640 - val_accuracy: 0.2667\n",
            "Epoch 465/500\n",
            "270/270 [==============================] - 3s 10ms/step - loss: 0.7140 - accuracy: 0.7111 - val_loss: 1.6140 - val_accuracy: 0.3000\n",
            "Epoch 466/500\n",
            "270/270 [==============================] - 3s 11ms/step - loss: 0.7159 - accuracy: 0.7104 - val_loss: 1.9161 - val_accuracy: 0.2933\n",
            "Epoch 467/500\n",
            "270/270 [==============================] - 3s 10ms/step - loss: 0.7063 - accuracy: 0.7185 - val_loss: 1.7081 - val_accuracy: 0.3267\n",
            "Epoch 468/500\n",
            "270/270 [==============================] - 3s 11ms/step - loss: 0.7341 - accuracy: 0.7200 - val_loss: 1.7001 - val_accuracy: 0.3333\n",
            "Epoch 469/500\n",
            "270/270 [==============================] - 3s 11ms/step - loss: 0.7325 - accuracy: 0.7281 - val_loss: 2.0123 - val_accuracy: 0.2800\n",
            "Epoch 470/500\n",
            "270/270 [==============================] - 3s 10ms/step - loss: 0.7154 - accuracy: 0.7178 - val_loss: 2.3797 - val_accuracy: 0.2933\n",
            "Epoch 471/500\n",
            "270/270 [==============================] - 3s 10ms/step - loss: 0.7449 - accuracy: 0.7089 - val_loss: 1.9380 - val_accuracy: 0.3000\n",
            "Epoch 472/500\n",
            "270/270 [==============================] - 3s 11ms/step - loss: 0.7155 - accuracy: 0.7267 - val_loss: 2.0092 - val_accuracy: 0.2667\n",
            "Epoch 473/500\n",
            "270/270 [==============================] - 3s 10ms/step - loss: 0.7487 - accuracy: 0.7141 - val_loss: 2.1674 - val_accuracy: 0.2333\n",
            "Epoch 474/500\n",
            "270/270 [==============================] - 3s 11ms/step - loss: 0.6901 - accuracy: 0.7370 - val_loss: 1.8423 - val_accuracy: 0.2867\n",
            "Epoch 475/500\n",
            "270/270 [==============================] - 3s 11ms/step - loss: 0.6951 - accuracy: 0.7200 - val_loss: 1.5888 - val_accuracy: 0.3133\n",
            "Epoch 476/500\n",
            "270/270 [==============================] - 3s 11ms/step - loss: 0.6952 - accuracy: 0.7163 - val_loss: 2.3686 - val_accuracy: 0.2667\n",
            "Epoch 477/500\n",
            "270/270 [==============================] - 3s 10ms/step - loss: 0.7170 - accuracy: 0.7104 - val_loss: 2.6310 - val_accuracy: 0.2667\n",
            "Epoch 478/500\n",
            "270/270 [==============================] - 3s 10ms/step - loss: 0.6684 - accuracy: 0.7259 - val_loss: 2.5723 - val_accuracy: 0.2667\n",
            "Epoch 479/500\n",
            "270/270 [==============================] - 3s 10ms/step - loss: 0.7106 - accuracy: 0.7170 - val_loss: 1.8286 - val_accuracy: 0.2867\n",
            "Epoch 480/500\n",
            "270/270 [==============================] - 3s 11ms/step - loss: 0.6914 - accuracy: 0.7259 - val_loss: 2.3154 - val_accuracy: 0.2867\n",
            "Epoch 481/500\n",
            "270/270 [==============================] - 3s 11ms/step - loss: 0.7193 - accuracy: 0.7148 - val_loss: 1.6514 - val_accuracy: 0.3200\n",
            "Epoch 482/500\n",
            "270/270 [==============================] - 3s 11ms/step - loss: 0.7084 - accuracy: 0.7156 - val_loss: 1.7004 - val_accuracy: 0.3267\n",
            "Epoch 483/500\n",
            "270/270 [==============================] - 3s 10ms/step - loss: 0.7139 - accuracy: 0.7341 - val_loss: 1.4854 - val_accuracy: 0.3667\n",
            "Epoch 484/500\n",
            "270/270 [==============================] - 3s 10ms/step - loss: 0.6563 - accuracy: 0.7563 - val_loss: 2.3956 - val_accuracy: 0.2933\n",
            "Epoch 485/500\n",
            "270/270 [==============================] - 3s 12ms/step - loss: 0.7258 - accuracy: 0.7015 - val_loss: 1.6820 - val_accuracy: 0.3133\n",
            "Epoch 486/500\n",
            "270/270 [==============================] - 3s 11ms/step - loss: 0.7076 - accuracy: 0.7237 - val_loss: 1.7116 - val_accuracy: 0.3133\n",
            "Epoch 487/500\n",
            "270/270 [==============================] - 3s 11ms/step - loss: 0.6502 - accuracy: 0.7556 - val_loss: 1.6578 - val_accuracy: 0.3000\n",
            "Epoch 488/500\n",
            "270/270 [==============================] - 3s 11ms/step - loss: 0.7303 - accuracy: 0.7067 - val_loss: 1.9099 - val_accuracy: 0.2667\n",
            "Epoch 489/500\n",
            "270/270 [==============================] - 3s 11ms/step - loss: 0.7083 - accuracy: 0.7207 - val_loss: 1.7978 - val_accuracy: 0.2733\n",
            "Epoch 490/500\n",
            "270/270 [==============================] - 3s 11ms/step - loss: 0.6663 - accuracy: 0.7267 - val_loss: 1.6959 - val_accuracy: 0.2867\n",
            "Epoch 491/500\n",
            "270/270 [==============================] - 3s 10ms/step - loss: 0.6955 - accuracy: 0.7289 - val_loss: 2.2481 - val_accuracy: 0.3067\n",
            "Epoch 492/500\n",
            "270/270 [==============================] - 3s 11ms/step - loss: 0.6931 - accuracy: 0.7170 - val_loss: 1.8968 - val_accuracy: 0.3133\n",
            "Epoch 493/500\n",
            "270/270 [==============================] - 3s 10ms/step - loss: 0.7439 - accuracy: 0.7126 - val_loss: 1.7957 - val_accuracy: 0.3067\n",
            "Epoch 494/500\n",
            "270/270 [==============================] - 3s 10ms/step - loss: 0.6372 - accuracy: 0.7526 - val_loss: 1.8670 - val_accuracy: 0.3133\n",
            "Epoch 495/500\n",
            "270/270 [==============================] - 3s 11ms/step - loss: 0.7051 - accuracy: 0.7311 - val_loss: 1.7289 - val_accuracy: 0.3000\n",
            "Epoch 496/500\n",
            "270/270 [==============================] - 3s 10ms/step - loss: 0.6843 - accuracy: 0.7259 - val_loss: 1.8343 - val_accuracy: 0.3200\n",
            "Epoch 497/500\n",
            "270/270 [==============================] - 3s 10ms/step - loss: 0.7158 - accuracy: 0.7244 - val_loss: 1.6604 - val_accuracy: 0.3200\n",
            "Epoch 498/500\n",
            "270/270 [==============================] - 3s 11ms/step - loss: 0.6922 - accuracy: 0.7319 - val_loss: 1.7971 - val_accuracy: 0.2933\n",
            "Epoch 499/500\n",
            "270/270 [==============================] - 3s 11ms/step - loss: 0.7031 - accuracy: 0.7252 - val_loss: 1.6944 - val_accuracy: 0.3067\n",
            "Epoch 500/500\n",
            "270/270 [==============================] - 3s 11ms/step - loss: 0.7361 - accuracy: 0.7259 - val_loss: 1.8411 - val_accuracy: 0.3000\n"
          ],
          "name": "stdout"
        }
      ]
    },
    {
      "cell_type": "code",
      "metadata": {
        "id": "Vm8APVRTmw3m",
        "colab_type": "code",
        "colab": {
          "base_uri": "https://localhost:8080/",
          "height": 320
        },
        "outputId": "1de70da6-d481-425c-a612-f75b4b6d3210"
      },
      "source": [
        "History_plotter(his)"
      ],
      "execution_count": 63,
      "outputs": [
        {
          "output_type": "display_data",
          "data": {
            "image/png": "[encoded data removed]",
            "text/plain": [
              "<Figure size 576x360 with 1 Axes>"
            ]
          },
          "metadata": {
            "tags": []
          }
        }
      ]
    },
    {
      "cell_type": "code",
      "metadata": {
        "id": "O-grxp91mw6w",
        "colab_type": "code",
        "colab": {}
      },
      "source": [
        ""
      ],
      "execution_count": 0,
      "outputs": []
    },
    {
      "cell_type": "code",
      "metadata": {
        "id": "mcySSzZkVyxa",
        "colab_type": "code",
        "colab": {
          "base_uri": "https://localhost:8080/",
          "height": 337
        },
        "outputId": "edda87b7-ecd3-462d-9431-8670d19cfa47"
      },
      "source": [
        ""
      ],
      "execution_count": 15,
      "outputs": [
        {
          "output_type": "execute_result",
          "data": {
            "text/plain": [
              "<matplotlib.axes._subplots.AxesSubplot at 0x7f415e18d7f0>"
            ]
          },
          "metadata": {
            "tags": []
          },
          "execution_count": 15
        },
        {
          "output_type": "display_data",
          "data": {
            "image/png": "[encoded data removed]",
            "text/plain": [
              "<Figure size 576x360 with 1 Axes>"
            ]
          },
          "metadata": {
            "tags": []
          }
        }
      ]
    },
    {
      "cell_type": "code",
      "metadata": {
        "id": "uUP-deWUcA5Y",
        "colab_type": "code",
        "colab": {}
      },
      "source": [
        ""
      ],
      "execution_count": 0,
      "outputs": []
    },
    {
      "cell_type": "code",
      "metadata": {
        "id": "IetBLv_OJA31",
        "colab_type": "code",
        "colab": {
          "base_uri": "https://localhost:8080/",
          "height": 191
        },
        "outputId": "522c6ecc-f71b-4732-e32a-5cb71460bbb5"
      },
      "source": [
        ""
      ],
      "execution_count": 26,
      "outputs": [
        {
          "output_type": "execute_result",
          "data": {
            "text/plain": [
              "[1.1773306131362915,\n",
              " 1.1978554725646973,\n",
              " 1.1939903497695923,\n",
              " 1.17960524559021,\n",
              " 1.1781431436538696,\n",
              " 1.1840314865112305,\n",
              " 1.1703736782073975,\n",
              " 1.1898702383041382,\n",
              " 1.1748608350753784,\n",
              " 1.1919866800308228]"
            ]
          },
          "metadata": {
            "tags": []
          },
          "execution_count": 26
        }
      ]
    },
    {
      "cell_type": "code",
      "metadata": {
        "id": "ptAoHncamw9p",
        "colab_type": "code",
        "colab": {
          "base_uri": "https://localhost:8080/",
          "height": 34
        },
        "outputId": "17d7aee9-b44c-4ba5-a5f3-54fbc9f9fc95"
      },
      "source": [
        "np.shape(History)"
      ],
      "execution_count": 35,
      "outputs": [
        {
          "output_type": "execute_result",
          "data": {
            "text/plain": [
              "(4, 10)"
            ]
          },
          "metadata": {
            "tags": []
          },
          "execution_count": 35
        }
      ]
    },
    {
      "cell_type": "code",
      "metadata": {
        "id": "ZTkRcJ9UmxAN",
        "colab_type": "code",
        "colab": {}
      },
      "source": [
        ""
      ],
      "execution_count": 0,
      "outputs": []
    },
    {
      "cell_type": "markdown",
      "metadata": {
        "id": "BHQ_hzYSmxJd",
        "colab_type": "text"
      },
      "source": [
        "#DATA"
      ]
    },
    {
      "cell_type": "markdown",
      "metadata": {
        "id": "diYGXTQ7vQsJ",
        "colab_type": "text"
      },
      "source": [
        "## Lower fluctuation in validation loss function"
      ]
    },
    {
      "cell_type": "code",
      "metadata": {
        "id": "1vMdoPALmx37",
        "colab_type": "code",
        "colab": {}
      },
      "source": [
        "model = keras.models.Sequential()\n",
        "\n",
        "active = 'selu'\n",
        "\n",
        "model.add(keras.layers.AvgPool1D(1, input_shape=(int(7200/under_sample),63) ))\n",
        "model.add(keras.layers.Dropout(0.5))\n",
        "model.add(keras.layers.Conv1D(filters=30, kernel_size=4, activation=active, kernel_initializer=\"he_normal\"))\n",
        "model.add(keras.layers.Conv1D(filters=35, kernel_size=2, activation=active, kernel_initializer=\"he_normal\"))\n",
        "model.add(keras.layers.AvgPool1D(pool_size=3))\n",
        "\n",
        "model.add(keras.layers.BatchNormalization())\n",
        "model.add(keras.layers.Conv1D(filters=25, kernel_size=5, activation=active, kernel_initializer=\"he_normal\"))\n",
        "model.add(keras.layers.Dropout(0.3))\n",
        "model.add(keras.layers.BatchNormalization())\n",
        "model.add(keras.layers.Conv1D(filters=10, kernel_size=3, activation=active, kernel_initializer=\"he_normal\"))\n",
        "model.add(keras.layers.MaxPool1D(pool_size=2))\n",
        "\n",
        "model.add(keras.layers.BatchNormalization())\n",
        "model.add(keras.layers.Conv1D(filters=7, kernel_size=3, activation=active, kernel_initializer=\"he_normal\"))\n",
        "model.add(keras.layers.Dropout(0.3))\n",
        "model.add(keras.layers.BatchNormalization())\n",
        "model.add(keras.layers.Conv1D(filters=3, kernel_size=3, activation=active, kernel_initializer=\"he_normal\"))\n",
        "model.add(keras.layers.MaxPool1D(pool_size=2))\n",
        "\n",
        "model.add(keras.layers.BatchNormalization())\n",
        "model.add(keras.layers.Dropout(0.5))\n",
        "model.add(keras.layers.MaxPooling1D(pool_size=4))\n",
        "model.add(keras.layers.Flatten())\n",
        "\n",
        "model.add(keras.layers.BatchNormalization())\n",
        "model.add(keras.layers.Dense(50, activation=active, kernel_initializer=\"he_normal\"))\n",
        "model.add(keras.layers.Dense(10, activation = active, kernel_initializer=\"he_normal\"))\n",
        "model.add(keras.layers.BatchNormalization())\n",
        "\n",
        "model.add(keras.layers.Dense(4, activation='softmax', kernel_initializer=\"he_normal\"))\n",
        "\n",
        "#Lower Fluctiotion in val_loss\n"
      ],
      "execution_count": 0,
      "outputs": []
    },
    {
      "cell_type": "code",
      "metadata": {
        "id": "GlddVAW9KQEn",
        "colab_type": "code",
        "colab": {
          "base_uri": "https://localhost:8080/",
          "height": 337
        },
        "outputId": "fc92214e-aec9-4010-e953-eb5a1af24272"
      },
      "source": [
        "DataFrame(his.history).plot(figsize=(8, 5))\n"
      ],
      "execution_count": 53,
      "outputs": [
        {
          "output_type": "execute_result",
          "data": {
            "text/plain": [
              "<matplotlib.axes._subplots.AxesSubplot at 0x7f03b0276860>"
            ]
          },
          "metadata": {
            "tags": []
          },
          "execution_count": 53
        },
        {
          "output_type": "display_data",
          "data": {
            "image/png": "[encoded data removed]",
            "text/plain": [
              "<Figure size 576x360 with 1 Axes>"
            ]
          },
          "metadata": {
            "tags": []
          }
        }
      ]
    },
    {
      "cell_type": "markdown",
      "metadata": {
        "id": "_prsHkztumzl",
        "colab_type": "text"
      },
      "source": [
        "## All kernel sizes small"
      ]
    },
    {
      "cell_type": "code",
      "metadata": {
        "id": "lKYU0ajwuqIV",
        "colab_type": "code",
        "colab": {}
      },
      "source": [
        "model = keras.models.Sequential()\n",
        "\n",
        "active = 'selu'\n",
        "\n",
        "model.add(keras.layers.MaxPool1D(1, input_shape=(int(7200/under_sample),63) ))\n",
        "model.add(keras.layers.Conv1D(filters=60, kernel_size=4, activation=active, kernel_initializer=\"he_normal\"))\n",
        "model.add(keras.layers.Conv1D(filters=40, kernel_size=2, activation=active, kernel_initializer=\"he_normal\"))\n",
        "model.add(keras.layers.MaxPool1D(pool_size=2))\n",
        "\n",
        "model.add(keras.layers.BatchNormalization())\n",
        "model.add(keras.layers.Conv1D(filters=30, kernel_size=2, activation=active, kernel_initializer=\"he_normal\"))\n",
        "model.add(keras.layers.Dropout(0.3))\n",
        "model.add(keras.layers.BatchNormalization())\n",
        "model.add(keras.layers.Conv1D(filters=20, kernel_size=2, activation=active, kernel_initializer=\"he_normal\"))\n",
        "model.add(keras.layers.MaxPool1D(pool_size=2))\n",
        "\n",
        "model.add(keras.layers.BatchNormalization())\n",
        "model.add(keras.layers.Conv1D(filters=10, kernel_size=2, activation=active, kernel_initializer=\"he_normal\"))\n",
        "model.add(keras.layers.Dropout(0.3))\n",
        "model.add(keras.layers.BatchNormalization())\n",
        "model.add(keras.layers.Conv1D(filters=5, kernel_size=3, activation=active, kernel_initializer=\"he_normal\"))\n",
        "model.add(keras.layers.MaxPool1D(pool_size=2))\n",
        "\n",
        "model.add(keras.layers.BatchNormalization())\n",
        "model.add(keras.layers.MaxPooling1D(pool_size=4))\n",
        "model.add(keras.layers.Flatten())\n",
        "\n",
        "model.add(keras.layers.BatchNormalization())\n",
        "model.add(keras.layers.Dense(50, activation=active, kernel_initializer=\"he_normal\"))\n",
        "model.add(keras.layers.Dropout(0.3))\n",
        "model.add(keras.layers.Dense(10, activation = active, kernel_initializer=\"he_normal\"))\n",
        "model.add(keras.layers.BatchNormalization())\n",
        "\n",
        "model.add(keras.layers.Dense(4, activation='softmax', kernel_initializer=\"he_normal\"))\n",
        "\n",
        "\n"
      ],
      "execution_count": 0,
      "outputs": []
    },
    {
      "cell_type": "code",
      "metadata": {
        "id": "q-rEIakvusro",
        "colab_type": "code",
        "colab": {
          "base_uri": "https://localhost:8080/",
          "height": 339
        },
        "outputId": "80802135-ef21-466e-a074-10aa644cc959"
      },
      "source": [
        "DataFrame(his.history).plot(figsize=(8, 5))\n"
      ],
      "execution_count": 106,
      "outputs": [
        {
          "output_type": "execute_result",
          "data": {
            "text/plain": [
              "<matplotlib.axes._subplots.AxesSubplot at 0x7f03801507b8>"
            ]
          },
          "metadata": {
            "tags": []
          },
          "execution_count": 106
        },
        {
          "output_type": "display_data",
          "data": {
            "image/png": "[encoded data removed]",
            "text/plain": [
              "<Figure size 576x360 with 1 Axes>"
            ]
          },
          "metadata": {
            "tags": []
          }
        }
      ]
    },
    {
      "cell_type": "markdown",
      "metadata": {
        "id": "qHSv8Z7cveu2",
        "colab_type": "text"
      },
      "source": [
        "## All Kernel sizes are Large"
      ]
    },
    {
      "cell_type": "code",
      "metadata": {
        "id": "9hJ0i0oBvil8",
        "colab_type": "code",
        "colab": {}
      },
      "source": [
        "model = keras.models.Sequential()\n",
        "\n",
        "active = 'selu'\n",
        "\n",
        "model.add(keras.layers.MaxPool1D(1, input_shape=(int(7200/under_sample),63) ))\n",
        "model.add(keras.layers.Conv1D(filters=60, kernel_size=5, activation=active, kernel_initializer=\"he_normal\"))\n",
        "model.add(keras.layers.Conv1D(filters=40, kernel_size=5, activation=active, kernel_initializer=\"he_normal\"))\n",
        "model.add(keras.layers.MaxPool1D(pool_size=2))\n",
        "\n",
        "model.add(keras.layers.BatchNormalization())\n",
        "model.add(keras.layers.Conv1D(filters=30, kernel_size=5, activation=active, kernel_initializer=\"he_normal\"))\n",
        "model.add(keras.layers.Dropout(0.3))\n",
        "model.add(keras.layers.BatchNormalization())\n",
        "model.add(keras.layers.Conv1D(filters=20, kernel_size=5, activation=active, kernel_initializer=\"he_normal\"))\n",
        "model.add(keras.layers.MaxPool1D(pool_size=2))\n",
        "\n",
        "model.add(keras.layers.BatchNormalization())\n",
        "model.add(keras.layers.Conv1D(filters=10, kernel_size=5, activation=active, kernel_initializer=\"he_normal\"))\n",
        "model.add(keras.layers.Dropout(0.3))\n",
        "model.add(keras.layers.BatchNormalization())\n",
        "model.add(keras.layers.Conv1D(filters=5, kernel_size=3, activation=active, kernel_initializer=\"he_normal\"))\n",
        "model.add(keras.layers.MaxPool1D(pool_size=2))\n",
        "\n",
        "model.add(keras.layers.BatchNormalization())\n",
        "model.add(keras.layers.MaxPooling1D(pool_size=4))\n",
        "model.add(keras.layers.Flatten())\n",
        "\n",
        "model.add(keras.layers.BatchNormalization())\n",
        "model.add(keras.layers.Dense(50, activation=active, kernel_initializer=\"he_normal\"))\n",
        "model.add(keras.layers.Dropout(0.3))\n",
        "model.add(keras.layers.Dense(10, activation = active, kernel_initializer=\"he_normal\"))\n",
        "model.add(keras.layers.BatchNormalization())\n",
        "\n",
        "model.add(keras.layers.Dense(4, activation='softmax', kernel_initializer=\"he_normal\"))\n",
        "\n",
        "\n"
      ],
      "execution_count": 0,
      "outputs": []
    },
    {
      "cell_type": "code",
      "metadata": {
        "id": "bGR55PX0vnL0",
        "colab_type": "code",
        "colab": {
          "base_uri": "https://localhost:8080/",
          "height": 337
        },
        "outputId": "4b5e01cf-570b-4281-bbd9-5f284c3d273c"
      },
      "source": [
        "DataFrame(his.history).plot(figsize=(8, 5))\n"
      ],
      "execution_count": 111,
      "outputs": [
        {
          "output_type": "execute_result",
          "data": {
            "text/plain": [
              "<matplotlib.axes._subplots.AxesSubplot at 0x7f0314c5c7f0>"
            ]
          },
          "metadata": {
            "tags": []
          },
          "execution_count": 111
        },
        {
          "output_type": "display_data",
          "data": {
            "image/png": "[encoded data removed]",
            "text/plain": [
              "<Figure size 576x360 with 1 Axes>"
            ]
          },
          "metadata": {
            "tags": []
          }
        }
      ]
    },
    {
      "cell_type": "code",
      "metadata": {
        "id": "9LBZennCvntB",
        "colab_type": "code",
        "colab": {}
      },
      "source": [
        ""
      ],
      "execution_count": 0,
      "outputs": []
    },
    {
      "cell_type": "markdown",
      "metadata": {
        "id": "02dZCdAwwBqP",
        "colab_type": "text"
      },
      "source": [
        "## Avg Pooling for all pooling layers"
      ]
    },
    {
      "cell_type": "code",
      "metadata": {
        "id": "Czs0xo4-wGGZ",
        "colab_type": "code",
        "colab": {}
      },
      "source": [
        "model = keras.models.Sequential()\n",
        "\n",
        "active = 'selu'\n",
        "\n",
        "model.add(keras.layers.AvgPool1D(1, input_shape=(int(7200/under_sample),63) ))\n",
        "model.add(keras.layers.Conv1D(filters=60, kernel_size=5, activation=active, kernel_initializer=\"he_normal\"))\n",
        "model.add(keras.layers.Conv1D(filters=40, kernel_size=3, activation=active, kernel_initializer=\"he_normal\"))\n",
        "model.add(keras.layers.AvgPool1D(pool_size=2))\n",
        "\n",
        "model.add(keras.layers.BatchNormalization())\n",
        "model.add(keras.layers.Conv1D(filters=30, kernel_size=2, activation=active, kernel_initializer=\"he_normal\"))\n",
        "model.add(keras.layers.Dropout(0.3))\n",
        "model.add(keras.layers.BatchNormalization())\n",
        "model.add(keras.layers.Conv1D(filters=20, kernel_size=2, activation=active, kernel_initializer=\"he_normal\"))\n",
        "model.add(keras.layers.AvgPool1D(pool_size=2))\n",
        "\n",
        "model.add(keras.layers.BatchNormalization())\n",
        "model.add(keras.layers.Conv1D(filters=10, kernel_size=2, activation=active, kernel_initializer=\"he_normal\"))\n",
        "model.add(keras.layers.Dropout(0.3))\n",
        "model.add(keras.layers.BatchNormalization())\n",
        "model.add(keras.layers.Conv1D(filters=5, kernel_size=2, activation=active, kernel_initializer=\"he_normal\"))\n",
        "model.add(keras.layers.AvgPool1D(pool_size=2))\n",
        "\n",
        "model.add(keras.layers.BatchNormalization())\n",
        "model.add(keras.layers.MaxPooling1D(pool_size=4))\n",
        "model.add(keras.layers.Flatten())\n",
        "\n",
        "model.add(keras.layers.BatchNormalization())\n",
        "model.add(keras.layers.Dense(50, activation=active, kernel_initializer=\"he_normal\"))\n",
        "model.add(keras.layers.Dropout(0.3))\n",
        "model.add(keras.layers.Dense(10, activation = active, kernel_initializer=\"he_normal\"))\n",
        "model.add(keras.layers.BatchNormalization())\n",
        "\n",
        "model.add(keras.layers.Dense(4, activation='softmax', kernel_initializer=\"he_normal\"))\n",
        "\n",
        "\n",
        "DataFrame(his.history).plot(figsize=(8, 5))\n"
      ],
      "execution_count": 0,
      "outputs": []
    },
    {
      "cell_type": "code",
      "metadata": {
        "id": "dsmQacuUwIEt",
        "colab_type": "code",
        "colab": {
          "base_uri": "https://localhost:8080/",
          "height": 337
        },
        "outputId": "61427338-18c3-40ca-9d91-1758a96f9dc0"
      },
      "source": [
        "DataFrame(his.history).plot(figsize=(8, 5))\n"
      ],
      "execution_count": 117,
      "outputs": [
        {
          "output_type": "execute_result",
          "data": {
            "text/plain": [
              "<matplotlib.axes._subplots.AxesSubplot at 0x7f031bbbf9e8>"
            ]
          },
          "metadata": {
            "tags": []
          },
          "execution_count": 117
        },
        {
          "output_type": "display_data",
          "data": {
            "image/png": "[encoded data removed]",
            "text/plain": [
              "<Figure size 576x360 with 1 Axes>"
            ]
          },
          "metadata": {
            "tags": []
          }
        }
      ]
    },
    {
      "cell_type": "markdown",
      "metadata": {
        "id": "nid5RjgqwNRS",
        "colab_type": "text"
      },
      "source": [
        "## Very Good Trace of losses"
      ]
    },
    {
      "cell_type": "code",
      "metadata": {
        "id": "txoD9JpewUYh",
        "colab_type": "code",
        "colab": {}
      },
      "source": [
        "# The input signal is not under_sampled\n",
        "\n",
        "model = keras.models.Sequential()\n",
        "\n",
        "active = 'relu'\n",
        "\n",
        "model.add(keras.layers.AvgPool1D(4, input_shape=(int(7200/under_sample),63) ))\n",
        "model.add(keras.layers.Conv1D(filters=30, kernel_size=4, activation=active, kernel_initializer=\"he_normal\"))\n",
        "model.add(keras.layers.Dropout(0.3))\n",
        "model.add(keras.layers.Conv1D(filters=30, kernel_size=4, activation=active, kernel_initializer=\"he_normal\"))\n",
        "model.add(keras.layers.AvgPool1D(pool_size=2))\n",
        "\n",
        "model.add(keras.layers.BatchNormalization())\n",
        "model.add(keras.layers.Conv1D(filters=20, kernel_size=3, activation=active, kernel_initializer=\"he_normal\"))\n",
        "model.add(keras.layers.Dropout(0.3))\n",
        "model.add(keras.layers.BatchNormalization())\n",
        "model.add(keras.layers.Conv1D(filters=10, kernel_size=3, activation=active, kernel_initializer=\"he_normal\"))\n",
        "model.add(keras.layers.MaxPool1D(pool_size=2))\n",
        "\n",
        "model.add(keras.layers.BatchNormalization())\n",
        "model.add(keras.layers.Conv1D(filters=7, kernel_size=2, activation=active, kernel_initializer=\"he_normal\"))\n",
        "model.add(keras.layers.Dropout(0.3))\n",
        "model.add(keras.layers.BatchNormalization())\n",
        "model.add(keras.layers.Conv1D(filters=3, kernel_size=2, activation=active, kernel_initializer=\"he_normal\"))\n",
        "model.add(keras.layers.MaxPool1D(pool_size=2))\n",
        "\n",
        "model.add(keras.layers.BatchNormalization())\n",
        "model.add(keras.layers.Dropout(0.5))\n",
        "model.add(keras.layers.MaxPooling1D(pool_size=4))\n",
        "model.add(keras.layers.Flatten())\n",
        "\n",
        "model.add(keras.layers.BatchNormalization())\n",
        "model.add(keras.layers.Dense(30, activation=active, kernel_initializer=\"he_normal\"))\n",
        "model.add(keras.layers.Dense(10, activation = active, kernel_initializer=\"he_normal\"))\n",
        "model.add(keras.layers.BatchNormalization())\n",
        "\n",
        "model.add(keras.layers.Dense(4, activation='softmax', kernel_initializer=\"he_normal\"))\n",
        "\n",
        "#Lower Fluctiotion in val_loss\n"
      ],
      "execution_count": 0,
      "outputs": []
    },
    {
      "cell_type": "code",
      "metadata": {
        "id": "TcIVGRXLwUU4",
        "colab_type": "code",
        "colab": {
          "base_uri": "https://localhost:8080/",
          "height": 337
        },
        "outputId": "010ddcd6-fcea-4611-b8f3-9d0bdee97f51"
      },
      "source": [
        "DataFrame(his.history).plot(figsize=(8, 5))\n"
      ],
      "execution_count": 16,
      "outputs": [
        {
          "output_type": "execute_result",
          "data": {
            "text/plain": [
              "<matplotlib.axes._subplots.AxesSubplot at 0x7f415e0c8080>"
            ]
          },
          "metadata": {
            "tags": []
          },
          "execution_count": 16
        },
        {
          "output_type": "display_data",
          "data": {
            "image/png": "[encoded data removed]",
            "text/plain": [
              "<Figure size 576x360 with 1 Axes>"
            ]
          },
          "metadata": {
            "tags": []
          }
        }
      ]
    },
    {
      "cell_type": "markdown",
      "metadata": {
        "colab_type": "text",
        "id": "wvgvKytWwRQz"
      },
      "source": [
        "## A"
      ]
    },
    {
      "cell_type": "code",
      "metadata": {
        "id": "6EBUUDyWwU76",
        "colab_type": "code",
        "colab": {}
      },
      "source": [
        ""
      ],
      "execution_count": 0,
      "outputs": []
    },
    {
      "cell_type": "code",
      "metadata": {
        "id": "3S0VrtPqwU5O",
        "colab_type": "code",
        "colab": {}
      },
      "source": [
        ""
      ],
      "execution_count": 0,
      "outputs": []
    },
    {
      "cell_type": "markdown",
      "metadata": {
        "colab_type": "text",
        "id": "Aq59-ZFnwRVq"
      },
      "source": [
        "## A"
      ]
    },
    {
      "cell_type": "code",
      "metadata": {
        "id": "r2_JzwyawVeX",
        "colab_type": "code",
        "colab": {}
      },
      "source": [
        ""
      ],
      "execution_count": 0,
      "outputs": []
    },
    {
      "cell_type": "code",
      "metadata": {
        "id": "VTnzxypZwVcG",
        "colab_type": "code",
        "colab": {}
      },
      "source": [
        ""
      ],
      "execution_count": 0,
      "outputs": []
    },
    {
      "cell_type": "markdown",
      "metadata": {
        "colab_type": "text",
        "id": "atBwLvGGwRY4"
      },
      "source": [
        "## A"
      ]
    },
    {
      "cell_type": "code",
      "metadata": {
        "id": "bs_TvsZJwWI8",
        "colab_type": "code",
        "colab": {}
      },
      "source": [
        ""
      ],
      "execution_count": 0,
      "outputs": []
    },
    {
      "cell_type": "code",
      "metadata": {
        "id": "jK1e8JnCwWGJ",
        "colab_type": "code",
        "colab": {}
      },
      "source": [
        ""
      ],
      "execution_count": 0,
      "outputs": []
    },
    {
      "cell_type": "markdown",
      "metadata": {
        "colab_type": "text",
        "id": "cCR7Yny_wRbv"
      },
      "source": [
        "## A"
      ]
    },
    {
      "cell_type": "code",
      "metadata": {
        "id": "UffF0aeIwWoq",
        "colab_type": "code",
        "colab": {}
      },
      "source": [
        ""
      ],
      "execution_count": 0,
      "outputs": []
    },
    {
      "cell_type": "code",
      "metadata": {
        "id": "3ZeNG8JxwWmZ",
        "colab_type": "code",
        "colab": {}
      },
      "source": [
        ""
      ],
      "execution_count": 0,
      "outputs": []
    },
    {
      "cell_type": "markdown",
      "metadata": {
        "colab_type": "text",
        "id": "nf3EF-zqwReu"
      },
      "source": [
        "## A"
      ]
    },
    {
      "cell_type": "code",
      "metadata": {
        "id": "69KfjcAHwXMZ",
        "colab_type": "code",
        "colab": {}
      },
      "source": [
        ""
      ],
      "execution_count": 0,
      "outputs": []
    },
    {
      "cell_type": "code",
      "metadata": {
        "id": "CO4A8KXnwXFI",
        "colab_type": "code",
        "colab": {}
      },
      "source": [
        ""
      ],
      "execution_count": 0,
      "outputs": []
    },
    {
      "cell_type": "markdown",
      "metadata": {
        "colab_type": "text",
        "id": "Zj3FoXDNwRsR"
      },
      "source": [
        "## A"
      ]
    },
    {
      "cell_type": "code",
      "metadata": {
        "id": "VB6MErABwXzS",
        "colab_type": "code",
        "colab": {}
      },
      "source": [
        ""
      ],
      "execution_count": 0,
      "outputs": []
    },
    {
      "cell_type": "code",
      "metadata": {
        "id": "WjYCOQUwwN6b",
        "colab_type": "code",
        "colab": {}
      },
      "source": [
        ""
      ],
      "execution_count": 0,
      "outputs": []
    }
  ]
}