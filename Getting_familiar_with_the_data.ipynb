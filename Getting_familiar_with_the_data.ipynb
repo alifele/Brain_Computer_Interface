{
  "nbformat": 4,
  "nbformat_minor": 0,
  "metadata": {
    "colab": {
      "name": "Getting familiar with the data",
      "provenance": [],
      "authorship_tag": "ABX9TyMCfPC0njK5wrjmC8t3/ZN1",
      "include_colab_link": true
    },
    "kernelspec": {
      "name": "python3",
      "display_name": "Python 3"
    }
  },
  "cells": [
    {
      "cell_type": "markdown",
      "metadata": {
        "id": "view-in-github",
        "colab_type": "text"
      },
      "source": [
        "<a href=\"https://colab.research.google.com/github/alifele/Brain_Computer_Interface-Competition-/blob/master/Getting_familiar_with_the_data.ipynb\" target=\"_parent\"><img src=\"https://colab.research.google.com/assets/colab-badge.svg\" alt=\"Open In Colab\"/></a>"
      ]
    },
    {
      "cell_type": "code",
      "metadata": {
        "id": "xIaYKG9dHc1G",
        "colab_type": "code",
        "outputId": "078f2736-8bab-428c-affd-8ea01a388aa2",
        "colab": {
          "base_uri": "https://localhost:8080/",
          "height": 54
        }
      },
      "source": [
        "from google.colab import drive\n",
        "drive.mount('/content/drive')"
      ],
      "execution_count": 10,
      "outputs": [
        {
          "output_type": "stream",
          "text": [
            "Drive already mounted at /content/drive; to attempt to forcibly remount, call drive.mount(\"/content/drive\", force_remount=True).\n"
          ],
          "name": "stdout"
        }
      ]
    },
    {
      "cell_type": "code",
      "metadata": {
        "id": "JtrzxTVSiL-Z",
        "colab_type": "code",
        "colab": {}
      },
      "source": [
        "import matplotlib.pyplot as plt\n",
        "import numpy as np\n",
        "import pandas as pd"
      ],
      "execution_count": 0,
      "outputs": []
    },
    {
      "cell_type": "code",
      "metadata": {
        "id": "6hTQYZsTf2wn",
        "colab_type": "code",
        "colab": {}
      },
      "source": [
        "import h5py\n",
        "filepath = 'drive/My Drive/bcic/subj_1.mat'\n",
        "data = {}\n",
        "f = h5py.File(filepath)\n",
        "for k, v in f.items():\n",
        "    data[k] = np.array(v)"
      ],
      "execution_count": 0,
      "outputs": []
    },
    {
      "cell_type": "code",
      "metadata": {
        "id": "KmNhX-tvclLV",
        "colab_type": "code",
        "colab": {
          "base_uri": "https://localhost:8080/",
          "height": 54
        },
        "outputId": "a7b89066-1f30-441a-a0e7-dd3d00fae2c6"
      },
      "source": [
        "data.keys()"
      ],
      "execution_count": 56,
      "outputs": [
        {
          "output_type": "execute_result",
          "data": {
            "text/plain": [
              "dict_keys(['test_data', 'train_data_class1', 'train_data_class2', 'train_data_class3', 'train_data_class4'])"
            ]
          },
          "metadata": {
            "tags": []
          },
          "execution_count": 56
        }
      ]
    },
    {
      "cell_type": "code",
      "metadata": {
        "id": "82ux5lYCcl6d",
        "colab_type": "code",
        "colab": {}
      },
      "source": [
        "test_data = data['test_data']\n",
        "train_data_class1 = data['train_data_class1']\n",
        "train_data_class2 = data['train_data_class2']\n",
        "train_data_class3 = data['train_data_class3']\n",
        "train_data_class4 = data['train_data_class4']\n"
      ],
      "execution_count": 0,
      "outputs": []
    },
    {
      "cell_type": "code",
      "metadata": {
        "id": "NOvEMQW3dSqj",
        "colab_type": "code",
        "colab": {
          "base_uri": "https://localhost:8080/",
          "height": 104
        },
        "outputId": "b28ba58b-8bac-4dbf-f6e9-78e9acf1ec65"
      },
      "source": [
        "print('test_data: {}'.format(test_data.shape))\n",
        "print('train_data_class1: {}'.format(train_data_class1.shape))\n",
        "print('train_data_class2: {}'.format(train_data_class2.shape))\n",
        "print('train_data_class3: {}'.format(train_data_class3.shape))\n",
        "print('train_data_class4: {}'.format(train_data_class4.shape))"
      ],
      "execution_count": 71,
      "outputs": [
        {
          "output_type": "stream",
          "text": [
            "test_data: (60, 7200, 63)\n",
            "train_data_class1: (25, 7200, 63)\n",
            "train_data_class2: (25, 7200, 63)\n",
            "train_data_class3: (25, 7200, 63)\n",
            "train_data_class4: (25, 7200, 63)\n"
          ],
          "name": "stdout"
        }
      ]
    },
    {
      "cell_type": "code",
      "metadata": {
        "id": "paHmMeWTiRl9",
        "colab_type": "code",
        "colab": {
          "base_uri": "https://localhost:8080/",
          "height": 228
        },
        "outputId": "bf3f0a91-7e93-49f6-86f8-b38c20fea05f"
      },
      "source": [
        "plt.plot()"
      ],
      "execution_count": 81,
      "outputs": [
        {
          "output_type": "execute_result",
          "data": {
            "text/plain": [
              "[<matplotlib.lines.Line2D at 0x7f88d9cb1ac8>]"
            ]
          },
          "metadata": {
            "tags": []
          },
          "execution_count": 81
        },
        {
          "output_type": "display_data",
          "data": {
            "image/png": "[encoded data removed]",
            "text/plain": [
              "<Figure size 1008x216 with 1 Axes>"
            ]
          },
          "metadata": {
            "tags": []
          }
        }
      ]
    },
    {
      "cell_type": "markdown",
      "metadata": {
        "id": "XQccG6YBslw4",
        "colab_type": "text"
      },
      "source": [
        "# Converting into the panads DataFrame"
      ]
    },
    {
      "cell_type": "code",
      "metadata": {
        "id": "CdoHezsnpJiB",
        "colab_type": "code",
        "colab": {}
      },
      "source": [
        "labels = ['ch{}'.format(i) for i in range(1,64)]"
      ],
      "execution_count": 0,
      "outputs": []
    },
    {
      "cell_type": "code",
      "metadata": {
        "id": "0l3tDhMJvhXz",
        "colab_type": "code",
        "colab": {
          "base_uri": "https://localhost:8080/",
          "height": 34
        },
        "outputId": "4290dd99-04a1-4696-deab-e333285bd209"
      },
      "source": [
        "t=  np.linspace(0,3,7200)\n",
        "t.shape"
      ],
      "execution_count": 110,
      "outputs": [
        {
          "output_type": "execute_result",
          "data": {
            "text/plain": [
              "(7200,)"
            ]
          },
          "metadata": {
            "tags": []
          },
          "execution_count": 110
        }
      ]
    },
    {
      "cell_type": "code",
      "metadata": {
        "id": "MhCOZMjBradC",
        "colab_type": "code",
        "colab": {}
      },
      "source": [
        "train_data_class1_pandas = dict()\n",
        "for index, item in enumerate(labels):\n",
        "  train_data_class1_pandas[item] = train_data_class1[1][:,index]"
      ],
      "execution_count": 0,
      "outputs": []
    },
    {
      "cell_type": "code",
      "metadata": {
        "id": "FZeAfeI9rjra",
        "colab_type": "code",
        "colab": {
          "base_uri": "https://localhost:8080/",
          "height": 226
        },
        "outputId": "94cd15b6-cc03-4df9-d251-3daa5825fa04"
      },
      "source": [
        "sample = pd.DataFrame(train_data_class1_pandas)\n",
        "sample['time'] = t\n",
        "sample.head()"
      ],
      "execution_count": 114,
      "outputs": [
        {
          "output_type": "execute_result",
          "data": {
            "text/html": [
              "<div>\n",
              "<style scoped>\n",
              "    .dataframe tbody tr th:only-of-type {\n",
              "        vertical-align: middle;\n",
              "    }\n",
              "\n",
              "    .dataframe tbody tr th {\n",
              "        vertical-align: top;\n",
              "    }\n",
              "\n",
              "    .dataframe thead th {\n",
              "        text-align: right;\n",
              "    }\n",
              "</style>\n",
              "<table border=\"1\" class=\"dataframe\">\n",
              "  <thead>\n",
              "    <tr style=\"text-align: right;\">\n",
              "      <th></th>\n",
              "      <th>ch1</th>\n",
              "      <th>ch2</th>\n",
              "      <th>ch3</th>\n",
              "      <th>ch4</th>\n",
              "      <th>ch5</th>\n",
              "      <th>ch6</th>\n",
              "      <th>ch7</th>\n",
              "      <th>ch8</th>\n",
              "      <th>ch9</th>\n",
              "      <th>ch10</th>\n",
              "      <th>ch11</th>\n",
              "      <th>ch12</th>\n",
              "      <th>ch13</th>\n",
              "      <th>ch14</th>\n",
              "      <th>ch15</th>\n",
              "      <th>ch16</th>\n",
              "      <th>ch17</th>\n",
              "      <th>ch18</th>\n",
              "      <th>ch19</th>\n",
              "      <th>ch20</th>\n",
              "      <th>ch21</th>\n",
              "      <th>ch22</th>\n",
              "      <th>ch23</th>\n",
              "      <th>ch24</th>\n",
              "      <th>ch25</th>\n",
              "      <th>ch26</th>\n",
              "      <th>ch27</th>\n",
              "      <th>ch28</th>\n",
              "      <th>ch29</th>\n",
              "      <th>ch30</th>\n",
              "      <th>ch31</th>\n",
              "      <th>ch32</th>\n",
              "      <th>ch33</th>\n",
              "      <th>ch34</th>\n",
              "      <th>ch35</th>\n",
              "      <th>ch36</th>\n",
              "      <th>ch37</th>\n",
              "      <th>ch38</th>\n",
              "      <th>ch39</th>\n",
              "      <th>ch40</th>\n",
              "      <th>ch41</th>\n",
              "      <th>ch42</th>\n",
              "      <th>ch43</th>\n",
              "      <th>ch44</th>\n",
              "      <th>ch45</th>\n",
              "      <th>ch46</th>\n",
              "      <th>ch47</th>\n",
              "      <th>ch48</th>\n",
              "      <th>ch49</th>\n",
              "      <th>ch50</th>\n",
              "      <th>ch51</th>\n",
              "      <th>ch52</th>\n",
              "      <th>ch53</th>\n",
              "      <th>ch54</th>\n",
              "      <th>ch55</th>\n",
              "      <th>ch56</th>\n",
              "      <th>ch57</th>\n",
              "      <th>ch58</th>\n",
              "      <th>ch59</th>\n",
              "      <th>ch60</th>\n",
              "      <th>ch61</th>\n",
              "      <th>ch62</th>\n",
              "      <th>ch63</th>\n",
              "      <th>time</th>\n",
              "    </tr>\n",
              "  </thead>\n",
              "  <tbody>\n",
              "    <tr>\n",
              "      <th>0</th>\n",
              "      <td>4.979052</td>\n",
              "      <td>4.424109</td>\n",
              "      <td>7.942567</td>\n",
              "      <td>2.867579</td>\n",
              "      <td>8.616431</td>\n",
              "      <td>3.901348</td>\n",
              "      <td>1.194620</td>\n",
              "      <td>3.102837</td>\n",
              "      <td>5.159412</td>\n",
              "      <td>1.919864</td>\n",
              "      <td>1.308896</td>\n",
              "      <td>-0.913760</td>\n",
              "      <td>2.038068</td>\n",
              "      <td>1.881915</td>\n",
              "      <td>7.331543</td>\n",
              "      <td>-0.055832</td>\n",
              "      <td>-4.871471</td>\n",
              "      <td>4.991608</td>\n",
              "      <td>1.854281</td>\n",
              "      <td>0.760785</td>\n",
              "      <td>-1.933569</td>\n",
              "      <td>-5.615715</td>\n",
              "      <td>4.226187</td>\n",
              "      <td>6.617886</td>\n",
              "      <td>2.385015</td>\n",
              "      <td>0.095199</td>\n",
              "      <td>-3.777805</td>\n",
              "      <td>0.060768</td>\n",
              "      <td>2.960199</td>\n",
              "      <td>-0.033383</td>\n",
              "      <td>0.422789</td>\n",
              "      <td>2.578272</td>\n",
              "      <td>1.280844</td>\n",
              "      <td>8.440418</td>\n",
              "      <td>6.353125</td>\n",
              "      <td>1.558091</td>\n",
              "      <td>-1.494732</td>\n",
              "      <td>6.766218</td>\n",
              "      <td>4.004451</td>\n",
              "      <td>-1.525210</td>\n",
              "      <td>-0.966222</td>\n",
              "      <td>5.912297</td>\n",
              "      <td>-6.036431</td>\n",
              "      <td>-3.195110</td>\n",
              "      <td>-1.573092</td>\n",
              "      <td>-1.132766</td>\n",
              "      <td>7.265143</td>\n",
              "      <td>5.036104</td>\n",
              "      <td>-0.540793</td>\n",
              "      <td>-1.954077</td>\n",
              "      <td>-7.946159</td>\n",
              "      <td>3.429525</td>\n",
              "      <td>3.109245</td>\n",
              "      <td>1.476654</td>\n",
              "      <td>-0.416465</td>\n",
              "      <td>-4.395386</td>\n",
              "      <td>6.157819</td>\n",
              "      <td>6.082728</td>\n",
              "      <td>-2.663259</td>\n",
              "      <td>4.919728</td>\n",
              "      <td>-1.548780</td>\n",
              "      <td>4.754173</td>\n",
              "      <td>5.361154</td>\n",
              "      <td>0.000000</td>\n",
              "    </tr>\n",
              "    <tr>\n",
              "      <th>1</th>\n",
              "      <td>4.282609</td>\n",
              "      <td>4.127813</td>\n",
              "      <td>7.875437</td>\n",
              "      <td>2.141112</td>\n",
              "      <td>7.635934</td>\n",
              "      <td>3.157003</td>\n",
              "      <td>0.673336</td>\n",
              "      <td>2.260132</td>\n",
              "      <td>4.759935</td>\n",
              "      <td>1.743070</td>\n",
              "      <td>0.752468</td>\n",
              "      <td>-1.344406</td>\n",
              "      <td>0.892298</td>\n",
              "      <td>2.253297</td>\n",
              "      <td>6.772868</td>\n",
              "      <td>-0.394532</td>\n",
              "      <td>-5.615255</td>\n",
              "      <td>1.232851</td>\n",
              "      <td>4.043084</td>\n",
              "      <td>0.175523</td>\n",
              "      <td>-2.337136</td>\n",
              "      <td>-6.372312</td>\n",
              "      <td>3.430044</td>\n",
              "      <td>6.084281</td>\n",
              "      <td>1.931054</td>\n",
              "      <td>-0.514337</td>\n",
              "      <td>-3.901181</td>\n",
              "      <td>0.016839</td>\n",
              "      <td>2.318494</td>\n",
              "      <td>-0.406795</td>\n",
              "      <td>-0.106620</td>\n",
              "      <td>1.760062</td>\n",
              "      <td>1.097063</td>\n",
              "      <td>7.713661</td>\n",
              "      <td>5.986512</td>\n",
              "      <td>1.090871</td>\n",
              "      <td>-2.641068</td>\n",
              "      <td>6.379326</td>\n",
              "      <td>3.523252</td>\n",
              "      <td>-1.760309</td>\n",
              "      <td>-1.651064</td>\n",
              "      <td>4.513558</td>\n",
              "      <td>-5.315701</td>\n",
              "      <td>-3.961047</td>\n",
              "      <td>-2.071561</td>\n",
              "      <td>-2.470519</td>\n",
              "      <td>5.185998</td>\n",
              "      <td>4.493635</td>\n",
              "      <td>-0.635476</td>\n",
              "      <td>-2.518380</td>\n",
              "      <td>-8.813279</td>\n",
              "      <td>3.741374</td>\n",
              "      <td>2.761831</td>\n",
              "      <td>1.068187</td>\n",
              "      <td>-0.958210</td>\n",
              "      <td>-4.559888</td>\n",
              "      <td>5.520842</td>\n",
              "      <td>5.345056</td>\n",
              "      <td>-2.405399</td>\n",
              "      <td>4.302098</td>\n",
              "      <td>-1.237549</td>\n",
              "      <td>4.880926</td>\n",
              "      <td>3.284861</td>\n",
              "      <td>0.000417</td>\n",
              "    </tr>\n",
              "    <tr>\n",
              "      <th>2</th>\n",
              "      <td>3.408988</td>\n",
              "      <td>3.542501</td>\n",
              "      <td>7.617191</td>\n",
              "      <td>1.337875</td>\n",
              "      <td>6.357128</td>\n",
              "      <td>2.395939</td>\n",
              "      <td>0.072501</td>\n",
              "      <td>1.296753</td>\n",
              "      <td>4.085607</td>\n",
              "      <td>1.366270</td>\n",
              "      <td>0.145801</td>\n",
              "      <td>-1.796226</td>\n",
              "      <td>-0.453414</td>\n",
              "      <td>2.565447</td>\n",
              "      <td>5.966598</td>\n",
              "      <td>-0.759392</td>\n",
              "      <td>-6.400559</td>\n",
              "      <td>-2.552315</td>\n",
              "      <td>5.762508</td>\n",
              "      <td>-0.344395</td>\n",
              "      <td>-2.771637</td>\n",
              "      <td>-7.027453</td>\n",
              "      <td>2.141490</td>\n",
              "      <td>5.544518</td>\n",
              "      <td>1.447901</td>\n",
              "      <td>-1.127494</td>\n",
              "      <td>-3.993662</td>\n",
              "      <td>-0.181062</td>\n",
              "      <td>1.766789</td>\n",
              "      <td>-0.802370</td>\n",
              "      <td>-0.619569</td>\n",
              "      <td>0.972798</td>\n",
              "      <td>0.801123</td>\n",
              "      <td>6.659025</td>\n",
              "      <td>5.470952</td>\n",
              "      <td>0.449915</td>\n",
              "      <td>-3.992591</td>\n",
              "      <td>5.598660</td>\n",
              "      <td>2.869342</td>\n",
              "      <td>-2.103758</td>\n",
              "      <td>-2.462806</td>\n",
              "      <td>2.785563</td>\n",
              "      <td>-4.624533</td>\n",
              "      <td>-4.598045</td>\n",
              "      <td>-2.654222</td>\n",
              "      <td>-3.901716</td>\n",
              "      <td>2.303315</td>\n",
              "      <td>3.955731</td>\n",
              "      <td>-0.833476</td>\n",
              "      <td>-3.199884</td>\n",
              "      <td>-9.390127</td>\n",
              "      <td>3.716655</td>\n",
              "      <td>2.462633</td>\n",
              "      <td>0.642260</td>\n",
              "      <td>-1.504693</td>\n",
              "      <td>-4.835538</td>\n",
              "      <td>5.099820</td>\n",
              "      <td>4.599174</td>\n",
              "      <td>-2.351870</td>\n",
              "      <td>3.711350</td>\n",
              "      <td>-0.969309</td>\n",
              "      <td>4.847364</td>\n",
              "      <td>1.108456</td>\n",
              "      <td>0.000833</td>\n",
              "    </tr>\n",
              "    <tr>\n",
              "      <th>3</th>\n",
              "      <td>2.399816</td>\n",
              "      <td>2.692535</td>\n",
              "      <td>7.149571</td>\n",
              "      <td>0.499908</td>\n",
              "      <td>4.835746</td>\n",
              "      <td>1.663079</td>\n",
              "      <td>-0.577477</td>\n",
              "      <td>0.271292</td>\n",
              "      <td>3.168929</td>\n",
              "      <td>0.820227</td>\n",
              "      <td>-0.478218</td>\n",
              "      <td>-2.236743</td>\n",
              "      <td>-1.913568</td>\n",
              "      <td>2.766610</td>\n",
              "      <td>4.988720</td>\n",
              "      <td>-1.095179</td>\n",
              "      <td>-7.159502</td>\n",
              "      <td>-6.067552</td>\n",
              "      <td>6.921777</td>\n",
              "      <td>-0.741596</td>\n",
              "      <td>-3.173244</td>\n",
              "      <td>-7.512347</td>\n",
              "      <td>0.486436</td>\n",
              "      <td>5.053380</td>\n",
              "      <td>1.007908</td>\n",
              "      <td>-1.673100</td>\n",
              "      <td>-4.018391</td>\n",
              "      <td>-0.514673</td>\n",
              "      <td>1.388476</td>\n",
              "      <td>-1.159319</td>\n",
              "      <td>-1.030298</td>\n",
              "      <td>0.322022</td>\n",
              "      <td>0.396836</td>\n",
              "      <td>5.334151</td>\n",
              "      <td>4.828679</td>\n",
              "      <td>-0.332113</td>\n",
              "      <td>-5.482532</td>\n",
              "      <td>4.454207</td>\n",
              "      <td>2.067034</td>\n",
              "      <td>-2.527110</td>\n",
              "      <td>-3.342267</td>\n",
              "      <td>0.830118</td>\n",
              "      <td>-3.986767</td>\n",
              "      <td>-5.047577</td>\n",
              "      <td>-3.259585</td>\n",
              "      <td>-5.296132</td>\n",
              "      <td>-1.186800</td>\n",
              "      <td>3.462896</td>\n",
              "      <td>-1.072945</td>\n",
              "      <td>-3.925029</td>\n",
              "      <td>-9.606421</td>\n",
              "      <td>3.381590</td>\n",
              "      <td>2.273648</td>\n",
              "      <td>0.259318</td>\n",
              "      <td>-2.000659</td>\n",
              "      <td>-5.169600</td>\n",
              "      <td>4.975804</td>\n",
              "      <td>3.936151</td>\n",
              "      <td>-2.467487</td>\n",
              "      <td>3.264078</td>\n",
              "      <td>-0.620579</td>\n",
              "      <td>4.690921</td>\n",
              "      <td>-1.003668</td>\n",
              "      <td>0.001250</td>\n",
              "    </tr>\n",
              "    <tr>\n",
              "      <th>4</th>\n",
              "      <td>1.297745</td>\n",
              "      <td>1.616906</td>\n",
              "      <td>6.462175</td>\n",
              "      <td>-0.336439</td>\n",
              "      <td>3.135829</td>\n",
              "      <td>0.990353</td>\n",
              "      <td>-1.249718</td>\n",
              "      <td>-0.761544</td>\n",
              "      <td>2.050482</td>\n",
              "      <td>0.144697</td>\n",
              "      <td>-1.091169</td>\n",
              "      <td>-2.642223</td>\n",
              "      <td>-3.404377</td>\n",
              "      <td>2.810448</td>\n",
              "      <td>3.918969</td>\n",
              "      <td>-1.355500</td>\n",
              "      <td>-7.835641</td>\n",
              "      <td>-9.062503</td>\n",
              "      <td>7.482502</td>\n",
              "      <td>-0.976113</td>\n",
              "      <td>-3.488361</td>\n",
              "      <td>-7.782756</td>\n",
              "      <td>-1.384824</td>\n",
              "      <td>4.648595</td>\n",
              "      <td>0.671285</td>\n",
              "      <td>-2.093172</td>\n",
              "      <td>-3.949409</td>\n",
              "      <td>-0.956071</td>\n",
              "      <td>1.241349</td>\n",
              "      <td>-1.425368</td>\n",
              "      <td>-1.265756</td>\n",
              "      <td>-0.104926</td>\n",
              "      <td>-0.108627</td>\n",
              "      <td>3.810513</td>\n",
              "      <td>4.082087</td>\n",
              "      <td>-1.218446</td>\n",
              "      <td>-7.043957</td>\n",
              "      <td>2.992869</td>\n",
              "      <td>1.138694</td>\n",
              "      <td>-3.001005</td>\n",
              "      <td>-4.235129</td>\n",
              "      <td>-1.245756</td>\n",
              "      <td>-3.417765</td>\n",
              "      <td>-5.270655</td>\n",
              "      <td>-3.831550</td>\n",
              "      <td>-6.540349</td>\n",
              "      <td>-5.025881</td>\n",
              "      <td>3.036912</td>\n",
              "      <td>-1.296449</td>\n",
              "      <td>-4.624596</td>\n",
              "      <td>-9.440750</td>\n",
              "      <td>2.781306</td>\n",
              "      <td>2.237471</td>\n",
              "      <td>-0.033577</td>\n",
              "      <td>-2.403030</td>\n",
              "      <td>-5.509019</td>\n",
              "      <td>5.192760</td>\n",
              "      <td>3.432390</td>\n",
              "      <td>-2.707480</td>\n",
              "      <td>3.049047</td>\n",
              "      <td>-0.084468</td>\n",
              "      <td>4.454383</td>\n",
              "      <td>-2.898097</td>\n",
              "      <td>0.001667</td>\n",
              "    </tr>\n",
              "  </tbody>\n",
              "</table>\n",
              "</div>"
            ],
            "text/plain": [
              "        ch1       ch2       ch3  ...      ch62      ch63      time\n",
              "0  4.979052  4.424109  7.942567  ...  4.754173  5.361154  0.000000\n",
              "1  4.282609  4.127813  7.875437  ...  4.880926  3.284861  0.000417\n",
              "2  3.408988  3.542501  7.617191  ...  4.847364  1.108456  0.000833\n",
              "3  2.399816  2.692535  7.149571  ...  4.690921 -1.003668  0.001250\n",
              "4  1.297745  1.616906  6.462175  ...  4.454383 -2.898097  0.001667\n",
              "\n",
              "[5 rows x 64 columns]"
            ]
          },
          "metadata": {
            "tags": []
          },
          "execution_count": 114
        }
      ]
    },
    {
      "cell_type": "code",
      "metadata": {
        "id": "PaRKEW2trxWL",
        "colab_type": "code",
        "colab": {
          "base_uri": "https://localhost:8080/",
          "height": 296
        },
        "outputId": "aeecdde3-f14f-48d4-f706-a5281f34589d"
      },
      "source": [
        "sample.plot(kind='line', x= 'time',y='ch1')"
      ],
      "execution_count": 116,
      "outputs": [
        {
          "output_type": "execute_result",
          "data": {
            "text/plain": [
              "<matplotlib.axes._subplots.AxesSubplot at 0x7f88d7d15f98>"
            ]
          },
          "metadata": {
            "tags": []
          },
          "execution_count": 116
        },
        {
          "output_type": "display_data",
          "data": {
            "image/png": "[encoded data removed]",
            "text/plain": [
              "<Figure size 432x288 with 1 Axes>"
            ]
          },
          "metadata": {
            "tags": []
          }
        }
      ]
    },
    {
      "cell_type": "code",
      "metadata": {
        "id": "UuYQI5efr4gP",
        "colab_type": "code",
        "colab": {
          "base_uri": "https://localhost:8080/",
          "height": 1000
        },
        "outputId": "aa25b85e-4be3-41d5-b4e2-9ac79abb9197"
      },
      "source": [
        "sample.info()"
      ],
      "execution_count": 118,
      "outputs": [
        {
          "output_type": "stream",
          "text": [
            "<class 'pandas.core.frame.DataFrame'>\n",
            "RangeIndex: 7200 entries, 0 to 7199\n",
            "Data columns (total 64 columns):\n",
            "ch1     7200 non-null float32\n",
            "ch2     7200 non-null float32\n",
            "ch3     7200 non-null float32\n",
            "ch4     7200 non-null float32\n",
            "ch5     7200 non-null float32\n",
            "ch6     7200 non-null float32\n",
            "ch7     7200 non-null float32\n",
            "ch8     7200 non-null float32\n",
            "ch9     7200 non-null float32\n",
            "ch10    7200 non-null float32\n",
            "ch11    7200 non-null float32\n",
            "ch12    7200 non-null float32\n",
            "ch13    7200 non-null float32\n",
            "ch14    7200 non-null float32\n",
            "ch15    7200 non-null float32\n",
            "ch16    7200 non-null float32\n",
            "ch17    7200 non-null float32\n",
            "ch18    7200 non-null float32\n",
            "ch19    7200 non-null float32\n",
            "ch20    7200 non-null float32\n",
            "ch21    7200 non-null float32\n",
            "ch22    7200 non-null float32\n",
            "ch23    7200 non-null float32\n",
            "ch24    7200 non-null float32\n",
            "ch25    7200 non-null float32\n",
            "ch26    7200 non-null float32\n",
            "ch27    7200 non-null float32\n",
            "ch28    7200 non-null float32\n",
            "ch29    7200 non-null float32\n",
            "ch30    7200 non-null float32\n",
            "ch31    7200 non-null float32\n",
            "ch32    7200 non-null float32\n",
            "ch33    7200 non-null float32\n",
            "ch34    7200 non-null float32\n",
            "ch35    7200 non-null float32\n",
            "ch36    7200 non-null float32\n",
            "ch37    7200 non-null float32\n",
            "ch38    7200 non-null float32\n",
            "ch39    7200 non-null float32\n",
            "ch40    7200 non-null float32\n",
            "ch41    7200 non-null float32\n",
            "ch42    7200 non-null float32\n",
            "ch43    7200 non-null float32\n",
            "ch44    7200 non-null float32\n",
            "ch45    7200 non-null float32\n",
            "ch46    7200 non-null float32\n",
            "ch47    7200 non-null float32\n",
            "ch48    7200 non-null float32\n",
            "ch49    7200 non-null float32\n",
            "ch50    7200 non-null float32\n",
            "ch51    7200 non-null float32\n",
            "ch52    7200 non-null float32\n",
            "ch53    7200 non-null float32\n",
            "ch54    7200 non-null float32\n",
            "ch55    7200 non-null float32\n",
            "ch56    7200 non-null float32\n",
            "ch57    7200 non-null float32\n",
            "ch58    7200 non-null float32\n",
            "ch59    7200 non-null float32\n",
            "ch60    7200 non-null float32\n",
            "ch61    7200 non-null float32\n",
            "ch62    7200 non-null float32\n",
            "ch63    7200 non-null float32\n",
            "time    7200 non-null float64\n",
            "dtypes: float32(63), float64(1)\n",
            "memory usage: 1.8 MB\n"
          ],
          "name": "stdout"
        }
      ]
    },
    {
      "cell_type": "code",
      "metadata": {
        "id": "d-LXTmj_sDq7",
        "colab_type": "code",
        "colab": {}
      },
      "source": [
        ""
      ],
      "execution_count": 0,
      "outputs": []
    },
    {
      "cell_type": "code",
      "metadata": {
        "id": "hq-Sbr6asGJr",
        "colab_type": "code",
        "colab": {}
      },
      "source": [
        ""
      ],
      "execution_count": 0,
      "outputs": []
    },
    {
      "cell_type": "code",
      "metadata": {
        "id": "8ROx0tDmvafa",
        "colab_type": "code",
        "colab": {}
      },
      "source": [
        ""
      ],
      "execution_count": 0,
      "outputs": []
    },
    {
      "cell_type": "code",
      "metadata": {
        "id": "brAF5KIbvbZl",
        "colab_type": "code",
        "colab": {}
      },
      "source": [
        ""
      ],
      "execution_count": 0,
      "outputs": []
    }
  ]
}