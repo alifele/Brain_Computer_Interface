{
  "nbformat": 4,
  "nbformat_minor": 0,
  "metadata": {
    "colab": {
      "name": "CNN with Markov Matrix.ipynb",
      "provenance": [],
      "mount_file_id": "1Iu75TPQiUafi3MLxUaz-FzLSufSN1iiC",
      "authorship_tag": "ABX9TyOjG9FI5P17VWiWxHWBC4Zw",
      "include_colab_link": true
    },
    "kernelspec": {
      "name": "python3",
      "display_name": "Python 3"
    }
  },
  "cells": [
    {
      "cell_type": "markdown",
      "metadata": {
        "id": "view-in-github",
        "colab_type": "text"
      },
      "source": [
        "<a href=\"https://colab.research.google.com/github/alifele/Brain_Computer_Interface-Competition-/blob/master/CNN_with_Markov_Matrix.ipynb\" target=\"_parent\"><img src=\"https://colab.research.google.com/assets/colab-badge.svg\" alt=\"Open In Colab\"/></a>"
      ]
    },
    {
      "cell_type": "code",
      "metadata": {
        "id": "pRX4IfuXPAfy",
        "colab_type": "code",
        "colab": {}
      },
      "source": [
        "try:\n",
        "  from pyts.image import MarkovTransitionField\n",
        "\n",
        "except:\n",
        "  ! pip install pyts\n",
        "  from pyts.image import MarkovTransitionField"
      ],
      "execution_count": 0,
      "outputs": []
    },
    {
      "cell_type": "code",
      "metadata": {
        "id": "MVRCo2zPPCzD",
        "colab_type": "code",
        "colab": {}
      },
      "source": [
        "import sys\n",
        "import numpy as np\n",
        "import matplotlib.pyplot as plt\n",
        "sys.path.append('/content/drive/My Drive/EEG_BCI/')\n",
        "import datafetch\n",
        "import plotters"
      ],
      "execution_count": 0,
      "outputs": []
    },
    {
      "cell_type": "code",
      "metadata": {
        "id": "IAGU_6rtPFLL",
        "colab_type": "code",
        "colab": {}
      },
      "source": [
        "from plotters import Markov_matrix_generator, bin_creator"
      ],
      "execution_count": 0,
      "outputs": []
    },
    {
      "cell_type": "code",
      "metadata": {
        "id": "Ck2JJ3-XPMqY",
        "colab_type": "code",
        "colab": {}
      },
      "source": [
        "subj_15 = datafetch.fetch_subject(15)"
      ],
      "execution_count": 0,
      "outputs": []
    },
    {
      "cell_type": "code",
      "metadata": {
        "id": "kG3g8KYOQHux",
        "colab_type": "code",
        "colab": {}
      },
      "source": [
        "bins = bin_creator(subj_15['train_data_class1'][12][:,23], 120)"
      ],
      "execution_count": 0,
      "outputs": []
    },
    {
      "cell_type": "code",
      "metadata": {
        "id": "BofS-ZXyQ6u4",
        "colab_type": "code",
        "colab": {
          "base_uri": "https://localhost:8080/",
          "height": 285
        },
        "outputId": "f678ba17-ef8a-49b1-d338-d28ea8bf83e6"
      },
      "source": [
        "mat = Markov_matrix_generator(bins, subj_15['train_data_class1'][12][:,23], normal=True)\n",
        "plt.imshow(mat)"
      ],
      "execution_count": 8,
      "outputs": [
        {
          "output_type": "execute_result",
          "data": {
            "text/plain": [
              "<matplotlib.image.AxesImage at 0x7fb9347338d0>"
            ]
          },
          "metadata": {
            "tags": []
          },
          "execution_count": 8
        },
        {
          "output_type": "display_data",
          "data": {
            "image/png": "[encoded data removed]",
            "text/plain": [
              "<Figure size 432x288 with 1 Axes>"
            ]
          },
          "metadata": {
            "tags": []
          }
        }
      ]
    },
    {
      "cell_type": "code",
      "metadata": {
        "id": "TvOU8ioYRHuj",
        "colab_type": "code",
        "colab": {}
      },
      "source": [
        ""
      ],
      "execution_count": 0,
      "outputs": []
    },
    {
      "cell_type": "markdown",
      "metadata": {
        "id": "l5NNKPKkRRby",
        "colab_type": "text"
      },
      "source": [
        "# Data Loader with 63 channels"
      ]
    },
    {
      "cell_type": "code",
      "metadata": {
        "id": "vss_EWZTRUYK",
        "colab_type": "code",
        "colab": {}
      },
      "source": [
        "global subj_list \n",
        "global selector\n",
        "\n",
        "subj_list = [0,0,0,0,0,0]"
      ],
      "execution_count": 0,
      "outputs": []
    },
    {
      "cell_type": "code",
      "metadata": {
        "id": "wbXx8uwfRaSC",
        "colab_type": "code",
        "colab": {}
      },
      "source": [
        "\n",
        "def selector_desing(sector, classes=[1,4], trail=[0,24]):\n",
        "  selector = []\n",
        "  for i in range((sector-1)*5+1, sector*5+1):\n",
        "    for j in range(classes[0],classes[1]+1):\n",
        "      for k in range(0,trail[1]+1):\n",
        "        selector.append((i,j,k))\n",
        "  selector = np.array(selector)\n",
        "  np.random.shuffle(selector)\n",
        "\n",
        "  return selector"
      ],
      "execution_count": 0,
      "outputs": []
    },
    {
      "cell_type": "code",
      "metadata": {
        "id": "iY2NydVcRcAy",
        "colab_type": "code",
        "colab": {}
      },
      "source": [
        "def update_subjlist(sector):\n",
        "\n",
        "  if sector ==1:\n",
        "    subj_1 = datafetch.fetch_subject(1)\n",
        "    subj_2 = datafetch.fetch_subject(2)\n",
        "    subj_3 = datafetch.fetch_subject(3)\n",
        "    subj_4 = datafetch.fetch_subject(4)\n",
        "    subj_5 = datafetch.fetch_subject(5)\n",
        "    return np.array([subj_1, subj_2, subj_3, subj_4, subj_5, 1])\n",
        "\n",
        "\n",
        "  if sector ==2:\n",
        "    subj_6 = datafetch.fetch_subject(6)\n",
        "    subj_7 = datafetch.fetch_subject(7)\n",
        "    subj_8 = datafetch.fetch_subject(8)\n",
        "    subj_9 = datafetch.fetch_subject(9)\n",
        "    subj_10 = datafetch.fetch_subject(10)\n",
        "\n",
        "    return np.array([0,0,0,0,0] + [subj_6, subj_7, subj_8, subj_9, subj_10, 2])\n",
        "\n",
        "\n",
        "  if sector ==3:\n",
        "    subj_11 = datafetch.fetch_subject(11)\n",
        "    subj_12 = datafetch.fetch_subject(12)\n",
        "    subj_13 = datafetch.fetch_subject(13)\n",
        "    subj_14 = datafetch.fetch_subject(14)\n",
        "    subj_15 = datafetch.fetch_subject(15)\n",
        "\n",
        "    return np.array([0,0,0,0,0] + [0,0,0,0,0] + [subj_11, subj_12, subj_13, subj_14, subj_15, 3])"
      ],
      "execution_count": 0,
      "outputs": []
    },
    {
      "cell_type": "code",
      "metadata": {
        "id": "G_boYRxwRdgU",
        "colab_type": "code",
        "colab": {}
      },
      "source": [
        "def select_data(select):\n",
        "  '''\n",
        "  it selects the data according the the selector.\n",
        "  for exmaple if the seclevto os equal to (3,4,1) the\n",
        "  data of subject number 1, which belongs to the class number 4, and its 1 trail \n",
        "  will be selected. which is a 7200 data point with 63 channels\n",
        "  '''\n",
        "  global subj_list\n",
        "\n",
        "  return subj_list[select[0]-1]['train_data_class{}'.format(select[1])][select[2]]"
      ],
      "execution_count": 0,
      "outputs": []
    },
    {
      "cell_type": "code",
      "metadata": {
        "id": "VeQ_0DiDRfhK",
        "colab_type": "code",
        "colab": {}
      },
      "source": [
        "\n",
        "\n",
        "def item_to_Markov(item):\n",
        "\n",
        "  global selector\n",
        "  global subj_list\n",
        "  \n",
        "  '''\n",
        "  function will get item (the index of the patient) and will return the hilbert \n",
        "  images that each channel of eeg will be different channels of the retured image\n",
        "\n",
        "  This fuction will also return the label. for example the label 1 indicates that\n",
        "  the patient belongs to the class number 1\n",
        "  '''\n",
        "\n",
        "  #bins = bin_creator(np.array([530,-370]*3600), 120)\n",
        "\n",
        "  bins = bin_creator(select_data(selector[item])[:,0], 120)\n",
        "\n",
        "  \n",
        "  mat = Markov_matrix_generator(bins, select_data(selector[item])[:,0], normal=True)\n",
        "  mat = np.expand_dims(mat, axis=2)\n",
        "  mats = mat\n",
        "  label = selector[item][1]\n",
        "  for i in range(1,63):\n",
        "    bins = bin_creator(select_data(selector[item])[:,i], 120)\n",
        "    mat = Markov_matrix_generator(bins, select_data(selector[item])[:,i], normal=True)\n",
        "    mat = np.expand_dims(mat, axis=2)\n",
        "    mats = np.concatenate((mats, mat), axis=2)\n",
        "\n",
        "  return mats, label\n",
        "\n"
      ],
      "execution_count": 0,
      "outputs": []
    },
    {
      "cell_type": "code",
      "metadata": {
        "id": "3ijY89UySBRV",
        "colab_type": "code",
        "colab": {}
      },
      "source": [
        "def load_Markov_batch(n=[0, 2],sector=1):\n",
        "  global subj_list\n",
        "  global selector\n",
        "\n",
        "  labels = []\n",
        "\n",
        "  Data = []\n",
        "  if sector != subj_list[-1]:\n",
        "    subj_list = update_subjlist(sector)\n",
        "    selector = selector_desing(sector)\n",
        "\n",
        "  data, label = item_to_Markov(n[0])\n",
        "  Data.append(data)\n",
        "  labels.append(label)\n",
        "  for i in range(n[0]+1, n[1]):\n",
        "    data, label  = item_to_Markov(i)\n",
        "    labels.append(label)\n",
        "    Data.append(data)\n",
        "\n",
        "  '''\n",
        "  Label = []\n",
        "  pre_data = []\n",
        "\n",
        "  for i in Data:\n",
        "    pre_data+=i\n",
        "\n",
        "  #for j in labels:\n",
        "    #Label += j\n",
        "\n",
        "  #labels = Label\n",
        "  Data = pre_data\n",
        "   '''\n",
        "\n",
        "\n",
        "  return np.array(Data), np.array(labels)"
      ],
      "execution_count": 0,
      "outputs": []
    },
    {
      "cell_type": "code",
      "metadata": {
        "id": "qFfdHH8rSBUG",
        "colab_type": "code",
        "colab": {}
      },
      "source": [
        "data , label = load_Markov_batch(n=[0,2], sector=1)"
      ],
      "execution_count": 0,
      "outputs": []
    },
    {
      "cell_type": "code",
      "metadata": {
        "id": "DE2OZS7xSBXs",
        "colab_type": "code",
        "colab": {
          "base_uri": "https://localhost:8080/",
          "height": 34
        },
        "outputId": "225b61f2-9f14-48bc-d314-7972d34a95fb"
      },
      "source": [
        "data.shape"
      ],
      "execution_count": 45,
      "outputs": [
        {
          "output_type": "execute_result",
          "data": {
            "text/plain": [
              "(2, 120, 120, 63)"
            ]
          },
          "metadata": {
            "tags": []
          },
          "execution_count": 45
        }
      ]
    },
    {
      "cell_type": "code",
      "metadata": {
        "id": "98Di54ogSBdM",
        "colab_type": "code",
        "colab": {
          "base_uri": "https://localhost:8080/",
          "height": 34
        },
        "outputId": "36e37ba9-82dc-496c-9193-4fad33525bf1"
      },
      "source": [
        "label.shape"
      ],
      "execution_count": 46,
      "outputs": [
        {
          "output_type": "execute_result",
          "data": {
            "text/plain": [
              "(2,)"
            ]
          },
          "metadata": {
            "tags": []
          },
          "execution_count": 46
        }
      ]
    },
    {
      "cell_type": "code",
      "metadata": {
        "id": "DsfO-nU4SBmN",
        "colab_type": "code",
        "colab": {
          "base_uri": "https://localhost:8080/",
          "height": 466
        },
        "outputId": "26a2a08c-16a2-4c95-8d0d-9e4423789e7b"
      },
      "source": [
        "fig = plt.figure(figsize=(8,8))\n",
        "for i in range(63):\n",
        "  ax = fig.add_subplot(8,8,i+1)\n",
        "  ax.imshow(data[0][:,:,i])\n",
        "  ax.axis('off')"
      ],
      "execution_count": 47,
      "outputs": [
        {
          "output_type": "display_data",
          "data": {
            "image/png": "[encoded data removed]",
            "text/plain": [
              "<Figure size 576x576 with 63 Axes>"
            ]
          },
          "metadata": {
            "tags": []
          }
        }
      ]
    },
    {
      "cell_type": "code",
      "metadata": {
        "id": "plGaDVlySBqo",
        "colab_type": "code",
        "colab": {}
      },
      "source": [
        ""
      ],
      "execution_count": 0,
      "outputs": []
    },
    {
      "cell_type": "code",
      "metadata": {
        "id": "00uKiW-uSBtZ",
        "colab_type": "code",
        "colab": {}
      },
      "source": [
        ""
      ],
      "execution_count": 0,
      "outputs": []
    },
    {
      "cell_type": "markdown",
      "metadata": {
        "id": "WBHd4fD9SB5S",
        "colab_type": "text"
      },
      "source": [
        "## Trash"
      ]
    },
    {
      "cell_type": "code",
      "metadata": {
        "id": "F4pKyr0dSBpF",
        "colab_type": "code",
        "colab": {}
      },
      "source": [
        ""
      ],
      "execution_count": 0,
      "outputs": []
    },
    {
      "cell_type": "code",
      "metadata": {
        "id": "CXXOZdXCSBkP",
        "colab_type": "code",
        "colab": {}
      },
      "source": [
        ""
      ],
      "execution_count": 0,
      "outputs": []
    },
    {
      "cell_type": "code",
      "metadata": {
        "id": "U-4olze1SBhf",
        "colab_type": "code",
        "colab": {}
      },
      "source": [
        ""
      ],
      "execution_count": 0,
      "outputs": []
    },
    {
      "cell_type": "code",
      "metadata": {
        "id": "6AYajjPiSBgV",
        "colab_type": "code",
        "colab": {}
      },
      "source": [
        ""
      ],
      "execution_count": 0,
      "outputs": []
    },
    {
      "cell_type": "code",
      "metadata": {
        "id": "jqqmt22YSBbc",
        "colab_type": "code",
        "colab": {}
      },
      "source": [
        ""
      ],
      "execution_count": 0,
      "outputs": []
    },
    {
      "cell_type": "code",
      "metadata": {
        "id": "f4WnvGrySBab",
        "colab_type": "code",
        "colab": {}
      },
      "source": [
        ""
      ],
      "execution_count": 0,
      "outputs": []
    },
    {
      "cell_type": "code",
      "metadata": {
        "id": "3L2DYGt-R6Df",
        "colab_type": "code",
        "colab": {
          "base_uri": "https://localhost:8080/",
          "height": 34
        },
        "outputId": "ba773821-f12c-45e9-971d-418e9b0364dc"
      },
      "source": [
        "subj_15['train_data_class1'].shape"
      ],
      "execution_count": 15,
      "outputs": [
        {
          "output_type": "execute_result",
          "data": {
            "text/plain": [
              "(25, 7200, 63)"
            ]
          },
          "metadata": {
            "tags": []
          },
          "execution_count": 15
        }
      ]
    },
    {
      "cell_type": "code",
      "metadata": {
        "id": "EHoUI5dwR8qJ",
        "colab_type": "code",
        "colab": {}
      },
      "source": [
        "test = subj_15['train_data_class1'][12]"
      ],
      "execution_count": 0,
      "outputs": []
    },
    {
      "cell_type": "code",
      "metadata": {
        "id": "P0gWEta3SJH1",
        "colab_type": "code",
        "colab": {
          "base_uri": "https://localhost:8080/",
          "height": 34
        },
        "outputId": "8ea09b47-fe02-42a9-d1e5-bdeaa8c44f37"
      },
      "source": [
        "test.shape"
      ],
      "execution_count": 17,
      "outputs": [
        {
          "output_type": "execute_result",
          "data": {
            "text/plain": [
              "(7200, 63)"
            ]
          },
          "metadata": {
            "tags": []
          },
          "execution_count": 17
        }
      ]
    },
    {
      "cell_type": "code",
      "metadata": {
        "id": "rS-JKd3aSJuS",
        "colab_type": "code",
        "colab": {}
      },
      "source": [
        "max_ = np.max(test, axis = 0)\n",
        "min_ = np.min(test, axis=0)"
      ],
      "execution_count": 0,
      "outputs": []
    },
    {
      "cell_type": "code",
      "metadata": {
        "id": "urNkbh1OSPPN",
        "colab_type": "code",
        "colab": {
          "base_uri": "https://localhost:8080/",
          "height": 34
        },
        "outputId": "8eb88ea5-6c17-4a28-8b32-7706e3a8470a"
      },
      "source": [
        "max_.shape, min_.shape"
      ],
      "execution_count": 23,
      "outputs": [
        {
          "output_type": "execute_result",
          "data": {
            "text/plain": [
              "((63,), (63,))"
            ]
          },
          "metadata": {
            "tags": []
          },
          "execution_count": 23
        }
      ]
    },
    {
      "cell_type": "code",
      "metadata": {
        "id": "OrgepYS_SScS",
        "colab_type": "code",
        "colab": {
          "base_uri": "https://localhost:8080/",
          "height": 530
        },
        "outputId": "3183c909-fd6a-4ebc-8223-14d6ec06db41"
      },
      "source": [
        "plt.plot(max_)\n",
        "plt.show()\n",
        "plt.plot(min_)"
      ],
      "execution_count": 24,
      "outputs": [
        {
          "output_type": "display_data",
          "data": {
            "image/png": "[encoded data removed]",
            "text/plain": [
              "<Figure size 432x288 with 1 Axes>"
            ]
          },
          "metadata": {
            "tags": []
          }
        },
        {
          "output_type": "execute_result",
          "data": {
            "text/plain": [
              "[<matplotlib.lines.Line2D at 0x7fb9342aa9b0>]"
            ]
          },
          "metadata": {
            "tags": []
          },
          "execution_count": 24
        },
        {
          "output_type": "display_data",
          "data": {
            "image/png": "[encoded data removed]",
            "text/plain": [
              "<Figure size 432x288 with 1 Axes>"
            ]
          },
          "metadata": {
            "tags": []
          }
        }
      ]
    },
    {
      "cell_type": "code",
      "metadata": {
        "id": "jnwwd2u6SXIk",
        "colab_type": "code",
        "colab": {
          "base_uri": "https://localhost:8080/",
          "height": 34
        },
        "outputId": "b0c8ce08-d8cc-4a2e-d0f5-30bb0e5fae2c"
      },
      "source": [
        "np.argmin(min_), np.argmax(max_)"
      ],
      "execution_count": 25,
      "outputs": [
        {
          "output_type": "execute_result",
          "data": {
            "text/plain": [
              "(32, 2)"
            ]
          },
          "metadata": {
            "tags": []
          },
          "execution_count": 25
        }
      ]
    },
    {
      "cell_type": "code",
      "metadata": {
        "id": "55WJjHUZTCvp",
        "colab_type": "code",
        "colab": {
          "base_uri": "https://localhost:8080/",
          "height": 34
        },
        "outputId": "8754056e-93f1-4785-dcf6-7ce474658851"
      },
      "source": [
        "np.max(max_), np.min(min_)"
      ],
      "execution_count": 27,
      "outputs": [
        {
          "output_type": "execute_result",
          "data": {
            "text/plain": [
              "(521.4665, -359.25964)"
            ]
          },
          "metadata": {
            "tags": []
          },
          "execution_count": 27
        }
      ]
    },
    {
      "cell_type": "code",
      "metadata": {
        "id": "_6BBh7Y6SuC7",
        "colab_type": "code",
        "colab": {
          "base_uri": "https://localhost:8080/",
          "height": 34
        },
        "outputId": "340b3bac-9873-4fb9-8cd5-ac0c33c07ae4"
      },
      "source": [
        "np.max(subj_15['train_data_class1'][12][:,2])"
      ],
      "execution_count": 26,
      "outputs": [
        {
          "output_type": "execute_result",
          "data": {
            "text/plain": [
              "521.4665"
            ]
          },
          "metadata": {
            "tags": []
          },
          "execution_count": 26
        }
      ]
    },
    {
      "cell_type": "code",
      "metadata": {
        "id": "4AeijAfIS_m-",
        "colab_type": "code",
        "colab": {
          "base_uri": "https://localhost:8080/",
          "height": 34
        },
        "outputId": "fa844126-0e35-41f9-b7eb-64a79ca1af12"
      },
      "source": [
        "np.min(subj_15['train_data_class1'][12][:,32])"
      ],
      "execution_count": 28,
      "outputs": [
        {
          "output_type": "execute_result",
          "data": {
            "text/plain": [
              "-359.25964"
            ]
          },
          "metadata": {
            "tags": []
          },
          "execution_count": 28
        }
      ]
    },
    {
      "cell_type": "code",
      "metadata": {
        "id": "sYn7VFZLTMf6",
        "colab_type": "code",
        "colab": {}
      },
      "source": [
        "samp = np.array([522,-360]*3600)"
      ],
      "execution_count": 0,
      "outputs": []
    },
    {
      "cell_type": "code",
      "metadata": {
        "id": "l3Rx88bATi11",
        "colab_type": "code",
        "colab": {
          "base_uri": "https://localhost:8080/",
          "height": 34
        },
        "outputId": "d5cce500-ad7a-4aa8-82c6-f649817dafce"
      },
      "source": [
        "samp"
      ],
      "execution_count": 33,
      "outputs": [
        {
          "output_type": "execute_result",
          "data": {
            "text/plain": [
              "array([ 522, -360,  522, ..., -360,  522, -360])"
            ]
          },
          "metadata": {
            "tags": []
          },
          "execution_count": 33
        }
      ]
    },
    {
      "cell_type": "code",
      "metadata": {
        "id": "7y9dKWjJTj_T",
        "colab_type": "code",
        "colab": {
          "base_uri": "https://localhost:8080/",
          "height": 34
        },
        "outputId": "c1c05c10-1233-4fa5-be0a-81c1b6385337"
      },
      "source": [
        "7200/2"
      ],
      "execution_count": 31,
      "outputs": [
        {
          "output_type": "execute_result",
          "data": {
            "text/plain": [
              "3600.0"
            ]
          },
          "metadata": {
            "tags": []
          },
          "execution_count": 31
        }
      ]
    },
    {
      "cell_type": "code",
      "metadata": {
        "id": "Cs4OjCVETn6u",
        "colab_type": "code",
        "colab": {}
      },
      "source": [
        ""
      ],
      "execution_count": 0,
      "outputs": []
    }
  ]
}