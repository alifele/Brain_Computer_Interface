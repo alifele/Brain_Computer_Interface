{
  "nbformat": 4,
  "nbformat_minor": 0,
  "metadata": {
    "colab": {
      "name": "Subject based RNN model.ipynb",
      "provenance": [],
      "collapsed_sections": [],
      "toc_visible": true,
      "machine_shape": "hm",
      "mount_file_id": "https://github.com/alifele/Brain_Computer_Interface-Competition-/blob/master/The%20Models/Subject_based_RNN_model.ipynb",
      "authorship_tag": "ABX9TyMSg5MG/LPS/kHNAod4xvrq",
      "include_colab_link": true
    },
    "kernelspec": {
      "name": "python3",
      "display_name": "Python 3"
    },
    "accelerator": "GPU"
  },
  "cells": [
    {
      "cell_type": "markdown",
      "metadata": {
        "id": "view-in-github",
        "colab_type": "text"
      },
      "source": [
        "<a href=\"https://colab.research.google.com/github/alifele/Brain_Computer_Interface-Competition-/blob/master/The%20Models/Subject_based_RNN_model.ipynb\" target=\"_parent\"><img src=\"https://colab.research.google.com/assets/colab-badge.svg\" alt=\"Open In Colab\"/></a>"
      ]
    },
    {
      "cell_type": "code",
      "metadata": {
        "id": "CNI-LbMxVdrd",
        "colab_type": "code",
        "colab": {}
      },
      "source": [
        ""
      ],
      "execution_count": 0,
      "outputs": []
    },
    {
      "cell_type": "code",
      "metadata": {
        "id": "PSZ7iyVEuRSq",
        "colab_type": "code",
        "colab": {}
      },
      "source": [
        "import sys\n",
        "import numpy as np\n",
        "import matplotlib.pyplot as plt\n",
        "sys.path.append('/content/drive/My Drive/EEG_BCI/')\n",
        "import datafetch\n",
        "import plotters\n",
        "import random"
      ],
      "execution_count": 0,
      "outputs": []
    },
    {
      "cell_type": "code",
      "metadata": {
        "id": "M-CEe3_w0It_",
        "colab_type": "code",
        "colab": {}
      },
      "source": [
        "import random\n",
        "from sklearn.model_selection import train_test_split"
      ],
      "execution_count": 0,
      "outputs": []
    },
    {
      "cell_type": "code",
      "metadata": {
        "id": "1ZNkdINKu5BR",
        "colab_type": "code",
        "outputId": "44c94556-ab4b-45ed-d368-666e5d6e48cb",
        "colab": {
          "base_uri": "https://localhost:8080/",
          "height": 54
        }
      },
      "source": [
        "subj_1 = datafetch.fetch_subject(12)\n",
        "subj_1.keys()"
      ],
      "execution_count": 3,
      "outputs": [
        {
          "output_type": "execute_result",
          "data": {
            "text/plain": [
              "dict_keys(['test_data', 'train_data_class1', 'train_data_class2', 'train_data_class3', 'train_data_class4'])"
            ]
          },
          "metadata": {
            "tags": []
          },
          "execution_count": 3
        }
      ]
    },
    {
      "cell_type": "code",
      "metadata": {
        "id": "FeGch-vevBCz",
        "colab_type": "code",
        "colab": {}
      },
      "source": [
        "def selector_desing(subject):\n",
        "  selector = []\n",
        "  for i in subject:\n",
        "    for j in range(1,5):\n",
        "      for k in range(18):\n",
        "        selector.append((i,j,k))\n",
        "\n",
        "  selector = np.array(selector)\n",
        "  np.random.shuffle(selector)\n",
        "\n",
        "  return selector"
      ],
      "execution_count": 0,
      "outputs": []
    },
    {
      "cell_type": "code",
      "metadata": {
        "id": "Edh8eqkOAYGa",
        "colab_type": "code",
        "colab": {}
      },
      "source": [
        "def selector_desing_test_data(subject):\n",
        "  selector = []\n",
        "  for i in subject:\n",
        "    for j in range(1,5):\n",
        "      for k in range(18,25):\n",
        "        selector.append((i,j,k))\n",
        "\n",
        "  selector = np.array(selector)\n",
        "  np.random.shuffle(selector)\n",
        "  return selector"
      ],
      "execution_count": 0,
      "outputs": []
    },
    {
      "cell_type": "code",
      "metadata": {
        "id": "Aw4kBGuf4w8X",
        "colab_type": "code",
        "outputId": "bac8e5fc-d4cb-4a13-e61d-c6bdd991b860",
        "colab": {
          "base_uri": "https://localhost:8080/",
          "height": 34
        }
      },
      "source": [
        "selector = selector_desing([1])\n",
        "selector.shape"
      ],
      "execution_count": 6,
      "outputs": [
        {
          "output_type": "execute_result",
          "data": {
            "text/plain": [
              "(72, 3)"
            ]
          },
          "metadata": {
            "tags": []
          },
          "execution_count": 6
        }
      ]
    },
    {
      "cell_type": "code",
      "metadata": {
        "id": "KXId2iDqyNdj",
        "colab_type": "code",
        "colab": {}
      },
      "source": [
        "global indexes\n",
        "global test_data_indexes\n",
        "global selector\n",
        "global selector_test_data\n",
        "global under_sample_rate\n",
        "under_sample_rate = 5\n",
        "selector_test_data = selector_desing_test_data([1])\n",
        "selector = selector_desing([1])\n",
        "indexes = [i for i in range(18)]\n",
        "test_data_indexes = [i for i in range(18,25)]"
      ],
      "execution_count": 0,
      "outputs": []
    },
    {
      "cell_type": "code",
      "metadata": {
        "id": "s4T26Lx-ZG-B",
        "colab_type": "code",
        "colab": {}
      },
      "source": [
        ""
      ],
      "execution_count": 0,
      "outputs": []
    },
    {
      "cell_type": "code",
      "metadata": {
        "id": "ZDmI5edZBAgY",
        "colab_type": "code",
        "colab": {}
      },
      "source": [
        ""
      ],
      "execution_count": 0,
      "outputs": []
    },
    {
      "cell_type": "code",
      "metadata": {
        "id": "AARYOj39yyml",
        "colab_type": "code",
        "colab": {}
      },
      "source": [
        ""
      ],
      "execution_count": 0,
      "outputs": []
    },
    {
      "cell_type": "code",
      "metadata": {
        "id": "eBHeDXOLyOai",
        "colab_type": "code",
        "colab": {}
      },
      "source": [
        "def data_loader(select):\n",
        "  \n",
        "  global indexes\n",
        "  global under_sample_rate\n",
        "\n",
        "  this_trail = select[2]\n",
        "  index = select[2]\n",
        "  \n",
        "  Indexes = indexes.copy()\n",
        "  Indexes.pop(index)  # so, now Indexes is the array [0,1,2,...,17] with out the this_trial index\n",
        "\n",
        "  samples = random.sample(Indexes, 11)\n",
        "  samples += [this_trail]\n",
        "\n",
        "\n",
        "  data =  np.mean(subj_1['train_data_class{}'.format(select[1])][samples][::under_sample_rate,:], axis=0)\n",
        "  label = select[1]\n",
        "  return data, label"
      ],
      "execution_count": 0,
      "outputs": []
    },
    {
      "cell_type": "code",
      "metadata": {
        "id": "jnmbJSPQAFpQ",
        "colab_type": "code",
        "colab": {}
      },
      "source": [
        "def data_loader_test_data(select):\n",
        "  \n",
        "  global test_data_indexes\n",
        "  global under_sample_rate\n",
        "\n",
        "  this_trail = select[2]\n",
        "  index = select[2]-18\n",
        "  \n",
        "  Indexes = test_data_indexes.copy()\n",
        "\n",
        "  Indexes.pop(index)  # so, now Indexes is the array [18,19,...,24] with out the this_trial index\n",
        "\n",
        "\n",
        "  samples = random.sample(Indexes, 3)\n",
        "  samples += [this_trail]\n",
        "\n",
        "\n",
        "  data =  np.mean(subj_1['train_data_class{}'.format(select[1])][samples][::under_sample_rate,:], axis=0)\n",
        "  label = select[1]\n",
        "  return data, label"
      ],
      "execution_count": 0,
      "outputs": []
    },
    {
      "cell_type": "code",
      "metadata": {
        "id": "VWHxZEgXC9xe",
        "colab_type": "code",
        "colab": {}
      },
      "source": [
        ""
      ],
      "execution_count": 0,
      "outputs": []
    },
    {
      "cell_type": "code",
      "metadata": {
        "id": "kCqYSEkxzBu0",
        "colab_type": "code",
        "colab": {}
      },
      "source": [
        ""
      ],
      "execution_count": 0,
      "outputs": []
    },
    {
      "cell_type": "code",
      "metadata": {
        "id": "lBAECwDizxI3",
        "colab_type": "code",
        "colab": {}
      },
      "source": [
        ""
      ],
      "execution_count": 0,
      "outputs": []
    },
    {
      "cell_type": "code",
      "metadata": {
        "id": "g-eMJKZhzy9d",
        "colab_type": "code",
        "colab": {}
      },
      "source": [
        "from plotters import EEG_plotter"
      ],
      "execution_count": 0,
      "outputs": []
    },
    {
      "cell_type": "code",
      "metadata": {
        "id": "vsaITZLn000e",
        "colab_type": "code",
        "colab": {}
      },
      "source": [
        "#EEG_plotter(40,data)\n",
        "#The meaned data"
      ],
      "execution_count": 0,
      "outputs": []
    },
    {
      "cell_type": "code",
      "metadata": {
        "id": "G84Ntfs7008k",
        "colab_type": "code",
        "colab": {}
      },
      "source": [
        "#EEG_plotter(40,subj_1['train_data_class{}'.format(select[1])][select[2]] )\n",
        "\n",
        "# The Unmeaned data"
      ],
      "execution_count": 0,
      "outputs": []
    },
    {
      "cell_type": "code",
      "metadata": {
        "id": "CdLd1DU-01BK",
        "colab_type": "code",
        "colab": {}
      },
      "source": [
        "def batch_loader(batch=[0,100]):\n",
        "  # the batch=[a,b] can be 0...18000*4\n",
        "  \n",
        "  Label = []\n",
        "  Data = []\n",
        "  global selector\n",
        "  \n",
        "\n",
        "  for i in range(batch[0], batch[1]):\n",
        "    data, label = data_loader(selector[int(i%len(selector))])\n",
        "    Data.append(data)\n",
        "    Label.append(label)\n",
        "\n",
        "  Data = np.array(Data)\n",
        "  Label = np.array(Label)\n",
        "\n",
        "  return Data, Label"
      ],
      "execution_count": 0,
      "outputs": []
    },
    {
      "cell_type": "code",
      "metadata": {
        "id": "V3MMDI-v6-a8",
        "colab_type": "code",
        "colab": {}
      },
      "source": [
        "def batch_loader_show(label, batch=[0,100]):\n",
        "  # the batch=[a,b] can be 0...18000*4\n",
        "  \n",
        "  Label = []\n",
        "  Data = []\n",
        "  global selector\n",
        "\n",
        "  for i in range(batch[0], batch[1]):\n",
        "    new_selector = selector[selector[:,1]==label[int(i%len(selector))]]\n",
        "    data, label_ = data_loader(new_selector[int(i%len(new_selector))])\n",
        "    Data.append(data)\n",
        "    Label.append(label_)\n",
        "\n",
        "  Data = np.array(Data)\n",
        "  Label = np.array(Label)\n",
        "\n",
        "  return Data, Label"
      ],
      "execution_count": 0,
      "outputs": []
    },
    {
      "cell_type": "code",
      "metadata": {
        "id": "mavR1UPw7fOE",
        "colab_type": "code",
        "colab": {}
      },
      "source": [
        "#data, label = batch_loader()"
      ],
      "execution_count": 0,
      "outputs": []
    },
    {
      "cell_type": "code",
      "metadata": {
        "id": "uAQ4hpiI7keQ",
        "colab_type": "code",
        "colab": {}
      },
      "source": [
        "#label, label.shape"
      ],
      "execution_count": 0,
      "outputs": []
    },
    {
      "cell_type": "code",
      "metadata": {
        "id": "iJMEJ-I87m5_",
        "colab_type": "code",
        "colab": {}
      },
      "source": [
        ""
      ],
      "execution_count": 0,
      "outputs": []
    },
    {
      "cell_type": "code",
      "metadata": {
        "id": "4NJByTQ07m4W",
        "colab_type": "code",
        "colab": {}
      },
      "source": [
        ""
      ],
      "execution_count": 0,
      "outputs": []
    },
    {
      "cell_type": "code",
      "metadata": {
        "id": "JyFx7K6rAAEL",
        "colab_type": "code",
        "colab": {}
      },
      "source": [
        "def batch_loader_test_data(batch=[0,100]):\n",
        "  # the batch=[a,b] can be 0...35*4\n",
        "  \n",
        "  Label = []\n",
        "  Data = []\n",
        "  global selector_test_data\n",
        "  global selector\n",
        "  \n",
        "\n",
        "  for i in range(batch[0], batch[1]):\n",
        "    data, label = data_loader_test_data(selector_test_data[int(i%len(selector_test_data))])\n",
        "    '''\n",
        "    L = len(selector[selector[:,1]==label])\n",
        "    data_for_mean = []\n",
        "    for j in range(6):\n",
        "      data_, label_ = data_loader(selector[selector[:,1]==label][int((i+j)%L)])\n",
        "      data_for_mean.append(data_)\n",
        "      data = np.mean(data_for_mean, axis=0)\n",
        "    '''\n",
        "    Data.append(data)\n",
        "    Label.append(label)\n",
        "\n",
        "  Data = np.array(Data)\n",
        "  Label = np.array(Label)\n",
        "\n",
        "  return Data, Label"
      ],
      "execution_count": 0,
      "outputs": []
    },
    {
      "cell_type": "code",
      "metadata": {
        "id": "GOctp75Q00_4",
        "colab_type": "code",
        "colab": {}
      },
      "source": [
        "#data, label  = batch_loader()"
      ],
      "execution_count": 0,
      "outputs": []
    },
    {
      "cell_type": "code",
      "metadata": {
        "id": "qZ-xpKvw0067",
        "colab_type": "code",
        "colab": {}
      },
      "source": [
        "#data.shape, label.shape"
      ],
      "execution_count": 0,
      "outputs": []
    },
    {
      "cell_type": "code",
      "metadata": {
        "id": "cYnyDYlB005g",
        "colab_type": "code",
        "colab": {}
      },
      "source": [
        ""
      ],
      "execution_count": 0,
      "outputs": []
    },
    {
      "cell_type": "markdown",
      "metadata": {
        "id": "or5ZCyRU9KIO",
        "colab_type": "text"
      },
      "source": [
        "# The Model"
      ]
    },
    {
      "cell_type": "code",
      "metadata": {
        "id": "AU1gZUHs3ztQ",
        "colab_type": "code",
        "colab": {}
      },
      "source": [
        "from tensorflow import keras"
      ],
      "execution_count": 0,
      "outputs": []
    },
    {
      "cell_type": "code",
      "metadata": {
        "id": "XV_15KQt3zv5",
        "colab_type": "code",
        "colab": {}
      },
      "source": [
        "model = keras.models.Sequential()\n",
        "\n",
        "#model.add(keras.layers.MaxPool1D(2, input_shape=[None, 63]))\n",
        "model.add(keras.layers.Conv1D( 3, 100, strides=50, input_shape=[None, 63], activation='relu'))\n",
        "model.add(keras.layers.Dropout(0.5))\n",
        "model.add(keras.layers.GRU(30, return_sequences=True, input_shape =[None, 63]))\n",
        "model.add(keras.layers.GRU(1))\n",
        "model.add(keras.layers.Dense(10, activation = 'relu'))\n",
        "model.add(keras.layers.Dropout(0.5))\n",
        "model.add(keras.layers.Dense(6, activation='relu'))\n",
        "model.add(keras.layers.Dense(4, activation ='softmax'))\n",
        "\n",
        "# This got %34 accuracy"
      ],
      "execution_count": 0,
      "outputs": []
    },
    {
      "cell_type": "code",
      "metadata": {
        "id": "r_lyhOXW3z0m",
        "colab_type": "code",
        "colab": {
          "base_uri": "https://localhost:8080/",
          "height": 434
        },
        "outputId": "30b8b2b1-734e-4029-9d01-3224361447d4"
      },
      "source": [
        "model.summary()\n"
      ],
      "execution_count": 22,
      "outputs": [
        {
          "output_type": "stream",
          "text": [
            "Model: \"sequential\"\n",
            "_________________________________________________________________\n",
            "Layer (type)                 Output Shape              Param #   \n",
            "=================================================================\n",
            "conv1d (Conv1D)              (None, None, 3)           18903     \n",
            "_________________________________________________________________\n",
            "dropout (Dropout)            (None, None, 3)           0         \n",
            "_________________________________________________________________\n",
            "gru (GRU)                    (None, None, 30)          3150      \n",
            "_________________________________________________________________\n",
            "gru_1 (GRU)                  (None, 1)                 99        \n",
            "_________________________________________________________________\n",
            "dense (Dense)                (None, 10)                20        \n",
            "_________________________________________________________________\n",
            "dropout_1 (Dropout)          (None, 10)                0         \n",
            "_________________________________________________________________\n",
            "dense_1 (Dense)              (None, 6)                 66        \n",
            "_________________________________________________________________\n",
            "dense_2 (Dense)              (None, 4)                 28        \n",
            "=================================================================\n",
            "Total params: 22,266\n",
            "Trainable params: 22,266\n",
            "Non-trainable params: 0\n",
            "_________________________________________________________________\n"
          ],
          "name": "stdout"
        }
      ]
    },
    {
      "cell_type": "code",
      "metadata": {
        "id": "Pi4y2kdn3z3T",
        "colab_type": "code",
        "colab": {}
      },
      "source": [
        "model.compile(loss='sparse_categorical_crossentropy', \n",
        "              optimizer='adam', \n",
        "              metrics= ['accuracy'])"
      ],
      "execution_count": 0,
      "outputs": []
    },
    {
      "cell_type": "code",
      "metadata": {
        "id": "dXg-V5rT6Wlg",
        "colab_type": "code",
        "colab": {
          "base_uri": "https://localhost:8080/",
          "height": 1000
        },
        "outputId": "b3ba58f7-1697-4f36-bbfc-83ce16c5bbec"
      },
      "source": [
        "\n",
        "intervals = [[3000*i,3000*(i+1)] for i in range(10)]\n",
        "for epoch in range(1):\n",
        "  for interval in intervals:\n",
        "    data, label = batch_loader(interval)\n",
        "    data_test, label_test=  batch_loader_test_data()\n",
        "    model.fit(data,  label-1, epochs=20, validation_data=(data_test, label_test-1))\n",
        "    print('')\n",
        "    print('############################')\n",
        "    print('############################')\n",
        "    print('interval:{}    and    epoch:{}'.format(interval, epoch))\n",
        "    print('############################')\n",
        "    print('############################')\n",
        "    print('')"
      ],
      "execution_count": 25,
      "outputs": [
        {
          "output_type": "stream",
          "text": [
            "Epoch 1/20\n",
            "94/94 [==============================] - 6s 68ms/step - loss: 1.2452 - accuracy: 0.3920 - val_loss: 1.4814 - val_accuracy: 0.4200\n",
            "Epoch 2/20\n",
            "94/94 [==============================] - 6s 67ms/step - loss: 1.2234 - accuracy: 0.4117 - val_loss: 1.5593 - val_accuracy: 0.4500\n",
            "Epoch 3/20\n",
            "94/94 [==============================] - 6s 68ms/step - loss: 1.1670 - accuracy: 0.4377 - val_loss: 1.6793 - val_accuracy: 0.3900\n",
            "Epoch 4/20\n",
            "94/94 [==============================] - 6s 68ms/step - loss: 1.1218 - accuracy: 0.4467 - val_loss: 1.8014 - val_accuracy: 0.3900\n",
            "Epoch 5/20\n",
            "94/94 [==============================] - 6s 68ms/step - loss: 1.1591 - accuracy: 0.4463 - val_loss: 1.9221 - val_accuracy: 0.3000\n",
            "Epoch 6/20\n",
            "94/94 [==============================] - 6s 68ms/step - loss: 1.0670 - accuracy: 0.4937 - val_loss: 2.1012 - val_accuracy: 0.2400\n",
            "Epoch 7/20\n",
            "94/94 [==============================] - 6s 67ms/step - loss: 1.0520 - accuracy: 0.5037 - val_loss: 2.0741 - val_accuracy: 0.2300\n",
            "Epoch 8/20\n",
            "94/94 [==============================] - 6s 68ms/step - loss: 0.9938 - accuracy: 0.5257 - val_loss: 1.9602 - val_accuracy: 0.2600\n",
            "Epoch 9/20\n",
            "94/94 [==============================] - 6s 68ms/step - loss: 1.1176 - accuracy: 0.4743 - val_loss: 1.5184 - val_accuracy: 0.2900\n",
            "Epoch 10/20\n",
            "94/94 [==============================] - 6s 68ms/step - loss: 1.1529 - accuracy: 0.4753 - val_loss: 1.7177 - val_accuracy: 0.2100\n",
            "Epoch 11/20\n",
            "94/94 [==============================] - 6s 68ms/step - loss: 1.0058 - accuracy: 0.5240 - val_loss: 2.4329 - val_accuracy: 0.1100\n",
            "Epoch 12/20\n",
            "94/94 [==============================] - 6s 68ms/step - loss: 0.9483 - accuracy: 0.5557 - val_loss: 2.5408 - val_accuracy: 0.1900\n",
            "Epoch 13/20\n",
            "94/94 [==============================] - 6s 67ms/step - loss: 1.1269 - accuracy: 0.4850 - val_loss: 1.9419 - val_accuracy: 0.2800\n",
            "Epoch 14/20\n",
            "94/94 [==============================] - 6s 68ms/step - loss: 1.0554 - accuracy: 0.5157 - val_loss: 2.1953 - val_accuracy: 0.1700\n",
            "Epoch 15/20\n",
            "94/94 [==============================] - 6s 67ms/step - loss: 0.9351 - accuracy: 0.5467 - val_loss: 2.4690 - val_accuracy: 0.0500\n",
            "Epoch 16/20\n",
            "94/94 [==============================] - 6s 68ms/step - loss: 0.9393 - accuracy: 0.5537 - val_loss: 2.9052 - val_accuracy: 0.1200\n",
            "Epoch 17/20\n",
            "94/94 [==============================] - 6s 68ms/step - loss: 0.9080 - accuracy: 0.5683 - val_loss: 2.7388 - val_accuracy: 0.2300\n",
            "Epoch 18/20\n",
            "94/94 [==============================] - 6s 68ms/step - loss: 0.8903 - accuracy: 0.5777 - val_loss: 2.8523 - val_accuracy: 0.3100\n",
            "Epoch 19/20\n",
            "94/94 [==============================] - 7s 71ms/step - loss: 0.8764 - accuracy: 0.5933 - val_loss: 3.3061 - val_accuracy: 0.2300\n",
            "Epoch 20/20\n",
            "94/94 [==============================] - 6s 67ms/step - loss: 0.8955 - accuracy: 0.6040 - val_loss: 2.7885 - val_accuracy: 0.1900\n",
            "\n",
            "############################\n",
            "############################\n",
            "interval:[0, 3000]    and    epoch:0\n",
            "############################\n",
            "############################\n",
            "\n"
          ],
          "name": "stdout"
        },
        {
          "output_type": "error",
          "ename": "KeyboardInterrupt",
          "evalue": "ignored",
          "traceback": [
            "\u001b[0;31m---------------------------------------------------------------------------\u001b[0m",
            "\u001b[0;31mKeyboardInterrupt\u001b[0m                         Traceback (most recent call last)",
            "\u001b[0;32m<ipython-input-25-7290855ad64c>\u001b[0m in \u001b[0;36m<module>\u001b[0;34m()\u001b[0m\n\u001b[1;32m      3\u001b[0m \u001b[0;32mfor\u001b[0m \u001b[0mepoch\u001b[0m \u001b[0;32min\u001b[0m \u001b[0mrange\u001b[0m\u001b[0;34m(\u001b[0m\u001b[0;36m1\u001b[0m\u001b[0;34m)\u001b[0m\u001b[0;34m:\u001b[0m\u001b[0;34m\u001b[0m\u001b[0;34m\u001b[0m\u001b[0m\n\u001b[1;32m      4\u001b[0m   \u001b[0;32mfor\u001b[0m \u001b[0minterval\u001b[0m \u001b[0;32min\u001b[0m \u001b[0mintervals\u001b[0m\u001b[0;34m:\u001b[0m\u001b[0;34m\u001b[0m\u001b[0;34m\u001b[0m\u001b[0m\n\u001b[0;32m----> 5\u001b[0;31m     \u001b[0mdata\u001b[0m\u001b[0;34m,\u001b[0m \u001b[0mlabel\u001b[0m \u001b[0;34m=\u001b[0m \u001b[0mbatch_loader\u001b[0m\u001b[0;34m(\u001b[0m\u001b[0minterval\u001b[0m\u001b[0;34m)\u001b[0m\u001b[0;34m\u001b[0m\u001b[0;34m\u001b[0m\u001b[0m\n\u001b[0m\u001b[1;32m      6\u001b[0m     \u001b[0mdata_test\u001b[0m\u001b[0;34m,\u001b[0m \u001b[0mlabel_test\u001b[0m\u001b[0;34m=\u001b[0m  \u001b[0mbatch_loader_test_data\u001b[0m\u001b[0;34m(\u001b[0m\u001b[0;34m)\u001b[0m\u001b[0;34m\u001b[0m\u001b[0;34m\u001b[0m\u001b[0m\n\u001b[1;32m      7\u001b[0m     \u001b[0mmodel\u001b[0m\u001b[0;34m.\u001b[0m\u001b[0mfit\u001b[0m\u001b[0;34m(\u001b[0m\u001b[0mdata\u001b[0m\u001b[0;34m,\u001b[0m  \u001b[0mlabel\u001b[0m\u001b[0;34m-\u001b[0m\u001b[0;36m1\u001b[0m\u001b[0;34m,\u001b[0m \u001b[0mepochs\u001b[0m\u001b[0;34m=\u001b[0m\u001b[0;36m20\u001b[0m\u001b[0;34m,\u001b[0m \u001b[0mvalidation_data\u001b[0m\u001b[0;34m=\u001b[0m\u001b[0;34m(\u001b[0m\u001b[0mdata_test\u001b[0m\u001b[0;34m,\u001b[0m \u001b[0mlabel_test\u001b[0m\u001b[0;34m-\u001b[0m\u001b[0;36m1\u001b[0m\u001b[0;34m)\u001b[0m\u001b[0;34m)\u001b[0m\u001b[0;34m\u001b[0m\u001b[0;34m\u001b[0m\u001b[0m\n",
            "\u001b[0;32m<ipython-input-13-274361a79e9a>\u001b[0m in \u001b[0;36mbatch_loader\u001b[0;34m(batch)\u001b[0m\n\u001b[1;32m      8\u001b[0m \u001b[0;34m\u001b[0m\u001b[0m\n\u001b[1;32m      9\u001b[0m   \u001b[0;32mfor\u001b[0m \u001b[0mi\u001b[0m \u001b[0;32min\u001b[0m \u001b[0mrange\u001b[0m\u001b[0;34m(\u001b[0m\u001b[0mbatch\u001b[0m\u001b[0;34m[\u001b[0m\u001b[0;36m0\u001b[0m\u001b[0;34m]\u001b[0m\u001b[0;34m,\u001b[0m \u001b[0mbatch\u001b[0m\u001b[0;34m[\u001b[0m\u001b[0;36m1\u001b[0m\u001b[0;34m]\u001b[0m\u001b[0;34m)\u001b[0m\u001b[0;34m:\u001b[0m\u001b[0;34m\u001b[0m\u001b[0;34m\u001b[0m\u001b[0m\n\u001b[0;32m---> 10\u001b[0;31m     \u001b[0mdata\u001b[0m\u001b[0;34m,\u001b[0m \u001b[0mlabel\u001b[0m \u001b[0;34m=\u001b[0m \u001b[0mdata_loader\u001b[0m\u001b[0;34m(\u001b[0m\u001b[0mselector\u001b[0m\u001b[0;34m[\u001b[0m\u001b[0mint\u001b[0m\u001b[0;34m(\u001b[0m\u001b[0mi\u001b[0m\u001b[0;34m%\u001b[0m\u001b[0mlen\u001b[0m\u001b[0;34m(\u001b[0m\u001b[0mselector\u001b[0m\u001b[0;34m)\u001b[0m\u001b[0;34m)\u001b[0m\u001b[0;34m]\u001b[0m\u001b[0;34m)\u001b[0m\u001b[0;34m\u001b[0m\u001b[0;34m\u001b[0m\u001b[0m\n\u001b[0m\u001b[1;32m     11\u001b[0m     \u001b[0mData\u001b[0m\u001b[0;34m.\u001b[0m\u001b[0mappend\u001b[0m\u001b[0;34m(\u001b[0m\u001b[0mdata\u001b[0m\u001b[0;34m)\u001b[0m\u001b[0;34m\u001b[0m\u001b[0;34m\u001b[0m\u001b[0m\n\u001b[1;32m     12\u001b[0m     \u001b[0mLabel\u001b[0m\u001b[0;34m.\u001b[0m\u001b[0mappend\u001b[0m\u001b[0;34m(\u001b[0m\u001b[0mlabel\u001b[0m\u001b[0;34m)\u001b[0m\u001b[0;34m\u001b[0m\u001b[0;34m\u001b[0m\u001b[0m\n",
            "\u001b[0;32m<ipython-input-8-0ffac0915592>\u001b[0m in \u001b[0;36mdata_loader\u001b[0;34m(select)\u001b[0m\n\u001b[1;32m     14\u001b[0m \u001b[0;34m\u001b[0m\u001b[0m\n\u001b[1;32m     15\u001b[0m \u001b[0;34m\u001b[0m\u001b[0m\n\u001b[0;32m---> 16\u001b[0;31m   \u001b[0mdata\u001b[0m \u001b[0;34m=\u001b[0m  \u001b[0mnp\u001b[0m\u001b[0;34m.\u001b[0m\u001b[0mmean\u001b[0m\u001b[0;34m(\u001b[0m\u001b[0msubj_1\u001b[0m\u001b[0;34m[\u001b[0m\u001b[0;34m'train_data_class{}'\u001b[0m\u001b[0;34m.\u001b[0m\u001b[0mformat\u001b[0m\u001b[0;34m(\u001b[0m\u001b[0mselect\u001b[0m\u001b[0;34m[\u001b[0m\u001b[0;36m1\u001b[0m\u001b[0;34m]\u001b[0m\u001b[0;34m)\u001b[0m\u001b[0;34m]\u001b[0m\u001b[0;34m[\u001b[0m\u001b[0msamples\u001b[0m\u001b[0;34m]\u001b[0m\u001b[0;34m[\u001b[0m\u001b[0;34m:\u001b[0m\u001b[0;34m:\u001b[0m\u001b[0munder_sample_rate\u001b[0m\u001b[0;34m,\u001b[0m\u001b[0;34m:\u001b[0m\u001b[0;34m]\u001b[0m\u001b[0;34m,\u001b[0m \u001b[0maxis\u001b[0m\u001b[0;34m=\u001b[0m\u001b[0;36m0\u001b[0m\u001b[0;34m)\u001b[0m\u001b[0;34m\u001b[0m\u001b[0;34m\u001b[0m\u001b[0m\n\u001b[0m\u001b[1;32m     17\u001b[0m   \u001b[0mlabel\u001b[0m \u001b[0;34m=\u001b[0m \u001b[0mselect\u001b[0m\u001b[0;34m[\u001b[0m\u001b[0;36m1\u001b[0m\u001b[0;34m]\u001b[0m\u001b[0;34m\u001b[0m\u001b[0;34m\u001b[0m\u001b[0m\n\u001b[1;32m     18\u001b[0m   \u001b[0;32mreturn\u001b[0m \u001b[0mdata\u001b[0m\u001b[0;34m,\u001b[0m \u001b[0mlabel\u001b[0m\u001b[0;34m\u001b[0m\u001b[0;34m\u001b[0m\u001b[0m\n",
            "\u001b[0;32m<__array_function__ internals>\u001b[0m in \u001b[0;36mmean\u001b[0;34m(*args, **kwargs)\u001b[0m\n",
            "\u001b[0;32m/usr/local/lib/python3.6/dist-packages/numpy/core/fromnumeric.py\u001b[0m in \u001b[0;36mmean\u001b[0;34m(a, axis, dtype, out, keepdims)\u001b[0m\n\u001b[1;32m   3333\u001b[0m \u001b[0;34m\u001b[0m\u001b[0m\n\u001b[1;32m   3334\u001b[0m     return _methods._mean(a, axis=axis, dtype=dtype,\n\u001b[0;32m-> 3335\u001b[0;31m                           out=out, **kwargs)\n\u001b[0m\u001b[1;32m   3336\u001b[0m \u001b[0;34m\u001b[0m\u001b[0m\n\u001b[1;32m   3337\u001b[0m \u001b[0;34m\u001b[0m\u001b[0m\n",
            "\u001b[0;32m/usr/local/lib/python3.6/dist-packages/numpy/core/_methods.py\u001b[0m in \u001b[0;36m_mean\u001b[0;34m(a, axis, dtype, out, keepdims)\u001b[0m\n\u001b[1;32m    149\u001b[0m             \u001b[0mis_float16_result\u001b[0m \u001b[0;34m=\u001b[0m \u001b[0;32mTrue\u001b[0m\u001b[0;34m\u001b[0m\u001b[0;34m\u001b[0m\u001b[0m\n\u001b[1;32m    150\u001b[0m \u001b[0;34m\u001b[0m\u001b[0m\n\u001b[0;32m--> 151\u001b[0;31m     \u001b[0mret\u001b[0m \u001b[0;34m=\u001b[0m \u001b[0mumr_sum\u001b[0m\u001b[0;34m(\u001b[0m\u001b[0marr\u001b[0m\u001b[0;34m,\u001b[0m \u001b[0maxis\u001b[0m\u001b[0;34m,\u001b[0m \u001b[0mdtype\u001b[0m\u001b[0;34m,\u001b[0m \u001b[0mout\u001b[0m\u001b[0;34m,\u001b[0m \u001b[0mkeepdims\u001b[0m\u001b[0;34m)\u001b[0m\u001b[0;34m\u001b[0m\u001b[0;34m\u001b[0m\u001b[0m\n\u001b[0m\u001b[1;32m    152\u001b[0m     \u001b[0;32mif\u001b[0m \u001b[0misinstance\u001b[0m\u001b[0;34m(\u001b[0m\u001b[0mret\u001b[0m\u001b[0;34m,\u001b[0m \u001b[0mmu\u001b[0m\u001b[0;34m.\u001b[0m\u001b[0mndarray\u001b[0m\u001b[0;34m)\u001b[0m\u001b[0;34m:\u001b[0m\u001b[0;34m\u001b[0m\u001b[0;34m\u001b[0m\u001b[0m\n\u001b[1;32m    153\u001b[0m         ret = um.true_divide(\n",
            "\u001b[0;31mKeyboardInterrupt\u001b[0m: "
          ]
        }
      ]
    },
    {
      "cell_type": "code",
      "metadata": {
        "id": "9aS2msfv_QkU",
        "colab_type": "code",
        "colab": {}
      },
      "source": [
        "data_show.shape"
      ],
      "execution_count": 0,
      "outputs": []
    },
    {
      "cell_type": "code",
      "metadata": {
        "id": "rIHiDZ6p3z6O",
        "colab_type": "code",
        "colab": {}
      },
      "source": [
        "data_test, label_test=  batch_loader_test_data()"
      ],
      "execution_count": 0,
      "outputs": []
    },
    {
      "cell_type": "code",
      "metadata": {
        "id": "HP4JNeni_iiU",
        "colab_type": "code",
        "colab": {}
      },
      "source": [
        "Data_test, Label_test = batch_loader()"
      ],
      "execution_count": 0,
      "outputs": []
    },
    {
      "cell_type": "code",
      "metadata": {
        "id": "hBZqyJlxYL-Q",
        "colab_type": "code",
        "colab": {}
      },
      "source": [
        ""
      ],
      "execution_count": 0,
      "outputs": []
    },
    {
      "cell_type": "code",
      "metadata": {
        "id": "iHLtsy0v3z-f",
        "colab_type": "code",
        "colab": {}
      },
      "source": [
        "model.evaluate(Data_test, Label_test-1)\n",
        "\n",
        "#y_pred = model.predict(data_test)\n",
        "#y_pred = np.argmax(y_pred, axis=1) +1"
      ],
      "execution_count": 0,
      "outputs": []
    },
    {
      "cell_type": "code",
      "metadata": {
        "id": "8vLJ8jimbcra",
        "colab_type": "code",
        "colab": {}
      },
      "source": [
        "y_pred = model.predict(data_test)"
      ],
      "execution_count": 0,
      "outputs": []
    },
    {
      "cell_type": "code",
      "metadata": {
        "id": "VYmNi2hZ30Bj",
        "colab_type": "code",
        "colab": {}
      },
      "source": [
        "np.shape(y_pred[0]), np.shape(y_pred[1])"
      ],
      "execution_count": 0,
      "outputs": []
    },
    {
      "cell_type": "code",
      "metadata": {
        "id": "dNLCVjUUJUuW",
        "colab_type": "code",
        "colab": {}
      },
      "source": [
        "plt.plot(y_pred[0][19,:,0])"
      ],
      "execution_count": 0,
      "outputs": []
    },
    {
      "cell_type": "code",
      "metadata": {
        "id": "MqkKKoDuJUq8",
        "colab_type": "code",
        "colab": {}
      },
      "source": [
        ""
      ],
      "execution_count": 0,
      "outputs": []
    },
    {
      "cell_type": "code",
      "metadata": {
        "id": "HR8ultZGJUpw",
        "colab_type": "code",
        "colab": {}
      },
      "source": [
        ""
      ],
      "execution_count": 0,
      "outputs": []
    },
    {
      "cell_type": "code",
      "metadata": {
        "id": "tVpigN4FJUn0",
        "colab_type": "code",
        "colab": {}
      },
      "source": [
        ""
      ],
      "execution_count": 0,
      "outputs": []
    },
    {
      "cell_type": "code",
      "metadata": {
        "id": "5W56HHFEJUki",
        "colab_type": "code",
        "colab": {}
      },
      "source": [
        ""
      ],
      "execution_count": 0,
      "outputs": []
    },
    {
      "cell_type": "code",
      "metadata": {
        "id": "ZD9bHqEBN_js",
        "colab_type": "code",
        "colab": {
          "base_uri": "https://localhost:8080/",
          "height": 54
        },
        "outputId": "487fd17c-0e20-4f8d-955b-a1c6eee50f11"
      },
      "source": [
        "'''\n",
        "model = keras.models.Sequential()\n",
        "\n",
        "#model.add(keras.layers.MaxPool1D(2, input_shape=[None, 63]))\n",
        "#model.add(keras.layers.Conv1D( 3, 100, strides=50, input_shape=[None, 63], activation='relu'))\n",
        "#model.add(keras.layers.Dropout(0.5))\n",
        "model.add(keras.layers.GRU(30, return_sequences=True, input_shape =[None, 63]))\n",
        "model.add(keras.layers.GRU(20))\n",
        "model.add(keras.layers.Dense(10, activation = 'relu'))\n",
        "model.add(keras.layers.Dense(6, activation='relu'))\n",
        "model.add(keras.layers.Dense(4, activation ='softmax'))\n",
        "\n",
        "# This got %28  accuracy\n",
        "\n",
        "'''"
      ],
      "execution_count": 53,
      "outputs": [
        {
          "output_type": "execute_result",
          "data": {
            "text/plain": [
              "\"\\nmodel = keras.models.Sequential()\\n\\n#model.add(keras.layers.MaxPool1D(2, input_shape=[None, 63]))\\n#model.add(keras.layers.Conv1D( 3, 100, strides=50, input_shape=[None, 63], activation='relu'))\\n#model.add(keras.layers.Dropout(0.5))\\nmodel.add(keras.layers.GRU(30, return_sequences=True, input_shape =[None, 63]))\\nmodel.add(keras.layers.GRU(20))\\nmodel.add(keras.layers.Dense(10, activation = 'relu'))\\nmodel.add(keras.layers.Dense(6, activation='relu'))\\nmodel.add(keras.layers.Dense(4, activation ='softmax'))\\n\\n# This got %28  accuracy\\n\\n\""
            ]
          },
          "metadata": {
            "tags": []
          },
          "execution_count": 53
        }
      ]
    },
    {
      "cell_type": "code",
      "metadata": {
        "id": "wWJc6J1XRLp8",
        "colab_type": "code",
        "colab": {
          "base_uri": "https://localhost:8080/",
          "height": 54
        },
        "outputId": "681f8592-66f1-4ae9-c30b-55e7bcd88fa7"
      },
      "source": [
        "'''model = keras.models.Sequential()\n",
        "\n",
        "#model.add(keras.layers.MaxPool1D(2, input_shape=[None, 63]))\n",
        "#model.add(keras.layers.Conv1D( 3, 100, strides=50, input_shape=[None, 63], activation='relu'))\n",
        "#model.add(keras.layers.Dropout(0.5))\n",
        "model.add(keras.layers.GRU(30, return_sequences=True, input_shape =[None, 63]))\n",
        "model.add(keras.layers.GRU(20))\n",
        "model.add(keras.layers.Dense(10, activation = 'relu'))\n",
        "model.add(keras.layers.Dense(6, activation='relu'))\n",
        "model.add(keras.layers.Dense(4, activation ='softmax'))\n",
        "\n",
        "### It Got 100% accuracy with pusing method'''"
      ],
      "execution_count": 56,
      "outputs": [
        {
          "output_type": "execute_result",
          "data": {
            "text/plain": [
              "\"model = keras.models.Sequential()\\n\\n#model.add(keras.layers.MaxPool1D(2, input_shape=[None, 63]))\\n#model.add(keras.layers.Conv1D( 3, 100, strides=50, input_shape=[None, 63], activation='relu'))\\n#model.add(keras.layers.Dropout(0.5))\\nmodel.add(keras.layers.GRU(30, return_sequences=True, input_shape =[None, 63]))\\nmodel.add(keras.layers.GRU(20))\\nmodel.add(keras.layers.Dense(10, activation = 'relu'))\\nmodel.add(keras.layers.Dense(6, activation='relu'))\\nmodel.add(keras.layers.Dense(4, activation ='softmax'))\\n\\n### It Got 100% accuracy with pusing method\""
            ]
          },
          "metadata": {
            "tags": []
          },
          "execution_count": 56
        }
      ]
    },
    {
      "cell_type": "code",
      "metadata": {
        "id": "FsRlD3_-JUgM",
        "colab_type": "code",
        "colab": {}
      },
      "source": [
        ""
      ],
      "execution_count": 0,
      "outputs": []
    },
    {
      "cell_type": "code",
      "metadata": {
        "id": "FWfu13N19Yom",
        "colab_type": "code",
        "colab": {}
      },
      "source": [
        "'''## For the manual Model\n",
        "\n",
        "over_sample = 1\n",
        "intervals = [[1000*i,1000*(i+1)] for i in range(3)]\n",
        "for epoch in range(1):\n",
        "  for interval in intervals:\n",
        "\n",
        "    data, label = batch_loader(interval)\n",
        "    data_show, label_ = batch_loader_show(label, interval) #used as the first output\n",
        "    data_test, label_test=  batch_loader_test_data()\n",
        "\n",
        "    model.fit(data[:,::over_sample,:], (data_show, label-1), epochs=10, validation_data=(data_test[:,::over_sample,:], label_test-1))\n",
        "    print('')\n",
        "    print('############################')\n",
        "    print('############################')\n",
        "    print('interval:{}    and    epoch:{}'.format(interval, epoch))\n",
        "    print('############################')\n",
        "    print('############################')\n",
        "    print('')'''"
      ],
      "execution_count": 0,
      "outputs": []
    },
    {
      "cell_type": "code",
      "metadata": {
        "id": "_wh0_oNM51f4",
        "colab_type": "code",
        "outputId": "1059ef7e-a226-4b71-e8da-1947a488f616",
        "colab": {
          "base_uri": "https://localhost:8080/",
          "height": 54
        }
      },
      "source": [
        "'''input_ = keras.layers.Input(shape=(None, 63), name='inputtt')\n",
        "hidden1 = keras.layers.TimeDistributed(keras.layers.Dense(50, activation=\"relu\"))(input_)\n",
        "hidden2 = keras.layers.TimeDistributed(keras.layers.Dense(40, activation=\"relu\"))(hidden1)\n",
        "hidden3 = keras.layers.TimeDistributed(keras.layers.Dense(30, activation=\"relu\"))(hidden2)\n",
        "hidden3_0 = keras.layers.GRU(20)(hidden3)\n",
        "hidden3_1 = keras.layers.Dense(10, activation=\"relu\")(hidden3_0)\n",
        "hidden3_2 = keras.layers.Dense(5, activation=\"relu\")(hidden3_1)\n",
        "\n",
        "hidden4 = keras.layers.TimeDistributed(keras.layers.Dense(40, activation=\"relu\"))(hidden3)\n",
        "hidden5 = keras.layers.TimeDistributed(keras.layers.Dense(63, activation=\"relu\"))(hidden4)\n",
        "output = keras.layers.Dense(1, name=\"time_series_output\")(hidden5)\n",
        "aux_output = keras.layers.Dense(4, activation='softmax', name=\"label_output\")(hidden3_2)\n",
        "model = keras.Model(inputs=[input_], outputs=[output,\n",
        "aux_output])\n",
        "\n",
        "\n",
        "\n",
        "keras.utils.plot_model(model)\n",
        "from IPython.display import Image\n",
        "Image('model.png')\n",
        "\n",
        "\n",
        "model.compile(optimizer='adam', \n",
        "              loss = ['MSE', 'sparse_categorical_crossentropy'],\n",
        "              metrics = ['accuracy'])\n",
        "\n",
        "model.summary()'''"
      ],
      "execution_count": 51,
      "outputs": [
        {
          "output_type": "execute_result",
          "data": {
            "text/plain": [
              "'input_ = keras.layers.Input(shape=(None, 63), name=\\'inputtt\\')\\nhidden1 = keras.layers.TimeDistributed(keras.layers.Dense(50, activation=\"relu\"))(input_)\\nhidden2 = keras.layers.TimeDistributed(keras.layers.Dense(40, activation=\"relu\"))(hidden1)\\nhidden3 = keras.layers.TimeDistributed(keras.layers.Dense(30, activation=\"relu\"))(hidden2)\\nhidden3_0 = keras.layers.GRU(20)(hidden3)\\nhidden3_1 = keras.layers.Dense(10, activation=\"relu\")(hidden3_0)\\nhidden3_2 = keras.layers.Dense(5, activation=\"relu\")(hidden3_1)\\n\\nhidden4 = keras.layers.TimeDistributed(keras.layers.Dense(40, activation=\"relu\"))(hidden3)\\nhidden5 = keras.layers.TimeDistributed(keras.layers.Dense(63, activation=\"relu\"))(hidden4)\\noutput = keras.layers.Dense(1, name=\"time_series_output\")(hidden5)\\naux_output = keras.layers.Dense(4, activation=\\'softmax\\', name=\"label_output\")(hidden3_2)\\nmodel = keras.Model(inputs=[input_], outputs=[output,\\naux_output])\\n\\n\\n\\nkeras.utils.plot_model(model)\\nfrom IPython.display import Image\\nImage(\\'model.png\\')\\n\\n\\nmodel.compile(optimizer=\\'adam\\', \\n              loss = [\\'MSE\\', \\'sparse_categorical_crossentropy\\'],\\n              metrics = [\\'accuracy\\'])\\n\\nmodel.summary()'"
            ]
          },
          "metadata": {
            "tags": []
          },
          "execution_count": 51
        },
        {
          "output_type": "stream",
          "text": [
            "ERROR! Session/line number was not unique in database. History logging moved to new session 63\n"
          ],
          "name": "stdout"
        }
      ]
    },
    {
      "cell_type": "code",
      "metadata": {
        "id": "30cqr1bcJUSH",
        "colab_type": "code",
        "colab": {}
      },
      "source": [
        ""
      ],
      "execution_count": 0,
      "outputs": []
    },
    {
      "cell_type": "code",
      "metadata": {
        "id": "bhtHllF43z9a",
        "colab_type": "code",
        "colab": {}
      },
      "source": [
        "from sklearn.metrics import confusion_matrix"
      ],
      "execution_count": 0,
      "outputs": []
    },
    {
      "cell_type": "code",
      "metadata": {
        "id": "q-QSwF8z3zzA",
        "colab_type": "code",
        "colab": {}
      },
      "source": [
        "mat = confusion_matrix(label_test, y_pred)"
      ],
      "execution_count": 0,
      "outputs": []
    },
    {
      "cell_type": "code",
      "metadata": {
        "id": "Of1OchliRiZL",
        "colab_type": "code",
        "colab": {}
      },
      "source": [
        "plt.imshow(mat)\n",
        "mat\n"
      ],
      "execution_count": 0,
      "outputs": []
    },
    {
      "cell_type": "code",
      "metadata": {
        "id": "G7y9QxOMSU3v",
        "colab_type": "code",
        "colab": {}
      },
      "source": [
        "from sklearn.metrics import classification_report"
      ],
      "execution_count": 0,
      "outputs": []
    },
    {
      "cell_type": "code",
      "metadata": {
        "id": "bcBNd0QJSU7x",
        "colab_type": "code",
        "colab": {}
      },
      "source": [
        "print(classification_report(label_test, y_pred))"
      ],
      "execution_count": 0,
      "outputs": []
    },
    {
      "cell_type": "code",
      "metadata": {
        "id": "IiIRrTwtSU-m",
        "colab_type": "code",
        "colab": {}
      },
      "source": [
        ""
      ],
      "execution_count": 0,
      "outputs": []
    },
    {
      "cell_type": "code",
      "metadata": {
        "id": "7ca_s404SVK8",
        "colab_type": "code",
        "colab": {}
      },
      "source": [
        ""
      ],
      "execution_count": 0,
      "outputs": []
    },
    {
      "cell_type": "code",
      "metadata": {
        "id": "uhZLdzDhSVIq",
        "colab_type": "code",
        "colab": {}
      },
      "source": [
        ""
      ],
      "execution_count": 0,
      "outputs": []
    },
    {
      "cell_type": "code",
      "metadata": {
        "id": "86GueY96SVGS",
        "colab_type": "code",
        "colab": {}
      },
      "source": [
        ""
      ],
      "execution_count": 0,
      "outputs": []
    },
    {
      "cell_type": "code",
      "metadata": {
        "id": "UKJKhR-9SVEp",
        "colab_type": "code",
        "colab": {}
      },
      "source": [
        ""
      ],
      "execution_count": 0,
      "outputs": []
    },
    {
      "cell_type": "code",
      "metadata": {
        "id": "un5qSmSkSVCj",
        "colab_type": "code",
        "colab": {}
      },
      "source": [
        ""
      ],
      "execution_count": 0,
      "outputs": []
    },
    {
      "cell_type": "code",
      "metadata": {
        "id": "vtzbEMEkSVBM",
        "colab_type": "code",
        "colab": {}
      },
      "source": [
        ""
      ],
      "execution_count": 0,
      "outputs": []
    },
    {
      "cell_type": "code",
      "metadata": {
        "id": "5Z0L6B10SU1d",
        "colab_type": "code",
        "colab": {}
      },
      "source": [
        ""
      ],
      "execution_count": 0,
      "outputs": []
    },
    {
      "cell_type": "code",
      "metadata": {
        "id": "XqWQIXL7RlgW",
        "colab_type": "code",
        "colab": {}
      },
      "source": [
        ""
      ],
      "execution_count": 0,
      "outputs": []
    }
  ]
}