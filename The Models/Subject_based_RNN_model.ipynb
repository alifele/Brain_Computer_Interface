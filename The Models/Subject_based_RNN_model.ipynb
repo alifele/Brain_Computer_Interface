{
  "nbformat": 4,
  "nbformat_minor": 0,
  "metadata": {
    "colab": {
      "name": "Subject based RNN model.ipynb",
      "provenance": [],
      "collapsed_sections": [],
      "toc_visible": true,
      "machine_shape": "hm",
      "mount_file_id": "https://github.com/alifele/Brain_Computer_Interface-Competition-/blob/master/The%20Models/Subject_based_RNN_model.ipynb",
      "authorship_tag": "ABX9TyOwPPLSTtcu8O8nWSAVlwmp",
      "include_colab_link": true
    },
    "kernelspec": {
      "name": "python3",
      "display_name": "Python 3"
    },
    "accelerator": "GPU"
  },
  "cells": [
    {
      "cell_type": "markdown",
      "metadata": {
        "id": "view-in-github",
        "colab_type": "text"
      },
      "source": [
        "<a href=\"https://colab.research.google.com/github/alifele/Brain_Computer_Interface-Competition-/blob/master/The%20Models/Subject_based_RNN_model.ipynb\" target=\"_parent\"><img src=\"https://colab.research.google.com/assets/colab-badge.svg\" alt=\"Open In Colab\"/></a>"
      ]
    },
    {
      "cell_type": "code",
      "metadata": {
        "id": "CNI-LbMxVdrd",
        "colab_type": "code",
        "colab": {}
      },
      "source": [
        ""
      ],
      "execution_count": 0,
      "outputs": []
    },
    {
      "cell_type": "code",
      "metadata": {
        "id": "PSZ7iyVEuRSq",
        "colab_type": "code",
        "colab": {}
      },
      "source": [
        "import sys\n",
        "import numpy as np\n",
        "import matplotlib.pyplot as plt\n",
        "sys.path.append('/content/drive/My Drive/EEG_BCI/')\n",
        "import datafetch\n",
        "import plotters\n",
        "import random"
      ],
      "execution_count": 0,
      "outputs": []
    },
    {
      "cell_type": "code",
      "metadata": {
        "id": "M-CEe3_w0It_",
        "colab_type": "code",
        "colab": {}
      },
      "source": [
        "import random\n",
        "from sklearn.model_selection import train_test_split"
      ],
      "execution_count": 0,
      "outputs": []
    },
    {
      "cell_type": "code",
      "metadata": {
        "id": "1ZNkdINKu5BR",
        "colab_type": "code",
        "outputId": "d6c1e2d0-dbb7-4aa5-9739-a2d48f4f5bc7",
        "colab": {
          "base_uri": "https://localhost:8080/",
          "height": 54
        }
      },
      "source": [
        "subj_1 = datafetch.fetch_subject(12)\n",
        "subj_1.keys()"
      ],
      "execution_count": 106,
      "outputs": [
        {
          "output_type": "execute_result",
          "data": {
            "text/plain": [
              "dict_keys(['test_data', 'train_data_class1', 'train_data_class2', 'train_data_class3', 'train_data_class4'])"
            ]
          },
          "metadata": {
            "tags": []
          },
          "execution_count": 106
        }
      ]
    },
    {
      "cell_type": "code",
      "metadata": {
        "id": "FeGch-vevBCz",
        "colab_type": "code",
        "colab": {}
      },
      "source": [
        "def selector_desing(subject):\n",
        "  selector = []\n",
        "  for i in subject:\n",
        "    for j in range(1,5):\n",
        "      for k in range(18):\n",
        "        selector.append((i,j,k))\n",
        "\n",
        "  selector = np.array(selector)\n",
        "  np.random.shuffle(selector)\n",
        "\n",
        "  return selector"
      ],
      "execution_count": 0,
      "outputs": []
    },
    {
      "cell_type": "code",
      "metadata": {
        "id": "Edh8eqkOAYGa",
        "colab_type": "code",
        "colab": {}
      },
      "source": [
        "def selector_desing_test_data(subject):\n",
        "  selector = []\n",
        "  for i in subject:\n",
        "    for j in range(1,5):\n",
        "      for k in range(18,25):\n",
        "        selector.append((i,j,k))\n",
        "\n",
        "  selector = np.array(selector)\n",
        "  np.random.shuffle(selector)\n",
        "  return selector"
      ],
      "execution_count": 0,
      "outputs": []
    },
    {
      "cell_type": "code",
      "metadata": {
        "id": "Aw4kBGuf4w8X",
        "colab_type": "code",
        "outputId": "1cee237b-a269-4070-d1e6-68b0c99fa285",
        "colab": {
          "base_uri": "https://localhost:8080/",
          "height": 34
        }
      },
      "source": [
        "selector = selector_desing([1])\n",
        "selector.shape"
      ],
      "execution_count": 109,
      "outputs": [
        {
          "output_type": "execute_result",
          "data": {
            "text/plain": [
              "(72, 3)"
            ]
          },
          "metadata": {
            "tags": []
          },
          "execution_count": 109
        }
      ]
    },
    {
      "cell_type": "code",
      "metadata": {
        "id": "KXId2iDqyNdj",
        "colab_type": "code",
        "colab": {}
      },
      "source": [
        "global indexes\n",
        "global test_data_indexes\n",
        "global selector\n",
        "global selector_test_data\n",
        "selector_test_data = selector_desing_test_data([1])\n",
        "selector = selector_desing([1])\n",
        "indexes = [i for i in range(18)]\n",
        "test_data_indexes = [i for i in range(18,25)]"
      ],
      "execution_count": 0,
      "outputs": []
    },
    {
      "cell_type": "code",
      "metadata": {
        "id": "s4T26Lx-ZG-B",
        "colab_type": "code",
        "colab": {}
      },
      "source": [
        ""
      ],
      "execution_count": 0,
      "outputs": []
    },
    {
      "cell_type": "code",
      "metadata": {
        "id": "ZDmI5edZBAgY",
        "colab_type": "code",
        "colab": {}
      },
      "source": [
        ""
      ],
      "execution_count": 0,
      "outputs": []
    },
    {
      "cell_type": "code",
      "metadata": {
        "id": "AARYOj39yyml",
        "colab_type": "code",
        "colab": {}
      },
      "source": [
        ""
      ],
      "execution_count": 0,
      "outputs": []
    },
    {
      "cell_type": "code",
      "metadata": {
        "id": "eBHeDXOLyOai",
        "colab_type": "code",
        "colab": {}
      },
      "source": [
        "def data_loader(select):\n",
        "  \n",
        "  global indexes\n",
        "\n",
        "  this_trail = select[2]\n",
        "  index = select[2]\n",
        "  \n",
        "  Indexes = indexes.copy()\n",
        "  Indexes.pop(index)  # so, now Indexes is the array [0,1,2,...,17] with out the this_trial index\n",
        "\n",
        "  samples = random.sample(Indexes, 11)\n",
        "  samples += [this_trail]\n",
        "\n",
        "\n",
        "  data =  np.mean(subj_1['train_data_class{}'.format(select[1])][samples], axis=0)\n",
        "  label = select[1]\n",
        "  return data, label"
      ],
      "execution_count": 0,
      "outputs": []
    },
    {
      "cell_type": "code",
      "metadata": {
        "id": "jnmbJSPQAFpQ",
        "colab_type": "code",
        "colab": {}
      },
      "source": [
        "def data_loader_test_data(select):\n",
        "  \n",
        "  global test_data_indexes\n",
        "\n",
        "  this_trail = select[2]\n",
        "  index = select[2]-18\n",
        "  \n",
        "  Indexes = test_data_indexes.copy()\n",
        "\n",
        "  Indexes.pop(index)  # so, now Indexes is the array [18,19,...,24] with out the this_trial index\n",
        "\n",
        "\n",
        "  samples = random.sample(Indexes, 3)\n",
        "  samples += [this_trail]\n",
        "\n",
        "\n",
        "  data =  np.mean(subj_1['train_data_class{}'.format(select[1])][samples], axis=0)\n",
        "  label = select[1]\n",
        "  return data, label"
      ],
      "execution_count": 0,
      "outputs": []
    },
    {
      "cell_type": "code",
      "metadata": {
        "id": "VWHxZEgXC9xe",
        "colab_type": "code",
        "colab": {}
      },
      "source": [
        ""
      ],
      "execution_count": 0,
      "outputs": []
    },
    {
      "cell_type": "code",
      "metadata": {
        "id": "kCqYSEkxzBu0",
        "colab_type": "code",
        "colab": {}
      },
      "source": [
        ""
      ],
      "execution_count": 0,
      "outputs": []
    },
    {
      "cell_type": "code",
      "metadata": {
        "id": "lBAECwDizxI3",
        "colab_type": "code",
        "colab": {}
      },
      "source": [
        ""
      ],
      "execution_count": 0,
      "outputs": []
    },
    {
      "cell_type": "code",
      "metadata": {
        "id": "g-eMJKZhzy9d",
        "colab_type": "code",
        "colab": {}
      },
      "source": [
        "from plotters import EEG_plotter"
      ],
      "execution_count": 0,
      "outputs": []
    },
    {
      "cell_type": "code",
      "metadata": {
        "id": "vsaITZLn000e",
        "colab_type": "code",
        "colab": {}
      },
      "source": [
        "EEG_plotter(40,data)\n",
        "#The meaned data"
      ],
      "execution_count": 0,
      "outputs": []
    },
    {
      "cell_type": "code",
      "metadata": {
        "id": "G84Ntfs7008k",
        "colab_type": "code",
        "colab": {}
      },
      "source": [
        "EEG_plotter(40,subj_1['train_data_class{}'.format(select[1])][select[2]] )\n",
        "\n",
        "# The Unmeaned data"
      ],
      "execution_count": 0,
      "outputs": []
    },
    {
      "cell_type": "code",
      "metadata": {
        "id": "CdLd1DU-01BK",
        "colab_type": "code",
        "colab": {}
      },
      "source": [
        "def batch_loader(batch=[0,100]):\n",
        "  # the batch=[a,b] can be 0...18000*4\n",
        "  \n",
        "  Label = []\n",
        "  Data = []\n",
        "  global selector\n",
        "  \n",
        "\n",
        "  for i in range(batch[0], batch[1]):\n",
        "    data, label = data_loader(selector[int(i%len(selector))])\n",
        "    Data.append(data)\n",
        "    Label.append(label)\n",
        "\n",
        "  Data = np.array(Data)\n",
        "  Label = np.array(Label)\n",
        "\n",
        "  return Data, Label"
      ],
      "execution_count": 0,
      "outputs": []
    },
    {
      "cell_type": "code",
      "metadata": {
        "id": "JyFx7K6rAAEL",
        "colab_type": "code",
        "colab": {
          "base_uri": "https://localhost:8080/",
          "height": 34
        },
        "outputId": "70059869-5f4d-4912-c055-170a9b8e6fc0"
      },
      "source": [
        "def batch_loader_test_data(batch=[0,100]):\n",
        "  # the batch=[a,b] can be 0...35*4\n",
        "  \n",
        "  Label = []\n",
        "  Data = []\n",
        "  global selector_test_data\n",
        "  global selector\n",
        "  \n",
        "\n",
        "  for i in range(batch[0], batch[1]):\n",
        "    data, label = data_loader_test_data(selector_test_data[int(i%len(selector_test_data))])\n",
        "\n",
        "    L = len(selector[selector[:,1]==label])\n",
        "    data_for_mean = []\n",
        "    for j in range(6):\n",
        "      data_, label_ = data_loader(selector[selector[:,1]==label][int((i+j)%L)])\n",
        "      data_for_mean.append(data_)\n",
        "      data = np.mean(data_for_mean, axis=0)\n",
        "\n",
        "    Data.append(data)\n",
        "    Label.append(label)\n",
        "\n",
        "  Data = np.array(Data)\n",
        "  Label = np.array(Label)\n",
        "\n",
        "  return Data, Label"
      ],
      "execution_count": 137,
      "outputs": [
        {
          "output_type": "stream",
          "text": [
            "ERROR! Session/line number was not unique in database. History logging moved to new session 61\n"
          ],
          "name": "stdout"
        }
      ]
    },
    {
      "cell_type": "code",
      "metadata": {
        "id": "GOctp75Q00_4",
        "colab_type": "code",
        "colab": {}
      },
      "source": [
        "data, label  = batch_loader()"
      ],
      "execution_count": 0,
      "outputs": []
    },
    {
      "cell_type": "code",
      "metadata": {
        "id": "qZ-xpKvw0067",
        "colab_type": "code",
        "outputId": "d6f15532-f39b-4568-bd4a-cf5b4220c35d",
        "colab": {
          "base_uri": "https://localhost:8080/",
          "height": 34
        }
      },
      "source": [
        "data.shape, label.shape"
      ],
      "execution_count": 121,
      "outputs": [
        {
          "output_type": "execute_result",
          "data": {
            "text/plain": [
              "((100, 7200, 63), (100,))"
            ]
          },
          "metadata": {
            "tags": []
          },
          "execution_count": 121
        }
      ]
    },
    {
      "cell_type": "code",
      "metadata": {
        "id": "cYnyDYlB005g",
        "colab_type": "code",
        "colab": {}
      },
      "source": [
        ""
      ],
      "execution_count": 0,
      "outputs": []
    },
    {
      "cell_type": "markdown",
      "metadata": {
        "id": "or5ZCyRU9KIO",
        "colab_type": "text"
      },
      "source": [
        "# The Model"
      ]
    },
    {
      "cell_type": "code",
      "metadata": {
        "id": "AU1gZUHs3ztQ",
        "colab_type": "code",
        "colab": {}
      },
      "source": [
        "from tensorflow import keras"
      ],
      "execution_count": 0,
      "outputs": []
    },
    {
      "cell_type": "code",
      "metadata": {
        "id": "XV_15KQt3zv5",
        "colab_type": "code",
        "colab": {}
      },
      "source": [
        "model = keras.models.Sequential()\n",
        "\n",
        "#model.add(keras.layers.MaxPool1D(2, input_shape=[None, 63]))\n",
        "model.add(keras.layers.Conv1D( 3, 100, strides=50, input_shape=[None, 63], activation='relu'))\n",
        "model.add(keras.layers.Dropout(0.5))\n",
        "model.add(keras.layers.GRU(30, return_sequences=True, input_shape =[None, 63]))\n",
        "model.add(keras.layers.GRU(1))\n",
        "model.add(keras.layers.Dense(10, activation = 'relu'))\n",
        "model.add(keras.layers.Dropout(0.5))\n",
        "model.add(keras.layers.Dense(6, activation='relu'))\n",
        "model.add(keras.layers.Dense(4, activation ='softmax'))\n",
        "\n",
        "# This got %34 accuracy"
      ],
      "execution_count": 0,
      "outputs": []
    },
    {
      "cell_type": "code",
      "metadata": {
        "id": "ZD9bHqEBN_js",
        "colab_type": "code",
        "colab": {}
      },
      "source": [
        "model = keras.models.Sequential()\n",
        "\n",
        "#model.add(keras.layers.MaxPool1D(2, input_shape=[None, 63]))\n",
        "#model.add(keras.layers.Conv1D( 3, 100, strides=50, input_shape=[None, 63], activation='relu'))\n",
        "#model.add(keras.layers.Dropout(0.5))\n",
        "model.add(keras.layers.GRU(30, return_sequences=True, input_shape =[None, 63]))\n",
        "model.add(keras.layers.GRU(20))\n",
        "model.add(keras.layers.Dense(10, activation = 'relu'))\n",
        "model.add(keras.layers.Dense(6, activation='relu'))\n",
        "model.add(keras.layers.Dense(4, activation ='softmax'))\n",
        "\n",
        "# This got %28  accuracy"
      ],
      "execution_count": 0,
      "outputs": []
    },
    {
      "cell_type": "code",
      "metadata": {
        "id": "wWJc6J1XRLp8",
        "colab_type": "code",
        "colab": {}
      },
      "source": [
        "model = keras.models.Sequential()\n",
        "\n",
        "#model.add(keras.layers.MaxPool1D(2, input_shape=[None, 63]))\n",
        "#model.add(keras.layers.Conv1D( 3, 100, strides=50, input_shape=[None, 63], activation='relu'))\n",
        "#model.add(keras.layers.Dropout(0.5))\n",
        "model.add(keras.layers.GRU(30, return_sequences=True, input_shape =[None, 63]))\n",
        "model.add(keras.layers.GRU(20))\n",
        "model.add(keras.layers.Dense(10, activation = 'relu'))\n",
        "model.add(keras.layers.Dense(6, activation='relu'))\n",
        "model.add(keras.layers.Dense(4, activation ='softmax'))\n",
        "\n",
        "### It Got 100% accuracy with pusing method"
      ],
      "execution_count": 0,
      "outputs": []
    },
    {
      "cell_type": "code",
      "metadata": {
        "id": "r_lyhOXW3z0m",
        "colab_type": "code",
        "outputId": "06f09f69-738d-46eb-b7e1-f81406cc1e56",
        "colab": {
          "base_uri": "https://localhost:8080/",
          "height": 330
        }
      },
      "source": [
        "model.summary()\n"
      ],
      "execution_count": 125,
      "outputs": [
        {
          "output_type": "stream",
          "text": [
            "Model: \"sequential_2\"\n",
            "_________________________________________________________________\n",
            "Layer (type)                 Output Shape              Param #   \n",
            "=================================================================\n",
            "gru_4 (GRU)                  (None, None, 30)          8550      \n",
            "_________________________________________________________________\n",
            "gru_5 (GRU)                  (None, 20)                3120      \n",
            "_________________________________________________________________\n",
            "dense_6 (Dense)              (None, 10)                210       \n",
            "_________________________________________________________________\n",
            "dense_7 (Dense)              (None, 6)                 66        \n",
            "_________________________________________________________________\n",
            "dense_8 (Dense)              (None, 4)                 28        \n",
            "=================================================================\n",
            "Total params: 11,974\n",
            "Trainable params: 11,974\n",
            "Non-trainable params: 0\n",
            "_________________________________________________________________\n"
          ],
          "name": "stdout"
        }
      ]
    },
    {
      "cell_type": "code",
      "metadata": {
        "id": "Pi4y2kdn3z3T",
        "colab_type": "code",
        "colab": {}
      },
      "source": [
        "model.compile(loss='sparse_categorical_crossentropy', \n",
        "              optimizer='adam', \n",
        "              metrics= ['accuracy'])"
      ],
      "execution_count": 0,
      "outputs": []
    },
    {
      "cell_type": "code",
      "metadata": {
        "id": "FWfu13N19Yom",
        "colab_type": "code",
        "outputId": "c039ad7a-3cce-4107-b3d6-d18a196e8b30",
        "colab": {
          "base_uri": "https://localhost:8080/",
          "height": 1000
        }
      },
      "source": [
        "over_sample = 1\n",
        "intervals = [[1000*i,1000*(i+1)] for i in range(10)]\n",
        "for epoch in range(1):\n",
        "  for interval in intervals:\n",
        "    data, label = batch_loader(interval)\n",
        "    data_test, label_test=  batch_loader_test_data()\n",
        "    model.fit(data[:,::over_sample,:], label-1, epochs=2, validation_data=(data_test[:,::over_sample,:], label_test-1))\n",
        "    print('')\n",
        "    print('############################')\n",
        "    print('############################')\n",
        "    print('interval:{}    and    epoch:{}'.format(interval, epoch))\n",
        "    print('############################')\n",
        "    print('############################')\n",
        "    print('')"
      ],
      "execution_count": 127,
      "outputs": [
        {
          "output_type": "stream",
          "text": [
            "Epoch 1/2\n",
            "32/32 [==============================] - 17s 533ms/step - loss: 1.1128 - accuracy: 0.5870 - val_loss: 0.9793 - val_accuracy: 0.5200\n",
            "Epoch 2/2\n",
            "32/32 [==============================] - 16s 514ms/step - loss: 0.6975 - accuracy: 0.7180 - val_loss: 0.6662 - val_accuracy: 0.6900\n",
            "\n",
            "############################\n",
            "############################\n",
            "interval:[0, 1000]    and    epoch:0\n",
            "############################\n",
            "############################\n",
            "\n",
            "Epoch 1/2\n",
            "32/32 [==============================] - 16s 515ms/step - loss: 0.4112 - accuracy: 0.8900 - val_loss: 0.4197 - val_accuracy: 0.8700\n",
            "Epoch 2/2\n",
            "32/32 [==============================] - 16s 513ms/step - loss: 0.1666 - accuracy: 1.0000 - val_loss: 0.2547 - val_accuracy: 0.9100\n",
            "\n",
            "############################\n",
            "############################\n",
            "interval:[1000, 2000]    and    epoch:0\n",
            "############################\n",
            "############################\n",
            "\n",
            "Epoch 1/2\n",
            "32/32 [==============================] - 16s 516ms/step - loss: 0.0673 - accuracy: 1.0000 - val_loss: 0.2182 - val_accuracy: 0.9100\n",
            "Epoch 2/2\n",
            "32/32 [==============================] - 16s 515ms/step - loss: 0.0353 - accuracy: 1.0000 - val_loss: 0.2093 - val_accuracy: 0.9100\n",
            "\n",
            "############################\n",
            "############################\n",
            "interval:[2000, 3000]    and    epoch:0\n",
            "############################\n",
            "############################\n",
            "\n",
            "Epoch 1/2\n",
            "32/32 [==============================] - 17s 516ms/step - loss: 0.0226 - accuracy: 1.0000 - val_loss: 0.3435 - val_accuracy: 0.8900\n",
            "Epoch 2/2\n",
            "32/32 [==============================] - 16s 515ms/step - loss: 0.0156 - accuracy: 1.0000 - val_loss: 0.3380 - val_accuracy: 0.9000\n",
            "\n",
            "############################\n",
            "############################\n",
            "interval:[3000, 4000]    and    epoch:0\n",
            "############################\n",
            "############################\n",
            "\n",
            "Epoch 1/2\n",
            "32/32 [==============================] - 16s 514ms/step - loss: 0.0147 - accuracy: 0.9980 - val_loss: 0.2010 - val_accuracy: 0.9000\n",
            "Epoch 2/2\n",
            "32/32 [==============================] - 16s 515ms/step - loss: 0.0095 - accuracy: 1.0000 - val_loss: 0.1771 - val_accuracy: 0.9000\n",
            "\n",
            "############################\n",
            "############################\n",
            "interval:[4000, 5000]    and    epoch:0\n",
            "############################\n",
            "############################\n",
            "\n",
            "Epoch 1/2\n",
            "32/32 [==============================] - 17s 516ms/step - loss: 0.0074 - accuracy: 1.0000 - val_loss: 0.3410 - val_accuracy: 0.8800\n",
            "Epoch 2/2\n",
            "32/32 [==============================] - 16s 514ms/step - loss: 0.0059 - accuracy: 1.0000 - val_loss: 0.3495 - val_accuracy: 0.8800\n",
            "\n",
            "############################\n",
            "############################\n",
            "interval:[5000, 6000]    and    epoch:0\n",
            "############################\n",
            "############################\n",
            "\n",
            "Epoch 1/2\n",
            "32/32 [==============================] - 16s 515ms/step - loss: 0.0048 - accuracy: 1.0000 - val_loss: 0.1342 - val_accuracy: 0.9500\n",
            "Epoch 2/2\n",
            "32/32 [==============================] - 17s 517ms/step - loss: 0.0040 - accuracy: 1.0000 - val_loss: 0.1360 - val_accuracy: 0.9500\n",
            "\n",
            "############################\n",
            "############################\n",
            "interval:[6000, 7000]    and    epoch:0\n",
            "############################\n",
            "############################\n",
            "\n",
            "Epoch 1/2\n",
            "32/32 [==============================] - 17s 517ms/step - loss: 0.0035 - accuracy: 1.0000 - val_loss: 0.2179 - val_accuracy: 0.9200\n",
            "Epoch 2/2\n",
            "32/32 [==============================] - 17s 518ms/step - loss: 0.0030 - accuracy: 1.0000 - val_loss: 0.2181 - val_accuracy: 0.9200\n",
            "\n",
            "############################\n",
            "############################\n",
            "interval:[7000, 8000]    and    epoch:0\n",
            "############################\n",
            "############################\n",
            "\n",
            "Epoch 1/2\n",
            "32/32 [==============================] - 17s 519ms/step - loss: 0.0027 - accuracy: 1.0000 - val_loss: 0.1527 - val_accuracy: 0.9400\n",
            "Epoch 2/2\n",
            "32/32 [==============================] - 17s 517ms/step - loss: 0.0023 - accuracy: 1.0000 - val_loss: 0.1531 - val_accuracy: 0.9400\n",
            "\n",
            "############################\n",
            "############################\n",
            "interval:[8000, 9000]    and    epoch:0\n",
            "############################\n",
            "############################\n",
            "\n",
            "Epoch 1/2\n",
            "32/32 [==============================] - 17s 520ms/step - loss: 0.0021 - accuracy: 1.0000 - val_loss: 0.2984 - val_accuracy: 0.9600\n",
            "Epoch 2/2\n",
            "32/32 [==============================] - 17s 518ms/step - loss: 0.0019 - accuracy: 1.0000 - val_loss: 0.2977 - val_accuracy: 0.9600\n",
            "\n",
            "############################\n",
            "############################\n",
            "interval:[9000, 10000]    and    epoch:0\n",
            "############################\n",
            "############################\n",
            "\n"
          ],
          "name": "stdout"
        }
      ]
    },
    {
      "cell_type": "code",
      "metadata": {
        "id": "rIHiDZ6p3z6O",
        "colab_type": "code",
        "colab": {}
      },
      "source": [
        "data_test, label_test=  batch_loader_test_data()"
      ],
      "execution_count": 0,
      "outputs": []
    },
    {
      "cell_type": "code",
      "metadata": {
        "id": "hBZqyJlxYL-Q",
        "colab_type": "code",
        "colab": {}
      },
      "source": [
        ""
      ],
      "execution_count": 0,
      "outputs": []
    },
    {
      "cell_type": "code",
      "metadata": {
        "id": "iHLtsy0v3z-f",
        "colab_type": "code",
        "outputId": "55a58e48-6800-4352-b89f-13127909d135",
        "colab": {
          "base_uri": "https://localhost:8080/",
          "height": 34
        }
      },
      "source": [
        "model.evaluate(data_test, label_test-1)\n",
        "y_pred = model.predict(data_test)\n",
        "y_pred = np.argmax(y_pred, axis=1) +1"
      ],
      "execution_count": 139,
      "outputs": [
        {
          "output_type": "stream",
          "text": [
            "4/4 [==============================] - 1s 151ms/step - loss: 0.0015 - accuracy: 1.0000\n"
          ],
          "name": "stdout"
        }
      ]
    },
    {
      "cell_type": "code",
      "metadata": {
        "id": "8vLJ8jimbcra",
        "colab_type": "code",
        "colab": {}
      },
      "source": [
        ""
      ],
      "execution_count": 0,
      "outputs": []
    },
    {
      "cell_type": "code",
      "metadata": {
        "id": "VYmNi2hZ30Bj",
        "colab_type": "code",
        "colab": {}
      },
      "source": [
        ""
      ],
      "execution_count": 0,
      "outputs": []
    },
    {
      "cell_type": "code",
      "metadata": {
        "id": "bhtHllF43z9a",
        "colab_type": "code",
        "colab": {}
      },
      "source": [
        "from sklearn.metrics import confusion_matrix"
      ],
      "execution_count": 0,
      "outputs": []
    },
    {
      "cell_type": "code",
      "metadata": {
        "id": "q-QSwF8z3zzA",
        "colab_type": "code",
        "colab": {}
      },
      "source": [
        "mat = confusion_matrix(label_test, y_pred)"
      ],
      "execution_count": 0,
      "outputs": []
    },
    {
      "cell_type": "code",
      "metadata": {
        "id": "Of1OchliRiZL",
        "colab_type": "code",
        "outputId": "22279267-bd16-4041-9070-1dc2399303f7",
        "colab": {
          "base_uri": "https://localhost:8080/",
          "height": 338
        }
      },
      "source": [
        "plt.imshow(mat)\n",
        "mat\n"
      ],
      "execution_count": 144,
      "outputs": [
        {
          "output_type": "execute_result",
          "data": {
            "text/plain": [
              "array([[23,  0,  0,  0],\n",
              "       [ 0, 27,  0,  0],\n",
              "       [ 0,  0, 26,  0],\n",
              "       [ 0,  0,  0, 24]])"
            ]
          },
          "metadata": {
            "tags": []
          },
          "execution_count": 144
        },
        {
          "output_type": "display_data",
          "data": {
            "image/png": "[encoded data removed]",
            "text/plain": [
              "<Figure size 432x288 with 1 Axes>"
            ]
          },
          "metadata": {
            "tags": []
          }
        }
      ]
    },
    {
      "cell_type": "code",
      "metadata": {
        "id": "G7y9QxOMSU3v",
        "colab_type": "code",
        "colab": {}
      },
      "source": [
        "from sklearn.metrics import classification_report"
      ],
      "execution_count": 0,
      "outputs": []
    },
    {
      "cell_type": "code",
      "metadata": {
        "id": "bcBNd0QJSU7x",
        "colab_type": "code",
        "colab": {
          "base_uri": "https://localhost:8080/",
          "height": 208
        },
        "outputId": "3e28d5b8-303f-4fff-8845-3f44fcacc81d"
      },
      "source": [
        "print(classification_report(label_test, y_pred))"
      ],
      "execution_count": 143,
      "outputs": [
        {
          "output_type": "stream",
          "text": [
            "              precision    recall  f1-score   support\n",
            "\n",
            "           1       1.00      1.00      1.00        23\n",
            "           2       1.00      1.00      1.00        27\n",
            "           3       1.00      1.00      1.00        26\n",
            "           4       1.00      1.00      1.00        24\n",
            "\n",
            "    accuracy                           1.00       100\n",
            "   macro avg       1.00      1.00      1.00       100\n",
            "weighted avg       1.00      1.00      1.00       100\n",
            "\n"
          ],
          "name": "stdout"
        }
      ]
    },
    {
      "cell_type": "code",
      "metadata": {
        "id": "IiIRrTwtSU-m",
        "colab_type": "code",
        "colab": {}
      },
      "source": [
        ""
      ],
      "execution_count": 0,
      "outputs": []
    },
    {
      "cell_type": "code",
      "metadata": {
        "id": "7ca_s404SVK8",
        "colab_type": "code",
        "colab": {}
      },
      "source": [
        ""
      ],
      "execution_count": 0,
      "outputs": []
    },
    {
      "cell_type": "code",
      "metadata": {
        "id": "uhZLdzDhSVIq",
        "colab_type": "code",
        "colab": {}
      },
      "source": [
        ""
      ],
      "execution_count": 0,
      "outputs": []
    },
    {
      "cell_type": "code",
      "metadata": {
        "id": "86GueY96SVGS",
        "colab_type": "code",
        "colab": {}
      },
      "source": [
        ""
      ],
      "execution_count": 0,
      "outputs": []
    },
    {
      "cell_type": "code",
      "metadata": {
        "id": "UKJKhR-9SVEp",
        "colab_type": "code",
        "colab": {}
      },
      "source": [
        ""
      ],
      "execution_count": 0,
      "outputs": []
    },
    {
      "cell_type": "code",
      "metadata": {
        "id": "un5qSmSkSVCj",
        "colab_type": "code",
        "colab": {}
      },
      "source": [
        ""
      ],
      "execution_count": 0,
      "outputs": []
    },
    {
      "cell_type": "code",
      "metadata": {
        "id": "vtzbEMEkSVBM",
        "colab_type": "code",
        "colab": {}
      },
      "source": [
        ""
      ],
      "execution_count": 0,
      "outputs": []
    },
    {
      "cell_type": "code",
      "metadata": {
        "id": "5Z0L6B10SU1d",
        "colab_type": "code",
        "colab": {}
      },
      "source": [
        ""
      ],
      "execution_count": 0,
      "outputs": []
    },
    {
      "cell_type": "code",
      "metadata": {
        "id": "XqWQIXL7RlgW",
        "colab_type": "code",
        "colab": {}
      },
      "source": [
        ""
      ],
      "execution_count": 0,
      "outputs": []
    }
  ]
}