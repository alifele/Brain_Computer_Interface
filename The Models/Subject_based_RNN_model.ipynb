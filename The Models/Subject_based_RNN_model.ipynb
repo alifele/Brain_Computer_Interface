{
  "nbformat": 4,
  "nbformat_minor": 0,
  "metadata": {
    "colab": {
      "name": "Subject based RNN model.ipynb",
      "provenance": [],
      "collapsed_sections": [],
      "toc_visible": true,
      "machine_shape": "hm",
      "mount_file_id": "https://github.com/alifele/Brain_Computer_Interface-Competition-/blob/master/The%20Models/Subject_based_RNN_model.ipynb",
      "authorship_tag": "ABX9TyOHQgRaAeCUSmK0aTjkngty",
      "include_colab_link": true
    },
    "kernelspec": {
      "name": "python3",
      "display_name": "Python 3"
    },
    "accelerator": "GPU"
  },
  "cells": [
    {
      "cell_type": "markdown",
      "metadata": {
        "id": "view-in-github",
        "colab_type": "text"
      },
      "source": [
        "<a href=\"https://colab.research.google.com/github/alifele/Brain_Computer_Interface-Competition-/blob/master/The%20Models/Subject_based_RNN_model.ipynb\" target=\"_parent\"><img src=\"https://colab.research.google.com/assets/colab-badge.svg\" alt=\"Open In Colab\"/></a>"
      ]
    },
    {
      "cell_type": "code",
      "metadata": {
        "id": "CNI-LbMxVdrd",
        "colab_type": "code",
        "colab": {}
      },
      "source": [
        ""
      ],
      "execution_count": 0,
      "outputs": []
    },
    {
      "cell_type": "code",
      "metadata": {
        "id": "PSZ7iyVEuRSq",
        "colab_type": "code",
        "colab": {}
      },
      "source": [
        "import sys\n",
        "import numpy as np\n",
        "import matplotlib.pyplot as plt\n",
        "sys.path.append('/content/drive/My Drive/EEG_BCI/')\n",
        "import datafetch\n",
        "import plotters\n",
        "import random"
      ],
      "execution_count": 0,
      "outputs": []
    },
    {
      "cell_type": "code",
      "metadata": {
        "id": "M-CEe3_w0It_",
        "colab_type": "code",
        "colab": {}
      },
      "source": [
        "import random\n",
        "from sklearn.model_selection import train_test_split"
      ],
      "execution_count": 0,
      "outputs": []
    },
    {
      "cell_type": "code",
      "metadata": {
        "id": "1ZNkdINKu5BR",
        "colab_type": "code",
        "outputId": "c02406e8-3434-402d-902c-74639b54e831",
        "colab": {
          "base_uri": "https://localhost:8080/",
          "height": 54
        }
      },
      "source": [
        "subj_1 = datafetch.fetch_subject(12)\n",
        "subj_1.keys()"
      ],
      "execution_count": 4,
      "outputs": [
        {
          "output_type": "execute_result",
          "data": {
            "text/plain": [
              "dict_keys(['test_data', 'train_data_class1', 'train_data_class2', 'train_data_class3', 'train_data_class4'])"
            ]
          },
          "metadata": {
            "tags": []
          },
          "execution_count": 4
        }
      ]
    },
    {
      "cell_type": "code",
      "metadata": {
        "id": "FeGch-vevBCz",
        "colab_type": "code",
        "colab": {}
      },
      "source": [
        "def selector_desing(subject):\n",
        "  selector = []\n",
        "  for i in subject:\n",
        "    for j in range(1,5):\n",
        "      for k in range(18):\n",
        "        selector.append((i,j,k))\n",
        "\n",
        "  selector = np.array(selector)\n",
        "  np.random.shuffle(selector)\n",
        "\n",
        "  return selector"
      ],
      "execution_count": 0,
      "outputs": []
    },
    {
      "cell_type": "code",
      "metadata": {
        "id": "Edh8eqkOAYGa",
        "colab_type": "code",
        "colab": {}
      },
      "source": [
        "def selector_desing_test_data(subject):\n",
        "  selector = []\n",
        "  for i in subject:\n",
        "    for j in range(1,5):\n",
        "      for k in range(18,25):\n",
        "        selector.append((i,j,k))\n",
        "\n",
        "  selector = np.array(selector)\n",
        "  np.random.shuffle(selector)\n",
        "  return selector"
      ],
      "execution_count": 0,
      "outputs": []
    },
    {
      "cell_type": "code",
      "metadata": {
        "id": "Aw4kBGuf4w8X",
        "colab_type": "code",
        "outputId": "6cd56c2c-7d78-4455-88fc-3f2187f63f80",
        "colab": {
          "base_uri": "https://localhost:8080/",
          "height": 34
        }
      },
      "source": [
        "selector = selector_desing([1])\n",
        "selector.shape"
      ],
      "execution_count": 7,
      "outputs": [
        {
          "output_type": "execute_result",
          "data": {
            "text/plain": [
              "(72, 3)"
            ]
          },
          "metadata": {
            "tags": []
          },
          "execution_count": 7
        }
      ]
    },
    {
      "cell_type": "code",
      "metadata": {
        "id": "KXId2iDqyNdj",
        "colab_type": "code",
        "colab": {}
      },
      "source": [
        "global indexes\n",
        "global test_data_indexes\n",
        "global selector\n",
        "global selector_test_data\n",
        "selector_test_data = selector_desing_test_data([1])\n",
        "selector = selector_desing([1])\n",
        "indexes = [i for i in range(18)]\n",
        "test_data_indexes = [i for i in range(18,25)]"
      ],
      "execution_count": 0,
      "outputs": []
    },
    {
      "cell_type": "code",
      "metadata": {
        "id": "s4T26Lx-ZG-B",
        "colab_type": "code",
        "colab": {}
      },
      "source": [
        ""
      ],
      "execution_count": 0,
      "outputs": []
    },
    {
      "cell_type": "code",
      "metadata": {
        "id": "ZDmI5edZBAgY",
        "colab_type": "code",
        "colab": {}
      },
      "source": [
        ""
      ],
      "execution_count": 0,
      "outputs": []
    },
    {
      "cell_type": "code",
      "metadata": {
        "id": "AARYOj39yyml",
        "colab_type": "code",
        "colab": {}
      },
      "source": [
        ""
      ],
      "execution_count": 0,
      "outputs": []
    },
    {
      "cell_type": "code",
      "metadata": {
        "id": "eBHeDXOLyOai",
        "colab_type": "code",
        "colab": {}
      },
      "source": [
        "def data_loader(select):\n",
        "  \n",
        "  global indexes\n",
        "\n",
        "  this_trail = select[2]\n",
        "  index = select[2]\n",
        "  \n",
        "  Indexes = indexes.copy()\n",
        "  Indexes.pop(index)  # so, now Indexes is the array [0,1,2,...,17] with out the this_trial index\n",
        "\n",
        "  samples = random.sample(Indexes, 11)\n",
        "  samples += [this_trail]\n",
        "\n",
        "\n",
        "  data =  np.mean(subj_1['train_data_class{}'.format(select[1])][samples], axis=0)\n",
        "  label = select[1]\n",
        "  return data, label"
      ],
      "execution_count": 0,
      "outputs": []
    },
    {
      "cell_type": "code",
      "metadata": {
        "id": "jnmbJSPQAFpQ",
        "colab_type": "code",
        "colab": {}
      },
      "source": [
        "def data_loader_test_data(select):\n",
        "  \n",
        "  global test_data_indexes\n",
        "\n",
        "  this_trail = select[2]\n",
        "  index = select[2]-18\n",
        "  \n",
        "  Indexes = test_data_indexes.copy()\n",
        "\n",
        "  Indexes.pop(index)  # so, now Indexes is the array [18,19,...,24] with out the this_trial index\n",
        "\n",
        "\n",
        "  samples = random.sample(Indexes, 3)\n",
        "  samples += [this_trail]\n",
        "\n",
        "\n",
        "  data =  np.mean(subj_1['train_data_class{}'.format(select[1])][samples], axis=0)\n",
        "  label = select[1]\n",
        "  return data, label"
      ],
      "execution_count": 0,
      "outputs": []
    },
    {
      "cell_type": "code",
      "metadata": {
        "id": "VWHxZEgXC9xe",
        "colab_type": "code",
        "colab": {}
      },
      "source": [
        ""
      ],
      "execution_count": 0,
      "outputs": []
    },
    {
      "cell_type": "code",
      "metadata": {
        "id": "kCqYSEkxzBu0",
        "colab_type": "code",
        "colab": {}
      },
      "source": [
        ""
      ],
      "execution_count": 0,
      "outputs": []
    },
    {
      "cell_type": "code",
      "metadata": {
        "id": "lBAECwDizxI3",
        "colab_type": "code",
        "colab": {}
      },
      "source": [
        ""
      ],
      "execution_count": 0,
      "outputs": []
    },
    {
      "cell_type": "code",
      "metadata": {
        "id": "g-eMJKZhzy9d",
        "colab_type": "code",
        "colab": {}
      },
      "source": [
        "from plotters import EEG_plotter"
      ],
      "execution_count": 0,
      "outputs": []
    },
    {
      "cell_type": "code",
      "metadata": {
        "id": "vsaITZLn000e",
        "colab_type": "code",
        "colab": {}
      },
      "source": [
        "EEG_plotter(40,data)\n",
        "#The meaned data"
      ],
      "execution_count": 0,
      "outputs": []
    },
    {
      "cell_type": "code",
      "metadata": {
        "id": "G84Ntfs7008k",
        "colab_type": "code",
        "colab": {}
      },
      "source": [
        "EEG_plotter(40,subj_1['train_data_class{}'.format(select[1])][select[2]] )\n",
        "\n",
        "# The Unmeaned data"
      ],
      "execution_count": 0,
      "outputs": []
    },
    {
      "cell_type": "code",
      "metadata": {
        "id": "CdLd1DU-01BK",
        "colab_type": "code",
        "colab": {}
      },
      "source": [
        "def batch_loader(batch=[0,100]):\n",
        "  # the batch=[a,b] can be 0...18000*4\n",
        "  \n",
        "  Label = []\n",
        "  Data = []\n",
        "  global selector\n",
        "  \n",
        "\n",
        "  for i in range(batch[0], batch[1]):\n",
        "    data, label = data_loader(selector[int(i%len(selector))])\n",
        "    Data.append(data)\n",
        "    Label.append(label)\n",
        "\n",
        "  Data = np.array(Data)\n",
        "  Label = np.array(Label)\n",
        "\n",
        "  return Data, Label"
      ],
      "execution_count": 0,
      "outputs": []
    },
    {
      "cell_type": "code",
      "metadata": {
        "id": "V3MMDI-v6-a8",
        "colab_type": "code",
        "colab": {}
      },
      "source": [
        "def batch_loader_show(label, batch=[0,100]):\n",
        "  # the batch=[a,b] can be 0...18000*4\n",
        "  \n",
        "  Label = []\n",
        "  Data = []\n",
        "  global selector\n",
        "\n",
        "  for i in range(batch[0], batch[1]):\n",
        "    new_selector = selector[selector[:,1]==label[int(i%len(selector))]]\n",
        "    data, label_ = data_loader(new_selector[int(i%len(new_selector))])\n",
        "    Data.append(data)\n",
        "    Label.append(label_)\n",
        "\n",
        "  Data = np.array(Data)\n",
        "  Label = np.array(Label)\n",
        "\n",
        "  return Data, Label"
      ],
      "execution_count": 0,
      "outputs": []
    },
    {
      "cell_type": "code",
      "metadata": {
        "id": "mavR1UPw7fOE",
        "colab_type": "code",
        "colab": {}
      },
      "source": [
        "data, label = batch_loader()"
      ],
      "execution_count": 0,
      "outputs": []
    },
    {
      "cell_type": "code",
      "metadata": {
        "id": "uAQ4hpiI7keQ",
        "colab_type": "code",
        "colab": {
          "base_uri": "https://localhost:8080/",
          "height": 104
        },
        "outputId": "b5904d63-5a4f-4ad2-bc76-61e014e81305"
      },
      "source": [
        "label, label.shape"
      ],
      "execution_count": 14,
      "outputs": [
        {
          "output_type": "execute_result",
          "data": {
            "text/plain": [
              "(array([2, 4, 2, 2, 4, 1, 3, 4, 2, 2, 2, 4, 3, 4, 1, 4, 1, 2, 3, 1, 1, 3,\n",
              "        2, 1, 1, 3, 1, 4, 1, 1, 2, 2, 4, 1, 1, 1, 2, 3, 1, 4, 3, 1, 3, 1,\n",
              "        3, 3, 2, 2, 4, 4, 2, 2, 3, 3, 2, 4, 3, 2, 3, 3, 1, 2, 3, 4, 4, 4,\n",
              "        3, 1, 3, 4, 4, 4, 2, 4, 2, 2, 4, 1, 3, 4, 2, 2, 2, 4, 3, 4, 1, 4,\n",
              "        1, 2, 3, 1, 1, 3, 2, 1, 1, 3, 1, 4]), (100,))"
            ]
          },
          "metadata": {
            "tags": []
          },
          "execution_count": 14
        }
      ]
    },
    {
      "cell_type": "code",
      "metadata": {
        "id": "TK9Ns6Z38KDG",
        "colab_type": "code",
        "colab": {
          "base_uri": "https://localhost:8080/",
          "height": 167
        },
        "outputId": "cd933986-52e0-47b3-cc5c-b6edfc4c8662"
      },
      "source": [
        "label_"
      ],
      "execution_count": 15,
      "outputs": [
        {
          "output_type": "error",
          "ename": "NameError",
          "evalue": "ignored",
          "traceback": [
            "\u001b[0;31m---------------------------------------------------------------------------\u001b[0m",
            "\u001b[0;31mNameError\u001b[0m                                 Traceback (most recent call last)",
            "\u001b[0;32m<ipython-input-15-3f4feeaf71f5>\u001b[0m in \u001b[0;36m<module>\u001b[0;34m()\u001b[0m\n\u001b[0;32m----> 1\u001b[0;31m \u001b[0mlabel_\u001b[0m\u001b[0;34m\u001b[0m\u001b[0;34m\u001b[0m\u001b[0m\n\u001b[0m",
            "\u001b[0;31mNameError\u001b[0m: name 'label_' is not defined"
          ]
        }
      ]
    },
    {
      "cell_type": "code",
      "metadata": {
        "id": "Gig2sq4y85dC",
        "colab_type": "code",
        "colab": {
          "base_uri": "https://localhost:8080/",
          "height": 34
        },
        "outputId": "5c93b6b9-a3e8-4544-f750-86a83d479da2"
      },
      "source": [
        "data_.shape"
      ],
      "execution_count": 73,
      "outputs": [
        {
          "output_type": "execute_result",
          "data": {
            "text/plain": [
              "(100, 7200, 63)"
            ]
          },
          "metadata": {
            "tags": []
          },
          "execution_count": 73
        }
      ]
    },
    {
      "cell_type": "code",
      "metadata": {
        "id": "LcJlR3WI7mxf",
        "colab_type": "code",
        "colab": {}
      },
      "source": [
        "data_ , label_ = batch_loader_show(label)"
      ],
      "execution_count": 0,
      "outputs": []
    },
    {
      "cell_type": "code",
      "metadata": {
        "id": "Fq87EBHC7m04",
        "colab_type": "code",
        "colab": {
          "base_uri": "https://localhost:8080/",
          "height": 104
        },
        "outputId": "830b1fa0-0214-4f98-bf36-65c5238a34b3"
      },
      "source": [
        "label_"
      ],
      "execution_count": 48,
      "outputs": [
        {
          "output_type": "execute_result",
          "data": {
            "text/plain": [
              "array([1, 1, 1, 1, 1, 1, 1, 1, 1, 1, 1, 1, 1, 1, 1, 1, 1, 1, 1, 1, 1, 1,\n",
              "       1, 1, 1, 1, 1, 1, 1, 1, 1, 1, 1, 1, 1, 1, 1, 1, 1, 1, 1, 1, 1, 1,\n",
              "       1, 1, 1, 1, 1, 1, 1, 1, 1, 1, 1, 1, 1, 1, 1, 1, 1, 1, 1, 1, 1, 1,\n",
              "       1, 1, 1, 1, 1, 1, 1, 1, 1, 1, 1, 1, 1, 1, 1, 1, 1, 1, 1, 1, 1, 1,\n",
              "       1, 1, 1, 1, 1, 1, 1, 1, 1, 1, 1, 1])"
            ]
          },
          "metadata": {
            "tags": []
          },
          "execution_count": 48
        }
      ]
    },
    {
      "cell_type": "code",
      "metadata": {
        "id": "iJMEJ-I87m5_",
        "colab_type": "code",
        "colab": {}
      },
      "source": [
        ""
      ],
      "execution_count": 0,
      "outputs": []
    },
    {
      "cell_type": "code",
      "metadata": {
        "id": "4NJByTQ07m4W",
        "colab_type": "code",
        "colab": {}
      },
      "source": [
        ""
      ],
      "execution_count": 0,
      "outputs": []
    },
    {
      "cell_type": "code",
      "metadata": {
        "id": "JyFx7K6rAAEL",
        "colab_type": "code",
        "colab": {}
      },
      "source": [
        "def batch_loader_test_data(batch=[0,100]):\n",
        "  # the batch=[a,b] can be 0...35*4\n",
        "  \n",
        "  Label = []\n",
        "  Data = []\n",
        "  global selector_test_data\n",
        "  global selector\n",
        "  \n",
        "\n",
        "  for i in range(batch[0], batch[1]):\n",
        "    data, label = data_loader_test_data(selector_test_data[int(i%len(selector_test_data))])\n",
        "    '''\n",
        "    L = len(selector[selector[:,1]==label])\n",
        "    data_for_mean = []\n",
        "    for j in range(6):\n",
        "      data_, label_ = data_loader(selector[selector[:,1]==label][int((i+j)%L)])\n",
        "      data_for_mean.append(data_)\n",
        "      data = np.mean(data_for_mean, axis=0)\n",
        "    '''\n",
        "    Data.append(data)\n",
        "    Label.append(label)\n",
        "\n",
        "  Data = np.array(Data)\n",
        "  Label = np.array(Label)\n",
        "\n",
        "  return Data, Label"
      ],
      "execution_count": 0,
      "outputs": []
    },
    {
      "cell_type": "code",
      "metadata": {
        "id": "GOctp75Q00_4",
        "colab_type": "code",
        "colab": {}
      },
      "source": [
        "data, label  = batch_loader()"
      ],
      "execution_count": 0,
      "outputs": []
    },
    {
      "cell_type": "code",
      "metadata": {
        "id": "qZ-xpKvw0067",
        "colab_type": "code",
        "outputId": "aa2aa1a1-c1cb-4fb2-e28e-d53222c05d95",
        "colab": {
          "base_uri": "https://localhost:8080/",
          "height": 34
        }
      },
      "source": [
        "data.shape, label.shape"
      ],
      "execution_count": 18,
      "outputs": [
        {
          "output_type": "execute_result",
          "data": {
            "text/plain": [
              "((100, 7200, 63), (100,))"
            ]
          },
          "metadata": {
            "tags": []
          },
          "execution_count": 18
        }
      ]
    },
    {
      "cell_type": "code",
      "metadata": {
        "id": "cYnyDYlB005g",
        "colab_type": "code",
        "colab": {}
      },
      "source": [
        ""
      ],
      "execution_count": 0,
      "outputs": []
    },
    {
      "cell_type": "markdown",
      "metadata": {
        "id": "or5ZCyRU9KIO",
        "colab_type": "text"
      },
      "source": [
        "# The Model"
      ]
    },
    {
      "cell_type": "code",
      "metadata": {
        "id": "AU1gZUHs3ztQ",
        "colab_type": "code",
        "colab": {}
      },
      "source": [
        "from tensorflow import keras"
      ],
      "execution_count": 0,
      "outputs": []
    },
    {
      "cell_type": "code",
      "metadata": {
        "id": "_wh0_oNM51f4",
        "colab_type": "code",
        "colab": {
          "base_uri": "https://localhost:8080/",
          "height": 538
        },
        "outputId": "96fdad11-db01-489e-a27c-6562f448a2af"
      },
      "source": [
        "input_ = keras.layers.Input(shape=(None, 63), name='inputtt')\n",
        "hidden1 = keras.layers.TimeDistributed(keras.layers.Dense(50, activation=\"relu\"))(input_)\n",
        "hidden2 = keras.layers.TimeDistributed(keras.layers.Dense(40, activation=\"relu\"))(hidden1)\n",
        "hidden3 = keras.layers.TimeDistributed(keras.layers.Dense(30, activation=\"relu\"))(hidden2)\n",
        "hidden3_0 = keras.layers.GRU(20)(hidden3)\n",
        "hidden3_1 = keras.layers.Dense(10, activation=\"relu\")(hidden3_0)\n",
        "hidden3_2 = keras.layers.Dense(5, activation=\"relu\")(hidden3_1)\n",
        "\n",
        "hidden4 = keras.layers.TimeDistributed(keras.layers.Dense(40, activation=\"relu\"))(hidden3)\n",
        "hidden5 = keras.layers.TimeDistributed(keras.layers.Dense(63, activation=\"relu\"))(hidden4)\n",
        "output = keras.layers.Dense(1, name=\"time_series_output\")(hidden5)\n",
        "aux_output = keras.layers.Dense(4, activation='softmax', name=\"label_output\")(hidden3_2)\n",
        "model = keras.Model(inputs=[input_], outputs=[output,\n",
        "aux_output])\n",
        "\n",
        "\n",
        "\n",
        "keras.utils.plot_model(model)\n",
        "from IPython.display import Image\n",
        "Image('model.png')\n",
        "\n",
        "\n",
        "model.compile(optimizer='adam', \n",
        "              loss = ['MSE', 'sparse_categorical_crossentropy'],\n",
        "              metrics = ['accuracy'])\n",
        "\n",
        "model.summary()"
      ],
      "execution_count": 20,
      "outputs": [
        {
          "output_type": "stream",
          "text": [
            "Model: \"model\"\n",
            "__________________________________________________________________________________________________\n",
            "Layer (type)                    Output Shape         Param #     Connected to                     \n",
            "==================================================================================================\n",
            "inputtt (InputLayer)            [(None, None, 63)]   0                                            \n",
            "__________________________________________________________________________________________________\n",
            "time_distributed (TimeDistribut (None, None, 50)     3200        inputtt[0][0]                    \n",
            "__________________________________________________________________________________________________\n",
            "time_distributed_1 (TimeDistrib (None, None, 40)     2040        time_distributed[0][0]           \n",
            "__________________________________________________________________________________________________\n",
            "time_distributed_2 (TimeDistrib (None, None, 30)     1230        time_distributed_1[0][0]         \n",
            "__________________________________________________________________________________________________\n",
            "gru (GRU)                       (None, 20)           3120        time_distributed_2[0][0]         \n",
            "__________________________________________________________________________________________________\n",
            "time_distributed_3 (TimeDistrib (None, None, 40)     1240        time_distributed_2[0][0]         \n",
            "__________________________________________________________________________________________________\n",
            "dense_3 (Dense)                 (None, 10)           210         gru[0][0]                        \n",
            "__________________________________________________________________________________________________\n",
            "time_distributed_4 (TimeDistrib (None, None, 63)     2583        time_distributed_3[0][0]         \n",
            "__________________________________________________________________________________________________\n",
            "dense_4 (Dense)                 (None, 5)            55          dense_3[0][0]                    \n",
            "__________________________________________________________________________________________________\n",
            "time_series_output (Dense)      (None, None, 1)      64          time_distributed_4[0][0]         \n",
            "__________________________________________________________________________________________________\n",
            "label_output (Dense)            (None, 4)            24          dense_4[0][0]                    \n",
            "==================================================================================================\n",
            "Total params: 13,766\n",
            "Trainable params: 13,766\n",
            "Non-trainable params: 0\n",
            "__________________________________________________________________________________________________\n"
          ],
          "name": "stdout"
        }
      ]
    },
    {
      "cell_type": "code",
      "metadata": {
        "id": "XV_15KQt3zv5",
        "colab_type": "code",
        "colab": {}
      },
      "source": [
        "model = keras.models.Sequential()\n",
        "\n",
        "#model.add(keras.layers.MaxPool1D(2, input_shape=[None, 63]))\n",
        "model.add(keras.layers.Conv1D( 3, 100, strides=50, input_shape=[None, 63], activation='relu'))\n",
        "model.add(keras.layers.Dropout(0.5))\n",
        "model.add(keras.layers.GRU(30, return_sequences=True, input_shape =[None, 63]))\n",
        "model.add(keras.layers.GRU(1))\n",
        "model.add(keras.layers.Dense(10, activation = 'relu'))\n",
        "model.add(keras.layers.Dropout(0.5))\n",
        "model.add(keras.layers.Dense(6, activation='relu'))\n",
        "model.add(keras.layers.Dense(4, activation ='softmax'))\n",
        "\n",
        "# This got %34 accuracy"
      ],
      "execution_count": 0,
      "outputs": []
    },
    {
      "cell_type": "code",
      "metadata": {
        "id": "ZD9bHqEBN_js",
        "colab_type": "code",
        "colab": {}
      },
      "source": [
        "model = keras.models.Sequential()\n",
        "\n",
        "#model.add(keras.layers.MaxPool1D(2, input_shape=[None, 63]))\n",
        "#model.add(keras.layers.Conv1D( 3, 100, strides=50, input_shape=[None, 63], activation='relu'))\n",
        "#model.add(keras.layers.Dropout(0.5))\n",
        "model.add(keras.layers.GRU(30, return_sequences=True, input_shape =[None, 63]))\n",
        "model.add(keras.layers.GRU(20))\n",
        "model.add(keras.layers.Dense(10, activation = 'relu'))\n",
        "model.add(keras.layers.Dense(6, activation='relu'))\n",
        "model.add(keras.layers.Dense(4, activation ='softmax'))\n",
        "\n",
        "# This got %28  accuracy"
      ],
      "execution_count": 0,
      "outputs": []
    },
    {
      "cell_type": "code",
      "metadata": {
        "id": "wWJc6J1XRLp8",
        "colab_type": "code",
        "colab": {}
      },
      "source": [
        "model = keras.models.Sequential()\n",
        "\n",
        "#model.add(keras.layers.MaxPool1D(2, input_shape=[None, 63]))\n",
        "#model.add(keras.layers.Conv1D( 3, 100, strides=50, input_shape=[None, 63], activation='relu'))\n",
        "#model.add(keras.layers.Dropout(0.5))\n",
        "model.add(keras.layers.GRU(30, return_sequences=True, input_shape =[None, 63]))\n",
        "model.add(keras.layers.GRU(20))\n",
        "model.add(keras.layers.Dense(10, activation = 'relu'))\n",
        "model.add(keras.layers.Dense(6, activation='relu'))\n",
        "model.add(keras.layers.Dense(4, activation ='softmax'))\n",
        "\n",
        "### It Got 100% accuracy with pusing method"
      ],
      "execution_count": 0,
      "outputs": []
    },
    {
      "cell_type": "code",
      "metadata": {
        "id": "r_lyhOXW3z0m",
        "colab_type": "code",
        "colab": {}
      },
      "source": [
        "model.summary()\n"
      ],
      "execution_count": 0,
      "outputs": []
    },
    {
      "cell_type": "code",
      "metadata": {
        "id": "dXg-V5rT6Wlg",
        "colab_type": "code",
        "colab": {}
      },
      "source": [
        "\"\"\"\n",
        "\n",
        "over_sample = 1\n",
        "intervals = [[1000*i,1000*(i+1)] for i in range(10)]\n",
        "for epoch in range(1):\n",
        "  for interval in intervals:\n",
        "    data, label = batch_loader(interval)\n",
        "    data_show = batch_loader(interval) #used as the first output\n",
        "    data_test, label_test=  batch_loader_test_data()\n",
        "    model.fit(data[:,::over_sample,:], (data_show, label-1), epochs=2, validation_data=(data_test[:,::over_sample,:], label_test-1))\n",
        "    print('')\n",
        "    print('############################')\n",
        "    print('############################')\n",
        "    print('interval:{}    and    epoch:{}'.format(interval, epoch))\n",
        "    print('############################')\n",
        "    print('############################')\n",
        "    print('')\n",
        "    \n",
        "    \"\"\""
      ],
      "execution_count": 0,
      "outputs": []
    },
    {
      "cell_type": "code",
      "metadata": {
        "id": "Pi4y2kdn3z3T",
        "colab_type": "code",
        "colab": {}
      },
      "source": [
        "model.compile(loss='sparse_categorical_crossentropy', \n",
        "              optimizer='adam', \n",
        "              metrics= ['accuracy'])"
      ],
      "execution_count": 0,
      "outputs": []
    },
    {
      "cell_type": "code",
      "metadata": {
        "id": "9aS2msfv_QkU",
        "colab_type": "code",
        "colab": {
          "base_uri": "https://localhost:8080/",
          "height": 34
        },
        "outputId": "4201dde8-26f4-48a8-bf22-d42db99111b2"
      },
      "source": [
        "data_show.shape"
      ],
      "execution_count": 77,
      "outputs": [
        {
          "output_type": "execute_result",
          "data": {
            "text/plain": [
              "(1000, 7200, 63)"
            ]
          },
          "metadata": {
            "tags": []
          },
          "execution_count": 77
        }
      ]
    },
    {
      "cell_type": "code",
      "metadata": {
        "id": "FWfu13N19Yom",
        "colab_type": "code",
        "outputId": "00e4a929-66fc-4687-c964-42a3a9a31019",
        "colab": {
          "base_uri": "https://localhost:8080/",
          "height": 1000
        }
      },
      "source": [
        "## For the manual Model\n",
        "\n",
        "over_sample = 1\n",
        "intervals = [[1000*i,1000*(i+1)] for i in range(3)]\n",
        "for epoch in range(1):\n",
        "  for interval in intervals:\n",
        "\n",
        "    data, label = batch_loader(interval)\n",
        "    data_show, label_ = batch_loader_show(label, interval) #used as the first output\n",
        "    data_test, label_test=  batch_loader_test_data()\n",
        "\n",
        "    model.fit(data[:,::over_sample,:], (data_show, label-1), epochs=10, validation_data=(data_test[:,::over_sample,:], label_test-1))\n",
        "    print('')\n",
        "    print('############################')\n",
        "    print('############################')\n",
        "    print('interval:{}    and    epoch:{}'.format(interval, epoch))\n",
        "    print('############################')\n",
        "    print('############################')\n",
        "    print('')"
      ],
      "execution_count": 21,
      "outputs": [
        {
          "output_type": "stream",
          "text": [
            "Epoch 1/10\n",
            "32/32 [==============================] - 9s 281ms/step - loss: 23.4998 - time_series_output_loss: 22.1750 - label_output_loss: 1.3248 - time_series_output_accuracy: 6.6138e-09 - label_output_accuracy: 0.3100 - val_loss: 25.5453 - val_time_series_output_loss: 23.7806 - val_label_output_loss: 1.7647 - val_time_series_output_accuracy: 0.2540 - val_label_output_accuracy: 0.0800\n",
            "Epoch 2/10\n",
            "32/32 [==============================] - 8s 259ms/step - loss: 22.3819 - time_series_output_loss: 21.3055 - label_output_loss: 1.0764 - time_series_output_accuracy: 6.6138e-09 - label_output_accuracy: 0.4600 - val_loss: 19.3630 - val_time_series_output_loss: 17.0583 - val_label_output_loss: 2.3047 - val_time_series_output_accuracy: 0.2543 - val_label_output_accuracy: 0.1500\n",
            "Epoch 3/10\n",
            "32/32 [==============================] - 8s 261ms/step - loss: 22.0828 - time_series_output_loss: 21.2204 - label_output_loss: 0.8624 - time_series_output_accuracy: 6.6138e-09 - label_output_accuracy: 0.6050 - val_loss: 26.2604 - val_time_series_output_loss: 23.2395 - val_label_output_loss: 3.0209 - val_time_series_output_accuracy: 0.2546 - val_label_output_accuracy: 0.2400\n",
            "Epoch 4/10\n",
            "32/32 [==============================] - 8s 257ms/step - loss: 21.8486 - time_series_output_loss: 21.1535 - label_output_loss: 0.6951 - time_series_output_accuracy: 8.8183e-09 - label_output_accuracy: 0.7480 - val_loss: 24.2468 - val_time_series_output_loss: 20.7258 - val_label_output_loss: 3.5210 - val_time_series_output_accuracy: 0.2555 - val_label_output_accuracy: 0.2300\n",
            "Epoch 5/10\n",
            "32/32 [==============================] - 8s 259ms/step - loss: 21.6836 - time_series_output_loss: 21.1204 - label_output_loss: 0.5632 - time_series_output_accuracy: 6.6138e-09 - label_output_accuracy: 0.8100 - val_loss: 23.0146 - val_time_series_output_loss: 19.2262 - val_label_output_loss: 3.7884 - val_time_series_output_accuracy: 0.2545 - val_label_output_accuracy: 0.1800\n",
            "Epoch 6/10\n",
            "32/32 [==============================] - 8s 258ms/step - loss: 21.4205 - time_series_output_loss: 20.9703 - label_output_loss: 0.4502 - time_series_output_accuracy: 8.8183e-09 - label_output_accuracy: 0.8610 - val_loss: 22.3399 - val_time_series_output_loss: 18.1858 - val_label_output_loss: 4.1542 - val_time_series_output_accuracy: 0.2534 - val_label_output_accuracy: 0.2100\n",
            "Epoch 7/10\n",
            "32/32 [==============================] - 8s 257ms/step - loss: 21.3900 - time_series_output_loss: 21.0551 - label_output_loss: 0.3349 - time_series_output_accuracy: 6.6138e-09 - label_output_accuracy: 0.9760 - val_loss: 25.1127 - val_time_series_output_loss: 20.6742 - val_label_output_loss: 4.4385 - val_time_series_output_accuracy: 0.2544 - val_label_output_accuracy: 0.2000\n",
            "Epoch 8/10\n",
            "32/32 [==============================] - 8s 258ms/step - loss: 21.3034 - time_series_output_loss: 21.0875 - label_output_loss: 0.2158 - time_series_output_accuracy: 4.4092e-09 - label_output_accuracy: 0.9980 - val_loss: 24.6476 - val_time_series_output_loss: 20.2924 - val_label_output_loss: 4.3551 - val_time_series_output_accuracy: 0.2556 - val_label_output_accuracy: 0.1800\n",
            "Epoch 9/10\n",
            "32/32 [==============================] - 8s 255ms/step - loss: 21.2733 - time_series_output_loss: 21.1464 - label_output_loss: 0.1268 - time_series_output_accuracy: 6.6138e-09 - label_output_accuracy: 1.0000 - val_loss: 24.4260 - val_time_series_output_loss: 19.9219 - val_label_output_loss: 4.5041 - val_time_series_output_accuracy: 0.2556 - val_label_output_accuracy: 0.1800\n",
            "Epoch 10/10\n",
            "32/32 [==============================] - 8s 256ms/step - loss: 20.9757 - time_series_output_loss: 20.9034 - label_output_loss: 0.0723 - time_series_output_accuracy: 6.6138e-09 - label_output_accuracy: 1.0000 - val_loss: 23.0218 - val_time_series_output_loss: 18.3034 - val_label_output_loss: 4.7185 - val_time_series_output_accuracy: 0.2553 - val_label_output_accuracy: 0.1700\n",
            "\n",
            "############################\n",
            "############################\n",
            "interval:[0, 1000]    and    epoch:0\n",
            "############################\n",
            "############################\n",
            "\n",
            "Epoch 1/10\n",
            "32/32 [==============================] - 8s 258ms/step - loss: 26.7525 - time_series_output_loss: 26.6630 - label_output_loss: 0.0895 - time_series_output_accuracy: 4.4092e-09 - label_output_accuracy: 0.9860 - val_loss: 8.6263 - val_time_series_output_loss: 4.1921 - val_label_output_loss: 4.4342 - val_time_series_output_accuracy: 0.2727 - val_label_output_accuracy: 0.2200\n",
            "Epoch 2/10\n",
            "32/32 [==============================] - 8s 257ms/step - loss: 26.4650 - time_series_output_loss: 26.4288 - label_output_loss: 0.0362 - time_series_output_accuracy: 4.4092e-09 - label_output_accuracy: 0.9980 - val_loss: 8.0198 - val_time_series_output_loss: 4.0135 - val_label_output_loss: 4.0063 - val_time_series_output_accuracy: 0.2740 - val_label_output_accuracy: 0.2400\n",
            "Epoch 3/10\n",
            "32/32 [==============================] - 8s 259ms/step - loss: 26.3788 - time_series_output_loss: 26.3580 - label_output_loss: 0.0208 - time_series_output_accuracy: 4.4092e-09 - label_output_accuracy: 1.0000 - val_loss: 7.9156 - val_time_series_output_loss: 3.9265 - val_label_output_loss: 3.9891 - val_time_series_output_accuracy: 0.2764 - val_label_output_accuracy: 0.2600\n",
            "Epoch 4/10\n",
            "32/32 [==============================] - 8s 257ms/step - loss: 26.3485 - time_series_output_loss: 26.3325 - label_output_loss: 0.0161 - time_series_output_accuracy: 4.4092e-09 - label_output_accuracy: 1.0000 - val_loss: 9.7083 - val_time_series_output_loss: 5.3470 - val_label_output_loss: 4.3613 - val_time_series_output_accuracy: 0.2728 - val_label_output_accuracy: 0.2300\n",
            "Epoch 5/10\n",
            "32/32 [==============================] - 8s 258ms/step - loss: 26.2040 - time_series_output_loss: 26.1913 - label_output_loss: 0.0127 - time_series_output_accuracy: 4.4092e-09 - label_output_accuracy: 1.0000 - val_loss: 9.0334 - val_time_series_output_loss: 4.0302 - val_label_output_loss: 5.0032 - val_time_series_output_accuracy: 0.2678 - val_label_output_accuracy: 0.2000\n",
            "Epoch 6/10\n",
            "32/32 [==============================] - 8s 259ms/step - loss: 26.1601 - time_series_output_loss: 26.1500 - label_output_loss: 0.0101 - time_series_output_accuracy: 4.4092e-09 - label_output_accuracy: 1.0000 - val_loss: 9.1147 - val_time_series_output_loss: 4.6052 - val_label_output_loss: 4.5095 - val_time_series_output_accuracy: 0.2687 - val_label_output_accuracy: 0.2200\n",
            "Epoch 7/10\n",
            "32/32 [==============================] - 8s 258ms/step - loss: 26.0687 - time_series_output_loss: 26.0605 - label_output_loss: 0.0082 - time_series_output_accuracy: 4.4092e-09 - label_output_accuracy: 1.0000 - val_loss: 8.8647 - val_time_series_output_loss: 4.5767 - val_label_output_loss: 4.2880 - val_time_series_output_accuracy: 0.2636 - val_label_output_accuracy: 0.2300\n",
            "Epoch 8/10\n",
            "32/32 [==============================] - 8s 257ms/step - loss: 26.0729 - time_series_output_loss: 26.0659 - label_output_loss: 0.0070 - time_series_output_accuracy: 4.4092e-09 - label_output_accuracy: 1.0000 - val_loss: 8.8316 - val_time_series_output_loss: 4.7056 - val_label_output_loss: 4.1260 - val_time_series_output_accuracy: 0.2654 - val_label_output_accuracy: 0.2300\n",
            "Epoch 9/10\n",
            "32/32 [==============================] - 8s 260ms/step - loss: 26.0815 - time_series_output_loss: 26.0753 - label_output_loss: 0.0063 - time_series_output_accuracy: 4.4092e-09 - label_output_accuracy: 1.0000 - val_loss: 7.8060 - val_time_series_output_loss: 4.5520 - val_label_output_loss: 3.2540 - val_time_series_output_accuracy: 0.2602 - val_label_output_accuracy: 0.2700\n",
            "Epoch 10/10\n",
            "32/32 [==============================] - 8s 258ms/step - loss: 26.1083 - time_series_output_loss: 26.1031 - label_output_loss: 0.0052 - time_series_output_accuracy: 4.4092e-09 - label_output_accuracy: 1.0000 - val_loss: 7.9404 - val_time_series_output_loss: 4.4847 - val_label_output_loss: 3.4558 - val_time_series_output_accuracy: 0.2630 - val_label_output_accuracy: 0.2600\n",
            "\n",
            "############################\n",
            "############################\n",
            "interval:[1000, 2000]    and    epoch:0\n",
            "############################\n",
            "############################\n",
            "\n",
            "Epoch 1/10\n",
            "32/32 [==============================] - 8s 260ms/step - loss: 26.3153 - time_series_output_loss: 26.3096 - label_output_loss: 0.0058 - time_series_output_accuracy: 6.6138e-09 - label_output_accuracy: 1.0000 - val_loss: 8.2910 - val_time_series_output_loss: 4.5338 - val_label_output_loss: 3.7572 - val_time_series_output_accuracy: 0.2541 - val_label_output_accuracy: 0.3300\n",
            "Epoch 2/10\n",
            "32/32 [==============================] - 8s 257ms/step - loss: 26.1953 - time_series_output_loss: 26.1905 - label_output_loss: 0.0049 - time_series_output_accuracy: 6.6138e-09 - label_output_accuracy: 1.0000 - val_loss: 7.9439 - val_time_series_output_loss: 5.4107 - val_label_output_loss: 2.5332 - val_time_series_output_accuracy: 0.2498 - val_label_output_accuracy: 0.4100\n",
            "Epoch 3/10\n",
            "32/32 [==============================] - 8s 257ms/step - loss: 26.1377 - time_series_output_loss: 26.1338 - label_output_loss: 0.0039 - time_series_output_accuracy: 6.6138e-09 - label_output_accuracy: 1.0000 - val_loss: 7.8074 - val_time_series_output_loss: 5.0968 - val_label_output_loss: 2.7106 - val_time_series_output_accuracy: 0.2503 - val_label_output_accuracy: 0.3700\n",
            "Epoch 4/10\n",
            "32/32 [==============================] - 8s 259ms/step - loss: 26.2348 - time_series_output_loss: 26.2312 - label_output_loss: 0.0036 - time_series_output_accuracy: 6.6138e-09 - label_output_accuracy: 1.0000 - val_loss: 8.3374 - val_time_series_output_loss: 5.2283 - val_label_output_loss: 3.1091 - val_time_series_output_accuracy: 0.2523 - val_label_output_accuracy: 0.4000\n",
            "Epoch 5/10\n",
            "32/32 [==============================] - 8s 259ms/step - loss: 26.0408 - time_series_output_loss: 26.0377 - label_output_loss: 0.0032 - time_series_output_accuracy: 8.8183e-09 - label_output_accuracy: 1.0000 - val_loss: 8.6660 - val_time_series_output_loss: 5.1035 - val_label_output_loss: 3.5624 - val_time_series_output_accuracy: 0.2550 - val_label_output_accuracy: 0.4100\n",
            "Epoch 6/10\n",
            "32/32 [==============================] - 8s 257ms/step - loss: 26.0311 - time_series_output_loss: 26.0283 - label_output_loss: 0.0028 - time_series_output_accuracy: 8.8183e-09 - label_output_accuracy: 1.0000 - val_loss: 8.6572 - val_time_series_output_loss: 5.2572 - val_label_output_loss: 3.4001 - val_time_series_output_accuracy: 0.2519 - val_label_output_accuracy: 0.4200\n",
            "Epoch 7/10\n",
            "32/32 [==============================] - 8s 260ms/step - loss: 25.9828 - time_series_output_loss: 25.9802 - label_output_loss: 0.0026 - time_series_output_accuracy: 6.6138e-09 - label_output_accuracy: 1.0000 - val_loss: 9.2321 - val_time_series_output_loss: 6.1963 - val_label_output_loss: 3.0359 - val_time_series_output_accuracy: 0.2542 - val_label_output_accuracy: 0.4700\n",
            "Epoch 8/10\n",
            "32/32 [==============================] - 8s 259ms/step - loss: 25.9523 - time_series_output_loss: 25.9500 - label_output_loss: 0.0023 - time_series_output_accuracy: 8.8183e-09 - label_output_accuracy: 1.0000 - val_loss: 9.1527 - val_time_series_output_loss: 5.0504 - val_label_output_loss: 4.1024 - val_time_series_output_accuracy: 0.2554 - val_label_output_accuracy: 0.3600\n",
            "Epoch 9/10\n",
            "32/32 [==============================] - 8s 257ms/step - loss: 25.9043 - time_series_output_loss: 25.9021 - label_output_loss: 0.0021 - time_series_output_accuracy: 1.1023e-08 - label_output_accuracy: 1.0000 - val_loss: 8.7033 - val_time_series_output_loss: 5.6684 - val_label_output_loss: 3.0349 - val_time_series_output_accuracy: 0.2536 - val_label_output_accuracy: 0.3900\n",
            "Epoch 10/10\n",
            "32/32 [==============================] - 8s 257ms/step - loss: 25.8868 - time_series_output_loss: 25.8844 - label_output_loss: 0.0024 - time_series_output_accuracy: 8.8183e-09 - label_output_accuracy: 1.0000 - val_loss: 9.2812 - val_time_series_output_loss: 5.1881 - val_label_output_loss: 4.0931 - val_time_series_output_accuracy: 0.2572 - val_label_output_accuracy: 0.3600\n",
            "\n",
            "############################\n",
            "############################\n",
            "interval:[2000, 3000]    and    epoch:0\n",
            "############################\n",
            "############################\n",
            "\n"
          ],
          "name": "stdout"
        }
      ]
    },
    {
      "cell_type": "code",
      "metadata": {
        "id": "rIHiDZ6p3z6O",
        "colab_type": "code",
        "colab": {}
      },
      "source": [
        "data_test, label_test=  batch_loader_test_data()"
      ],
      "execution_count": 0,
      "outputs": []
    },
    {
      "cell_type": "code",
      "metadata": {
        "id": "HP4JNeni_iiU",
        "colab_type": "code",
        "colab": {}
      },
      "source": [
        "Data_test, Label_test = batch_loader()"
      ],
      "execution_count": 0,
      "outputs": []
    },
    {
      "cell_type": "code",
      "metadata": {
        "id": "hBZqyJlxYL-Q",
        "colab_type": "code",
        "colab": {}
      },
      "source": [
        ""
      ],
      "execution_count": 0,
      "outputs": []
    },
    {
      "cell_type": "code",
      "metadata": {
        "id": "iHLtsy0v3z-f",
        "colab_type": "code",
        "outputId": "679d3fef-9948-4d1b-94ef-42873403051b",
        "colab": {
          "base_uri": "https://localhost:8080/",
          "height": 141
        }
      },
      "source": [
        "model.evaluate(Data_test, Label_test-1)\n",
        "\n",
        "#y_pred = model.predict(data_test)\n",
        "#y_pred = np.argmax(y_pred, axis=1) +1"
      ],
      "execution_count": 23,
      "outputs": [
        {
          "output_type": "stream",
          "text": [
            "4/4 [==============================] - 0s 73ms/step - loss: 4.5266 - time_series_output_loss: 4.5246 - label_output_loss: 0.0020 - time_series_output_accuracy: 0.2684 - label_output_accuracy: 1.0000\n"
          ],
          "name": "stdout"
        },
        {
          "output_type": "execute_result",
          "data": {
            "text/plain": [
              "[4.526612281799316,\n",
              " 4.524601936340332,\n",
              " 0.002009647898375988,\n",
              " 0.2684139013290405,\n",
              " 1.0]"
            ]
          },
          "metadata": {
            "tags": []
          },
          "execution_count": 23
        }
      ]
    },
    {
      "cell_type": "code",
      "metadata": {
        "id": "8vLJ8jimbcra",
        "colab_type": "code",
        "colab": {}
      },
      "source": [
        "y_pred = model.predict(data_test)"
      ],
      "execution_count": 0,
      "outputs": []
    },
    {
      "cell_type": "code",
      "metadata": {
        "id": "VYmNi2hZ30Bj",
        "colab_type": "code",
        "outputId": "a87a4ef5-a978-4bf8-936e-fda85e69c6c9",
        "colab": {
          "base_uri": "https://localhost:8080/",
          "height": 34
        }
      },
      "source": [
        "np.shape(y_pred[0]), np.shape(y_pred[1])"
      ],
      "execution_count": 33,
      "outputs": [
        {
          "output_type": "execute_result",
          "data": {
            "text/plain": [
              "((100, 7200, 1), (100, 4))"
            ]
          },
          "metadata": {
            "tags": []
          },
          "execution_count": 33
        }
      ]
    },
    {
      "cell_type": "code",
      "metadata": {
        "id": "dNLCVjUUJUuW",
        "colab_type": "code",
        "colab": {
          "base_uri": "https://localhost:8080/",
          "height": 282
        },
        "outputId": "4e8c03af-6b9e-44ba-9677-8ec627151d51"
      },
      "source": [
        "plt.plot(y_pred[0][19,:,0])"
      ],
      "execution_count": 39,
      "outputs": [
        {
          "output_type": "execute_result",
          "data": {
            "text/plain": [
              "[<matplotlib.lines.Line2D at 0x7fa0ee0ba940>]"
            ]
          },
          "metadata": {
            "tags": []
          },
          "execution_count": 39
        },
        {
          "output_type": "display_data",
          "data": {
            "image/png": "[encoded data removed]",
            "text/plain": [
              "<Figure size 432x288 with 1 Axes>"
            ]
          },
          "metadata": {
            "tags": []
          }
        }
      ]
    },
    {
      "cell_type": "code",
      "metadata": {
        "id": "MqkKKoDuJUq8",
        "colab_type": "code",
        "colab": {}
      },
      "source": [
        ""
      ],
      "execution_count": 0,
      "outputs": []
    },
    {
      "cell_type": "code",
      "metadata": {
        "id": "HR8ultZGJUpw",
        "colab_type": "code",
        "colab": {}
      },
      "source": [
        ""
      ],
      "execution_count": 0,
      "outputs": []
    },
    {
      "cell_type": "code",
      "metadata": {
        "id": "tVpigN4FJUn0",
        "colab_type": "code",
        "colab": {}
      },
      "source": [
        ""
      ],
      "execution_count": 0,
      "outputs": []
    },
    {
      "cell_type": "code",
      "metadata": {
        "id": "5W56HHFEJUki",
        "colab_type": "code",
        "colab": {}
      },
      "source": [
        ""
      ],
      "execution_count": 0,
      "outputs": []
    },
    {
      "cell_type": "code",
      "metadata": {
        "id": "FsRlD3_-JUgM",
        "colab_type": "code",
        "colab": {}
      },
      "source": [
        ""
      ],
      "execution_count": 0,
      "outputs": []
    },
    {
      "cell_type": "code",
      "metadata": {
        "id": "30cqr1bcJUSH",
        "colab_type": "code",
        "colab": {}
      },
      "source": [
        ""
      ],
      "execution_count": 0,
      "outputs": []
    },
    {
      "cell_type": "code",
      "metadata": {
        "id": "bhtHllF43z9a",
        "colab_type": "code",
        "colab": {}
      },
      "source": [
        "from sklearn.metrics import confusion_matrix"
      ],
      "execution_count": 0,
      "outputs": []
    },
    {
      "cell_type": "code",
      "metadata": {
        "id": "q-QSwF8z3zzA",
        "colab_type": "code",
        "colab": {}
      },
      "source": [
        "mat = confusion_matrix(label_test, y_pred)"
      ],
      "execution_count": 0,
      "outputs": []
    },
    {
      "cell_type": "code",
      "metadata": {
        "id": "Of1OchliRiZL",
        "colab_type": "code",
        "outputId": "22279267-bd16-4041-9070-1dc2399303f7",
        "colab": {
          "base_uri": "https://localhost:8080/",
          "height": 338
        }
      },
      "source": [
        "plt.imshow(mat)\n",
        "mat\n"
      ],
      "execution_count": 144,
      "outputs": [
        {
          "output_type": "execute_result",
          "data": {
            "text/plain": [
              "array([[23,  0,  0,  0],\n",
              "       [ 0, 27,  0,  0],\n",
              "       [ 0,  0, 26,  0],\n",
              "       [ 0,  0,  0, 24]])"
            ]
          },
          "metadata": {
            "tags": []
          },
          "execution_count": 144
        },
        {
          "output_type": "display_data",
          "data": {
            "image/png": "[encoded data removed]",
            "text/plain": [
              "<Figure size 432x288 with 1 Axes>"
            ]
          },
          "metadata": {
            "tags": []
          }
        }
      ]
    },
    {
      "cell_type": "code",
      "metadata": {
        "id": "G7y9QxOMSU3v",
        "colab_type": "code",
        "colab": {}
      },
      "source": [
        "from sklearn.metrics import classification_report"
      ],
      "execution_count": 0,
      "outputs": []
    },
    {
      "cell_type": "code",
      "metadata": {
        "id": "bcBNd0QJSU7x",
        "colab_type": "code",
        "colab": {
          "base_uri": "https://localhost:8080/",
          "height": 208
        },
        "outputId": "3e28d5b8-303f-4fff-8845-3f44fcacc81d"
      },
      "source": [
        "print(classification_report(label_test, y_pred))"
      ],
      "execution_count": 143,
      "outputs": [
        {
          "output_type": "stream",
          "text": [
            "              precision    recall  f1-score   support\n",
            "\n",
            "           1       1.00      1.00      1.00        23\n",
            "           2       1.00      1.00      1.00        27\n",
            "           3       1.00      1.00      1.00        26\n",
            "           4       1.00      1.00      1.00        24\n",
            "\n",
            "    accuracy                           1.00       100\n",
            "   macro avg       1.00      1.00      1.00       100\n",
            "weighted avg       1.00      1.00      1.00       100\n",
            "\n"
          ],
          "name": "stdout"
        }
      ]
    },
    {
      "cell_type": "code",
      "metadata": {
        "id": "IiIRrTwtSU-m",
        "colab_type": "code",
        "colab": {}
      },
      "source": [
        ""
      ],
      "execution_count": 0,
      "outputs": []
    },
    {
      "cell_type": "code",
      "metadata": {
        "id": "7ca_s404SVK8",
        "colab_type": "code",
        "colab": {}
      },
      "source": [
        ""
      ],
      "execution_count": 0,
      "outputs": []
    },
    {
      "cell_type": "code",
      "metadata": {
        "id": "uhZLdzDhSVIq",
        "colab_type": "code",
        "colab": {}
      },
      "source": [
        ""
      ],
      "execution_count": 0,
      "outputs": []
    },
    {
      "cell_type": "code",
      "metadata": {
        "id": "86GueY96SVGS",
        "colab_type": "code",
        "colab": {}
      },
      "source": [
        ""
      ],
      "execution_count": 0,
      "outputs": []
    },
    {
      "cell_type": "code",
      "metadata": {
        "id": "UKJKhR-9SVEp",
        "colab_type": "code",
        "colab": {}
      },
      "source": [
        ""
      ],
      "execution_count": 0,
      "outputs": []
    },
    {
      "cell_type": "code",
      "metadata": {
        "id": "un5qSmSkSVCj",
        "colab_type": "code",
        "colab": {}
      },
      "source": [
        ""
      ],
      "execution_count": 0,
      "outputs": []
    },
    {
      "cell_type": "code",
      "metadata": {
        "id": "vtzbEMEkSVBM",
        "colab_type": "code",
        "colab": {}
      },
      "source": [
        ""
      ],
      "execution_count": 0,
      "outputs": []
    },
    {
      "cell_type": "code",
      "metadata": {
        "id": "5Z0L6B10SU1d",
        "colab_type": "code",
        "colab": {}
      },
      "source": [
        ""
      ],
      "execution_count": 0,
      "outputs": []
    },
    {
      "cell_type": "code",
      "metadata": {
        "id": "XqWQIXL7RlgW",
        "colab_type": "code",
        "colab": {}
      },
      "source": [
        ""
      ],
      "execution_count": 0,
      "outputs": []
    }
  ]
}