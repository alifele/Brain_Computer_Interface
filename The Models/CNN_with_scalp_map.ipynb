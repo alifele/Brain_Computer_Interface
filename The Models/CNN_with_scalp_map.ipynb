{
  "nbformat": 4,
  "nbformat_minor": 0,
  "metadata": {
    "colab": {
      "name": "CNN with scalp map.ipynb",
      "provenance": [],
      "mount_file_id": "107Pih-70M2tU3BjeOYKgSzR4dfDIg60v",
      "authorship_tag": "ABX9TyNLDwDvvZLPkxomx5FjUrz/",
      "include_colab_link": true
    },
    "kernelspec": {
      "name": "python3",
      "display_name": "Python 3"
    },
    "accelerator": "GPU"
  },
  "cells": [
    {
      "cell_type": "markdown",
      "metadata": {
        "id": "view-in-github",
        "colab_type": "text"
      },
      "source": [
        "<a href=\"https://colab.research.google.com/github/alifele/Brain_Computer_Interface-Competition-/blob/master/CNN_with_scalp_map.ipynb\" target=\"_parent\"><img src=\"https://colab.research.google.com/assets/colab-badge.svg\" alt=\"Open In Colab\"/></a>"
      ]
    },
    {
      "cell_type": "code",
      "metadata": {
        "id": "nA33lRe_nU1Y",
        "colab_type": "code",
        "colab": {}
      },
      "source": [
        "import sys\n",
        "import numpy as np\n",
        "import matplotlib.pyplot as plt\n",
        "sys.path.append('/content/drive/My Drive/EEG_BCI/')\n",
        "import datafetch\n",
        "import plotters"
      ],
      "execution_count": 0,
      "outputs": []
    },
    {
      "cell_type": "code",
      "metadata": {
        "id": "z-RYZzLtnd2x",
        "colab_type": "code",
        "colab": {}
      },
      "source": [
        "subj_15 = datafetch.fetch_subject(15)"
      ],
      "execution_count": 0,
      "outputs": []
    },
    {
      "cell_type": "code",
      "metadata": {
        "id": "vfywQSx2qfMc",
        "colab_type": "code",
        "colab": {
          "base_uri": "https://localhost:8080/",
          "height": 34
        },
        "outputId": "be37c3c1-999e-4da3-823f-6c34db6875d0"
      },
      "source": [
        "subj_15.keys()"
      ],
      "execution_count": 3,
      "outputs": [
        {
          "output_type": "execute_result",
          "data": {
            "text/plain": [
              "dict_keys(['test_data', 'train_data_class1', 'train_data_class2', 'train_data_class3', 'train_data_class4'])"
            ]
          },
          "metadata": {
            "tags": []
          },
          "execution_count": 3
        }
      ]
    },
    {
      "cell_type": "code",
      "metadata": {
        "id": "TZ4NR9wyqfKU",
        "colab_type": "code",
        "colab": {
          "base_uri": "https://localhost:8080/",
          "height": 34
        },
        "outputId": "3e92a23f-59e8-44e9-bb01-bc30808606ce"
      },
      "source": [
        "subj_15['train_data_class1'].shape"
      ],
      "execution_count": 4,
      "outputs": [
        {
          "output_type": "execute_result",
          "data": {
            "text/plain": [
              "(25, 7200, 63)"
            ]
          },
          "metadata": {
            "tags": []
          },
          "execution_count": 4
        }
      ]
    },
    {
      "cell_type": "code",
      "metadata": {
        "id": "yIxA1bQkngdI",
        "colab_type": "code",
        "colab": {}
      },
      "source": [
        "from plotters import scalp_plotter"
      ],
      "execution_count": 0,
      "outputs": []
    },
    {
      "cell_type": "code",
      "metadata": {
        "id": "a_AKqAejqU2O",
        "colab_type": "code",
        "colab": {
          "base_uri": "https://localhost:8080/",
          "height": 282
        },
        "outputId": "954c6b13-e402-42ed-f73d-63532d89c8b9"
      },
      "source": [
        "mat = scalp_plotter(subj_15['train_data_class1'][23],12)\n",
        "plt.imshow(mat)"
      ],
      "execution_count": 6,
      "outputs": [
        {
          "output_type": "execute_result",
          "data": {
            "text/plain": [
              "<matplotlib.image.AxesImage at 0x7f696c60eef0>"
            ]
          },
          "metadata": {
            "tags": []
          },
          "execution_count": 6
        },
        {
          "output_type": "display_data",
          "data": {
            "image/png": "[encoded data removed]",
            "text/plain": [
              "<Figure size 432x288 with 1 Axes>"
            ]
          },
          "metadata": {
            "tags": []
          }
        }
      ]
    },
    {
      "cell_type": "code",
      "metadata": {
        "id": "STgQeF3VoY0v",
        "colab_type": "code",
        "colab": {
          "base_uri": "https://localhost:8080/",
          "height": 282
        },
        "outputId": "6ed42ef4-404e-40b2-9998-2e6571186927"
      },
      "source": [
        "mat = scalp_plotter(subj_15['test_data'][43], 1025)\n",
        "# You should pass the whole channels with all data\n",
        "# the secend input of the function shows the time in which you \n",
        "# want to see the scalp map\n",
        "plt.imshow(mat)"
      ],
      "execution_count": 7,
      "outputs": [
        {
          "output_type": "execute_result",
          "data": {
            "text/plain": [
              "<matplotlib.image.AxesImage at 0x7f696c1665f8>"
            ]
          },
          "metadata": {
            "tags": []
          },
          "execution_count": 7
        },
        {
          "output_type": "display_data",
          "data": {
            "image/png": "[encoded data removed]",
            "text/plain": [
              "<Figure size 432x288 with 1 Axes>"
            ]
          },
          "metadata": {
            "tags": []
          }
        }
      ]
    },
    {
      "cell_type": "markdown",
      "metadata": {
        "id": "jytOeO0fosfG",
        "colab_type": "text"
      },
      "source": [
        "# Data load"
      ]
    },
    {
      "cell_type": "code",
      "metadata": {
        "id": "7PWa1baJobEG",
        "colab_type": "code",
        "colab": {}
      },
      "source": [
        "global subj_list \n",
        "global selector\n",
        "subj_list = [0,0,0,0,0,0]"
      ],
      "execution_count": 0,
      "outputs": []
    },
    {
      "cell_type": "code",
      "metadata": {
        "id": "2B6eAN5YouvG",
        "colab_type": "code",
        "colab": {}
      },
      "source": [
        "def update_subjlist(sector):\n",
        "\n",
        "  if sector ==1:\n",
        "    subj_1 = datafetch.fetch_subject(1)\n",
        "    subj_2 = datafetch.fetch_subject(2)\n",
        "    subj_3 = datafetch.fetch_subject(3)\n",
        "    subj_4 = datafetch.fetch_subject(4)\n",
        "    subj_5 = datafetch.fetch_subject(5)\n",
        "    return np.array([subj_1, subj_2, subj_3, subj_4, subj_5, 1])\n",
        "\n",
        "\n",
        "  if sector ==2:\n",
        "    subj_6 = datafetch.fetch_subject(6)\n",
        "    subj_7 = datafetch.fetch_subject(7)\n",
        "    subj_8 = datafetch.fetch_subject(8)\n",
        "    subj_9 = datafetch.fetch_subject(9)\n",
        "    subj_10 = datafetch.fetch_subject(10)\n",
        "\n",
        "    return np.array([0,0,0,0,0] + [subj_6, subj_7, subj_8, subj_9, subj_10, 2])\n",
        "\n",
        "\n",
        "  if sector ==3:\n",
        "    subj_11 = datafetch.fetch_subject(11)\n",
        "    subj_12 = datafetch.fetch_subject(12)\n",
        "    subj_13 = datafetch.fetch_subject(13)\n",
        "    subj_14 = datafetch.fetch_subject(14)\n",
        "    subj_15 = datafetch.fetch_subject(15)\n",
        "\n",
        "    return np.array([0,0,0,0,0] + [0,0,0,0,0] + [subj_11, subj_12, subj_13, subj_14, subj_15, 3])"
      ],
      "execution_count": 0,
      "outputs": []
    },
    {
      "cell_type": "code",
      "metadata": {
        "id": "lYnGxRp1oyM-",
        "colab_type": "code",
        "colab": {}
      },
      "source": [
        "def selector_desing(sector, classes=[1,4], trail=[0,24]):\n",
        "  selector = []\n",
        "  for i in range((sector-1)*5+1, sector*5+1):\n",
        "    for j in range(classes[0],classes[1]+1):\n",
        "      for k in range(0,trail[1]+1):\n",
        "        selector.append((i,j,k))\n",
        "  selector = np.array(selector)\n",
        "  np.random.shuffle(selector)\n",
        "\n",
        "  return selector"
      ],
      "execution_count": 0,
      "outputs": []
    },
    {
      "cell_type": "code",
      "metadata": {
        "id": "IKVih0mtqRJI",
        "colab_type": "code",
        "colab": {}
      },
      "source": [
        ""
      ],
      "execution_count": 0,
      "outputs": []
    },
    {
      "cell_type": "code",
      "metadata": {
        "id": "EgXIpf6to17K",
        "colab_type": "code",
        "colab": {}
      },
      "source": [
        "def select_data(select):\n",
        "  '''\n",
        "  it selects the data according the the selector.\n",
        "  for exmaple if the seclevto os equal to (3,4,1) the\n",
        "  data of subject number 1, which belongs to the class number 4, and its 1 trail \n",
        "  will be selected. which is a 7200 data point with 63 channels\n",
        "  '''\n",
        "  global subj_list\n",
        "\n",
        "  return subj_list[select[0]-1]['train_data_class{}'.format(select[1])][select[2]]"
      ],
      "execution_count": 0,
      "outputs": []
    },
    {
      "cell_type": "code",
      "metadata": {
        "id": "w3Efw9r1o5gR",
        "colab_type": "code",
        "colab": {}
      },
      "source": [
        "def item_to_scalp_pictures(item):\n",
        "\n",
        "  global selector\n",
        "  global subj_list\n",
        "  \n",
        "  '''\n",
        "  function will get item (the index of the patient) and will return the hilbert \n",
        "  images that each channel of eeg will be different channels of the retured image\n",
        "\n",
        "  This fuction will also return the label. for example the label 1 indicates that\n",
        "  the patient belongs to the class number 1\n",
        "  '''\n",
        "\n",
        "  Mat = []\n",
        "  Label = []\n",
        "  #label = selector[item][1]\n",
        "  for i in range(7200):\n",
        "    mat  = scalp_plotter(select_data(selector[item]), i)\n",
        "    Label.append(selector[item][1])\n",
        "    Mat.append(mat)\n",
        "\n",
        "  return Mat, Label"
      ],
      "execution_count": 0,
      "outputs": []
    },
    {
      "cell_type": "markdown",
      "metadata": {
        "id": "izb_LhgS3l5W",
        "colab_type": "text"
      },
      "source": [
        "## Load Data with 7200 Channels "
      ]
    },
    {
      "cell_type": "code",
      "metadata": {
        "id": "V6FL-m3S3vTu",
        "colab_type": "code",
        "colab": {}
      },
      "source": [
        "def item_to_scalp_pictures(item):\n",
        "\n",
        "  global selector\n",
        "  global subj_list\n",
        "  \n",
        "  '''\n",
        "  function will get item (the index of the patient) and will return the hilbert \n",
        "  images that each channel of eeg will be different channels of the retured image\n",
        "\n",
        "  This fuction will also return the label. for example the label 1 indicates that\n",
        "  the patient belongs to the class number 1\n",
        "  '''\n",
        "  mat = scalp_plotter(select_data(selector[item]), 0)\n",
        "  mat = np.expand_dims(mat, axis=2)\n",
        "  mats = mat\n",
        "  label = selector[item][1]\n",
        "  for i in range(1,7200):\n",
        "    mat = scalp_plotter(select_data(selector[item]), i)\n",
        "    mat = np.expand_dims(mat, axis=2)\n",
        "    mats = np.concatenate((mats, mat), axis=2)\n",
        "\n",
        "  return mats, label"
      ],
      "execution_count": 0,
      "outputs": []
    },
    {
      "cell_type": "code",
      "metadata": {
        "id": "5K6y93ADpftz",
        "colab_type": "code",
        "colab": {}
      },
      "source": [
        "def load_image_batch(n=[0, 2],sector=1):\n",
        "  global subj_list\n",
        "  global selector\n",
        "\n",
        "  labels = []\n",
        "\n",
        "  Data = []\n",
        "  if sector != subj_list[-1]:\n",
        "    subj_list = update_subjlist(sector)\n",
        "    selector = selector_desing(sector)\n",
        "\n",
        "  data, label = item_to_scalp_pictures(n[0])\n",
        "  Data.append(data)\n",
        "  labels.append(label)\n",
        "  for i in range(n[0]+1, n[1]):\n",
        "    data, label  = item_to_scalp_pictures(i)\n",
        "    labels.append(label)\n",
        "    Data.append(data)\n",
        "\n",
        "  '''\n",
        "  Label = []\n",
        "  pre_data = []\n",
        "\n",
        "  for i in Data:\n",
        "    pre_data+=i\n",
        "\n",
        "  #for j in labels:\n",
        "    #Label += j\n",
        "\n",
        "  #labels = Label\n",
        "  Data = pre_data\n",
        "   '''\n",
        "\n",
        "\n",
        "  return np.array(Data), np.array(labels)\n"
      ],
      "execution_count": 0,
      "outputs": []
    },
    {
      "cell_type": "code",
      "metadata": {
        "id": "yWOO4sT6zp2W",
        "colab_type": "code",
        "colab": {}
      },
      "source": [
        "#data , label = load_image_batch(n=[0,10], sector=1)"
      ],
      "execution_count": 0,
      "outputs": []
    },
    {
      "cell_type": "code",
      "metadata": {
        "id": "ogPiKaBfzubR",
        "colab_type": "code",
        "colab": {}
      },
      "source": [
        "#data.shape, label.shape"
      ],
      "execution_count": 0,
      "outputs": []
    },
    {
      "cell_type": "code",
      "metadata": {
        "id": "V9xKEEQ-6f72",
        "colab_type": "code",
        "colab": {}
      },
      "source": [
        "fig = plt.figure(figsize=(14,6))\n",
        "for i in range(96):\n",
        "  ax = fig.add_subplot(6,16,i+1)\n",
        "  ax.imshow(data[1,:,:,i])\n",
        "  ax.axis('off')"
      ],
      "execution_count": 0,
      "outputs": []
    },
    {
      "cell_type": "markdown",
      "metadata": {
        "id": "IJHmL1Ee5l2L",
        "colab_type": "text"
      },
      "source": [
        "So ...\n",
        "\n",
        "\n",
        "So now you can load the bathces of the data, in which with each batch you can choose different subjects from different sectors."
      ]
    },
    {
      "cell_type": "markdown",
      "metadata": {
        "id": "4XYwWdqc68Wp",
        "colab_type": "text"
      },
      "source": [
        "# The Model"
      ]
    },
    {
      "cell_type": "code",
      "metadata": {
        "id": "1KK1Ayq067la",
        "colab_type": "code",
        "colab": {}
      },
      "source": [
        "import tensorflow as tf\n",
        "from tensorflow import keras"
      ],
      "execution_count": 0,
      "outputs": []
    },
    {
      "cell_type": "code",
      "metadata": {
        "id": "GLENVLsc5lUI",
        "colab_type": "code",
        "colab": {}
      },
      "source": [
        "model = keras.models.Sequential()\n",
        "\n",
        "model.add(keras.layers.Conv2D( 2000, 1, padding ='same', activation='relu', input_shape = [9,9,7200]))\n",
        "\n",
        "\n",
        "#model.add(keras.layers.Conv2D( 1500, 1, padding ='same', activation='relu') )\n",
        "model.add(keras.layers.Conv2D( 1000, 1, padding ='same', activation='relu'))\n",
        "\n",
        "model.add(keras.layers.Dropout(0.5))\n",
        "\n",
        "model.add(keras.layers.Conv2D( 750, 1, padding ='same', activation='relu'))\n",
        "model.add(keras.layers.Dropout(0.5))\n",
        "\n",
        "model.add(keras.layers.Conv2D( 500, 2, padding ='same', activation='relu'))\n",
        "model.add(keras.layers.Dropout(0.5))\n",
        "\n",
        "model.add(keras.layers.Conv2D( 256, 1, padding ='same', activation='relu'))\n",
        "model.add(keras.layers.Conv2D( 64, 1, padding ='same', activation='relu'))\n",
        "\n",
        "\n",
        "model.add(keras.layers.Flatten())\n",
        "model.add(keras.layers.Dense(256, activation='relu'))\n",
        "model.add(keras.layers.Dropout(0.4))\n",
        "model.add(keras.layers.Dense(32, activation = 'relu'))\n",
        "model.add(keras.layers.Dense(4, activation='softmax'))"
      ],
      "execution_count": 0,
      "outputs": []
    },
    {
      "cell_type": "code",
      "metadata": {
        "id": "UlFq29XU1neA",
        "colab_type": "code",
        "colab": {
          "base_uri": "https://localhost:8080/",
          "height": 642
        },
        "outputId": "25a6d3cf-9336-4aaf-a80c-efc1731315d6"
      },
      "source": [
        "model.summary()"
      ],
      "execution_count": 33,
      "outputs": [
        {
          "output_type": "stream",
          "text": [
            "Model: \"sequential_3\"\n",
            "_________________________________________________________________\n",
            "Layer (type)                 Output Shape              Param #   \n",
            "=================================================================\n",
            "conv2d_18 (Conv2D)           (None, 9, 9, 2000)        14402000  \n",
            "_________________________________________________________________\n",
            "conv2d_19 (Conv2D)           (None, 9, 9, 1000)        2001000   \n",
            "_________________________________________________________________\n",
            "dropout_12 (Dropout)         (None, 9, 9, 1000)        0         \n",
            "_________________________________________________________________\n",
            "conv2d_20 (Conv2D)           (None, 9, 9, 750)         750750    \n",
            "_________________________________________________________________\n",
            "dropout_13 (Dropout)         (None, 9, 9, 750)         0         \n",
            "_________________________________________________________________\n",
            "conv2d_21 (Conv2D)           (None, 9, 9, 500)         1500500   \n",
            "_________________________________________________________________\n",
            "dropout_14 (Dropout)         (None, 9, 9, 500)         0         \n",
            "_________________________________________________________________\n",
            "conv2d_22 (Conv2D)           (None, 9, 9, 256)         128256    \n",
            "_________________________________________________________________\n",
            "conv2d_23 (Conv2D)           (None, 9, 9, 64)          16448     \n",
            "_________________________________________________________________\n",
            "flatten_3 (Flatten)          (None, 5184)              0         \n",
            "_________________________________________________________________\n",
            "dense_9 (Dense)              (None, 256)               1327360   \n",
            "_________________________________________________________________\n",
            "dropout_15 (Dropout)         (None, 256)               0         \n",
            "_________________________________________________________________\n",
            "dense_10 (Dense)             (None, 32)                8224      \n",
            "_________________________________________________________________\n",
            "dense_11 (Dense)             (None, 4)                 132       \n",
            "=================================================================\n",
            "Total params: 20,134,670\n",
            "Trainable params: 20,134,670\n",
            "Non-trainable params: 0\n",
            "_________________________________________________________________\n"
          ],
          "name": "stdout"
        }
      ]
    },
    {
      "cell_type": "code",
      "metadata": {
        "id": "7n--UCMi-EqG",
        "colab_type": "code",
        "colab": {}
      },
      "source": [
        "opt = keras.optimizers.SGD(lr=0.004)\n",
        "model.compile(optimizer=opt,\n",
        "              loss = ['sparse_categorical_crossentropy'],\n",
        "              metrics = ['accuracy'])"
      ],
      "execution_count": 0,
      "outputs": []
    },
    {
      "cell_type": "code",
      "metadata": {
        "id": "9NJvrN5jz9S-",
        "colab_type": "code",
        "colab": {
          "base_uri": "https://localhost:8080/",
          "height": 1000
        },
        "outputId": "53aa7b72-1964-4b36-f01e-0bd7dd8e5693"
      },
      "source": [
        "Sectors = [1,2,3]\n",
        "intervals = [[0*i,250*(i+1)] for i in range(2)]\n",
        "for epoch in range(3):\n",
        "  for sec in Sectors:\n",
        "    for interval in intervals:\n",
        "      data, label = load_image_batch(interval, sec)\n",
        "      model.fit(data, label-1, epochs=60)\n",
        "      print('############################')\n",
        "      print('############################')\n",
        "      print('sector:{}    and    interval:{}    and    epoch:{}'.format(sec, interval, epoch))\n",
        "      print('############################')\n",
        "      print('############################')\n"
      ],
      "execution_count": 0,
      "outputs": [
        {
          "output_type": "stream",
          "text": [
            "Train on 250 samples\n",
            "Epoch 1/60\n",
            "250/250 [==============================] - 1s 6ms/sample - loss: 8.0093 - acc: 0.2440\n",
            "Epoch 2/60\n",
            "250/250 [==============================] - 1s 4ms/sample - loss: 2.1267 - acc: 0.2720\n",
            "Epoch 3/60\n",
            "250/250 [==============================] - 1s 4ms/sample - loss: 1.6469 - acc: 0.3080\n",
            "Epoch 4/60\n",
            "250/250 [==============================] - 1s 4ms/sample - loss: 1.7372 - acc: 0.2280\n",
            "Epoch 5/60\n",
            "250/250 [==============================] - 1s 4ms/sample - loss: 1.5622 - acc: 0.2520\n",
            "Epoch 6/60\n",
            "250/250 [==============================] - 1s 4ms/sample - loss: 1.5100 - acc: 0.2760\n",
            "Epoch 7/60\n",
            "250/250 [==============================] - 1s 4ms/sample - loss: 1.5798 - acc: 0.2400\n",
            "Epoch 8/60\n",
            "250/250 [==============================] - 1s 4ms/sample - loss: 1.5729 - acc: 0.2560\n",
            "Epoch 9/60\n",
            "250/250 [==============================] - 1s 4ms/sample - loss: 1.4963 - acc: 0.2920\n",
            "Epoch 10/60\n",
            "250/250 [==============================] - 1s 4ms/sample - loss: 1.4786 - acc: 0.2640\n",
            "Epoch 11/60\n",
            "250/250 [==============================] - 1s 4ms/sample - loss: 1.4439 - acc: 0.2400\n",
            "Epoch 12/60\n",
            "250/250 [==============================] - 1s 4ms/sample - loss: 1.4528 - acc: 0.2320\n",
            "Epoch 13/60\n",
            "250/250 [==============================] - 1s 4ms/sample - loss: 1.4320 - acc: 0.2320\n",
            "Epoch 14/60\n",
            "250/250 [==============================] - 1s 4ms/sample - loss: 1.4353 - acc: 0.2840\n",
            "Epoch 15/60\n",
            "250/250 [==============================] - 1s 4ms/sample - loss: 1.4203 - acc: 0.2640\n",
            "Epoch 16/60\n",
            "250/250 [==============================] - 1s 4ms/sample - loss: 1.4108 - acc: 0.2600\n",
            "Epoch 17/60\n",
            "250/250 [==============================] - 1s 4ms/sample - loss: 1.4468 - acc: 0.2760\n",
            "Epoch 18/60\n",
            "250/250 [==============================] - 1s 4ms/sample - loss: 1.4469 - acc: 0.2400\n",
            "Epoch 19/60\n",
            "250/250 [==============================] - 1s 4ms/sample - loss: 1.3973 - acc: 0.2800\n",
            "Epoch 20/60\n",
            "250/250 [==============================] - 1s 4ms/sample - loss: 1.3992 - acc: 0.2640\n",
            "Epoch 21/60\n",
            "250/250 [==============================] - 1s 4ms/sample - loss: 1.4178 - acc: 0.2520\n",
            "Epoch 22/60\n",
            "250/250 [==============================] - 1s 4ms/sample - loss: 1.4061 - acc: 0.2680\n",
            "Epoch 23/60\n",
            "250/250 [==============================] - 1s 4ms/sample - loss: 1.4078 - acc: 0.2720\n",
            "Epoch 24/60\n",
            "250/250 [==============================] - 1s 4ms/sample - loss: 1.3983 - acc: 0.2520\n",
            "Epoch 25/60\n",
            "250/250 [==============================] - 1s 4ms/sample - loss: 1.4015 - acc: 0.2600\n",
            "Epoch 26/60\n",
            "250/250 [==============================] - 1s 4ms/sample - loss: 1.4049 - acc: 0.2880\n",
            "Epoch 27/60\n",
            "250/250 [==============================] - 1s 4ms/sample - loss: 1.4011 - acc: 0.2400\n",
            "Epoch 28/60\n",
            "250/250 [==============================] - 1s 4ms/sample - loss: 1.3922 - acc: 0.2640\n",
            "Epoch 29/60\n",
            "250/250 [==============================] - 1s 4ms/sample - loss: 1.4430 - acc: 0.2480\n",
            "Epoch 30/60\n",
            "250/250 [==============================] - 1s 4ms/sample - loss: 1.3962 - acc: 0.2720\n",
            "Epoch 31/60\n",
            "250/250 [==============================] - 1s 4ms/sample - loss: 1.4094 - acc: 0.2760\n",
            "Epoch 32/60\n",
            "250/250 [==============================] - 1s 4ms/sample - loss: 1.3894 - acc: 0.2960\n",
            "Epoch 33/60\n",
            "250/250 [==============================] - 1s 4ms/sample - loss: 1.3942 - acc: 0.2720\n",
            "Epoch 34/60\n",
            "250/250 [==============================] - 1s 4ms/sample - loss: 1.4164 - acc: 0.2880\n",
            "Epoch 35/60\n",
            "250/250 [==============================] - 1s 4ms/sample - loss: 1.4075 - acc: 0.2800\n",
            "Epoch 36/60\n",
            "250/250 [==============================] - 1s 4ms/sample - loss: 1.3873 - acc: 0.3160\n",
            "Epoch 37/60\n",
            "250/250 [==============================] - 1s 4ms/sample - loss: 1.4079 - acc: 0.2640\n",
            "Epoch 38/60\n",
            "250/250 [==============================] - 1s 4ms/sample - loss: 1.4167 - acc: 0.2520\n",
            "Epoch 39/60\n",
            "250/250 [==============================] - 1s 4ms/sample - loss: 1.3927 - acc: 0.3120\n",
            "Epoch 40/60\n",
            "250/250 [==============================] - 1s 4ms/sample - loss: 1.3937 - acc: 0.2600\n",
            "Epoch 41/60\n",
            "250/250 [==============================] - 1s 4ms/sample - loss: 1.4234 - acc: 0.2720\n",
            "Epoch 42/60\n",
            "250/250 [==============================] - 1s 4ms/sample - loss: 1.4220 - acc: 0.2840\n",
            "Epoch 43/60\n",
            "250/250 [==============================] - 1s 4ms/sample - loss: 1.3977 - acc: 0.2360\n",
            "Epoch 44/60\n",
            "250/250 [==============================] - 1s 4ms/sample - loss: 1.3827 - acc: 0.3160\n",
            "Epoch 45/60\n",
            "250/250 [==============================] - 1s 4ms/sample - loss: 1.3904 - acc: 0.3000\n",
            "Epoch 46/60\n",
            "250/250 [==============================] - 1s 4ms/sample - loss: 1.3842 - acc: 0.2960\n",
            "Epoch 47/60\n",
            "250/250 [==============================] - 1s 4ms/sample - loss: 1.3986 - acc: 0.2680\n",
            "Epoch 48/60\n",
            "250/250 [==============================] - 1s 4ms/sample - loss: 1.3651 - acc: 0.2960\n",
            "Epoch 49/60\n",
            "250/250 [==============================] - 1s 4ms/sample - loss: 1.3919 - acc: 0.2600\n",
            "Epoch 50/60\n",
            "250/250 [==============================] - 1s 4ms/sample - loss: 1.4026 - acc: 0.2720\n",
            "Epoch 51/60\n",
            "250/250 [==============================] - 1s 4ms/sample - loss: 1.4166 - acc: 0.2640\n",
            "Epoch 52/60\n",
            "250/250 [==============================] - 1s 4ms/sample - loss: 1.3781 - acc: 0.3040\n",
            "Epoch 53/60\n",
            "250/250 [==============================] - 1s 4ms/sample - loss: 1.3784 - acc: 0.2840\n",
            "Epoch 54/60\n",
            "250/250 [==============================] - 1s 4ms/sample - loss: 1.3827 - acc: 0.2840\n",
            "Epoch 55/60\n",
            "250/250 [==============================] - 1s 4ms/sample - loss: 1.3919 - acc: 0.3040\n",
            "Epoch 56/60\n",
            "250/250 [==============================] - 1s 4ms/sample - loss: 1.3916 - acc: 0.2680\n",
            "Epoch 57/60\n",
            "250/250 [==============================] - 1s 4ms/sample - loss: 1.4102 - acc: 0.2880\n",
            "Epoch 58/60\n",
            "250/250 [==============================] - 1s 4ms/sample - loss: 1.4181 - acc: 0.2520\n",
            "Epoch 59/60\n",
            "250/250 [==============================] - 1s 4ms/sample - loss: 1.3958 - acc: 0.3000\n",
            "Epoch 60/60\n",
            "250/250 [==============================] - 1s 4ms/sample - loss: 1.3911 - acc: 0.2760\n",
            "############################\n",
            "############################\n",
            "sector:1    and    interval:[0, 250]    and    epoch:0\n",
            "############################\n",
            "############################\n"
          ],
          "name": "stdout"
        }
      ]
    },
    {
      "cell_type": "code",
      "metadata": {
        "id": "sfmII77P0CF5",
        "colab_type": "code",
        "colab": {}
      },
      "source": [
        ""
      ],
      "execution_count": 0,
      "outputs": []
    },
    {
      "cell_type": "code",
      "metadata": {
        "id": "vwHggkXU00Zv",
        "colab_type": "code",
        "colab": {}
      },
      "source": [
        ""
      ],
      "execution_count": 0,
      "outputs": []
    }
  ]
}