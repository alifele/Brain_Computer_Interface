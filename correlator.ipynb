{
  "nbformat": 4,
  "nbformat_minor": 0,
  "metadata": {
    "colab": {
      "name": "correlator.ipynb",
      "provenance": [],
      "collapsed_sections": [],
      "toc_visible": true,
      "mount_file_id": "1632eWZaHQgK-E25Y2XHteJQusYab7Kia",
      "authorship_tag": "ABX9TyOO/PZY4kkEDospCRzRDPLz",
      "include_colab_link": true
    },
    "kernelspec": {
      "name": "python3",
      "display_name": "Python 3"
    }
  },
  "cells": [
    {
      "cell_type": "markdown",
      "metadata": {
        "id": "view-in-github",
        "colab_type": "text"
      },
      "source": [
        "<a href=\"https://colab.research.google.com/github/alifele/Brain_Computer_Interface-Competition-/blob/master/correlator.ipynb\" target=\"_parent\"><img src=\"https://colab.research.google.com/assets/colab-badge.svg\" alt=\"Open In Colab\"/></a>"
      ]
    },
    {
      "cell_type": "markdown",
      "metadata": {
        "id": "lMSzVvmiMozA",
        "colab_type": "text"
      },
      "source": [
        "# Correlation\n",
        "\n",
        "Compute the correlation of two waves and then compute the total energy of the result. \n",
        "\n",
        "Two signals are very close to each other if the correlation is very low between them"
      ]
    },
    {
      "cell_type": "code",
      "metadata": {
        "id": "joD1qOiwMoR6",
        "colab_type": "code",
        "colab": {}
      },
      "source": [
        "\n",
        "\n",
        "import sys\n",
        "import numpy as np\n",
        "import matplotlib.pyplot as plt\n",
        "sys.path.append('/content/drive/My Drive/EEG_BCI/')\n",
        "import datafetch\n",
        "import plotters\n",
        "\n"
      ],
      "execution_count": 0,
      "outputs": []
    },
    {
      "cell_type": "code",
      "metadata": {
        "id": "0W0dc-hFMVKV",
        "colab_type": "code",
        "colab": {}
      },
      "source": [
        "import numpy as np\n",
        "import matplotlib.pyplot as plt"
      ],
      "execution_count": 0,
      "outputs": []
    },
    {
      "cell_type": "code",
      "metadata": {
        "id": "e56ZsmdehZqj",
        "colab_type": "code",
        "colab": {}
      },
      "source": [
        "corr_result = []"
      ],
      "execution_count": 0,
      "outputs": []
    },
    {
      "cell_type": "code",
      "metadata": {
        "id": "4dHAIvbLNNK7",
        "colab_type": "code",
        "colab": {}
      },
      "source": [
        "def corr_calculator(x1, x2):\n",
        "  '''\n",
        "  give this function tow signals. it will compute the correlation of two signals.\n",
        "  your signals can have multiple channels. in that case the correlation of the channels\n",
        "  will be computed element wise (the channel number one with channel number one and etc.)\n",
        "  '''\n",
        "\n",
        "\n",
        "  tau = 0\n",
        "  corr = []\n",
        "  x1_mean = x1.mean(axis=0)\n",
        "  x2_mean = x2.mean(axis=0)\n",
        "  x1_std = x1.std(axis=0)\n",
        "  x2_std = x2.std(axis=0)\n",
        "  for tau in range(x1.shape[0]):\n",
        "    corr.append(  (np.mean(np.roll(x1,tau, axis=0)*x2, axis=0) - x1_mean*x2_mean)/(x1_std*x2_std)  )\n",
        "\n",
        "  corr = np.array(corr)\n",
        "\n",
        "\n",
        "  return corr"
      ],
      "execution_count": 0,
      "outputs": []
    },
    {
      "cell_type": "code",
      "metadata": {
        "id": "QVCg63yIMnQj",
        "colab_type": "code",
        "colab": {}
      },
      "source": [
        "subj_1 = datafetch.fetch_subject(1)\n",
        "subj_3 = datafetch.fetch_subject(3)"
      ],
      "execution_count": 0,
      "outputs": []
    },
    {
      "cell_type": "code",
      "metadata": {
        "id": "uEeTZbUWNOma",
        "colab_type": "code",
        "colab": {}
      },
      "source": [
        "t = np.linspace(0,3, 7200)\n",
        "f = np.linspace(1/3, 2400, 7200)"
      ],
      "execution_count": 0,
      "outputs": []
    },
    {
      "cell_type": "code",
      "metadata": {
        "id": "i7UvHwW_PV2G",
        "colab_type": "code",
        "colab": {}
      },
      "source": [
        "x1 = subj_1['train_data_class1'][12]\n",
        "x2 = subj_2['train_data_class1'][16]"
      ],
      "execution_count": 0,
      "outputs": []
    },
    {
      "cell_type": "code",
      "metadata": {
        "id": "Rs--BN5tTgy0",
        "colab_type": "code",
        "colab": {
          "base_uri": "https://localhost:8080/",
          "height": 34
        },
        "outputId": "93c998e9-8f25-4281-c04b-ba02fa4ff092"
      },
      "source": [
        "corr = corr_calculator(x1,x2)\n",
        "corr.shape"
      ],
      "execution_count": 121,
      "outputs": [
        {
          "output_type": "execute_result",
          "data": {
            "text/plain": [
              "(7200, 63)"
            ]
          },
          "metadata": {
            "tags": []
          },
          "execution_count": 121
        }
      ]
    },
    {
      "cell_type": "code",
      "metadata": {
        "id": "WHfDPOWmOULd",
        "colab_type": "code",
        "colab": {
          "base_uri": "https://localhost:8080/",
          "height": 282
        },
        "outputId": "ed6c17c9-c981-47c3-dad4-8138d58a66c5"
      },
      "source": [
        "plt.figure(figsize=(15,4))\n",
        "plt.plot(corr[:,15])"
      ],
      "execution_count": 122,
      "outputs": [
        {
          "output_type": "execute_result",
          "data": {
            "text/plain": [
              "[<matplotlib.lines.Line2D at 0x7fe7a7c0dd30>]"
            ]
          },
          "metadata": {
            "tags": []
          },
          "execution_count": 122
        },
        {
          "output_type": "display_data",
          "data": {
            "image/png": "[encoded data removed]",
            "text/plain": [
              "<Figure size 1080x288 with 1 Axes>"
            ]
          },
          "metadata": {
            "tags": []
          }
        }
      ]
    },
    {
      "cell_type": "code",
      "metadata": {
        "id": "5bY5EAv0e_fd",
        "colab_type": "code",
        "colab": {}
      },
      "source": [
        ""
      ],
      "execution_count": 0,
      "outputs": []
    },
    {
      "cell_type": "markdown",
      "metadata": {
        "id": "l4J281Wme_9Z",
        "colab_type": "text"
      },
      "source": [
        "# Idea"
      ]
    },
    {
      "cell_type": "markdown",
      "metadata": {
        "id": "O2ZGUFpongpR",
        "colab_type": "text"
      },
      "source": [
        "## Correlation 1:24"
      ]
    },
    {
      "cell_type": "code",
      "metadata": {
        "id": "XCP477vavWmS",
        "colab_type": "code",
        "colab": {}
      },
      "source": [
        ""
      ],
      "execution_count": 0,
      "outputs": []
    },
    {
      "cell_type": "code",
      "metadata": {
        "id": "d1RVyKPFUsR9",
        "colab_type": "code",
        "colab": {}
      },
      "source": [
        "class_2_main = subj_1['train_data_class2'][:24]\n",
        "class_3_test = subj_1['train_data_class3'][-1]"
      ],
      "execution_count": 0,
      "outputs": []
    },
    {
      "cell_type": "code",
      "metadata": {
        "id": "oFlVkToHfwmy",
        "colab_type": "code",
        "colab": {
          "base_uri": "https://localhost:8080/",
          "height": 34
        },
        "outputId": "57e3907e-383a-4ee6-d590-10d89f1b6b9f"
      },
      "source": [
        "np.shape(class_1_test)"
      ],
      "execution_count": 162,
      "outputs": [
        {
          "output_type": "execute_result",
          "data": {
            "text/plain": [
              "(7200, 63)"
            ]
          },
          "metadata": {
            "tags": []
          },
          "execution_count": 162
        }
      ]
    },
    {
      "cell_type": "code",
      "metadata": {
        "id": "idvyvcq7OurM",
        "colab_type": "code",
        "colab": {}
      },
      "source": [
        "main = class_2_main\n",
        "test = class_2_test\n",
        "all_corr = [] \n",
        "for trial in main:\n",
        "  corr = corr_calculator(test, trial)\n",
        "  result = np.sum(corr**2, axis=0)\n",
        "  result = np.sum(result)**0.5\n",
        "  all_corr.append(result)\n"
      ],
      "execution_count": 0,
      "outputs": []
    },
    {
      "cell_type": "code",
      "metadata": {
        "id": "HwczUQM6QHtX",
        "colab_type": "code",
        "colab": {
          "base_uri": "https://localhost:8080/",
          "height": 34
        },
        "outputId": "1b895ade-92d8-489a-bd63-872f7e742f9c"
      },
      "source": [
        "np.shape(all_corr)"
      ],
      "execution_count": 164,
      "outputs": [
        {
          "output_type": "execute_result",
          "data": {
            "text/plain": [
              "(24,)"
            ]
          },
          "metadata": {
            "tags": []
          },
          "execution_count": 164
        }
      ]
    },
    {
      "cell_type": "code",
      "metadata": {
        "id": "BWqWiaMoPtHt",
        "colab_type": "code",
        "colab": {
          "base_uri": "https://localhost:8080/",
          "height": 282
        },
        "outputId": "96a67044-0bcd-4f87-c5d2-f77605336ab1"
      },
      "source": [
        "plt.plot(all_corr)"
      ],
      "execution_count": 165,
      "outputs": [
        {
          "output_type": "execute_result",
          "data": {
            "text/plain": [
              "[<matplotlib.lines.Line2D at 0x7fe7a76204a8>]"
            ]
          },
          "metadata": {
            "tags": []
          },
          "execution_count": 165
        },
        {
          "output_type": "display_data",
          "data": {
            "image/png": "[encoded data removed]",
            "text/plain": [
              "<Figure size 432x288 with 1 Axes>"
            ]
          },
          "metadata": {
            "tags": []
          }
        }
      ]
    },
    {
      "cell_type": "code",
      "metadata": {
        "id": "0hUH2zePOYkx",
        "colab_type": "code",
        "colab": {}
      },
      "source": [
        "corr_result.append(np.sum(all_corr))\n",
        "\n",
        "# the first elemnt is the correlation of the class_1_test, class_1_main"
      ],
      "execution_count": 0,
      "outputs": []
    },
    {
      "cell_type": "code",
      "metadata": {
        "id": "SxsWuWVfP53Y",
        "colab_type": "code",
        "colab": {
          "base_uri": "https://localhost:8080/",
          "height": 282
        },
        "outputId": "bcef2b63-6fa1-4b92-926f-90a0b45b0724"
      },
      "source": [
        "plt.plot(corr_result)"
      ],
      "execution_count": 168,
      "outputs": [
        {
          "output_type": "execute_result",
          "data": {
            "text/plain": [
              "[<matplotlib.lines.Line2D at 0x7fe7a7578da0>]"
            ]
          },
          "metadata": {
            "tags": []
          },
          "execution_count": 168
        },
        {
          "output_type": "display_data",
          "data": {
            "image/png": "[encoded data removed]",
            "text/plain": [
              "<Figure size 432x288 with 1 Axes>"
            ]
          },
          "metadata": {
            "tags": []
          }
        }
      ]
    },
    {
      "cell_type": "markdown",
      "metadata": {
        "id": "fFpAnMCUnkTK",
        "colab_type": "text"
      },
      "source": [
        "## Correlation 1:mean(24)"
      ]
    },
    {
      "cell_type": "code",
      "metadata": {
        "id": "Ew4JL01NvadE",
        "colab_type": "code",
        "colab": {}
      },
      "source": [
        "subj = datafetch.fetch_subject(8)"
      ],
      "execution_count": 0,
      "outputs": []
    },
    {
      "cell_type": "code",
      "metadata": {
        "id": "DQrnC9WhoUMg",
        "colab_type": "code",
        "colab": {}
      },
      "source": [
        "corr_scores_2 = []"
      ],
      "execution_count": 0,
      "outputs": []
    },
    {
      "cell_type": "code",
      "metadata": {
        "id": "Zdj80RaQQwnk",
        "colab_type": "code",
        "colab": {}
      },
      "source": [
        "class_2_main = subj_1['train_data_class2'][:24]\n",
        "class_3_test = subj_1['train_data_class3'][-1]"
      ],
      "execution_count": 0,
      "outputs": []
    },
    {
      "cell_type": "code",
      "metadata": {
        "id": "39CTfC-ZqTZJ",
        "colab_type": "code",
        "colab": {}
      },
      "source": [
        "subj = datafetch.fetch_subject(8)\n",
        "corr_list = [ (subj['train_data_class1'][:24], subj['train_data_class1'][-1]),\n",
        "              (subj['train_data_class1'][:24], subj['train_data_class2'][-1]),\n",
        "              (subj['train_data_class1'][:24], subj['train_data_class3'][-1]),\n",
        "              (subj['train_data_class1'][:24], subj['train_data_class4'][-1]),\n",
        "              ]"
      ],
      "execution_count": 0,
      "outputs": []
    },
    {
      "cell_type": "code",
      "metadata": {
        "id": "A7T1ntY1QwqM",
        "colab_type": "code",
        "colab": {
          "base_uri": "https://localhost:8080/",
          "height": 52
        },
        "outputId": "ecd8b1a8-02b3-49cd-92d9-eaa9298156fa"
      },
      "source": [
        "for j in range(2):\n",
        "  print(j)\n",
        "  subj = datafetch.fetch_subject(j+1)\n",
        "  corr_list = [ (subj['train_data_class1'][:24], subj['train_data_class1'][-1]),\n",
        "                (subj['train_data_class1'][:24], subj['train_data_class2'][-1]),\n",
        "                (subj['train_data_class1'][:24], subj['train_data_class3'][-1]),\n",
        "                (subj['train_data_class1'][:24], subj['train_data_class4'][-1]),\n",
        "                ]\n",
        "\n",
        "  for elem in corr_list:\n",
        "    all_corr = [] \n",
        "    main = elem[0].mean(axis=0)\n",
        "    test = elem[1]\n",
        "    for trial in [main]:\n",
        "\n",
        "      corr_1 = corr_calculator(test, trial)\n",
        "      #corr_2 = corr_calculator(test**2, trial**2)\n",
        "      #corr_2 = np.abs(corr_2) ** 0.5\n",
        "\n",
        "      corr = np.mean([corr_1, corr_2], axis=0)\n",
        "\n",
        "      result = np.mean(corr**2, axis=0)\n",
        "      result = np.sum(result)**0.5\n",
        "      \n",
        "      all_corr.append(result)\n",
        "\n",
        "    corr_scores_2.append(all_corr)\n"
      ],
      "execution_count": 282,
      "outputs": [
        {
          "output_type": "stream",
          "text": [
            "0\n",
            "1\n"
          ],
          "name": "stdout"
        }
      ]
    },
    {
      "cell_type": "code",
      "metadata": {
        "id": "ItTu8t8noTk9",
        "colab_type": "code",
        "colab": {}
      },
      "source": [
        "for i in range(0,len(corr_scores_2),4):\n",
        "  plt.plot(corr_scores_2[i: i+4])\n",
        "  plt.plot(corr_scores_2[i:i+4], 'o')\n",
        "  plt.show()"
      ],
      "execution_count": 0,
      "outputs": []
    },
    {
      "cell_type": "code",
      "metadata": {
        "id": "ci7cPh4hQwuW",
        "colab_type": "code",
        "colab": {
          "base_uri": "https://localhost:8080/",
          "height": 282
        },
        "outputId": "7339134c-cb51-407b-a328-ff12bd67cd44"
      },
      "source": [
        "plt.plot(corr_scores_2)\n",
        "plt.plot(corr_scores_2, 'o')"
      ],
      "execution_count": 283,
      "outputs": [
        {
          "output_type": "execute_result",
          "data": {
            "text/plain": [
              "[<matplotlib.lines.Line2D at 0x7fe7a631fc88>]"
            ]
          },
          "metadata": {
            "tags": []
          },
          "execution_count": 283
        },
        {
          "output_type": "display_data",
          "data": {
            "image/png": "[encoded data removed]",
            "text/plain": [
              "<Figure size 432x288 with 1 Axes>"
            ]
          },
          "metadata": {
            "tags": []
          }
        }
      ]
    },
    {
      "cell_type": "code",
      "metadata": {
        "id": "4uLATKgpQwzM",
        "colab_type": "code",
        "colab": {
          "base_uri": "https://localhost:8080/",
          "height": 34
        },
        "outputId": "cbc6ef24-dd7d-4f3c-a7ad-bd64d74613e6"
      },
      "source": [
        "corr_scores_2\n",
        "\n"
      ],
      "execution_count": 279,
      "outputs": [
        {
          "output_type": "execute_result",
          "data": {
            "text/plain": [
              "[[nan], [nan], [nan], [nan], [nan], [nan], [nan], [nan]]"
            ]
          },
          "metadata": {
            "tags": []
          },
          "execution_count": 279
        }
      ]
    },
    {
      "cell_type": "code",
      "metadata": {
        "id": "TgUx0uSjQwxY",
        "colab_type": "code",
        "colab": {
          "base_uri": "https://localhost:8080/",
          "height": 243
        },
        "outputId": "4fabe601-d9cf-45ab-c6e1-11b72e1ac7ff"
      },
      "source": [
        "corr_2"
      ],
      "execution_count": 280,
      "outputs": [
        {
          "output_type": "execute_result",
          "data": {
            "text/plain": [
              "array([[0.29771358, 0.28082532,        nan, ..., 0.2658022 , 0.19732541,\n",
              "        0.14135578],\n",
              "       [0.29708725, 0.29036176,        nan, ..., 0.2697908 , 0.19112107,\n",
              "        0.14319944],\n",
              "       [0.29748932, 0.29820573, 0.04682126, ..., 0.27680814, 0.18081667,\n",
              "        0.14807752],\n",
              "       ...,\n",
              "       [0.3071336 , 0.24615149,        nan, ..., 0.2731897 , 0.20647086,\n",
              "        0.14594765],\n",
              "       [0.30269253, 0.2579102 ,        nan, ..., 0.26811346, 0.20348293,\n",
              "        0.14359866],\n",
              "       [0.2995548 , 0.26972312,        nan, ..., 0.26542324, 0.20094024,\n",
              "        0.14176519]], dtype=float32)"
            ]
          },
          "metadata": {
            "tags": []
          },
          "execution_count": 280
        }
      ]
    },
    {
      "cell_type": "code",
      "metadata": {
        "id": "zdxL9qmnQwtM",
        "colab_type": "code",
        "colab": {
          "base_uri": "https://localhost:8080/",
          "height": 34
        },
        "outputId": "8242b0f1-754a-4c29-ee22-a9531e3e0063"
      },
      "source": [
        "(-1)**0.5"
      ],
      "execution_count": 281,
      "outputs": [
        {
          "output_type": "execute_result",
          "data": {
            "text/plain": [
              "(6.123233995736766e-17+1j)"
            ]
          },
          "metadata": {
            "tags": []
          },
          "execution_count": 281
        }
      ]
    },
    {
      "cell_type": "code",
      "metadata": {
        "id": "z21GrPA3QwlX",
        "colab_type": "code",
        "colab": {}
      },
      "source": [
        ""
      ],
      "execution_count": 0,
      "outputs": []
    }
  ]
}